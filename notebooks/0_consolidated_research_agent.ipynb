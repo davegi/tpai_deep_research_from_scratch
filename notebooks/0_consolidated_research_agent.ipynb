{
 "cells": [
  {
   "cell_type": "code",
   "execution_count": 1,
   "id": "da8d2f08",
   "metadata": {},
   "outputs": [],
   "source": [
    "# TASK-7.1: Import core framework classes (deferred until implemented)\n",
    "# Ensure local `src` is on sys.path so notebook kernels can import the package\n",
    "import sys\n",
    "from pathlib import Path\n",
    "src = Path(\"../src\").resolve()\n",
    "if str(src) not in sys.path:\n",
    "    sys.path.insert(0, str(src))\n",
    "\n",
    "from research_agent_framework.llm.client import MockLLM, LLMConfig\n",
    "from research_agent_framework.adapters.search.mock_search import MockSearchAdapter\n",
    "\n",
    "# Expose demo imports for following cells\n",
    "__all__ = [\"MockLLM\", \"LLMConfig\", \"MockSearchAdapter\"]\n"
   ]
  },
  {
   "cell_type": "code",
   "execution_count": 2,
   "id": "0e0c3e09",
   "metadata": {},
   "outputs": [],
   "source": [
    "# TASK-7.1: Bootstrap environment\n",
    "# Use the project's bootstrap to configure logging and settings for demos\n",
    "from research_agent_framework.bootstrap import bootstrap\n",
    "bootstrap()\n"
   ]
  },
  {
   "cell_type": "code",
   "execution_count": 3,
   "id": "b19d1b0c",
   "metadata": {},
   "outputs": [],
   "source": [
    "# TASK-7.1: sys.path fix for local imports (kept minimal)\n",
    "import sys\n",
    "from pathlib import Path\n",
    "src = Path(\"../src\").resolve()\n",
    "if str(src) not in sys.path:\n",
    "    sys.path.insert(0, str(src))\n"
   ]
  },
  {
   "cell_type": "markdown",
   "id": "e99578f6",
   "metadata": {},
   "source": [
    "# Consolidated Research Agent Demo\n",
    "\n",
    "This notebook demonstrates the use of the `research_agent_framework` package. Each section will be updated as new features are implemented.\n",
    "\n",
    "---\n"
   ]
  },
  {
   "cell_type": "markdown",
   "id": "0d32cd41",
   "metadata": {},
   "source": [
    "# Consolidated Research Agent Demo Notebook\n",
    "\n",
    "This notebook demonstrates the use of the `research_agent_framework` package and its components. Each section is marked for traceability to the corresponding PRD task.\n",
    "\n",
    "---\n"
   ]
  },
  {
   "cell_type": "code",
   "execution_count": 4,
   "id": "0ca0d9a4",
   "metadata": {},
   "outputs": [],
   "source": [
    "# TASK-7.1: Bootstrap environment (safe to call multiple times in a notebook)\n",
    "from research_agent_framework.bootstrap import bootstrap\n",
    "bootstrap(force=False)\n"
   ]
  },
  {
   "cell_type": "code",
   "execution_count": 5,
   "id": "b916ee33",
   "metadata": {},
   "outputs": [
    {
     "data": {
      "text/html": [
       "<pre style=\"white-space:pre;overflow-x:auto;line-height:normal;font-family:Menlo,'DejaVu Sans Mono',consolas,'Courier New',monospace\"><span style=\"color: #808000; text-decoration-color: #808000\">scope</span>=<span style=\"color: #800080; text-decoration-color: #800080; font-weight: bold\">Scope</span><span style=\"font-weight: bold\">(</span><span style=\"color: #808000; text-decoration-color: #808000\">topic</span>=<span style=\"color: #008000; text-decoration-color: #008000\">'Coffee Shops'</span>, <span style=\"color: #808000; text-decoration-color: #808000\">description</span>=<span style=\"color: #008000; text-decoration-color: #008000\">'Find coffee shops in SF'</span>, <span style=\"color: #808000; text-decoration-color: #808000\">constraints</span>=<span style=\"font-weight: bold\">[</span><span style=\"color: #008000; text-decoration-color: #008000\">'no paid sources'</span><span style=\"font-weight: bold\">])</span>\n",
       "</pre>\n"
      ],
      "text/plain": [
       "\u001b[33mscope\u001b[0m=\u001b[1;35mScope\u001b[0m\u001b[1m(\u001b[0m\u001b[33mtopic\u001b[0m=\u001b[32m'Coffee Shops'\u001b[0m, \u001b[33mdescription\u001b[0m=\u001b[32m'Find coffee shops in SF'\u001b[0m, \u001b[33mconstraints\u001b[0m=\u001b[1m[\u001b[0m\u001b[32m'no paid sources'\u001b[0m\u001b[1m]\u001b[0m\u001b[1m)\u001b[0m\n"
      ]
     },
     "metadata": {},
     "output_type": "display_data"
    },
    {
     "data": {
      "text/html": [
       "<pre style=\"white-space:pre;overflow-x:auto;line-height:normal;font-family:Menlo,'DejaVu Sans Mono',consolas,'Courier New',monospace\"><span style=\"color: #808000; text-decoration-color: #808000\">task</span>=<span style=\"color: #800080; text-decoration-color: #800080; font-weight: bold\">ResearchTask</span><span style=\"font-weight: bold\">(</span><span style=\"color: #808000; text-decoration-color: #808000\">id</span>=<span style=\"color: #008000; text-decoration-color: #008000\">'t-001'</span>, <span style=\"color: #808000; text-decoration-color: #808000\">query</span>=<span style=\"color: #008000; text-decoration-color: #008000\">'best coffee in soma'</span>, <span style=\"color: #808000; text-decoration-color: #808000\">context</span>=<span style=\"font-weight: bold\">{}</span>, <span style=\"color: #808000; text-decoration-color: #808000\">notes</span>=<span style=\"color: #800080; text-decoration-color: #800080; font-style: italic\">None</span><span style=\"font-weight: bold\">)</span>\n",
       "</pre>\n"
      ],
      "text/plain": [
       "\u001b[33mtask\u001b[0m=\u001b[1;35mResearchTask\u001b[0m\u001b[1m(\u001b[0m\u001b[33mid\u001b[0m=\u001b[32m't-001'\u001b[0m, \u001b[33mquery\u001b[0m=\u001b[32m'best coffee in soma'\u001b[0m, \u001b[33mcontext\u001b[0m=\u001b[1m{\u001b[0m\u001b[1m}\u001b[0m, \u001b[33mnotes\u001b[0m=\u001b[3;35mNone\u001b[0m\u001b[1m)\u001b[0m\n"
      ]
     },
     "metadata": {},
     "output_type": "display_data"
    },
    {
     "data": {
      "text/html": [
       "<pre style=\"white-space:pre;overflow-x:auto;line-height:normal;font-family:Menlo,'DejaVu Sans Mono',consolas,'Courier New',monospace\"><span style=\"color: #808000; text-decoration-color: #808000\">eval_result</span>=<span style=\"color: #800080; text-decoration-color: #800080; font-weight: bold\">EvalResult</span><span style=\"font-weight: bold\">(</span><span style=\"color: #808000; text-decoration-color: #808000\">task_id</span>=<span style=\"color: #008000; text-decoration-color: #008000\">'t-001'</span>, <span style=\"color: #808000; text-decoration-color: #808000\">success</span>=<span style=\"color: #00ff00; text-decoration-color: #00ff00; font-style: italic\">True</span>, <span style=\"color: #808000; text-decoration-color: #808000\">score</span>=<span style=\"color: #008080; text-decoration-color: #008080; font-weight: bold\">0.95</span>, <span style=\"color: #808000; text-decoration-color: #808000\">feedback</span>=<span style=\"color: #008000; text-decoration-color: #008000\">'Looks good'</span>, <span style=\"color: #808000; text-decoration-color: #808000\">details</span>=<span style=\"font-weight: bold\">{})</span>\n",
       "</pre>\n"
      ],
      "text/plain": [
       "\u001b[33meval_result\u001b[0m=\u001b[1;35mEvalResult\u001b[0m\u001b[1m(\u001b[0m\u001b[33mtask_id\u001b[0m=\u001b[32m't-001'\u001b[0m, \u001b[33msuccess\u001b[0m=\u001b[3;92mTrue\u001b[0m, \u001b[33mscore\u001b[0m=\u001b[1;36m0\u001b[0m\u001b[1;36m.95\u001b[0m, \u001b[33mfeedback\u001b[0m=\u001b[32m'Looks good'\u001b[0m, \u001b[33mdetails\u001b[0m=\u001b[1m{\u001b[0m\u001b[1m}\u001b[0m\u001b[1m)\u001b[0m\n"
      ]
     },
     "metadata": {},
     "output_type": "display_data"
    },
    {
     "data": {
      "text/html": [
       "<pre style=\"white-space:pre;overflow-x:auto;line-height:normal;font-family:Menlo,'DejaVu Sans Mono',consolas,'Courier New',monospace\"><span style=\"color: #808000; text-decoration-color: #808000\">serp</span>=<span style=\"color: #800080; text-decoration-color: #800080; font-weight: bold\">SerpResult</span><span style=\"font-weight: bold\">(</span><span style=\"color: #808000; text-decoration-color: #808000\">title</span>=<span style=\"color: #008000; text-decoration-color: #008000\">'Cafe Example'</span>, <span style=\"color: #808000; text-decoration-color: #808000\">url</span>=<span style=\"color: #800080; text-decoration-color: #800080; font-weight: bold\">HttpUrl</span><span style=\"font-weight: bold\">(</span><span style=\"color: #008000; text-decoration-color: #008000\">'https://example.com/'</span><span style=\"font-weight: bold\">)</span>, <span style=\"color: #808000; text-decoration-color: #808000\">snippet</span>=<span style=\"color: #008000; text-decoration-color: #008000\">'Great coffee'</span>, <span style=\"color: #808000; text-decoration-color: #808000\">raw</span>=<span style=\"font-weight: bold\">{</span><span style=\"color: #008000; text-decoration-color: #008000\">'id'</span>: <span style=\"color: #008080; text-decoration-color: #008080; font-weight: bold\">1</span><span style=\"font-weight: bold\">}</span>, \n",
       "<span style=\"color: #808000; text-decoration-color: #808000\">location</span>=<span style=\"color: #800080; text-decoration-color: #800080; font-style: italic\">None</span>, <span style=\"color: #808000; text-decoration-color: #808000\">rating</span>=<span style=\"color: #800080; text-decoration-color: #800080; font-style: italic\">None</span>, <span style=\"color: #808000; text-decoration-color: #808000\">price_level</span>=<span style=\"color: #800080; text-decoration-color: #800080; font-style: italic\">None</span>, <span style=\"color: #808000; text-decoration-color: #808000\">categories</span>=<span style=\"font-weight: bold\">[]</span>, <span style=\"color: #808000; text-decoration-color: #808000\">provider_meta</span>=<span style=\"color: #800080; text-decoration-color: #800080; font-style: italic\">None</span><span style=\"font-weight: bold\">)</span>\n",
       "</pre>\n"
      ],
      "text/plain": [
       "\u001b[33mserp\u001b[0m=\u001b[1;35mSerpResult\u001b[0m\u001b[1m(\u001b[0m\u001b[33mtitle\u001b[0m=\u001b[32m'Cafe Example'\u001b[0m, \u001b[33murl\u001b[0m=\u001b[1;35mHttpUrl\u001b[0m\u001b[1m(\u001b[0m\u001b[32m'https://example.com/'\u001b[0m\u001b[1m)\u001b[0m, \u001b[33msnippet\u001b[0m=\u001b[32m'Great coffee'\u001b[0m, \u001b[33mraw\u001b[0m=\u001b[1m{\u001b[0m\u001b[32m'id'\u001b[0m: \u001b[1;36m1\u001b[0m\u001b[1m}\u001b[0m, \n",
       "\u001b[33mlocation\u001b[0m=\u001b[3;35mNone\u001b[0m, \u001b[33mrating\u001b[0m=\u001b[3;35mNone\u001b[0m, \u001b[33mprice_level\u001b[0m=\u001b[3;35mNone\u001b[0m, \u001b[33mcategories\u001b[0m=\u001b[1m[\u001b[0m\u001b[1m]\u001b[0m, \u001b[33mprovider_meta\u001b[0m=\u001b[3;35mNone\u001b[0m\u001b[1m)\u001b[0m\n"
      ]
     },
     "metadata": {},
     "output_type": "display_data"
    }
   ],
   "source": [
    "# TASK-2.3: models demo\n",
    "from research_agent_framework.config import Settings, get_settings\n",
    "from research_agent_framework.models import Scope, ResearchTask, EvalResult, SerpResult\n",
    "from pydantic import TypeAdapter, HttpUrl\n",
    "from assertpy import assert_that\n",
    "\n",
    "# Construct model instances\n",
    "scope = Scope(topic='Coffee Shops', description='Find coffee shops in SF', constraints=['no paid sources'])\n",
    "task = ResearchTask(id='t-001', query='best coffee in soma')\n",
    "eval_result = EvalResult(task_id=task.id, success=True, score=0.95, feedback='Looks good')\n",
    "# Use TypeAdapter to validate/construct an HttpUrl (pydantic v2)\n",
    "url_adapter = TypeAdapter(HttpUrl)\n",
    "validated_url = url_adapter.validate_python('https://example.com')\n",
    "serp = SerpResult(title='Cafe Example', url=validated_url, snippet='Great coffee', raw={'id': 1})\n",
    "\n",
    "# Example asserts using assertpy\n",
    "assert_that(scope.topic).is_equal_to('Coffee Shops')\n",
    "assert_that(scope.constraints).contains('no paid sources')\n",
    "assert_that(task.id).is_equal_to('t-001')\n",
    "assert_that(eval_result.success).is_true()\n",
    "assert_that(serp.url).is_instance_of(HttpUrl)\n",
    "\n",
    "from rich.console import Console\n",
    "from typing import cast\n",
    "from research_agent_framework.logging import LoggingProtocol\n",
    "s = get_settings()\n",
    "c = cast(Console, s.console)\n",
    "logger = cast(LoggingProtocol, s.logger)\n",
    "\n",
    "assert_that(c).is_not_none()\n",
    "\n",
    "# Use the bootstrap-provided console/logger for output\n",
    "c.print(f\"{scope=}\")\n",
    "c.print(f\"{task=}\")\n",
    "c.print(f\"{eval_result=}\")\n",
    "c.print(f\"{serp=}\")\n"
   ]
  },
  {
   "cell_type": "code",
   "execution_count": 6,
   "id": "bf3ad70d",
   "metadata": {},
   "outputs": [
    {
     "data": {
      "text/html": [
       "<pre style=\"white-space:pre;overflow-x:auto;line-height:normal;font-family:Menlo,'DejaVu Sans Mono',consolas,'Courier New',monospace\"><span style=\"color: #008080; text-decoration-color: #008080; font-weight: bold\">2025</span>-<span style=\"color: #008080; text-decoration-color: #008080; font-weight: bold\">09</span>-09T<span style=\"color: #00ff00; text-decoration-color: #00ff00; font-weight: bold\">16:25:09</span>.<span style=\"color: #008080; text-decoration-color: #008080; font-weight: bold\">987946</span>-<span style=\"color: #008080; text-decoration-color: #008080; font-weight: bold\">0700</span> INFO research_agent_prompt.j2 output:\n",
       "%s\n",
       "</pre>\n"
      ],
      "text/plain": [
       "\u001b[1;36m2025\u001b[0m-\u001b[1;36m09\u001b[0m-09T\u001b[1;92m16:25:09\u001b[0m.\u001b[1;36m987946\u001b[0m-\u001b[1;36m0700\u001b[0m INFO research_agent_prompt.j2 output:\n",
       "%s\n"
      ]
     },
     "metadata": {},
     "output_type": "display_data"
    },
    {
     "data": {
      "text/html": [
       "<pre style=\"white-space:pre;overflow-x:auto;line-height:normal;font-family:Menlo,'DejaVu Sans Mono',consolas,'Courier New',monospace\">clarify_with_user_instructions.j2 output:\n",
       "\n",
       "</pre>\n"
      ],
      "text/plain": [
       "clarify_with_user_instructions.j2 output:\n",
       "\n"
      ]
     },
     "metadata": {},
     "output_type": "display_data"
    },
    {
     "data": {
      "text/html": [
       "<pre style=\"white-space:pre;overflow-x:auto;line-height:normal;font-family:Menlo,'DejaVu Sans Mono',consolas,'Courier New',monospace\">These are the messages that have been exchanged so far from the user asking for the report:\n",
       "<span style=\"font-weight: bold\">&lt;</span><span style=\"color: #ff00ff; text-decoration-color: #ff00ff; font-weight: bold\">Messages</span><span style=\"color: #000000; text-decoration-color: #000000\">&gt;</span>\n",
       "<span style=\"color: #000000; text-decoration-color: #000000\">User: What are the best coffee shops in SF?</span>\n",
       "<span style=\"color: #000000; text-decoration-color: #000000\">&lt;</span><span style=\"color: #800080; text-decoration-color: #800080\">/</span><span style=\"color: #ff00ff; text-decoration-color: #ff00ff\">Messages</span><span style=\"color: #000000; text-decoration-color: #000000\">&gt;</span>\n",
       "\n",
       "<span style=\"color: #000000; text-decoration-color: #000000\">Today's date is </span><span style=\"color: #008080; text-decoration-color: #008080; font-weight: bold\">2025</span><span style=\"color: #000000; text-decoration-color: #000000\">-</span><span style=\"color: #008080; text-decoration-color: #008080; font-weight: bold\">09</span><span style=\"color: #000000; text-decoration-color: #000000\">-</span><span style=\"color: #008080; text-decoration-color: #008080; font-weight: bold\">05</span><span style=\"color: #000000; text-decoration-color: #000000\">.</span>\n",
       "\n",
       "<span style=\"color: #000000; text-decoration-color: #000000\">Assess whether you need to ask a clarifying question, or if the user has already provided enough information for </span>\n",
       "<span style=\"color: #000000; text-decoration-color: #000000\">you to start research.</span>\n",
       "<span style=\"color: #000000; text-decoration-color: #000000\">IMPORTANT: If you can see in the messages history that you have already asked a clarifying question, you almost </span>\n",
       "<span style=\"color: #000000; text-decoration-color: #000000\">always do not need to ask another one. Only ask another question if ABSOLUTELY NECESSARY.</span>\n",
       "\n",
       "<span style=\"color: #000000; text-decoration-color: #000000\">If there are acronyms, abbreviations, or unknown terms, ask the user to clarify.</span>\n",
       "<span style=\"color: #000000; text-decoration-color: #000000\">If you need to ask a question, follow these guidelines:</span>\n",
       "<span style=\"color: #000000; text-decoration-color: #000000\">- Be concise while gathering all necessary information</span>\n",
       "<span style=\"color: #000000; text-decoration-color: #000000\">- Make sure to gather all the information needed to carry out the research task in a concise, well-structured </span>\n",
       "<span style=\"color: #000000; text-decoration-color: #000000\">manner.</span>\n",
       "<span style=\"color: #000000; text-decoration-color: #000000\">- Use bullet points or numbered lists if appropriate for clarity. Make sure that this uses markdown formatting and </span>\n",
       "<span style=\"color: #000000; text-decoration-color: #000000\">will be rendered correctly if the string output is passed to a markdown renderer.</span>\n",
       "<span style=\"color: #000000; text-decoration-color: #000000\">- Don't ask for unnecessary information, or information that the user has already provided. If you can see that the</span>\n",
       "<span style=\"color: #000000; text-decoration-color: #000000\">user has already provided the information, do not ask for it again.</span>\n",
       "\n",
       "<span style=\"color: #000000; text-decoration-color: #000000\">Respond in valid JSON format with these exact keys:</span>\n",
       "<span style=\"color: #008000; text-decoration-color: #008000\">\"need_clarification\"</span><span style=\"color: #000000; text-decoration-color: #000000\">: boolean,</span>\n",
       "<span style=\"color: #008000; text-decoration-color: #008000\">\"question\"</span><span style=\"color: #000000; text-decoration-color: #000000\">: </span><span style=\"color: #008000; text-decoration-color: #008000\">\"&lt;question to ask the user to clarify the report scope&gt;\"</span><span style=\"color: #000000; text-decoration-color: #000000\">,</span>\n",
       "<span style=\"color: #008000; text-decoration-color: #008000\">\"verification\"</span><span style=\"color: #000000; text-decoration-color: #000000\">: </span><span style=\"color: #008000; text-decoration-color: #008000\">\"&lt;verification message that we will start research&gt;\"</span>\n",
       "\n",
       "<span style=\"color: #000000; text-decoration-color: #000000\">If you need to ask a clarifying question, return:</span>\n",
       "<span style=\"color: #008000; text-decoration-color: #008000\">\"need_clarification\"</span><span style=\"color: #000000; text-decoration-color: #000000\">: true,</span>\n",
       "<span style=\"color: #008000; text-decoration-color: #008000\">\"question\"</span><span style=\"color: #000000; text-decoration-color: #000000\">: </span><span style=\"color: #008000; text-decoration-color: #008000\">\"&lt;your clarifying question&gt;\"</span><span style=\"color: #000000; text-decoration-color: #000000\">,</span>\n",
       "<span style=\"color: #008000; text-decoration-color: #008000\">\"verification\"</span><span style=\"color: #000000; text-decoration-color: #000000\">: </span><span style=\"color: #008000; text-decoration-color: #008000\">\"\"</span>\n",
       "\n",
       "<span style=\"color: #000000; text-decoration-color: #000000\">If you do not need to ask a clarifying question, return:</span>\n",
       "<span style=\"color: #008000; text-decoration-color: #008000\">\"need_clarification\"</span><span style=\"color: #000000; text-decoration-color: #000000\">: false,</span>\n",
       "<span style=\"color: #008000; text-decoration-color: #008000\">\"question\"</span><span style=\"color: #000000; text-decoration-color: #000000\">: </span><span style=\"color: #008000; text-decoration-color: #008000\">\"\"</span><span style=\"color: #000000; text-decoration-color: #000000\">,</span>\n",
       "<span style=\"color: #008000; text-decoration-color: #008000\">\"verification\"</span><span style=\"color: #000000; text-decoration-color: #000000\">: </span><span style=\"color: #008000; text-decoration-color: #008000\">\"&lt;acknowledgement message that you will now start research based on the provided information&gt;\"</span>\n",
       "\n",
       "For the verification message when no clarification is needed:\n",
       "- Acknowledge that you have sufficient information to proceed\n",
       "- Briefly summarize the key aspects of what you understand from their request\n",
       "- Confirm that you will now begin the research process\n",
       "- Keep the message concise and professional\n",
       "</pre>\n"
      ],
      "text/plain": [
       "These are the messages that have been exchanged so far from the user asking for the report:\n",
       "\u001b[1m<\u001b[0m\u001b[1;95mMessages\u001b[0m\u001b[39m>\u001b[0m\n",
       "\u001b[39mUser: What are the best coffee shops in SF?\u001b[0m\n",
       "\u001b[39m<\u001b[0m\u001b[35m/\u001b[0m\u001b[95mMessages\u001b[0m\u001b[39m>\u001b[0m\n",
       "\n",
       "\u001b[39mToday's date is \u001b[0m\u001b[1;36m2025\u001b[0m\u001b[39m-\u001b[0m\u001b[1;36m09\u001b[0m\u001b[39m-\u001b[0m\u001b[1;36m05\u001b[0m\u001b[39m.\u001b[0m\n",
       "\n",
       "\u001b[39mAssess whether you need to ask a clarifying question, or if the user has already provided enough information for \u001b[0m\n",
       "\u001b[39myou to start research.\u001b[0m\n",
       "\u001b[39mIMPORTANT: If you can see in the messages history that you have already asked a clarifying question, you almost \u001b[0m\n",
       "\u001b[39malways do not need to ask another one. Only ask another question if ABSOLUTELY NECESSARY.\u001b[0m\n",
       "\n",
       "\u001b[39mIf there are acronyms, abbreviations, or unknown terms, ask the user to clarify.\u001b[0m\n",
       "\u001b[39mIf you need to ask a question, follow these guidelines:\u001b[0m\n",
       "\u001b[39m- Be concise while gathering all necessary information\u001b[0m\n",
       "\u001b[39m- Make sure to gather all the information needed to carry out the research task in a concise, well-structured \u001b[0m\n",
       "\u001b[39mmanner.\u001b[0m\n",
       "\u001b[39m- Use bullet points or numbered lists if appropriate for clarity. Make sure that this uses markdown formatting and \u001b[0m\n",
       "\u001b[39mwill be rendered correctly if the string output is passed to a markdown renderer.\u001b[0m\n",
       "\u001b[39m- Don't ask for unnecessary information, or information that the user has already provided. If you can see that the\u001b[0m\n",
       "\u001b[39muser has already provided the information, do not ask for it again.\u001b[0m\n",
       "\n",
       "\u001b[39mRespond in valid JSON format with these exact keys:\u001b[0m\n",
       "\u001b[32m\"need_clarification\"\u001b[0m\u001b[39m: boolean,\u001b[0m\n",
       "\u001b[32m\"question\"\u001b[0m\u001b[39m: \u001b[0m\u001b[32m\"<question to ask the user to clarify the report scope>\"\u001b[0m\u001b[39m,\u001b[0m\n",
       "\u001b[32m\"verification\"\u001b[0m\u001b[39m: \u001b[0m\u001b[32m\"<verification message that we will start research>\"\u001b[0m\n",
       "\n",
       "\u001b[39mIf you need to ask a clarifying question, return:\u001b[0m\n",
       "\u001b[32m\"need_clarification\"\u001b[0m\u001b[39m: true,\u001b[0m\n",
       "\u001b[32m\"question\"\u001b[0m\u001b[39m: \u001b[0m\u001b[32m\"<your clarifying question>\"\u001b[0m\u001b[39m,\u001b[0m\n",
       "\u001b[32m\"verification\"\u001b[0m\u001b[39m: \u001b[0m\u001b[32m\"\"\u001b[0m\n",
       "\n",
       "\u001b[39mIf you do not need to ask a clarifying question, return:\u001b[0m\n",
       "\u001b[32m\"need_clarification\"\u001b[0m\u001b[39m: false,\u001b[0m\n",
       "\u001b[32m\"question\"\u001b[0m\u001b[39m: \u001b[0m\u001b[32m\"\"\u001b[0m\u001b[39m,\u001b[0m\n",
       "\u001b[32m\"verification\"\u001b[0m\u001b[39m: \u001b[0m\u001b[32m\"<acknowledgement message that you will now start research based on the provided information\u001b[0m\u001b[32m>\u001b[0m\u001b[32m\"\u001b[0m\n",
       "\n",
       "For the verification message when no clarification is needed:\n",
       "- Acknowledge that you have sufficient information to proceed\n",
       "- Briefly summarize the key aspects of what you understand from their request\n",
       "- Confirm that you will now begin the research process\n",
       "- Keep the message concise and professional\n"
      ]
     },
     "metadata": {},
     "output_type": "display_data"
    },
    {
     "data": {
      "text/html": [
       "<pre style=\"white-space:pre;overflow-x:auto;line-height:normal;font-family:Menlo,'DejaVu Sans Mono',consolas,'Courier New',monospace\">Nested SerpResult:\n",
       "</pre>\n"
      ],
      "text/plain": [
       "Nested SerpResult:\n"
      ]
     },
     "metadata": {},
     "output_type": "display_data"
    },
    {
     "data": {
      "text/html": [
       "<pre style=\"white-space:pre;overflow-x:auto;line-height:normal;font-family:Menlo,'DejaVu Sans Mono',consolas,'Courier New',monospace\"><span style=\"font-weight: bold\">{</span>\n",
       "    <span style=\"color: #008000; text-decoration-color: #008000\">'title'</span>: <span style=\"color: #008000; text-decoration-color: #008000\">'Nested Cafe'</span>,\n",
       "    <span style=\"color: #008000; text-decoration-color: #008000\">'url'</span>: <span style=\"color: #800080; text-decoration-color: #800080; font-weight: bold\">HttpUrl</span><span style=\"font-weight: bold\">(</span><span style=\"color: #008000; text-decoration-color: #008000\">'https://example.com/nested'</span><span style=\"font-weight: bold\">)</span>,\n",
       "    <span style=\"color: #008000; text-decoration-color: #008000\">'snippet'</span>: <span style=\"color: #008000; text-decoration-color: #008000\">'A nested example'</span>,\n",
       "    <span style=\"color: #008000; text-decoration-color: #008000\">'raw'</span>: <span style=\"font-weight: bold\">{</span><span style=\"color: #008000; text-decoration-color: #008000\">'id'</span>: <span style=\"color: #008000; text-decoration-color: #008000\">'nested-1'</span><span style=\"font-weight: bold\">}</span>,\n",
       "    <span style=\"color: #008000; text-decoration-color: #008000\">'location'</span>: <span style=\"font-weight: bold\">{</span>\n",
       "        <span style=\"color: #008000; text-decoration-color: #008000\">'name'</span>: <span style=\"color: #008000; text-decoration-color: #008000\">'Cafe Nested'</span>,\n",
       "        <span style=\"color: #008000; text-decoration-color: #008000\">'address'</span>: <span style=\"font-weight: bold\">{</span>\n",
       "            <span style=\"color: #008000; text-decoration-color: #008000\">'street'</span>: <span style=\"color: #008000; text-decoration-color: #008000\">'123 Example St'</span>,\n",
       "            <span style=\"color: #008000; text-decoration-color: #008000\">'city'</span>: <span style=\"color: #008000; text-decoration-color: #008000\">'San Francisco'</span>,\n",
       "            <span style=\"color: #008000; text-decoration-color: #008000\">'region'</span>: <span style=\"color: #008000; text-decoration-color: #008000\">'CA'</span>,\n",
       "            <span style=\"color: #008000; text-decoration-color: #008000\">'postal_code'</span>: <span style=\"color: #008000; text-decoration-color: #008000\">'94103'</span>,\n",
       "            <span style=\"color: #008000; text-decoration-color: #008000\">'country'</span>: <span style=\"color: #008000; text-decoration-color: #008000\">'US'</span>\n",
       "        <span style=\"font-weight: bold\">}</span>,\n",
       "        <span style=\"color: #008000; text-decoration-color: #008000\">'coords'</span>: <span style=\"font-weight: bold\">{</span><span style=\"color: #008000; text-decoration-color: #008000\">'lat'</span>: <span style=\"color: #008080; text-decoration-color: #008080; font-weight: bold\">37.7749</span>, <span style=\"color: #008000; text-decoration-color: #008000\">'lon'</span>: <span style=\"color: #008080; text-decoration-color: #008080; font-weight: bold\">-122.4194</span><span style=\"font-weight: bold\">}</span>,\n",
       "        <span style=\"color: #008000; text-decoration-color: #008000\">'latitude'</span>: <span style=\"color: #800080; text-decoration-color: #800080; font-style: italic\">None</span>,\n",
       "        <span style=\"color: #008000; text-decoration-color: #008000\">'longitude'</span>: <span style=\"color: #800080; text-decoration-color: #800080; font-style: italic\">None</span>,\n",
       "        <span style=\"color: #008000; text-decoration-color: #008000\">'phone'</span>: <span style=\"color: #800080; text-decoration-color: #800080; font-style: italic\">None</span>,\n",
       "        <span style=\"color: #008000; text-decoration-color: #008000\">'url'</span>: <span style=\"color: #800080; text-decoration-color: #800080; font-style: italic\">None</span>,\n",
       "        <span style=\"color: #008000; text-decoration-color: #008000\">'source'</span>: <span style=\"color: #800080; text-decoration-color: #800080; font-style: italic\">None</span>,\n",
       "        <span style=\"color: #008000; text-decoration-color: #008000\">'distance'</span>: <span style=\"color: #800080; text-decoration-color: #800080; font-style: italic\">None</span>,\n",
       "        <span style=\"color: #008000; text-decoration-color: #008000\">'raw'</span>: <span style=\"font-weight: bold\">{}</span>\n",
       "    <span style=\"font-weight: bold\">}</span>,\n",
       "    <span style=\"color: #008000; text-decoration-color: #008000\">'rating'</span>: <span style=\"font-weight: bold\">{</span><span style=\"color: #008000; text-decoration-color: #008000\">'score'</span>: <span style=\"color: #008080; text-decoration-color: #008080; font-weight: bold\">4.6</span>, <span style=\"color: #008000; text-decoration-color: #008000\">'count'</span>: <span style=\"color: #008080; text-decoration-color: #008080; font-weight: bold\">128</span><span style=\"font-weight: bold\">}</span>,\n",
       "    <span style=\"color: #008000; text-decoration-color: #008000\">'price_level'</span>: <span style=\"font-weight: bold\">&lt;</span><span style=\"color: #ff00ff; text-decoration-color: #ff00ff; font-weight: bold\">PriceLevel.MODERATE:</span><span style=\"color: #000000; text-decoration-color: #000000\"> </span><span style=\"color: #008000; text-decoration-color: #008000\">'moderate'</span><span style=\"font-weight: bold\">&gt;</span>,\n",
       "    <span style=\"color: #008000; text-decoration-color: #008000\">'categories'</span>: <span style=\"font-weight: bold\">[</span><span style=\"color: #008000; text-decoration-color: #008000\">'cafe'</span>, <span style=\"color: #008000; text-decoration-color: #008000\">'coffee'</span><span style=\"font-weight: bold\">]</span>,\n",
       "    <span style=\"color: #008000; text-decoration-color: #008000\">'provider_meta'</span>: <span style=\"font-weight: bold\">{</span><span style=\"color: #008000; text-decoration-color: #008000\">'provider'</span>: <span style=\"color: #008000; text-decoration-color: #008000\">'mock'</span>, <span style=\"color: #008000; text-decoration-color: #008000\">'id'</span>: <span style=\"color: #008080; text-decoration-color: #008080; font-weight: bold\">42</span>, <span style=\"color: #008000; text-decoration-color: #008000\">'raw'</span>: <span style=\"font-weight: bold\">{</span><span style=\"color: #008000; text-decoration-color: #008000\">'provider_field'</span>: <span style=\"color: #008000; text-decoration-color: #008000\">'value'</span><span style=\"font-weight: bold\">}}</span>\n",
       "<span style=\"font-weight: bold\">}</span>\n",
       "</pre>\n"
      ],
      "text/plain": [
       "\u001b[1m{\u001b[0m\n",
       "    \u001b[32m'title'\u001b[0m: \u001b[32m'Nested Cafe'\u001b[0m,\n",
       "    \u001b[32m'url'\u001b[0m: \u001b[1;35mHttpUrl\u001b[0m\u001b[1m(\u001b[0m\u001b[32m'https://example.com/nested'\u001b[0m\u001b[1m)\u001b[0m,\n",
       "    \u001b[32m'snippet'\u001b[0m: \u001b[32m'A nested example'\u001b[0m,\n",
       "    \u001b[32m'raw'\u001b[0m: \u001b[1m{\u001b[0m\u001b[32m'id'\u001b[0m: \u001b[32m'nested-1'\u001b[0m\u001b[1m}\u001b[0m,\n",
       "    \u001b[32m'location'\u001b[0m: \u001b[1m{\u001b[0m\n",
       "        \u001b[32m'name'\u001b[0m: \u001b[32m'Cafe Nested'\u001b[0m,\n",
       "        \u001b[32m'address'\u001b[0m: \u001b[1m{\u001b[0m\n",
       "            \u001b[32m'street'\u001b[0m: \u001b[32m'123 Example St'\u001b[0m,\n",
       "            \u001b[32m'city'\u001b[0m: \u001b[32m'San Francisco'\u001b[0m,\n",
       "            \u001b[32m'region'\u001b[0m: \u001b[32m'CA'\u001b[0m,\n",
       "            \u001b[32m'postal_code'\u001b[0m: \u001b[32m'94103'\u001b[0m,\n",
       "            \u001b[32m'country'\u001b[0m: \u001b[32m'US'\u001b[0m\n",
       "        \u001b[1m}\u001b[0m,\n",
       "        \u001b[32m'coords'\u001b[0m: \u001b[1m{\u001b[0m\u001b[32m'lat'\u001b[0m: \u001b[1;36m37.7749\u001b[0m, \u001b[32m'lon'\u001b[0m: \u001b[1;36m-122.4194\u001b[0m\u001b[1m}\u001b[0m,\n",
       "        \u001b[32m'latitude'\u001b[0m: \u001b[3;35mNone\u001b[0m,\n",
       "        \u001b[32m'longitude'\u001b[0m: \u001b[3;35mNone\u001b[0m,\n",
       "        \u001b[32m'phone'\u001b[0m: \u001b[3;35mNone\u001b[0m,\n",
       "        \u001b[32m'url'\u001b[0m: \u001b[3;35mNone\u001b[0m,\n",
       "        \u001b[32m'source'\u001b[0m: \u001b[3;35mNone\u001b[0m,\n",
       "        \u001b[32m'distance'\u001b[0m: \u001b[3;35mNone\u001b[0m,\n",
       "        \u001b[32m'raw'\u001b[0m: \u001b[1m{\u001b[0m\u001b[1m}\u001b[0m\n",
       "    \u001b[1m}\u001b[0m,\n",
       "    \u001b[32m'rating'\u001b[0m: \u001b[1m{\u001b[0m\u001b[32m'score'\u001b[0m: \u001b[1;36m4.6\u001b[0m, \u001b[32m'count'\u001b[0m: \u001b[1;36m128\u001b[0m\u001b[1m}\u001b[0m,\n",
       "    \u001b[32m'price_level'\u001b[0m: \u001b[1m<\u001b[0m\u001b[1;95mPriceLevel.MODERATE:\u001b[0m\u001b[39m \u001b[0m\u001b[32m'moderate'\u001b[0m\u001b[1m>\u001b[0m,\n",
       "    \u001b[32m'categories'\u001b[0m: \u001b[1m[\u001b[0m\u001b[32m'cafe'\u001b[0m, \u001b[32m'coffee'\u001b[0m\u001b[1m]\u001b[0m,\n",
       "    \u001b[32m'provider_meta'\u001b[0m: \u001b[1m{\u001b[0m\u001b[32m'provider'\u001b[0m: \u001b[32m'mock'\u001b[0m, \u001b[32m'id'\u001b[0m: \u001b[1;36m42\u001b[0m, \u001b[32m'raw'\u001b[0m: \u001b[1m{\u001b[0m\u001b[32m'provider_field'\u001b[0m: \u001b[32m'value'\u001b[0m\u001b[1m}\u001b[0m\u001b[1m}\u001b[0m\n",
       "\u001b[1m}\u001b[0m\n"
      ]
     },
     "metadata": {},
     "output_type": "display_data"
    }
   ],
   "source": [
    "# TASK-3: renderer example\n",
    "from pydantic import TypeAdapter, HttpUrl\n",
    "from research_agent_framework.prompts import renderer\n",
    "from research_agent_framework.models import (\n",
    "    SerpResult, Location, Address, Coordinates, Rating, PriceLevel, ProviderMeta,\n",
    ")\n",
    "from research_agent_framework.config import get_settings\n",
    "from typing import cast\n",
    "from rich.console import Console\n",
    "from research_agent_framework.logging import LoggingProtocol\n",
    "settings = get_settings()\n",
    "c = cast(Console, settings.console)\n",
    "logger = cast(LoggingProtocol, settings.logger)\n",
    "\n",
    "# Build nested models (full demo)\n",
    "coords = Coordinates(lat=37.7749, lon=-122.4194)\n",
    "addr = Address(street='123 Example St', city='San Francisco', region='CA', postal_code='94103', country='US')\n",
    "loc = Location(name='Cafe Nested', address=addr, coords=coords)\n",
    "rating = Rating(score=4.6, count=128)\n",
    "provider = ProviderMeta(provider='mock', id=42, raw={'provider_field': 'value'})\n",
    "url_adapter = TypeAdapter(HttpUrl)\n",
    "u = url_adapter.validate_python('https://example.com/nested')\n",
    "serp_model = SerpResult(title='Nested Cafe', url=u, snippet='A nested example', raw={'id': 'nested-1'}, location=loc, rating=rating, price_level=PriceLevel.MODERATE, categories=['cafe','coffee'], provider_meta=provider)\n",
    "\n",
    "# Render templates\n",
    "clarify_context = {\"messages\": \"User: What are the best coffee shops in SF?\", \"date\": \"2025-09-05\"}\n",
    "clarify_rendered = renderer.render_template(\"clarify_with_user_instructions.j2\", clarify_context)\n",
    "agent_context = {\"date\": \"2025-09-05\"}\n",
    "agent_rendered = renderer.render_template(\"research_agent_prompt.j2\", agent_context)\n",
    "\n",
    "# Output using bootstrap-provided console (as `c`) and logger\n",
    "logger.info('research_agent_prompt.j2 output:\\n%s', agent_rendered)\n",
    "c.print('clarify_with_user_instructions.j2 output:\\n')\n",
    "c.print(clarify_rendered)\n",
    "c.print('Nested SerpResult:')\n",
    "c.print(serp_model.model_dump())\n"
   ]
  },
  {
   "cell_type": "code",
   "execution_count": 7,
   "id": "1d394de4",
   "metadata": {},
   "outputs": [
    {
     "data": {
      "text/html": [
       "<pre style=\"white-space:pre;overflow-x:auto;line-height:normal;font-family:Menlo,'DejaVu Sans Mono',consolas,'Courier New',monospace\"><span style=\"color: #008080; text-decoration-color: #008080; font-weight: bold\">2025</span>-<span style=\"color: #008080; text-decoration-color: #008080; font-weight: bold\">09</span>-09T<span style=\"color: #00ff00; text-decoration-color: #00ff00; font-weight: bold\">16:25:10</span>.<span style=\"color: #008080; text-decoration-color: #008080; font-weight: bold\">014326</span>-<span style=\"color: #008080; text-decoration-color: #008080; font-weight: bold\">0700</span> INFO MockLLM output: %s\n",
       "</pre>\n"
      ],
      "text/plain": [
       "\u001b[1;36m2025\u001b[0m-\u001b[1;36m09\u001b[0m-09T\u001b[1;92m16:25:10\u001b[0m.\u001b[1;36m014326\u001b[0m-\u001b[1;36m0700\u001b[0m INFO MockLLM output: %s\n"
      ]
     },
     "metadata": {},
     "output_type": "display_data"
    },
    {
     "data": {
      "text/html": [
       "<pre style=\"white-space:pre;overflow-x:auto;line-height:normal;font-family:Menlo,'DejaVu Sans Mono',consolas,'Courier New',monospace\">MockSearchAdapter results:\n",
       "</pre>\n"
      ],
      "text/plain": [
       "MockSearchAdapter results:\n"
      ]
     },
     "metadata": {},
     "output_type": "display_data"
    },
    {
     "data": {
      "text/html": [
       "<pre style=\"white-space:pre;overflow-x:auto;line-height:normal;font-family:Menlo,'DejaVu Sans Mono',consolas,'Courier New',monospace\">- Coffee Shop A <span style=\"font-weight: bold\">(</span><span style=\"color: #0000ff; text-decoration-color: #0000ff; text-decoration: underline\">https://coffee.example.com/a)</span> - Great coffee and friendly staff\n",
       "</pre>\n"
      ],
      "text/plain": [
       "- Coffee Shop A \u001b[1m(\u001b[0m\u001b[4;94mhttps://coffee.example.com/a\u001b[0m\u001b[4;94m)\u001b[0m - Great coffee and friendly staff\n"
      ]
     },
     "metadata": {},
     "output_type": "display_data"
    },
    {
     "data": {
      "text/html": [
       "<pre style=\"white-space:pre;overflow-x:auto;line-height:normal;font-family:Menlo,'DejaVu Sans Mono',consolas,'Courier New',monospace\">- Coffee Shop B <span style=\"font-weight: bold\">(</span><span style=\"color: #0000ff; text-decoration-color: #0000ff; text-decoration: underline\">https://coffee.example.com/b)</span> - Excellent pastries\n",
       "</pre>\n"
      ],
      "text/plain": [
       "- Coffee Shop B \u001b[1m(\u001b[0m\u001b[4;94mhttps://coffee.example.com/b\u001b[0m\u001b[4;94m)\u001b[0m - Excellent pastries\n"
      ]
     },
     "metadata": {},
     "output_type": "display_data"
    }
   ],
   "source": [
    "# TASK-4.3: Import and use MockLLM and MockSearchAdapter for deterministic demo\n",
    "from research_agent_framework.llm.client import MockLLM, LLMConfig\n",
    "from research_agent_framework.adapters.search.mock_search import MockSearchAdapter\n",
    "from research_agent_framework.adapters.search.schema import SerpReply\n",
    "from research_agent_framework.config import get_settings\n",
    "from typing import cast, List, Union, Sequence\n",
    "from rich.console import Console\n",
    "from research_agent_framework.logging import LoggingProtocol\n",
    "from research_agent_framework.models import SerpResult\n",
    "s = get_settings()\n",
    "c = cast(Console, s.console)\n",
    "logger = cast(LoggingProtocol, s.logger)\n",
    "import asyncio\n",
    "\n",
    "mock_config = LLMConfig(api_key=\"test\", model=\"mock-model\")\n",
    "mock_llm = MockLLM(mock_config)\n",
    "searcher = MockSearchAdapter()\n",
    "\n",
    "# Typed helper to normalize search adapter outputs to a list-like sequence of results\n",
    "def ensure_results_list(results) -> Sequence[Union[SerpResult, tuple[object, ...]]]:\n",
    "    \"\"\"Normalize different adapter return shapes to a uniform sequence.\n",
    "\n",
    "    Supported shapes:\n",
    "    - `SerpReply` (typed Pydantic model with `.results`)\n",
    "    - legacy `list[SerpResult]`\n",
    "    - an object exposing `.results` attribute\n",
    "    - any iterable\n",
    "    - fallback to single-item list\n",
    "    \"\"\"\n",
    "    if isinstance(results, SerpReply):\n",
    "        return results.results\n",
    "    if isinstance(results, list):\n",
    "        return results\n",
    "    maybe = getattr(results, \"results\", None)\n",
    "    if isinstance(maybe, list):\n",
    "        return maybe\n",
    "    try:\n",
    "        return list(results)\n",
    "    except TypeError:\n",
    "        return [results]\n",
    "\n",
    "async def demo_llm_and_search():\n",
    "    prompt = \"What are the best coffee shops in SF?\"\n",
    "    llm_out = await mock_llm.generate(prompt)\n",
    "    results = await searcher.search(prompt)\n",
    "    logger.info('MockLLM output: %s', llm_out)\n",
    "    c.print('MockSearchAdapter results:')\n",
    "\n",
    "    items = ensure_results_list(results)\n",
    "\n",
    "    for r in items:\n",
    "        if isinstance(r, tuple):\n",
    "            title = r[0] if len(r) > 0 else ''\n",
    "            url = r[1] if len(r) > 1 else ''\n",
    "            snippet = r[2] if len(r) > 2 else ''\n",
    "            c.print(f'- {title} ({url}) - {snippet}')\n",
    "        else:\n",
    "            title = getattr(r, 'title', '')\n",
    "            url = getattr(r, 'url', '')\n",
    "            snippet = getattr(r, 'snippet', '')\n",
    "            c.print(f'- {title} ({url}) - {snippet}')\n",
    "\n",
    "# Run the demo in a notebook-friendly way: use `await` inside Jupyter, otherwise use asyncio.run()\n",
    "from IPython.core.getipython import get_ipython\n",
    "if get_ipython() is not None:\n",
    "    import nest_asyncio; nest_asyncio.apply()\n",
    "    await demo_llm_and_search()\n",
    "else:\n",
    "    import asyncio\n",
    "    asyncio.run(demo_llm_and_search())\n"
   ]
  },
  {
   "cell_type": "code",
   "execution_count": 8,
   "id": "7717cc31",
   "metadata": {},
   "outputs": [
    {
     "data": {
      "text/html": [
       "<pre style=\"white-space:pre;overflow-x:auto;line-height:normal;font-family:Menlo,'DejaVu Sans Mono',consolas,'Courier New',monospace\">SerpAPI stub reply meta provider: serpapi-stub\n",
       "</pre>\n"
      ],
      "text/plain": [
       "SerpAPI stub reply meta provider: serpapi-stub\n"
      ]
     },
     "metadata": {},
     "output_type": "display_data"
    },
    {
     "data": {
      "text/html": [
       "<pre style=\"white-space:pre;overflow-x:auto;line-height:normal;font-family:Menlo,'DejaVu Sans Mono',consolas,'Courier New',monospace\">SerpAPI stub first result raw:\n",
       "<span style=\"font-weight: bold\">{</span><span style=\"color: #008000; text-decoration-color: #008000\">'raw_from'</span>: <span style=\"color: #008000; text-decoration-color: #008000\">'serpapi'</span>, <span style=\"color: #008000; text-decoration-color: #008000\">'query'</span>: <span style=\"color: #008000; text-decoration-color: #008000\">'demo'</span><span style=\"font-weight: bold\">}</span>\n",
       "</pre>\n"
      ],
      "text/plain": [
       "SerpAPI stub first result raw:\n",
       "\u001b[1m{\u001b[0m\u001b[32m'raw_from'\u001b[0m: \u001b[32m'serpapi'\u001b[0m, \u001b[32m'query'\u001b[0m: \u001b[32m'demo'\u001b[0m\u001b[1m}\u001b[0m\n"
      ]
     },
     "metadata": {},
     "output_type": "display_data"
    },
    {
     "data": {
      "text/html": [
       "<pre style=\"white-space:pre;overflow-x:auto;line-height:normal;font-family:Menlo,'DejaVu Sans Mono',consolas,'Courier New',monospace\">Empty reply results length: <span style=\"color: #008080; text-decoration-color: #008080; font-weight: bold\">0</span>\n",
       "</pre>\n"
      ],
      "text/plain": [
       "Empty reply results length: \u001b[1;36m0\u001b[0m\n"
      ]
     },
     "metadata": {},
     "output_type": "display_data"
    },
    {
     "data": {
      "text/html": [
       "<pre style=\"white-space:pre;overflow-x:auto;line-height:normal;font-family:Menlo,'DejaVu Sans Mono',consolas,'Courier New',monospace\">mock result raw:\n",
       "<span style=\"font-weight: bold\">{</span><span style=\"color: #008000; text-decoration-color: #008000\">'q'</span>: <span style=\"color: #008000; text-decoration-color: #008000\">'test'</span>, <span style=\"color: #008000; text-decoration-color: #008000\">'source'</span>: <span style=\"color: #008000; text-decoration-color: #008000\">'mock'</span>, <span style=\"color: #008000; text-decoration-color: #008000\">'id'</span>: <span style=\"color: #008080; text-decoration-color: #008080; font-weight: bold\">1</span><span style=\"font-weight: bold\">}</span>\n",
       "</pre>\n"
      ],
      "text/plain": [
       "mock result raw:\n",
       "\u001b[1m{\u001b[0m\u001b[32m'q'\u001b[0m: \u001b[32m'test'\u001b[0m, \u001b[32m'source'\u001b[0m: \u001b[32m'mock'\u001b[0m, \u001b[32m'id'\u001b[0m: \u001b[1;36m1\u001b[0m\u001b[1m}\u001b[0m\n"
      ]
     },
     "metadata": {},
     "output_type": "display_data"
    },
    {
     "data": {
      "text/html": [
       "<pre style=\"white-space:pre;overflow-x:auto;line-height:normal;font-family:Menlo,'DejaVu Sans Mono',consolas,'Courier New',monospace\">mock result raw:\n",
       "<span style=\"font-weight: bold\">{</span><span style=\"color: #008000; text-decoration-color: #008000\">'q'</span>: <span style=\"color: #008000; text-decoration-color: #008000\">'test'</span>, <span style=\"color: #008000; text-decoration-color: #008000\">'source'</span>: <span style=\"color: #008000; text-decoration-color: #008000\">'mock'</span>, <span style=\"color: #008000; text-decoration-color: #008000\">'id'</span>: <span style=\"color: #008080; text-decoration-color: #008080; font-weight: bold\">2</span><span style=\"font-weight: bold\">}</span>\n",
       "</pre>\n"
      ],
      "text/plain": [
       "mock result raw:\n",
       "\u001b[1m{\u001b[0m\u001b[32m'q'\u001b[0m: \u001b[32m'test'\u001b[0m, \u001b[32m'source'\u001b[0m: \u001b[32m'mock'\u001b[0m, \u001b[32m'id'\u001b[0m: \u001b[1;36m2\u001b[0m\u001b[1m}\u001b[0m\n"
      ]
     },
     "metadata": {},
     "output_type": "display_data"
    }
   ],
   "source": [
    "# DEMO-6: SerpAPI adapter `from_raw` and raw-preservation demo\n",
    "from research_agent_framework.adapters.search.serpapi_search import SerpAPISearchAdapter\n",
    "from research_agent_framework.adapters.search.mock_search import MockSearchAdapter\n",
    "from research_agent_framework.adapters.search.schema import SerpRequest\n",
    "from research_agent_framework.config import get_settings\n",
    "from typing import cast\n",
    "from rich.console import Console\n",
    "import asyncio\n",
    "\n",
    "s = get_settings()\n",
    "c = cast(Console, s.console)\n",
    "\n",
    "async def demo_adapter():\n",
    "    # SerpAPI stub via from_raw\n",
    "    serp_adapter = SerpAPISearchAdapter.from_raw({'provider':'serpapi-stub'})\n",
    "    reply = await serp_adapter.search(SerpRequest(query='demo', limit=1))\n",
    "    c.print('SerpAPI stub reply meta provider:', reply.meta.provider)\n",
    "    if len(reply.results) > 0:\n",
    "        c.print('SerpAPI stub first result raw:', reply.results[0].raw)\n",
    "\n",
    "    # Empty-limit behavior\n",
    "    empty_reply = await serp_adapter.search(SerpRequest(query='demo', limit=0))\n",
    "    c.print('Empty reply results length:', len(empty_reply.results))\n",
    "\n",
    "    # Mock adapter from_raw and back-compat search\n",
    "    mock = MockSearchAdapter.from_raw({'provider':'mock'})\n",
    "    mock_results = await mock.search('test')\n",
    "    items = getattr(mock_results, 'results', mock_results)\n",
    "    if not isinstance(items, list):\n",
    "        items = list(items)\n",
    "    for r in items:\n",
    "        c.print('mock result raw:', getattr(r, 'raw', r))\n",
    "\n",
    "# Run the demo in a notebook-friendly way: use `await` inside Jupyter, otherwise use asyncio.run()\n",
    "from IPython.core.getipython import get_ipython\n",
    "if get_ipython() is not None:\n",
    "    import nest_asyncio; nest_asyncio.apply()\n",
    "    await demo_adapter()\n",
    "else:\n",
    "    import asyncio\n",
    "    asyncio.run(demo_adapter())\n"
   ]
  },
  {
   "cell_type": "code",
   "execution_count": 9,
   "id": "675b8b3b",
   "metadata": {},
   "outputs": [
    {
     "data": {
      "text/html": [
       "<pre style=\"white-space:pre;overflow-x:auto;line-height:normal;font-family:Menlo,'DejaVu Sans Mono',consolas,'Courier New',monospace\"><span style=\"color: #008080; text-decoration-color: #008080; font-weight: bold\">2025</span>-<span style=\"color: #008080; text-decoration-color: #008080; font-weight: bold\">09</span>-09T<span style=\"color: #00ff00; text-decoration-color: #00ff00; font-weight: bold\">16:25:10</span>.<span style=\"color: #008080; text-decoration-color: #008080; font-weight: bold\">308416</span>-<span style=\"color: #008080; text-decoration-color: #008080; font-weight: bold\">0700</span> INFO MockLLM property-based output: %s\n",
       "</pre>\n"
      ],
      "text/plain": [
       "\u001b[1;36m2025\u001b[0m-\u001b[1;36m09\u001b[0m-09T\u001b[1;92m16:25:10\u001b[0m.\u001b[1;36m308416\u001b[0m-\u001b[1;36m0700\u001b[0m INFO MockLLM property-based output: %s\n"
      ]
     },
     "metadata": {},
     "output_type": "display_data"
    },
    {
     "data": {
      "text/html": [
       "<pre style=\"white-space:pre;overflow-x:auto;line-height:normal;font-family:Menlo,'DejaVu Sans Mono',consolas,'Courier New',monospace\">MockLLM property-based output: mock response for: Show me the best coffee shops in SF\n",
       "</pre>\n"
      ],
      "text/plain": [
       "MockLLM property-based output: mock response for: Show me the best coffee shops in SF\n"
      ]
     },
     "metadata": {},
     "output_type": "display_data"
    }
   ],
   "source": [
    "# TASK-4A.3: Property-based example for MockLLM (kept as demonstration)\n",
    "from research_agent_framework.llm.client import LLMConfig, MockLLM\n",
    "from hypothesis import given, strategies as st\n",
    "import asyncio\n",
    "import pytest\n",
    "from assertpy import assert_that\n",
    "from research_agent_framework.config import get_settings\n",
    "from typing import cast\n",
    "from rich.console import Console\n",
    "from research_agent_framework.logging import LoggingProtocol\n",
    "s = get_settings()\n",
    "c = cast(Console, s.console)\n",
    "logger = cast(LoggingProtocol, s.logger)\n",
    "\n",
    "# Example: deterministic output for random prompt/config\n",
    "@pytest.mark.asyncio\n",
    "@given(\n",
    "    prompt=st.text(min_size=1, max_size=200),\n",
    "    api_key=st.text(min_size=1, max_size=20),\n",
    "    model=st.text(min_size=1, max_size=20),\n",
    ")\n",
    "async def demo_mockllm_property_valid(prompt, api_key, model):\n",
    "    config = LLMConfig(api_key=api_key, model=model)\n",
    "    client = MockLLM(config)\n",
    "    result = await client.generate(prompt)\n",
    "    assert_that(result).is_equal_to(f\"mock response for: {prompt}\")\n",
    "\n",
    "# Run a single example for demonstration\n",
    "async def run_demo():\n",
    "    config = LLMConfig(api_key=\"demo-key\", model=\"demo-model\")\n",
    "    client = MockLLM(config)\n",
    "    result = await client.generate(\"Show me the best coffee shops in SF\")\n",
    "    logger.info('MockLLM property-based output: %s', result)\n",
    "    c.print('MockLLM property-based output:', result)\n",
    "\n",
    "# Run the demo in a notebook-friendly way: use `await` inside Jupyter, otherwise use asyncio.run()\n",
    "from IPython.core.getipython import get_ipython\n",
    "if get_ipython() is not None:\n",
    "    import nest_asyncio; nest_asyncio.apply()\n",
    "    await run_demo()\n",
    "else:\n",
    "    import asyncio\n",
    "    asyncio.run(run_demo())\n"
   ]
  },
  {
   "cell_type": "code",
   "execution_count": 10,
   "id": "9c31c492",
   "metadata": {},
   "outputs": [
    {
     "data": {
      "text/html": [
       "<pre style=\"white-space:pre;overflow-x:auto;line-height:normal;font-family:Menlo,'DejaVu Sans Mono',consolas,'Courier New',monospace\">Planned tasks:\n",
       "</pre>\n"
      ],
      "text/plain": [
       "Planned tasks:\n"
      ]
     },
     "metadata": {},
     "output_type": "display_data"
    },
    {
     "data": {
      "text/html": [
       "<pre style=\"white-space:pre;overflow-x:auto;line-height:normal;font-family:Menlo,'DejaVu Sans Mono',consolas,'Courier New',monospace\">- 9e4a6c94 Coffee Shops - constraint: no paid sources\n",
       "</pre>\n"
      ],
      "text/plain": [
       "- 9e4a6c94 Coffee Shops - constraint: no paid sources\n"
      ]
     },
     "metadata": {},
     "output_type": "display_data"
    },
    {
     "data": {
      "text/html": [
       "<pre style=\"white-space:pre;overflow-x:auto;line-height:normal;font-family:Menlo,'DejaVu Sans Mono',consolas,'Courier New',monospace\"><span style=\"color: #008080; text-decoration-color: #008080; font-weight: bold\">2025</span>-<span style=\"color: #008080; text-decoration-color: #008080; font-weight: bold\">09</span>-09T<span style=\"color: #00ff00; text-decoration-color: #00ff00; font-weight: bold\">16:25:10</span>.<span style=\"color: #008080; text-decoration-color: #008080; font-weight: bold\">328574</span>-<span style=\"color: #008080; text-decoration-color: #008080; font-weight: bold\">0700</span> INFO Run result: %s\n",
       "</pre>\n"
      ],
      "text/plain": [
       "\u001b[1;36m2025\u001b[0m-\u001b[1;36m09\u001b[0m-09T\u001b[1;92m16:25:10\u001b[0m.\u001b[1;36m328574\u001b[0m-\u001b[1;36m0700\u001b[0m INFO Run result: %s\n"
      ]
     },
     "metadata": {},
     "output_type": "display_data"
    },
    {
     "data": {
      "text/html": [
       "<pre style=\"white-space:pre;overflow-x:auto;line-height:normal;font-family:Menlo,'DejaVu Sans Mono',consolas,'Courier New',monospace\">Run result:\n",
       "<span style=\"color: #800080; text-decoration-color: #800080; font-weight: bold\">EvalResult</span><span style=\"font-weight: bold\">(</span>\n",
       "    <span style=\"color: #808000; text-decoration-color: #808000\">task_id</span>=<span style=\"color: #008000; text-decoration-color: #008000\">'9e4a6c94'</span>,\n",
       "    <span style=\"color: #808000; text-decoration-color: #808000\">success</span>=<span style=\"color: #00ff00; text-decoration-color: #00ff00; font-style: italic\">True</span>,\n",
       "    <span style=\"color: #808000; text-decoration-color: #808000\">score</span>=<span style=\"color: #008080; text-decoration-color: #008080; font-weight: bold\">0.61</span>,\n",
       "    <span style=\"color: #808000; text-decoration-color: #808000\">feedback</span>=<span style=\"color: #008000; text-decoration-color: #008000\">'mock response for: Coffee Shops - constraint: no paid sources'</span>,\n",
       "    <span style=\"color: #808000; text-decoration-color: #808000\">details</span>=<span style=\"font-weight: bold\">{}</span>\n",
       "<span style=\"font-weight: bold\">)</span>\n",
       "</pre>\n"
      ],
      "text/plain": [
       "Run result:\n",
       "\u001b[1;35mEvalResult\u001b[0m\u001b[1m(\u001b[0m\n",
       "    \u001b[33mtask_id\u001b[0m=\u001b[32m'9e4a6c94'\u001b[0m,\n",
       "    \u001b[33msuccess\u001b[0m=\u001b[3;92mTrue\u001b[0m,\n",
       "    \u001b[33mscore\u001b[0m=\u001b[1;36m0\u001b[0m\u001b[1;36m.61\u001b[0m,\n",
       "    \u001b[33mfeedback\u001b[0m=\u001b[32m'mock response for: Coffee Shops - constraint: no paid sources'\u001b[0m,\n",
       "    \u001b[33mdetails\u001b[0m=\u001b[1m{\u001b[0m\u001b[1m}\u001b[0m\n",
       "\u001b[1m)\u001b[0m\n"
      ]
     },
     "metadata": {},
     "output_type": "display_data"
    }
   ],
   "source": [
    "# TASK-5.1: Demonstrate ResearchAgent plan() and run() using MockLLM\n",
    "from research_agent_framework.agents.base import ResearchAgent\n",
    "from research_agent_framework.models import Scope\n",
    "from research_agent_framework.llm.client import MockLLM, LLMConfig\n",
    "from research_agent_framework.adapters.search.mock_search import MockSearchAdapter\n",
    "from research_agent_framework.config import get_settings\n",
    "from typing import cast\n",
    "from rich.console import Console\n",
    "from research_agent_framework.logging import LoggingProtocol\n",
    "s = get_settings()\n",
    "c = cast(Console, s.console)\n",
    "logger = cast(LoggingProtocol, s.logger)\n",
    "import asyncio\n",
    "\n",
    "agent = ResearchAgent(llm_client=MockLLM(LLMConfig(api_key='demo', model='demo')),\n",
    "                        search_adapter=MockSearchAdapter())\n",
    "\n",
    "scope = Scope(topic='Coffee Shops', description='Find notable coffee shops in SF', constraints=['no paid sources'])\n",
    "plans = agent.plan(scope)\n",
    "\n",
    "c.print('Planned tasks:')\n",
    "for t in plans:\n",
    "    c.print('-', t.id, t.query)\n",
    "\n",
    "async def run_first():\n",
    "    res = await agent.run(plans[0])\n",
    "    logger.info('Run result: %s', res)\n",
    "    c.print('Run result:', res)\n",
    "\n",
    "# Run the demo in a notebook-friendly way: use `await` inside Jupyter, otherwise use asyncio.run()\n",
    "from IPython.core.getipython import get_ipython\n",
    "if get_ipython() is not None:\n",
    "    import nest_asyncio; nest_asyncio.apply()\n",
    "    await run_first()\n",
    "else:\n",
    "    import asyncio\n",
    "    asyncio.run(run_first())\n"
   ]
  },
  {
   "cell_type": "markdown",
   "id": "192f343e",
   "metadata": {},
   "source": [
    "# Notebook Status\n",
    "\n",
    "This notebook contains runnable demos that reflect the current test suite and mock implementations in `src/research_agent_framework`.\n",
    "\n",
    "Sections included:\n",
    "\n",
    "- Models demonstration\n",
    "- Prompt renderer example\n",
    "- MockLLM + MockSearchAdapter demo\n",
    "- Minimal property-based demonstration for MockLLM\n",
    "\n",
    "All status/instruction text removed; cells are focused on runnable demos and examples.\n"
   ]
  },
  {
   "cell_type": "markdown",
   "id": "3a449983",
   "metadata": {},
   "source": [
    "---\n",
    "\n",
    "This consolidated demo notebook is focused on runnable examples that match the code and tests in the repository. Use the demo cells to validate the deterministic mock implementations and renderer output.\n",
    "\n",
    "---"
   ]
  },
  {
   "cell_type": "code",
   "execution_count": 11,
   "id": "727cb73b",
   "metadata": {},
   "outputs": [
    {
     "data": {
      "text/html": [
       "<pre style=\"white-space:pre;overflow-x:auto;line-height:normal;font-family:Menlo,'DejaVu Sans Mono',consolas,'Courier New',monospace\">Scoring result:\n",
       "</pre>\n"
      ],
      "text/plain": [
       "Scoring result:\n"
      ]
     },
     "metadata": {},
     "output_type": "display_data"
    },
    {
     "data": {
      "text/html": [
       "<pre style=\"white-space:pre;overflow-x:auto;line-height:normal;font-family:Menlo,'DejaVu Sans Mono',consolas,'Courier New',monospace\"><span style=\"color: #800080; text-decoration-color: #800080; font-weight: bold\">ScoreResult</span><span style=\"font-weight: bold\">(</span><span style=\"color: #808000; text-decoration-color: #808000\">score</span>=<span style=\"color: #008080; text-decoration-color: #008080; font-weight: bold\">0.639</span>, <span style=\"color: #808000; text-decoration-color: #808000\">reason</span>=<span style=\"color: #008000; text-decoration-color: #008000\">'rating:4.20-&gt;0.504;distance_bonus:0.135'</span>, <span style=\"color: #808000; text-decoration-color: #808000\">meta</span>=<span style=\"font-weight: bold\">{</span><span style=\"color: #008000; text-decoration-color: #008000\">'raw_base'</span>: <span style=\"color: #008080; text-decoration-color: #008080; font-weight: bold\">0.639</span><span style=\"font-weight: bold\">})</span>\n",
       "</pre>\n"
      ],
      "text/plain": [
       "\u001b[1;35mScoreResult\u001b[0m\u001b[1m(\u001b[0m\u001b[33mscore\u001b[0m=\u001b[1;36m0\u001b[0m\u001b[1;36m.639\u001b[0m, \u001b[33mreason\u001b[0m=\u001b[32m'rating:4.20->0.504;distance_bonus:0.135'\u001b[0m, \u001b[33mmeta\u001b[0m=\u001b[1m{\u001b[0m\u001b[32m'raw_base'\u001b[0m: \u001b[1;36m0.639\u001b[0m\u001b[1m}\u001b[0m\u001b[1m)\u001b[0m\n"
      ]
     },
     "metadata": {},
     "output_type": "display_data"
    }
   ],
   "source": [
    "# Demo: SimpleScorer usage (robust imports and validation)\n",
    "import sys\n",
    "from pathlib import Path\n",
    "from typing import Optional\n",
    "\n",
    "# Robustly find the repository root by searching for 'src/research_agent_framework'\n",
    "repo_cwd = Path.cwd().resolve()\n",
    "found_src: Optional[Path] = None\n",
    "for candidate in [repo_cwd] + list(repo_cwd.parents):\n",
    "    if (candidate / \"src\" / \"research_agent_framework\").exists():\n",
    "        found_src = (candidate / \"src\").resolve()\n",
    "        break\n",
    "\n",
    "# Fallback to relative ../src (kept for compatibility)\n",
    "if found_src is None:\n",
    "    candidate = (repo_cwd / \"..\" / \"src\").resolve()\n",
    "    if (candidate / \"research_agent_framework\").exists():\n",
    "        found_src = candidate\n",
    "\n",
    "if found_src is None:\n",
    "    # Nothing we can do programmatically; show helpful message\n",
    "    print(\"Could not locate 'src/research_agent_framework' relative to notebook cwd:\", repo_cwd)\n",
    "    raise SystemExit(\"Please ensure the notebook is running with the repo root as CWD or add src to sys.path manually.\")\n",
    "\n",
    "if str(found_src) not in sys.path:\n",
    "    sys.path.insert(0, str(found_src))\n",
    "\n",
    "from pydantic import TypeAdapter, HttpUrl\n",
    "from research_agent_framework.agents.scoring import SimpleScorer\n",
    "from research_agent_framework.models import SerpResult, Location, Coordinates, Rating\n",
    "from research_agent_framework.config import get_settings\n",
    "from typing import cast\n",
    "from rich.console import Console\n",
    "\n",
    "# use the project's console for nicer output\n",
    "s = get_settings()\n",
    "c = cast(Console, s.console)\n",
    "\n",
    "scorer = SimpleScorer()\n",
    "loc = Location(coords=Coordinates(lat=37.77, lon=-122.42), distance=500)\n",
    "# Validate URL as HttpUrl to satisfy SerpResult typing\n",
    "url_adapter = TypeAdapter(HttpUrl)\n",
    "validated_url = url_adapter.validate_python(\"https://example.com/demo\")\n",
    "serp = SerpResult(title=\"Demo Place\", url=validated_url, snippet=\"demo\", raw={}, location=loc, rating=Rating(score=4.2, count=123), price_level=None)\n",
    "res = scorer.score(serp)\n",
    "\n",
    "c.print(\"Scoring result:\")\n",
    "c.print(res)\n"
   ]
  },
  {
   "cell_type": "markdown",
   "id": "db4bfff7",
   "metadata": {},
   "source": [
    "## Additional Demos to match test coverage\n",
    "\n",
    "The following demo cells exercise adapters and flows that are referenced by tests but not yet shown in the notebook:\n",
    "\n",
    "- `TavilySearchAdapter` (from_raw + raw-preservation + empty-limit)\n",
    "- Supervisor / policy demo (deterministic example, guarded)\n",
    "- Discovery smoke demo (guarded)\n",
    "- End-to-end flow demo (run an agent through a small plan and print the results, guarded)\n",
    "\n",
    "These cells are intentionally defensive (try/except) so the notebook remains runnable across different repo layouts."
   ]
  },
  {
   "cell_type": "code",
   "execution_count": 12,
   "id": "a8af2477",
   "metadata": {},
   "outputs": [
    {
     "data": {
      "text/html": [
       "<pre style=\"white-space:pre;overflow-x:auto;line-height:normal;font-family:Menlo,'DejaVu Sans Mono',consolas,'Courier New',monospace\">Created TavilySearchAdapter via from_raw: \n",
       "<span style=\"font-weight: bold\">&lt;</span><span style=\"color: #ff00ff; text-decoration-color: #ff00ff; font-weight: bold\">research_agent_framework.adapters.search.tavily_search.TavilySearchAdapter</span><span style=\"color: #000000; text-decoration-color: #000000\"> object at </span><span style=\"color: #008080; text-decoration-color: #008080; font-weight: bold\">0x000001AB5A4AB230</span><span style=\"font-weight: bold\">&gt;</span>\n",
       "</pre>\n"
      ],
      "text/plain": [
       "Created TavilySearchAdapter via from_raw: \n",
       "\u001b[1m<\u001b[0m\u001b[1;95mresearch_agent_framework.adapters.search.tavily_search.TavilySearchAdapter\u001b[0m\u001b[39m object at \u001b[0m\u001b[1;36m0x000001AB5A4AB230\u001b[0m\u001b[1m>\u001b[0m\n"
      ]
     },
     "metadata": {},
     "output_type": "display_data"
    },
    {
     "data": {
      "text/html": [
       "<pre style=\"white-space:pre;overflow-x:auto;line-height:normal;font-family:Menlo,'DejaVu Sans Mono',consolas,'Courier New',monospace\">Tavily reply meta provider: tavily-stub\n",
       "</pre>\n"
      ],
      "text/plain": [
       "Tavily reply meta provider: tavily-stub\n"
      ]
     },
     "metadata": {},
     "output_type": "display_data"
    },
    {
     "data": {
      "text/html": [
       "<pre style=\"white-space:pre;overflow-x:auto;line-height:normal;font-family:Menlo,'DejaVu Sans Mono',consolas,'Courier New',monospace\">Tavily first result raw:\n",
       "<span style=\"font-weight: bold\">{</span><span style=\"color: #008000; text-decoration-color: #008000\">'provider'</span>: <span style=\"color: #008000; text-decoration-color: #008000\">'tavily'</span>, <span style=\"color: #008000; text-decoration-color: #008000\">'query'</span>: <span style=\"color: #008000; text-decoration-color: #008000\">'espresso'</span><span style=\"font-weight: bold\">}</span>\n",
       "</pre>\n"
      ],
      "text/plain": [
       "Tavily first result raw:\n",
       "\u001b[1m{\u001b[0m\u001b[32m'provider'\u001b[0m: \u001b[32m'tavily'\u001b[0m, \u001b[32m'query'\u001b[0m: \u001b[32m'espresso'\u001b[0m\u001b[1m}\u001b[0m\n"
      ]
     },
     "metadata": {},
     "output_type": "display_data"
    },
    {
     "data": {
      "text/html": [
       "<pre style=\"white-space:pre;overflow-x:auto;line-height:normal;font-family:Menlo,'DejaVu Sans Mono',consolas,'Courier New',monospace\">Tavily empty results length: <span style=\"color: #008080; text-decoration-color: #008080; font-weight: bold\">0</span>\n",
       "</pre>\n"
      ],
      "text/plain": [
       "Tavily empty results length: \u001b[1;36m0\u001b[0m\n"
      ]
     },
     "metadata": {},
     "output_type": "display_data"
    }
   ],
   "source": [
    "# Tavily adapter demo: from_raw, normal search, empty-limit and malformed-raw preservation\n",
    "try:\n",
    "    from research_agent_framework.adapters.search.tavily_search import TavilySearchAdapter\n",
    "    from research_agent_framework.adapters.search.schema import SerpRequest\n",
    "    from research_agent_framework.config import get_settings\n",
    "    from typing import cast\n",
    "    from rich.console import Console\n",
    "\n",
    "    s = get_settings()\n",
    "    c = cast(Console, s.console)\n",
    "\n",
    "    adapter = TavilySearchAdapter.from_raw({'provider': 'tavily-stub', 'url': 'not-a-url'})\n",
    "    c.print('Created TavilySearchAdapter via from_raw:', adapter)\n",
    "\n",
    "    # Normal search\n",
    "    reply = await adapter.search(SerpRequest(query='espresso', limit=1))\n",
    "    c.print('Tavily reply meta provider:', getattr(reply.meta, 'provider', None))\n",
    "    if getattr(reply, 'results', None):\n",
    "        c.print('Tavily first result raw:', reply.results[0].raw)\n",
    "\n",
    "    # Empty-limit behavior\n",
    "    empty = await adapter.search(SerpRequest(query='x', limit=0))\n",
    "    c.print('Tavily empty results length:', len(getattr(empty, 'results', [])))\n",
    "\n",
    "except Exception as e:\n",
    "    print('Tavily demo: import/run failed or class missing. Error:', e)\n",
    "    print('If the import path differs, adapt the import to the actual adapter module.')\n"
   ]
  },
  {
   "cell_type": "code",
   "execution_count": 13,
   "id": "14a95e4d",
   "metadata": {},
   "outputs": [
    {
     "data": {
      "text/html": [
       "<pre style=\"white-space:pre;overflow-x:auto;line-height:normal;font-family:Menlo,'DejaVu Sans Mono',consolas,'Courier New',monospace\">Supervisor state tools available <span style=\"font-weight: bold\">(</span>deep_research_from_scratch<span style=\"font-weight: bold\">)</span>:\n",
       "<span style=\"color: #800080; text-decoration-color: #800080; font-weight: bold\">StructuredTool</span><span style=\"font-weight: bold\">(</span>\n",
       "    <span style=\"color: #808000; text-decoration-color: #808000\">name</span>=<span style=\"color: #008000; text-decoration-color: #008000\">'ConductResearch'</span>,\n",
       "    <span style=\"color: #808000; text-decoration-color: #808000\">description</span>=<span style=\"color: #008000; text-decoration-color: #008000\">'Tool for delegating a research task to a specialized sub-agent.'</span>,\n",
       "    <span style=\"color: #808000; text-decoration-color: #808000\">args_schema</span>=<span style=\"font-weight: bold\">&lt;</span><span style=\"color: #ff00ff; text-decoration-color: #ff00ff; font-weight: bold\">class</span><span style=\"color: #000000; text-decoration-color: #000000\"> </span><span style=\"color: #008000; text-decoration-color: #008000\">'langchain_core.utils.pydantic.ConductResearch'</span><span style=\"color: #000000; text-decoration-color: #000000\">&gt;,</span>\n",
       "<span style=\"color: #000000; text-decoration-color: #000000\">    </span><span style=\"color: #808000; text-decoration-color: #808000\">func</span><span style=\"color: #000000; text-decoration-color: #000000\">=&lt;class </span><span style=\"color: #008000; text-decoration-color: #008000\">'deep_research_from_scratch.state_multi_agent_supervisor.ConductResearch'</span><span style=\"font-weight: bold\">&gt;</span>\n",
       "<span style=\"font-weight: bold\">)</span>\n",
       "<span style=\"color: #800080; text-decoration-color: #800080; font-weight: bold\">StructuredTool</span><span style=\"font-weight: bold\">(</span>\n",
       "    <span style=\"color: #808000; text-decoration-color: #808000\">name</span>=<span style=\"color: #008000; text-decoration-color: #008000\">'ResearchComplete'</span>,\n",
       "    <span style=\"color: #808000; text-decoration-color: #808000\">description</span>=<span style=\"color: #008000; text-decoration-color: #008000\">'Tool for indicating that the research process is complete.'</span>,\n",
       "    <span style=\"color: #808000; text-decoration-color: #808000\">args_schema</span>=<span style=\"font-weight: bold\">&lt;</span><span style=\"color: #ff00ff; text-decoration-color: #ff00ff; font-weight: bold\">class</span><span style=\"color: #000000; text-decoration-color: #000000\"> </span><span style=\"color: #008000; text-decoration-color: #008000\">'langchain_core.utils.pydantic.ResearchComplete'</span><span style=\"color: #000000; text-decoration-color: #000000\">&gt;,</span>\n",
       "<span style=\"color: #000000; text-decoration-color: #000000\">    </span><span style=\"color: #808000; text-decoration-color: #808000\">func</span><span style=\"color: #000000; text-decoration-color: #000000\">=&lt;class </span><span style=\"color: #008000; text-decoration-color: #008000\">'deep_research_from_scratch.state_multi_agent_supervisor.ResearchComplete'</span><span style=\"font-weight: bold\">&gt;</span>\n",
       "<span style=\"font-weight: bold\">)</span>\n",
       "</pre>\n"
      ],
      "text/plain": [
       "Supervisor state tools available \u001b[1m(\u001b[0mdeep_research_from_scratch\u001b[1m)\u001b[0m:\n",
       "\u001b[1;35mStructuredTool\u001b[0m\u001b[1m(\u001b[0m\n",
       "    \u001b[33mname\u001b[0m=\u001b[32m'ConductResearch'\u001b[0m,\n",
       "    \u001b[33mdescription\u001b[0m=\u001b[32m'Tool for delegating a research task to a specialized sub-agent.'\u001b[0m,\n",
       "    \u001b[33margs_schema\u001b[0m=\u001b[1m<\u001b[0m\u001b[1;95mclass\u001b[0m\u001b[39m \u001b[0m\u001b[32m'langchain_core.utils.pydantic.ConductResearch'\u001b[0m\u001b[39m>,\u001b[0m\n",
       "\u001b[39m    \u001b[0m\u001b[33mfunc\u001b[0m\u001b[39m=<class \u001b[0m\u001b[32m'deep_research_from_scratch.state_multi_agent_supervisor.ConductResearch'\u001b[0m\u001b[1m>\u001b[0m\n",
       "\u001b[1m)\u001b[0m\n",
       "\u001b[1;35mStructuredTool\u001b[0m\u001b[1m(\u001b[0m\n",
       "    \u001b[33mname\u001b[0m=\u001b[32m'ResearchComplete'\u001b[0m,\n",
       "    \u001b[33mdescription\u001b[0m=\u001b[32m'Tool for indicating that the research process is complete.'\u001b[0m,\n",
       "    \u001b[33margs_schema\u001b[0m=\u001b[1m<\u001b[0m\u001b[1;95mclass\u001b[0m\u001b[39m \u001b[0m\u001b[32m'langchain_core.utils.pydantic.ResearchComplete'\u001b[0m\u001b[39m>,\u001b[0m\n",
       "\u001b[39m    \u001b[0m\u001b[33mfunc\u001b[0m\u001b[39m=<class \u001b[0m\u001b[32m'deep_research_from_scratch.state_multi_agent_supervisor.ResearchComplete'\u001b[0m\u001b[1m>\u001b[0m\n",
       "\u001b[1m)\u001b[0m\n"
      ]
     },
     "metadata": {},
     "output_type": "display_data"
    },
    {
     "data": {
      "text/html": [
       "<pre style=\"white-space:pre;overflow-x:auto;line-height:normal;font-family:Menlo,'DejaVu Sans Mono',consolas,'Courier New',monospace\">SupervisorAgent from deep_research_from_scratch.multi_agent_supervisor: <span style=\"font-weight: bold\">&lt;</span><span style=\"color: #ff00ff; text-decoration-color: #ff00ff; font-weight: bold\">langgraph.graph.state.CompiledStateGraph</span><span style=\"color: #000000; text-decoration-color: #000000\"> </span>\n",
       "<span style=\"color: #000000; text-decoration-color: #000000\">object at </span><span style=\"color: #008080; text-decoration-color: #008080; font-weight: bold\">0x000001AB5F12C7D0</span><span style=\"font-weight: bold\">&gt;</span>\n",
       "</pre>\n"
      ],
      "text/plain": [
       "SupervisorAgent from deep_research_from_scratch.multi_agent_supervisor: \u001b[1m<\u001b[0m\u001b[1;95mlanggraph.graph.state.CompiledStateGraph\u001b[0m\u001b[39m \u001b[0m\n",
       "\u001b[39mobject at \u001b[0m\u001b[1;36m0x000001AB5F12C7D0\u001b[0m\u001b[1m>\u001b[0m\n"
      ]
     },
     "metadata": {},
     "output_type": "display_data"
    },
    {
     "data": {
      "text/html": [
       "<pre style=\"white-space:pre;overflow-x:auto;line-height:normal;font-family:Menlo,'DejaVu Sans Mono',consolas,'Courier New',monospace\">Example ConductResearch tool_call dict <span style=\"font-weight: bold\">(</span>use this to exercise supervisor_tools<span style=\"font-weight: bold\">)</span>:\n",
       "<span style=\"font-weight: bold\">{</span><span style=\"color: #008000; text-decoration-color: #008000\">'name'</span>: <span style=\"color: #008000; text-decoration-color: #008000\">'ConductResearch'</span>, <span style=\"color: #008000; text-decoration-color: #008000\">'id'</span>: <span style=\"color: #008000; text-decoration-color: #008000\">'demo-1'</span>, <span style=\"color: #008000; text-decoration-color: #008000\">'args'</span>: <span style=\"font-weight: bold\">{</span><span style=\"color: #008000; text-decoration-color: #008000\">'research_topic'</span>: <span style=\"color: #008000; text-decoration-color: #008000\">'Test coffee shops in SF'</span><span style=\"font-weight: bold\">}}</span>\n",
       "</pre>\n"
      ],
      "text/plain": [
       "Example ConductResearch tool_call dict \u001b[1m(\u001b[0muse this to exercise supervisor_tools\u001b[1m)\u001b[0m:\n",
       "\u001b[1m{\u001b[0m\u001b[32m'name'\u001b[0m: \u001b[32m'ConductResearch'\u001b[0m, \u001b[32m'id'\u001b[0m: \u001b[32m'demo-1'\u001b[0m, \u001b[32m'args'\u001b[0m: \u001b[1m{\u001b[0m\u001b[32m'research_topic'\u001b[0m: \u001b[32m'Test coffee shops in SF'\u001b[0m\u001b[1m}\u001b[0m\u001b[1m}\u001b[0m\n"
      ]
     },
     "metadata": {},
     "output_type": "display_data"
    },
    {
     "data": {
      "text/html": [
       "<pre style=\"white-space:pre;overflow-x:auto;line-height:normal;font-family:Menlo,'DejaVu Sans Mono',consolas,'Courier New',monospace\">Example SupervisorState <span style=\"font-weight: bold\">(</span>dict<span style=\"font-weight: bold\">)</span>:\n",
       "<span style=\"font-weight: bold\">{</span><span style=\"color: #008000; text-decoration-color: #008000\">'supervisor_messages'</span>: <span style=\"font-weight: bold\">[]</span>, <span style=\"color: #008000; text-decoration-color: #008000\">'research_brief'</span>: <span style=\"color: #008000; text-decoration-color: #008000\">'demo brief'</span>, <span style=\"color: #008000; text-decoration-color: #008000\">'research_iterations'</span>: <span style=\"color: #008080; text-decoration-color: #008080; font-weight: bold\">0</span>, <span style=\"color: #008000; text-decoration-color: #008000\">'notes'</span>: <span style=\"font-weight: bold\">[]</span>, <span style=\"color: #008000; text-decoration-color: #008000\">'raw_notes'</span>: <span style=\"font-weight: bold\">[]}</span>\n",
       "</pre>\n"
      ],
      "text/plain": [
       "Example SupervisorState \u001b[1m(\u001b[0mdict\u001b[1m)\u001b[0m:\n",
       "\u001b[1m{\u001b[0m\u001b[32m'supervisor_messages'\u001b[0m: \u001b[1m[\u001b[0m\u001b[1m]\u001b[0m, \u001b[32m'research_brief'\u001b[0m: \u001b[32m'demo brief'\u001b[0m, \u001b[32m'research_iterations'\u001b[0m: \u001b[1;36m0\u001b[0m, \u001b[32m'notes'\u001b[0m: \u001b[1m[\u001b[0m\u001b[1m]\u001b[0m, \u001b[32m'raw_notes'\u001b[0m: \u001b[1m[\u001b[0m\u001b[1m]\u001b[0m\u001b[1m}\u001b[0m\n"
      ]
     },
     "metadata": {},
     "output_type": "display_data"
    },
    {
     "data": {
      "text/html": [
       "<pre style=\"white-space:pre;overflow-x:auto;line-height:normal;font-family:Menlo,'DejaVu Sans Mono',consolas,'Courier New',monospace\">To run the supervisor path, tests call `<span style=\"color: #800080; text-decoration-color: #800080; font-weight: bold\">supervisor_tools</span><span style=\"font-weight: bold\">(</span>state<span style=\"font-weight: bold\">)</span>` with a SupervisorState like the above.\n",
       "</pre>\n"
      ],
      "text/plain": [
       "To run the supervisor path, tests call `\u001b[1;35msupervisor_tools\u001b[0m\u001b[1m(\u001b[0mstate\u001b[1m)\u001b[0m` with a SupervisorState like the above.\n"
      ]
     },
     "metadata": {},
     "output_type": "display_data"
    }
   ],
   "source": [
    "# Supervisor demo (simplified & guarded): prefer deep_research_from_scratch state tools\n",
    "try:\n",
    "    from deep_research_from_scratch.state_multi_agent_supervisor import ConductResearch, ResearchComplete, SupervisorState\n",
    "    from deep_research_from_scratch.multi_agent_supervisor import supervisor_agent as SupervisorAgent\n",
    "    from research_agent_framework.config import get_settings\n",
    "    from rich.console import Console\n",
    "    from typing import cast\n",
    "\n",
    "    s = get_settings()\n",
    "    c = cast(Console, s.console)\n",
    "\n",
    "    c.print('Supervisor state tools available (deep_research_from_scratch):', ConductResearch, ResearchComplete)\n",
    "    c.print('SupervisorAgent from deep_research_from_scratch.multi_agent_supervisor:', SupervisorAgent)\n",
    "\n",
    "    # The `@tool` decorator wraps the BaseModel into a StructuredTool-like object; do not call model_validate on the wrapper.\n",
    "    # Instead, construct a tool-call dictionary that matches the supervisor's expected input shape (see tests).\n",
    "    tool_call = {\"name\": \"ConductResearch\", \"id\": \"demo-1\", \"args\": {\"research_topic\": \"Test coffee shops in SF\"}}\n",
    "    c.print('Example ConductResearch tool_call dict (use this to exercise supervisor_tools):', tool_call)\n",
    "\n",
    "    # Example SupervisorState structure (matches tests):\n",
    "    example_state: SupervisorState = {\n",
    "        \"supervisor_messages\": [],\n",
    "        \"research_brief\": \"demo brief\",\n",
    "        \"research_iterations\": 0,\n",
    "        \"notes\": [],\n",
    "        \"raw_notes\": [],\n",
    "    }\n",
    "    c.print('Example SupervisorState (dict):', example_state)\n",
    "\n",
    "    c.print('To run the supervisor path, tests call `supervisor_tools(state)` with a SupervisorState like the above.')\n",
    "\n",
    "except Exception as e:\n",
    "    print('Supervisor demo (simplified): import or execution failed. Error:', e)\n",
    "    print('This demo prefers deep_research_from_scratch.* modules; adapt if your layout differs.')\n"
   ]
  },
  {
   "cell_type": "code",
   "execution_count": 14,
   "id": "9e9e6637",
   "metadata": {},
   "outputs": [
    {
     "name": "stdout",
     "output_type": "stream",
     "text": [
      "No discover_plugins helper; running rb.bootstrap() as a safe fallback to exercise wiring.\n",
      "rb.bootstrap completed (check logs for details).\n"
     ]
    }
   ],
   "source": [
    "# Discovery smoke demo (guarded). Tests sometimes expect discovery helpers to run without error.\n",
    "try:\n",
    "    import research_agent_framework.bootstrap as rb\n",
    "    discover = getattr(rb, 'discover_plugins', None)\n",
    "    if callable(discover):\n",
    "        print('Running discover_plugins()...')\n",
    "        plugins = discover()\n",
    "        print('discover_plugins returned:', plugins)\n",
    "    else:\n",
    "        print('No discover_plugins helper; running rb.bootstrap() as a safe fallback to exercise wiring.')\n",
    "        rb.bootstrap()\n",
    "        print('rb.bootstrap completed (check logs for details).')\n",
    "\n",
    "except Exception as e:\n",
    "    print('Discovery smoke demo: bootstrap/discovery failed or missing. Error:', e)\n",
    "    print('If tests rely on a specific discovery helper, add a small wrapper function that is safe to call from notebooks.')\n"
   ]
  },
  {
   "cell_type": "code",
   "execution_count": 15,
   "id": "459df606",
   "metadata": {},
   "outputs": [
    {
     "data": {
      "text/html": [
       "<pre style=\"white-space:pre;overflow-x:auto;line-height:normal;font-family:Menlo,'DejaVu Sans Mono',consolas,'Courier New',monospace\">Planning<span style=\"color: #808000; text-decoration-color: #808000\">...</span>\n",
       "</pre>\n"
      ],
      "text/plain": [
       "Planning\u001b[33m...\u001b[0m\n"
      ]
     },
     "metadata": {},
     "output_type": "display_data"
    },
    {
     "data": {
      "text/html": [
       "<pre style=\"white-space:pre;overflow-x:auto;line-height:normal;font-family:Menlo,'DejaVu Sans Mono',consolas,'Courier New',monospace\">Plan:\n",
       "<span style=\"font-weight: bold\">[</span><span style=\"color: #800080; text-decoration-color: #800080; font-weight: bold\">ResearchTask</span><span style=\"font-weight: bold\">(</span><span style=\"color: #808000; text-decoration-color: #808000\">id</span>=<span style=\"color: #008000; text-decoration-color: #008000\">'73d85af6'</span>, <span style=\"color: #808000; text-decoration-color: #808000\">query</span>=<span style=\"color: #008000; text-decoration-color: #008000\">'Coffee Shops: End-to-end demo: find one coffee shop'</span>, <span style=\"color: #808000; text-decoration-color: #808000\">context</span>=<span style=\"font-weight: bold\">{}</span>, <span style=\"color: #808000; text-decoration-color: #808000\">notes</span>=<span style=\"color: #800080; text-decoration-color: #800080; font-style: italic\">None</span><span style=\"font-weight: bold\">)]</span>\n",
       "</pre>\n"
      ],
      "text/plain": [
       "Plan:\n",
       "\u001b[1m[\u001b[0m\u001b[1;35mResearchTask\u001b[0m\u001b[1m(\u001b[0m\u001b[33mid\u001b[0m=\u001b[32m'73d85af6'\u001b[0m, \u001b[33mquery\u001b[0m=\u001b[32m'Coffee Shops: End-to-end demo: find one coffee shop'\u001b[0m, \u001b[33mcontext\u001b[0m=\u001b[1m{\u001b[0m\u001b[1m}\u001b[0m, \u001b[33mnotes\u001b[0m=\u001b[3;35mNone\u001b[0m\u001b[1m)\u001b[0m\u001b[1m]\u001b[0m\n"
      ]
     },
     "metadata": {},
     "output_type": "display_data"
    },
    {
     "data": {
      "text/html": [
       "<pre style=\"white-space:pre;overflow-x:auto;line-height:normal;font-family:Menlo,'DejaVu Sans Mono',consolas,'Courier New',monospace\">Running first planned task <span style=\"font-weight: bold\">(</span>notebooks should guard nested event loops<span style=\"font-weight: bold\">)</span>.\n",
       "</pre>\n"
      ],
      "text/plain": [
       "Running first planned task \u001b[1m(\u001b[0mnotebooks should guard nested event loops\u001b[1m)\u001b[0m.\n"
      ]
     },
     "metadata": {},
     "output_type": "display_data"
    },
    {
     "data": {
      "text/html": [
       "<pre style=\"white-space:pre;overflow-x:auto;line-height:normal;font-family:Menlo,'DejaVu Sans Mono',consolas,'Courier New',monospace\">End-to-end run result:\n",
       "<span style=\"color: #800080; text-decoration-color: #800080; font-weight: bold\">EvalResult</span><span style=\"font-weight: bold\">(</span>\n",
       "    <span style=\"color: #808000; text-decoration-color: #808000\">task_id</span>=<span style=\"color: #008000; text-decoration-color: #008000\">'73d85af6'</span>,\n",
       "    <span style=\"color: #808000; text-decoration-color: #808000\">success</span>=<span style=\"color: #00ff00; text-decoration-color: #00ff00; font-style: italic\">True</span>,\n",
       "    <span style=\"color: #808000; text-decoration-color: #808000\">score</span>=<span style=\"color: #008080; text-decoration-color: #008080; font-weight: bold\">0.7</span>,\n",
       "    <span style=\"color: #808000; text-decoration-color: #808000\">feedback</span>=<span style=\"color: #008000; text-decoration-color: #008000\">'mock response for: Coffee Shops: End-to-end demo: find one coffee shop'</span>,\n",
       "    <span style=\"color: #808000; text-decoration-color: #808000\">details</span>=<span style=\"font-weight: bold\">{}</span>\n",
       "<span style=\"font-weight: bold\">)</span>\n",
       "</pre>\n"
      ],
      "text/plain": [
       "End-to-end run result:\n",
       "\u001b[1;35mEvalResult\u001b[0m\u001b[1m(\u001b[0m\n",
       "    \u001b[33mtask_id\u001b[0m=\u001b[32m'73d85af6'\u001b[0m,\n",
       "    \u001b[33msuccess\u001b[0m=\u001b[3;92mTrue\u001b[0m,\n",
       "    \u001b[33mscore\u001b[0m=\u001b[1;36m0\u001b[0m\u001b[1;36m.7\u001b[0m,\n",
       "    \u001b[33mfeedback\u001b[0m=\u001b[32m'mock response for: Coffee Shops: End-to-end demo: find one coffee shop'\u001b[0m,\n",
       "    \u001b[33mdetails\u001b[0m=\u001b[1m{\u001b[0m\u001b[1m}\u001b[0m\n",
       "\u001b[1m)\u001b[0m\n"
      ]
     },
     "metadata": {},
     "output_type": "display_data"
    }
   ],
   "source": [
    "# End-to-end flow demo (guarded): run a ResearchAgent through a small plan and print results.\n",
    "try:\n",
    "    from research_agent_framework.agents.base import ResearchAgent\n",
    "    from research_agent_framework.llm.client import MockLLM, LLMConfig\n",
    "    from research_agent_framework.adapters.search.mock_search import MockSearchAdapter\n",
    "    from research_agent_framework.models import Scope\n",
    "    from research_agent_framework.config import get_settings\n",
    "    from rich.console import Console\n",
    "    from typing import cast\n",
    "\n",
    "    s = get_settings()\n",
    "    c = cast(Console, s.console)\n",
    "    agent = ResearchAgent(llm_client=MockLLM(LLMConfig(api_key='demo', model='demo')), search_adapter=MockSearchAdapter())\n",
    "    scope = Scope(topic='Coffee Shops', description='End-to-end demo: find one coffee shop', constraints=[])\n",
    "    c.print('Planning...')\n",
    "    plan = agent.plan(scope)\n",
    "    c.print('Plan:', plan)\n",
    "\n",
    "    if plan:\n",
    "        c.print('Running first planned task (notebooks should guard nested event loops).')\n",
    "        try:\n",
    "            # run in a notebook-friendly way\n",
    "            if (get_ip := globals().get('get_ipython')) and get_ip() is not None:\n",
    "                import nest_asyncio; nest_asyncio.apply()\n",
    "                res = await agent.run(plan[0])\n",
    "            else:\n",
    "                import asyncio\n",
    "                res = asyncio.run(agent.run(plan[0]))\n",
    "            c.print('End-to-end run result:', res)\n",
    "        except Exception as run_e:\n",
    "            c.print('agent.run failed in demo; adapt call to your ResearchAgent API. Error:', run_e)\n",
    "    else:\n",
    "        c.print('Plan was empty; check ResearchAgent.plan behavior.')\n",
    "\n",
    "except Exception as e:\n",
    "    print('End-to-end demo: import/run failed. Error:', e)\n",
    "    print('Adapt the import paths or function calls to match your repo layout.')\n"
   ]
  },
  {
   "cell_type": "code",
   "execution_count": 16,
   "id": "89dc8b1b",
   "metadata": {},
   "outputs": [
    {
     "data": {
      "text/html": [
       "<pre style=\"white-space:pre;overflow-x:auto;line-height:normal;font-family:Menlo,'DejaVu Sans Mono',consolas,'Courier New',monospace\">Supervisor state tools available:\n",
       "<span style=\"color: #800080; text-decoration-color: #800080; font-weight: bold\">StructuredTool</span><span style=\"font-weight: bold\">(</span>\n",
       "    <span style=\"color: #808000; text-decoration-color: #808000\">name</span>=<span style=\"color: #008000; text-decoration-color: #008000\">'ConductResearch'</span>,\n",
       "    <span style=\"color: #808000; text-decoration-color: #808000\">description</span>=<span style=\"color: #008000; text-decoration-color: #008000\">'Tool for delegating a research task to a specialized sub-agent.'</span>,\n",
       "    <span style=\"color: #808000; text-decoration-color: #808000\">args_schema</span>=<span style=\"font-weight: bold\">&lt;</span><span style=\"color: #ff00ff; text-decoration-color: #ff00ff; font-weight: bold\">class</span><span style=\"color: #000000; text-decoration-color: #000000\"> </span><span style=\"color: #008000; text-decoration-color: #008000\">'langchain_core.utils.pydantic.ConductResearch'</span><span style=\"color: #000000; text-decoration-color: #000000\">&gt;,</span>\n",
       "<span style=\"color: #000000; text-decoration-color: #000000\">    </span><span style=\"color: #808000; text-decoration-color: #808000\">func</span><span style=\"color: #000000; text-decoration-color: #000000\">=&lt;class </span><span style=\"color: #008000; text-decoration-color: #008000\">'deep_research_from_scratch.state_multi_agent_supervisor.ConductResearch'</span><span style=\"font-weight: bold\">&gt;</span>\n",
       "<span style=\"font-weight: bold\">)</span>\n",
       "<span style=\"color: #800080; text-decoration-color: #800080; font-weight: bold\">StructuredTool</span><span style=\"font-weight: bold\">(</span>\n",
       "    <span style=\"color: #808000; text-decoration-color: #808000\">name</span>=<span style=\"color: #008000; text-decoration-color: #008000\">'ResearchComplete'</span>,\n",
       "    <span style=\"color: #808000; text-decoration-color: #808000\">description</span>=<span style=\"color: #008000; text-decoration-color: #008000\">'Tool for indicating that the research process is complete.'</span>,\n",
       "    <span style=\"color: #808000; text-decoration-color: #808000\">args_schema</span>=<span style=\"font-weight: bold\">&lt;</span><span style=\"color: #ff00ff; text-decoration-color: #ff00ff; font-weight: bold\">class</span><span style=\"color: #000000; text-decoration-color: #000000\"> </span><span style=\"color: #008000; text-decoration-color: #008000\">'langchain_core.utils.pydantic.ResearchComplete'</span><span style=\"color: #000000; text-decoration-color: #000000\">&gt;,</span>\n",
       "<span style=\"color: #000000; text-decoration-color: #000000\">    </span><span style=\"color: #808000; text-decoration-color: #808000\">func</span><span style=\"color: #000000; text-decoration-color: #000000\">=&lt;class </span><span style=\"color: #008000; text-decoration-color: #008000\">'deep_research_from_scratch.state_multi_agent_supervisor.ResearchComplete'</span><span style=\"font-weight: bold\">&gt;</span>\n",
       "<span style=\"font-weight: bold\">)</span>\n",
       "</pre>\n"
      ],
      "text/plain": [
       "Supervisor state tools available:\n",
       "\u001b[1;35mStructuredTool\u001b[0m\u001b[1m(\u001b[0m\n",
       "    \u001b[33mname\u001b[0m=\u001b[32m'ConductResearch'\u001b[0m,\n",
       "    \u001b[33mdescription\u001b[0m=\u001b[32m'Tool for delegating a research task to a specialized sub-agent.'\u001b[0m,\n",
       "    \u001b[33margs_schema\u001b[0m=\u001b[1m<\u001b[0m\u001b[1;95mclass\u001b[0m\u001b[39m \u001b[0m\u001b[32m'langchain_core.utils.pydantic.ConductResearch'\u001b[0m\u001b[39m>,\u001b[0m\n",
       "\u001b[39m    \u001b[0m\u001b[33mfunc\u001b[0m\u001b[39m=<class \u001b[0m\u001b[32m'deep_research_from_scratch.state_multi_agent_supervisor.ConductResearch'\u001b[0m\u001b[1m>\u001b[0m\n",
       "\u001b[1m)\u001b[0m\n",
       "\u001b[1;35mStructuredTool\u001b[0m\u001b[1m(\u001b[0m\n",
       "    \u001b[33mname\u001b[0m=\u001b[32m'ResearchComplete'\u001b[0m,\n",
       "    \u001b[33mdescription\u001b[0m=\u001b[32m'Tool for indicating that the research process is complete.'\u001b[0m,\n",
       "    \u001b[33margs_schema\u001b[0m=\u001b[1m<\u001b[0m\u001b[1;95mclass\u001b[0m\u001b[39m \u001b[0m\u001b[32m'langchain_core.utils.pydantic.ResearchComplete'\u001b[0m\u001b[39m>,\u001b[0m\n",
       "\u001b[39m    \u001b[0m\u001b[33mfunc\u001b[0m\u001b[39m=<class \u001b[0m\u001b[32m'deep_research_from_scratch.state_multi_agent_supervisor.ResearchComplete'\u001b[0m\u001b[1m>\u001b[0m\n",
       "\u001b[1m)\u001b[0m\n"
      ]
     },
     "metadata": {},
     "output_type": "display_data"
    },
    {
     "data": {
      "text/html": [
       "<pre style=\"white-space:pre;overflow-x:auto;line-height:normal;font-family:Menlo,'DejaVu Sans Mono',consolas,'Courier New',monospace\">supervisor_tools is importable from deep_research_from_scratch.multi_agent_supervisor\n",
       "</pre>\n"
      ],
      "text/plain": [
       "supervisor_tools is importable from deep_research_from_scratch.multi_agent_supervisor\n"
      ]
     },
     "metadata": {},
     "output_type": "display_data"
    },
    {
     "data": {
      "text/html": [
       "<pre style=\"white-space:pre;overflow-x:auto;line-height:normal;font-family:Menlo,'DejaVu Sans Mono',consolas,'Courier New',monospace\">Example ConductResearch tool_call dict to feed into supervisor_tools:\n",
       "<span style=\"font-weight: bold\">{</span><span style=\"color: #008000; text-decoration-color: #008000\">'name'</span>: <span style=\"color: #008000; text-decoration-color: #008000\">'ConductResearch'</span>, <span style=\"color: #008000; text-decoration-color: #008000\">'id'</span>: <span style=\"color: #008000; text-decoration-color: #008000\">'demo-1'</span>, <span style=\"color: #008000; text-decoration-color: #008000\">'args'</span>: <span style=\"font-weight: bold\">{</span><span style=\"color: #008000; text-decoration-color: #008000\">'research_topic'</span>: <span style=\"color: #008000; text-decoration-color: #008000\">'Test coffee shops in SF'</span><span style=\"font-weight: bold\">}}</span>\n",
       "</pre>\n"
      ],
      "text/plain": [
       "Example ConductResearch tool_call dict to feed into supervisor_tools:\n",
       "\u001b[1m{\u001b[0m\u001b[32m'name'\u001b[0m: \u001b[32m'ConductResearch'\u001b[0m, \u001b[32m'id'\u001b[0m: \u001b[32m'demo-1'\u001b[0m, \u001b[32m'args'\u001b[0m: \u001b[1m{\u001b[0m\u001b[32m'research_topic'\u001b[0m: \u001b[32m'Test coffee shops in SF'\u001b[0m\u001b[1m}\u001b[0m\u001b[1m}\u001b[0m\n"
      ]
     },
     "metadata": {},
     "output_type": "display_data"
    },
    {
     "data": {
      "text/html": [
       "<pre style=\"white-space:pre;overflow-x:auto;line-height:normal;font-family:Menlo,'DejaVu Sans Mono',consolas,'Courier New',monospace\">Example SupervisorState <span style=\"font-weight: bold\">(</span>dict<span style=\"font-weight: bold\">)</span>:\n",
       "<span style=\"font-weight: bold\">{</span><span style=\"color: #008000; text-decoration-color: #008000\">'supervisor_messages'</span>: <span style=\"font-weight: bold\">[]</span>, <span style=\"color: #008000; text-decoration-color: #008000\">'research_brief'</span>: <span style=\"color: #008000; text-decoration-color: #008000\">'demo brief'</span>, <span style=\"color: #008000; text-decoration-color: #008000\">'research_iterations'</span>: <span style=\"color: #008080; text-decoration-color: #008080; font-weight: bold\">0</span>, <span style=\"color: #008000; text-decoration-color: #008000\">'notes'</span>: <span style=\"font-weight: bold\">[]</span>, <span style=\"color: #008000; text-decoration-color: #008000\">'raw_notes'</span>: <span style=\"font-weight: bold\">[]}</span>\n",
       "</pre>\n"
      ],
      "text/plain": [
       "Example SupervisorState \u001b[1m(\u001b[0mdict\u001b[1m)\u001b[0m:\n",
       "\u001b[1m{\u001b[0m\u001b[32m'supervisor_messages'\u001b[0m: \u001b[1m[\u001b[0m\u001b[1m]\u001b[0m, \u001b[32m'research_brief'\u001b[0m: \u001b[32m'demo brief'\u001b[0m, \u001b[32m'research_iterations'\u001b[0m: \u001b[1;36m0\u001b[0m, \u001b[32m'notes'\u001b[0m: \u001b[1m[\u001b[0m\u001b[1m]\u001b[0m, \u001b[32m'raw_notes'\u001b[0m: \u001b[1m[\u001b[0m\u001b[1m]\u001b[0m\u001b[1m}\u001b[0m\n"
      ]
     },
     "metadata": {},
     "output_type": "display_data"
    },
    {
     "data": {
      "text/html": [
       "<pre style=\"white-space:pre;overflow-x:auto;line-height:normal;font-family:Menlo,'DejaVu Sans Mono',consolas,'Courier New',monospace\">You may call: await <span style=\"color: #800080; text-decoration-color: #800080; font-weight: bold\">supervisor_tools</span><span style=\"font-weight: bold\">(</span>example_state<span style=\"font-weight: bold\">)</span> to exercise the supervisor flow <span style=\"font-weight: bold\">(</span>guarded<span style=\"font-weight: bold\">)</span>.\n",
       "</pre>\n"
      ],
      "text/plain": [
       "You may call: await \u001b[1;35msupervisor_tools\u001b[0m\u001b[1m(\u001b[0mexample_state\u001b[1m)\u001b[0m to exercise the supervisor flow \u001b[1m(\u001b[0mguarded\u001b[1m)\u001b[0m.\n"
      ]
     },
     "metadata": {},
     "output_type": "display_data"
    }
   ],
   "source": [
    "# Corrected Supervisor demo (uses deep_research_from_scratch.* module path which exists in this repo)\n",
    "try:\n",
    "    # Prefer the actual package used by tests and source files\n",
    "    from deep_research_from_scratch.state_multi_agent_supervisor import ConductResearch, ResearchComplete, SupervisorState\n",
    "    # Some supervisor logic lives in deep_research_from_scratch.multi_agent_supervisor; import if available\n",
    "    try:\n",
    "        from deep_research_from_scratch.multi_agent_supervisor import supervisor_tools\n",
    "        supervisor_available = True\n",
    "    except Exception:\n",
    "        supervisor_tools = None\n",
    "        supervisor_available = False\n",
    "\n",
    "    from research_agent_framework.config import get_settings\n",
    "    from rich.console import Console\n",
    "    from typing import cast\n",
    "\n",
    "    s = get_settings()\n",
    "    c = cast(Console, s.console)\n",
    "\n",
    "    c.print('Supervisor state tools available:', ConductResearch, ResearchComplete)\n",
    "    if supervisor_available:\n",
    "        c.print('supervisor_tools is importable from deep_research_from_scratch.multi_agent_supervisor')\n",
    "    else:\n",
    "        c.print('No supervisor_tools found at deep_research_from_scratch.multi_agent_supervisor; only state tools are available to demo.')\n",
    "\n",
    "    # Construct an example tool_call dict rather than attempting to construct the wrapped tool object directly\n",
    "    tool_call = {\"name\": \"ConductResearch\", \"id\": \"demo-1\", \"args\": {\"research_topic\": \"Test coffee shops in SF\"}}\n",
    "    c.print('Example ConductResearch tool_call dict to feed into supervisor_tools:', tool_call)\n",
    "\n",
    "    # Demonstrate constructing a SupervisorState-like structure matching tests (use dict form)\n",
    "    example_state: SupervisorState = {\n",
    "        \"supervisor_messages\": [],\n",
    "        \"research_brief\": \"demo brief\",\n",
    "        \"research_iterations\": 0,\n",
    "        \"notes\": [],\n",
    "        \"raw_notes\": [],\n",
    "    }\n",
    "    c.print('Example SupervisorState (dict):', example_state)\n",
    "\n",
    "    if supervisor_available:\n",
    "        c.print('You may call: await supervisor_tools(example_state) to exercise the supervisor flow (guarded).')\n",
    "\n",
    "except Exception as e:\n",
    "    print('Corrected Supervisor demo: import or execution failed. Error:', e)\n",
    "    print('This demo targets the `deep_research_from_scratch` package where supervisor state is defined in this repo.')\n"
   ]
  },
  {
   "cell_type": "markdown",
   "id": "b86ea73d",
   "metadata": {},
   "source": [
    "## Adapter & SerpResult.from_raw demos\n",
    "\n",
    "This section demonstrates the behavior covered by the test suite:\n",
    "\n",
    "- `SerpResult.from_raw` normalization and raw-preservation (happy path).\n",
    "- `SerpResult.from_raw` rejects non-dict raw payloads.\n",
    "- `MockSearchAdapter` behavior for empty query (back-compat) and `SerpRequest(limit=0)` returning an empty `SerpReply`.\n"
   ]
  },
  {
   "cell_type": "code",
   "execution_count": 17,
   "id": "aee44ddc",
   "metadata": {},
   "outputs": [
    {
     "data": {
      "text/html": [
       "<pre style=\"white-space:pre;overflow-x:auto;line-height:normal;font-family:Menlo,'DejaVu Sans Mono',consolas,'Courier New',monospace\">SerpResult.from_raw created:\n",
       "<span style=\"font-weight: bold\">{</span>\n",
       "    <span style=\"color: #008000; text-decoration-color: #008000\">'title'</span>: <span style=\"color: #008000; text-decoration-color: #008000\">'Demo Cafe'</span>,\n",
       "    <span style=\"color: #008000; text-decoration-color: #008000\">'url'</span>: <span style=\"color: #800080; text-decoration-color: #800080; font-weight: bold\">HttpUrl</span><span style=\"font-weight: bold\">(</span><span style=\"color: #008000; text-decoration-color: #008000\">'https://example.com/demo'</span><span style=\"font-weight: bold\">)</span>,\n",
       "    <span style=\"color: #008000; text-decoration-color: #008000\">'snippet'</span>: <span style=\"color: #008000; text-decoration-color: #008000\">'Demo snippet'</span>,\n",
       "    <span style=\"color: #008000; text-decoration-color: #008000\">'raw'</span>: <span style=\"font-weight: bold\">{</span>\n",
       "        <span style=\"color: #008000; text-decoration-color: #008000\">'title'</span>: <span style=\"color: #008000; text-decoration-color: #008000\">'Demo Cafe'</span>,\n",
       "        <span style=\"color: #008000; text-decoration-color: #008000\">'url'</span>: <span style=\"color: #008000; text-decoration-color: #008000\">'https://example.com/demo'</span>,\n",
       "        <span style=\"color: #008000; text-decoration-color: #008000\">'snippet'</span>: <span style=\"color: #008000; text-decoration-color: #008000\">'Demo snippet'</span>,\n",
       "        <span style=\"color: #008000; text-decoration-color: #008000\">'provider'</span>: <span style=\"color: #008000; text-decoration-color: #008000\">'mock'</span>,\n",
       "        <span style=\"color: #008000; text-decoration-color: #008000\">'id'</span>: <span style=\"color: #008080; text-decoration-color: #008080; font-weight: bold\">100</span>\n",
       "    <span style=\"font-weight: bold\">}</span>,\n",
       "    <span style=\"color: #008000; text-decoration-color: #008000\">'location'</span>: <span style=\"color: #800080; text-decoration-color: #800080; font-style: italic\">None</span>,\n",
       "    <span style=\"color: #008000; text-decoration-color: #008000\">'rating'</span>: <span style=\"color: #800080; text-decoration-color: #800080; font-style: italic\">None</span>,\n",
       "    <span style=\"color: #008000; text-decoration-color: #008000\">'price_level'</span>: <span style=\"color: #800080; text-decoration-color: #800080; font-style: italic\">None</span>,\n",
       "    <span style=\"color: #008000; text-decoration-color: #008000\">'categories'</span>: <span style=\"font-weight: bold\">[]</span>,\n",
       "    <span style=\"color: #008000; text-decoration-color: #008000\">'provider_meta'</span>: <span style=\"font-weight: bold\">{</span>\n",
       "        <span style=\"color: #008000; text-decoration-color: #008000\">'provider'</span>: <span style=\"color: #008000; text-decoration-color: #008000\">'mock'</span>,\n",
       "        <span style=\"color: #008000; text-decoration-color: #008000\">'id'</span>: <span style=\"color: #008080; text-decoration-color: #008080; font-weight: bold\">100</span>,\n",
       "        <span style=\"color: #008000; text-decoration-color: #008000\">'raw'</span>: <span style=\"font-weight: bold\">{</span>\n",
       "            <span style=\"color: #008000; text-decoration-color: #008000\">'title'</span>: <span style=\"color: #008000; text-decoration-color: #008000\">'Demo Cafe'</span>,\n",
       "            <span style=\"color: #008000; text-decoration-color: #008000\">'url'</span>: <span style=\"color: #008000; text-decoration-color: #008000\">'https://example.com/demo'</span>,\n",
       "            <span style=\"color: #008000; text-decoration-color: #008000\">'snippet'</span>: <span style=\"color: #008000; text-decoration-color: #008000\">'Demo snippet'</span>,\n",
       "            <span style=\"color: #008000; text-decoration-color: #008000\">'provider'</span>: <span style=\"color: #008000; text-decoration-color: #008000\">'mock'</span>,\n",
       "            <span style=\"color: #008000; text-decoration-color: #008000\">'id'</span>: <span style=\"color: #008080; text-decoration-color: #008080; font-weight: bold\">100</span>\n",
       "        <span style=\"font-weight: bold\">}</span>\n",
       "    <span style=\"font-weight: bold\">}</span>\n",
       "<span style=\"font-weight: bold\">}</span>\n",
       "</pre>\n"
      ],
      "text/plain": [
       "SerpResult.from_raw created:\n",
       "\u001b[1m{\u001b[0m\n",
       "    \u001b[32m'title'\u001b[0m: \u001b[32m'Demo Cafe'\u001b[0m,\n",
       "    \u001b[32m'url'\u001b[0m: \u001b[1;35mHttpUrl\u001b[0m\u001b[1m(\u001b[0m\u001b[32m'https://example.com/demo'\u001b[0m\u001b[1m)\u001b[0m,\n",
       "    \u001b[32m'snippet'\u001b[0m: \u001b[32m'Demo snippet'\u001b[0m,\n",
       "    \u001b[32m'raw'\u001b[0m: \u001b[1m{\u001b[0m\n",
       "        \u001b[32m'title'\u001b[0m: \u001b[32m'Demo Cafe'\u001b[0m,\n",
       "        \u001b[32m'url'\u001b[0m: \u001b[32m'https://example.com/demo'\u001b[0m,\n",
       "        \u001b[32m'snippet'\u001b[0m: \u001b[32m'Demo snippet'\u001b[0m,\n",
       "        \u001b[32m'provider'\u001b[0m: \u001b[32m'mock'\u001b[0m,\n",
       "        \u001b[32m'id'\u001b[0m: \u001b[1;36m100\u001b[0m\n",
       "    \u001b[1m}\u001b[0m,\n",
       "    \u001b[32m'location'\u001b[0m: \u001b[3;35mNone\u001b[0m,\n",
       "    \u001b[32m'rating'\u001b[0m: \u001b[3;35mNone\u001b[0m,\n",
       "    \u001b[32m'price_level'\u001b[0m: \u001b[3;35mNone\u001b[0m,\n",
       "    \u001b[32m'categories'\u001b[0m: \u001b[1m[\u001b[0m\u001b[1m]\u001b[0m,\n",
       "    \u001b[32m'provider_meta'\u001b[0m: \u001b[1m{\u001b[0m\n",
       "        \u001b[32m'provider'\u001b[0m: \u001b[32m'mock'\u001b[0m,\n",
       "        \u001b[32m'id'\u001b[0m: \u001b[1;36m100\u001b[0m,\n",
       "        \u001b[32m'raw'\u001b[0m: \u001b[1m{\u001b[0m\n",
       "            \u001b[32m'title'\u001b[0m: \u001b[32m'Demo Cafe'\u001b[0m,\n",
       "            \u001b[32m'url'\u001b[0m: \u001b[32m'https://example.com/demo'\u001b[0m,\n",
       "            \u001b[32m'snippet'\u001b[0m: \u001b[32m'Demo snippet'\u001b[0m,\n",
       "            \u001b[32m'provider'\u001b[0m: \u001b[32m'mock'\u001b[0m,\n",
       "            \u001b[32m'id'\u001b[0m: \u001b[1;36m100\u001b[0m\n",
       "        \u001b[1m}\u001b[0m\n",
       "    \u001b[1m}\u001b[0m\n",
       "\u001b[1m}\u001b[0m\n"
      ]
     },
     "metadata": {},
     "output_type": "display_data"
    },
    {
     "data": {
      "text/html": [
       "<pre style=\"white-space:pre;overflow-x:auto;line-height:normal;font-family:Menlo,'DejaVu Sans Mono',consolas,'Courier New',monospace\"><span style=\"color: #800080; text-decoration-color: #800080; font-weight: bold\">SerpResult.from_raw</span><span style=\"font-weight: bold\">(</span>non-dict<span style=\"font-weight: bold\">)</span> raised: TypeError raw payload must be a dict\n",
       "</pre>\n"
      ],
      "text/plain": [
       "\u001b[1;35mSerpResult.from_raw\u001b[0m\u001b[1m(\u001b[0mnon-dict\u001b[1m)\u001b[0m raised: TypeError raw payload must be a dict\n"
      ]
     },
     "metadata": {},
     "output_type": "display_data"
    },
    {
     "data": {
      "text/html": [
       "<pre style=\"white-space:pre;overflow-x:auto;line-height:normal;font-family:Menlo,'DejaVu Sans Mono',consolas,'Courier New',monospace\"><span style=\"color: #800080; text-decoration-color: #800080; font-weight: bold\">MockSearchAdapter.search</span><span style=\"font-weight: bold\">(</span><span style=\"color: #008000; text-decoration-color: #008000\">''</span><span style=\"font-weight: bold\">)</span> returned type: <span style=\"font-weight: bold\">&lt;</span><span style=\"color: #ff00ff; text-decoration-color: #ff00ff; font-weight: bold\">class</span><span style=\"color: #000000; text-decoration-color: #000000\"> </span><span style=\"color: #008000; text-decoration-color: #008000\">'list'</span><span style=\"font-weight: bold\">&gt;</span>\n",
       "</pre>\n"
      ],
      "text/plain": [
       "\u001b[1;35mMockSearchAdapter.search\u001b[0m\u001b[1m(\u001b[0m\u001b[32m''\u001b[0m\u001b[1m)\u001b[0m returned type: \u001b[1m<\u001b[0m\u001b[1;95mclass\u001b[0m\u001b[39m \u001b[0m\u001b[32m'list'\u001b[0m\u001b[1m>\u001b[0m\n"
      ]
     },
     "metadata": {},
     "output_type": "display_data"
    },
    {
     "data": {
      "text/html": [
       "<pre style=\"white-space:pre;overflow-x:auto;line-height:normal;font-family:Menlo,'DejaVu Sans Mono',consolas,'Courier New',monospace\">Empty-list back-compat result length: <span style=\"color: #008080; text-decoration-color: #008080; font-weight: bold\">0</span>\n",
       "</pre>\n"
      ],
      "text/plain": [
       "Empty-list back-compat result length: \u001b[1;36m0\u001b[0m\n"
      ]
     },
     "metadata": {},
     "output_type": "display_data"
    },
    {
     "data": {
      "text/html": [
       "<pre style=\"white-space:pre;overflow-x:auto;line-height:normal;font-family:Menlo,'DejaVu Sans Mono',consolas,'Courier New',monospace\"><span style=\"color: #800080; text-decoration-color: #800080; font-weight: bold\">SerpRequest</span><span style=\"font-weight: bold\">(</span><span style=\"color: #808000; text-decoration-color: #808000\">limit</span>=<span style=\"color: #008080; text-decoration-color: #008080; font-weight: bold\">0</span><span style=\"font-weight: bold\">)</span> reply.meta.provider: mock\n",
       "</pre>\n"
      ],
      "text/plain": [
       "\u001b[1;35mSerpRequest\u001b[0m\u001b[1m(\u001b[0m\u001b[33mlimit\u001b[0m=\u001b[1;36m0\u001b[0m\u001b[1m)\u001b[0m reply.meta.provider: mock\n"
      ]
     },
     "metadata": {},
     "output_type": "display_data"
    },
    {
     "data": {
      "text/html": [
       "<pre style=\"white-space:pre;overflow-x:auto;line-height:normal;font-family:Menlo,'DejaVu Sans Mono',consolas,'Courier New',monospace\"><span style=\"color: #800080; text-decoration-color: #800080; font-weight: bold\">SerpRequest</span><span style=\"font-weight: bold\">(</span><span style=\"color: #808000; text-decoration-color: #808000\">limit</span>=<span style=\"color: #008080; text-decoration-color: #008080; font-weight: bold\">0</span><span style=\"font-weight: bold\">)</span> results length: <span style=\"color: #008080; text-decoration-color: #008080; font-weight: bold\">0</span>\n",
       "</pre>\n"
      ],
      "text/plain": [
       "\u001b[1;35mSerpRequest\u001b[0m\u001b[1m(\u001b[0m\u001b[33mlimit\u001b[0m=\u001b[1;36m0\u001b[0m\u001b[1m)\u001b[0m results length: \u001b[1;36m0\u001b[0m\n"
      ]
     },
     "metadata": {},
     "output_type": "display_data"
    }
   ],
   "source": [
    "# Demo: SerpResult.from_raw happy path and error behavior\n",
    "from research_agent_framework.models import SerpResult\n",
    "from research_agent_framework.adapters.search.mock_search import MockSearchAdapter\n",
    "from research_agent_framework.adapters.search.schema import SerpRequest, SerpReply\n",
    "from pydantic import TypeAdapter, HttpUrl\n",
    "from rich.console import Console\n",
    "from research_agent_framework.config import get_settings\n",
    "from typing import cast\n",
    "s = get_settings()\n",
    "c = cast(Console, s.console)\n",
    "\n",
    "# Happy path: normalize common keys and preserve raw\n",
    "raw = {'title': 'Demo Cafe', 'url': 'https://example.com/demo', 'snippet': 'Demo snippet', 'provider': 'mock', 'id': 100}\n",
    "r = SerpResult.from_raw(raw)\n",
    "c.print('SerpResult.from_raw created:', r.model_dump())\n",
    "\n",
    "# Error path: passing non-dict should raise (demonstrated here; notebooks will show the exception)\n",
    "try:\n",
    "    # use cast to bypass static type warning in notebook analysis tools\n",
    "    bad = cast(dict, 'not-a-dict')\n",
    "    SerpResult.from_raw(bad)  # raises TypeError at runtime\n",
    "except Exception as e:\n",
    "    c.print('SerpResult.from_raw(non-dict) raised:', type(e).__name__, str(e))\n",
    "\n",
    "# Adapter demos: empty query back-compat and SerpRequest(limit=0)\n",
    "searcher = MockSearchAdapter()\n",
    "# Back-compat empty string -> should return empty list or SerpReply with empty results\n",
    "res = await searcher.search('')\n",
    "c.print('MockSearchAdapter.search(\\'\\') returned type:', type(res))\n",
    "if isinstance(res, list):\n",
    "    c.print('Empty-list back-compat result length:', len(res))\n",
    "else:\n",
    "    # Normalize SerpReply or objects exposing .results\n",
    "    items = getattr(res, 'results', res)\n",
    "    items_list = list(items)\n",
    "    c.print('Empty SerpReply meta provider:', getattr(getattr(res, 'meta', None), 'provider', None))\n",
    "    c.print('Empty SerpReply results length:', len(items_list))\n",
    "\n",
    "# SerpRequest(limit=0) -> SerpReply with empty results\n",
    "reply = await searcher.search(SerpRequest(query='x', limit=0))\n",
    "if isinstance(reply, SerpReply):\n",
    "    c.print('SerpRequest(limit=0) reply.meta.provider:', getattr(reply.meta, 'provider', None))\n",
    "    c.print('SerpRequest(limit=0) results length:', len(list(reply.results)))\n",
    "else:\n",
    "    items = getattr(reply, 'results', reply)\n",
    "    c.print('SerpRequest(limit=0) results length (fallback):', len(list(items)))\n"
   ]
  }
 ],
 "metadata": {
  "kernelspec": {
   "display_name": ".venv (3.13.7)",
   "language": "python",
   "name": "python3"
  },
  "language_info": {
   "codemirror_mode": {
    "name": "ipython",
    "version": 3
   },
   "file_extension": ".py",
   "mimetype": "text/x-python",
   "name": "python",
   "nbconvert_exporter": "python",
   "pygments_lexer": "ipython3",
   "version": "3.13.7"
  }
 },
 "nbformat": 4,
 "nbformat_minor": 5
}
