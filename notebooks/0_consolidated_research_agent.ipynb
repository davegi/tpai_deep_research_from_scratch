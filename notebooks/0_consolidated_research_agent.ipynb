{
 "cells": [
  {
   "cell_type": "markdown",
   "id": "da2d40ca",
   "metadata": {},
   "source": [
    "---\n",
    "\n",
    "## Next Steps\n",
    "\n",
    "The following cells will be filled in as each framework feature is implemented:\n",
    "\n",
    "- Models demonstration  \n",
    "- Prompt renderer example  \n",
    "- Agent planning  \n",
    "- Agent run (with MockLLM)  \n",
    "- EvalResults display\n",
    "\n",
    "Each cell will be marked with a comment like `# TASK-3: renderer example` for traceability.\n"
   ]
  },
  {
   "cell_type": "code",
   "execution_count": 16,
   "id": "da8d2f08",
   "metadata": {},
   "outputs": [],
   "source": [
    "# TASK-7.1: Import core framework classes (deferred until implemented)\n",
    "# from research_agent_framework.agents.base import ResearchAgent\n",
    "# from research_agent_framework.llm.client import MockLLM\n",
    "# from research_agent_framework.adapters.search import MockSearchAdapter\n"
   ]
  },
  {
   "cell_type": "code",
   "execution_count": 17,
   "id": "0e0c3e09",
   "metadata": {},
   "outputs": [],
   "source": [
    "# TASK-7.1: Bootstrap environment\n",
    "# from research_agent_framework.bootstrap import bootstrap\n",
    "# bootstrap()\n"
   ]
  },
  {
   "cell_type": "code",
   "execution_count": 18,
   "id": "b19d1b0c",
   "metadata": {},
   "outputs": [],
   "source": [
    "# TASK-7.1: sys.path fix for local imports\n",
    "import sys\n",
    "sys.path.append('../src')  # Adjust path as needed for local package imports\n"
   ]
  },
  {
   "cell_type": "markdown",
   "id": "e99578f6",
   "metadata": {},
   "source": [
    "# Consolidated Research Agent Demo\n",
    "\n",
    "This notebook demonstrates the use of the `research_agent_framework` package. Each section will be updated as new features are implemented.\n",
    "\n",
    "---\n"
   ]
  },
  {
   "cell_type": "markdown",
   "id": "0d32cd41",
   "metadata": {},
   "source": [
    "# Consolidated Research Agent Demo Notebook\n",
    "\n",
    "This notebook demonstrates the use of the `research_agent_framework` package and its components. Each section is marked for traceability to the corresponding PRD task.\n",
    "\n",
    "---\n"
   ]
  },
  {
   "cell_type": "code",
   "execution_count": 19,
   "id": "7efd52e2",
   "metadata": {},
   "outputs": [],
   "source": [
    "# TASK-7.1: sys.path fix for local imports\n",
    "import sys\n",
    "from pathlib import Path\n",
    "sys.path.insert(0, str(Path('..').resolve() / 'src'))\n"
   ]
  },
  {
   "cell_type": "code",
   "execution_count": 21,
   "id": "0ca0d9a4",
   "metadata": {},
   "outputs": [],
   "source": [
    "# TASK-7.1: Bootstrap environment\n",
    "from research_agent_framework.bootstrap import bootstrap\n",
    "bootstrap()\n"
   ]
  },
  {
   "cell_type": "code",
   "execution_count": 20,
   "id": "b916ee33",
   "metadata": {},
   "outputs": [
    {
     "name": "stdout",
     "output_type": "stream",
     "text": [
      "topic='Coffee Shops' description='Find coffee shops in SF' constraints=['no paid sources']\n",
      "id='t-001' query='best coffee in soma' context={} notes=None\n",
      "task_id='t-001' success=True score=0.95 feedback='Looks good' details={}\n",
      "title='Cafe Example' url=HttpUrl('https://example.com/') snippet='Great coffee' raw={'id': 1}\n"
     ]
    }
   ],
   "source": [
    "# TASK-2.3: models demo\n",
    "from research_agent_framework.models import Scope, ResearchTask, EvalResult, SerpResult\n",
    "from pydantic import TypeAdapter, HttpUrl\n",
    "\n",
    "scope = Scope(topic='Coffee Shops', description='Find coffee shops in SF', constraints=['no paid sources'])\n",
    "task = ResearchTask(id='t-001', query='best coffee in soma')\n",
    "evalr = EvalResult(task_id=task.id, success=True, score=0.95, feedback='Looks good')\n",
    "# Use TypeAdapter to validate/construct an HttpUrl (pydantic v2)\n",
    "url_adapter = TypeAdapter(HttpUrl)\n",
    "validated_url = url_adapter.validate_python('https://example.com')\n",
    "serp = SerpResult(title='Cafe Example', url=validated_url, snippet='Great coffee', raw={'id': 1})\n",
    "\n",
    "print(scope)\n",
    "print(task)\n",
    "print(evalr)\n",
    "print(serp)\n"
   ]
  },
  {
   "cell_type": "code",
   "execution_count": 22,
   "id": "831a6fd5",
   "metadata": {},
   "outputs": [],
   "source": [
    "# TASK-7.1: Import framework components (deferred until implemented)\n",
    "# from research_agent_framework.agents.base import ResearchAgent\n",
    "# from research_agent_framework.llm.client import MockLLM\n",
    "# from research_agent_framework.adapters.search import MockSearchAdapter\n"
   ]
  }
 ],
 "metadata": {
  "kernelspec": {
   "display_name": "Python 3",
   "language": "python",
   "name": "python3"
  },
  "language_info": {
   "codemirror_mode": {
    "name": "ipython",
    "version": 3
   },
   "file_extension": ".py",
   "mimetype": "text/x-python",
   "name": "python",
   "nbconvert_exporter": "python",
   "pygments_lexer": "ipython3",
   "version": "3.12.8"
  }
 },
 "nbformat": 4,
 "nbformat_minor": 5
}
