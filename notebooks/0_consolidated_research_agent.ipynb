{
 "cells": [
  {
   "cell_type": "markdown",
   "id": "da2d40ca",
   "metadata": {},
   "source": [
    "---\n",
    "\n",
    "## Next Steps\n",
    "\n",
    "The following cells will be filled in as each framework feature is implemented:\n",
    "\n",
    "- Models demonstration  \n",
    "- Prompt renderer example  \n",
    "- Agent planning  \n",
    "- Agent run (with MockLLM)  \n",
    "- EvalResults display\n",
    "\n",
    "Each cell will be marked with a comment like `# TASK-3: renderer example` for traceability.\n"
   ]
  },
  {
   "cell_type": "code",
   "execution_count": 1,
   "id": "da8d2f08",
   "metadata": {},
   "outputs": [],
   "source": [
    "# TASK-7.1: Import core framework classes (deferred until implemented)\n",
    "# from research_agent_framework.agents.base import ResearchAgent\n",
    "# from research_agent_framework.llm.client import MockLLM\n",
    "# from research_agent_framework.adapters.search import MockSearchAdapter\n"
   ]
  },
  {
   "cell_type": "code",
   "execution_count": 2,
   "id": "0e0c3e09",
   "metadata": {},
   "outputs": [],
   "source": [
    "# TASK-7.1: Bootstrap environment\n",
    "# from research_agent_framework.bootstrap import bootstrap\n",
    "# bootstrap()\n"
   ]
  },
  {
   "cell_type": "code",
   "execution_count": 3,
   "id": "b19d1b0c",
   "metadata": {},
   "outputs": [],
   "source": [
    "# TASK-7.1: sys.path fix for local imports\n",
    "import sys\n",
    "sys.path.append('../src')  # Adjust path as needed for local package imports\n"
   ]
  },
  {
   "cell_type": "markdown",
   "id": "e99578f6",
   "metadata": {},
   "source": [
    "# Consolidated Research Agent Demo\n",
    "\n",
    "This notebook demonstrates the use of the `research_agent_framework` package. Each section will be updated as new features are implemented.\n",
    "\n",
    "---\n"
   ]
  },
  {
   "cell_type": "markdown",
   "id": "0d32cd41",
   "metadata": {},
   "source": [
    "# Consolidated Research Agent Demo Notebook\n",
    "\n",
    "This notebook demonstrates the use of the `research_agent_framework` package and its components. Each section is marked for traceability to the corresponding PRD task.\n",
    "\n",
    "---\n"
   ]
  },
  {
   "cell_type": "code",
   "execution_count": 4,
   "id": "7efd52e2",
   "metadata": {},
   "outputs": [],
   "source": [
    "# TASK-7.1: sys.path fix for local imports\n",
    "import sys\n",
    "from pathlib import Path\n",
    "sys.path.insert(0, str(Path('..').resolve() / 'src'))\n"
   ]
  },
  {
   "cell_type": "code",
   "execution_count": 5,
   "id": "0ca0d9a4",
   "metadata": {},
   "outputs": [],
   "source": [
    "# TASK-7.1: Bootstrap environment\n",
    "from research_agent_framework.bootstrap import bootstrap\n",
    "bootstrap()\n"
   ]
  },
  {
   "cell_type": "code",
   "execution_count": 6,
   "id": "b916ee33",
   "metadata": {},
   "outputs": [
    {
     "data": {
      "text/html": [
       "<pre style=\"white-space:pre;overflow-x:auto;line-height:normal;font-family:Menlo,'DejaVu Sans Mono',consolas,'Courier New',monospace\"><span style=\"color: #808000; text-decoration-color: #808000\">scope</span>=<span style=\"color: #800080; text-decoration-color: #800080; font-weight: bold\">Scope</span><span style=\"font-weight: bold\">(</span><span style=\"color: #808000; text-decoration-color: #808000\">topic</span>=<span style=\"color: #008000; text-decoration-color: #008000\">'Coffee Shops'</span>, <span style=\"color: #808000; text-decoration-color: #808000\">description</span>=<span style=\"color: #008000; text-decoration-color: #008000\">'Find coffee shops in SF'</span>, <span style=\"color: #808000; text-decoration-color: #808000\">constraints</span>=<span style=\"font-weight: bold\">[</span><span style=\"color: #008000; text-decoration-color: #008000\">'no paid sources'</span><span style=\"font-weight: bold\">])</span>\n",
       "</pre>\n"
      ],
      "text/plain": [
       "\u001b[33mscope\u001b[0m=\u001b[1;35mScope\u001b[0m\u001b[1m(\u001b[0m\u001b[33mtopic\u001b[0m=\u001b[32m'Coffee Shops'\u001b[0m, \u001b[33mdescription\u001b[0m=\u001b[32m'Find coffee shops in SF'\u001b[0m, \u001b[33mconstraints\u001b[0m=\u001b[1m[\u001b[0m\u001b[32m'no paid sources'\u001b[0m\u001b[1m]\u001b[0m\u001b[1m)\u001b[0m\n"
      ]
     },
     "metadata": {},
     "output_type": "display_data"
    },
    {
     "data": {
      "text/html": [
       "<pre style=\"white-space:pre;overflow-x:auto;line-height:normal;font-family:Menlo,'DejaVu Sans Mono',consolas,'Courier New',monospace\"><span style=\"color: #808000; text-decoration-color: #808000\">task</span>=<span style=\"color: #800080; text-decoration-color: #800080; font-weight: bold\">ResearchTask</span><span style=\"font-weight: bold\">(</span><span style=\"color: #808000; text-decoration-color: #808000\">id</span>=<span style=\"color: #008000; text-decoration-color: #008000\">'t-001'</span>, <span style=\"color: #808000; text-decoration-color: #808000\">query</span>=<span style=\"color: #008000; text-decoration-color: #008000\">'best coffee in soma'</span>, <span style=\"color: #808000; text-decoration-color: #808000\">context</span>=<span style=\"font-weight: bold\">{}</span>, <span style=\"color: #808000; text-decoration-color: #808000\">notes</span>=<span style=\"color: #800080; text-decoration-color: #800080; font-style: italic\">None</span><span style=\"font-weight: bold\">)</span>\n",
       "</pre>\n"
      ],
      "text/plain": [
       "\u001b[33mtask\u001b[0m=\u001b[1;35mResearchTask\u001b[0m\u001b[1m(\u001b[0m\u001b[33mid\u001b[0m=\u001b[32m't-001'\u001b[0m, \u001b[33mquery\u001b[0m=\u001b[32m'best coffee in soma'\u001b[0m, \u001b[33mcontext\u001b[0m=\u001b[1m{\u001b[0m\u001b[1m}\u001b[0m, \u001b[33mnotes\u001b[0m=\u001b[3;35mNone\u001b[0m\u001b[1m)\u001b[0m\n"
      ]
     },
     "metadata": {},
     "output_type": "display_data"
    },
    {
     "data": {
      "text/html": [
       "<pre style=\"white-space:pre;overflow-x:auto;line-height:normal;font-family:Menlo,'DejaVu Sans Mono',consolas,'Courier New',monospace\"><span style=\"color: #808000; text-decoration-color: #808000\">eval_result</span>=<span style=\"color: #800080; text-decoration-color: #800080; font-weight: bold\">EvalResult</span><span style=\"font-weight: bold\">(</span><span style=\"color: #808000; text-decoration-color: #808000\">task_id</span>=<span style=\"color: #008000; text-decoration-color: #008000\">'t-001'</span>, <span style=\"color: #808000; text-decoration-color: #808000\">success</span>=<span style=\"color: #00ff00; text-decoration-color: #00ff00; font-style: italic\">True</span>, <span style=\"color: #808000; text-decoration-color: #808000\">score</span>=<span style=\"color: #008080; text-decoration-color: #008080; font-weight: bold\">0.95</span>, <span style=\"color: #808000; text-decoration-color: #808000\">feedback</span>=<span style=\"color: #008000; text-decoration-color: #008000\">'Looks good'</span>, <span style=\"color: #808000; text-decoration-color: #808000\">details</span>=<span style=\"font-weight: bold\">{})</span>\n",
       "</pre>\n"
      ],
      "text/plain": [
       "\u001b[33meval_result\u001b[0m=\u001b[1;35mEvalResult\u001b[0m\u001b[1m(\u001b[0m\u001b[33mtask_id\u001b[0m=\u001b[32m't-001'\u001b[0m, \u001b[33msuccess\u001b[0m=\u001b[3;92mTrue\u001b[0m, \u001b[33mscore\u001b[0m=\u001b[1;36m0\u001b[0m\u001b[1;36m.95\u001b[0m, \u001b[33mfeedback\u001b[0m=\u001b[32m'Looks good'\u001b[0m, \u001b[33mdetails\u001b[0m=\u001b[1m{\u001b[0m\u001b[1m}\u001b[0m\u001b[1m)\u001b[0m\n"
      ]
     },
     "metadata": {},
     "output_type": "display_data"
    },
    {
     "data": {
      "text/html": [
       "<pre style=\"white-space:pre;overflow-x:auto;line-height:normal;font-family:Menlo,'DejaVu Sans Mono',consolas,'Courier New',monospace\"><span style=\"color: #808000; text-decoration-color: #808000\">serp</span>=<span style=\"color: #800080; text-decoration-color: #800080; font-weight: bold\">SerpResult</span><span style=\"font-weight: bold\">(</span><span style=\"color: #808000; text-decoration-color: #808000\">title</span>=<span style=\"color: #008000; text-decoration-color: #008000\">'Cafe Example'</span>, <span style=\"color: #808000; text-decoration-color: #808000\">url</span>=<span style=\"color: #800080; text-decoration-color: #800080; font-weight: bold\">HttpUrl</span><span style=\"font-weight: bold\">(</span><span style=\"color: #008000; text-decoration-color: #008000\">'https://example.com/'</span><span style=\"font-weight: bold\">)</span>, <span style=\"color: #808000; text-decoration-color: #808000\">snippet</span>=<span style=\"color: #008000; text-decoration-color: #008000\">'Great coffee'</span>, <span style=\"color: #808000; text-decoration-color: #808000\">raw</span>=<span style=\"font-weight: bold\">{</span><span style=\"color: #008000; text-decoration-color: #008000\">'id'</span>: <span style=\"color: #008080; text-decoration-color: #008080; font-weight: bold\">1</span><span style=\"font-weight: bold\">})</span>\n",
       "</pre>\n"
      ],
      "text/plain": [
       "\u001b[33mserp\u001b[0m=\u001b[1;35mSerpResult\u001b[0m\u001b[1m(\u001b[0m\u001b[33mtitle\u001b[0m=\u001b[32m'Cafe Example'\u001b[0m, \u001b[33murl\u001b[0m=\u001b[1;35mHttpUrl\u001b[0m\u001b[1m(\u001b[0m\u001b[32m'https://example.com/'\u001b[0m\u001b[1m)\u001b[0m, \u001b[33msnippet\u001b[0m=\u001b[32m'Great coffee'\u001b[0m, \u001b[33mraw\u001b[0m=\u001b[1m{\u001b[0m\u001b[32m'id'\u001b[0m: \u001b[1;36m1\u001b[0m\u001b[1m}\u001b[0m\u001b[1m)\u001b[0m\n"
      ]
     },
     "metadata": {},
     "output_type": "display_data"
    }
   ],
   "source": [
    "# TASK-2.3: models demo\n",
    "from research_agent_framework.config import Settings, get_settings\n",
    "from research_agent_framework.models import Scope, ResearchTask, EvalResult, SerpResult\n",
    "from pydantic import TypeAdapter, HttpUrl\n",
    "from assertpy import assert_that\n",
    "\n",
    "# Construct model instances\n",
    "scope = Scope(topic='Coffee Shops', description='Find coffee shops in SF', constraints=['no paid sources'])\n",
    "task = ResearchTask(id='t-001', query='best coffee in soma')\n",
    "eval_result = EvalResult(task_id=task.id, success=True, score=0.95, feedback='Looks good')\n",
    "# Use TypeAdapter to validate/construct an HttpUrl (pydantic v2)\n",
    "url_adapter = TypeAdapter(HttpUrl)\n",
    "validated_url = url_adapter.validate_python('https://example.com')\n",
    "serp = SerpResult(title='Cafe Example', url=validated_url, snippet='Great coffee', raw={'id': 1})\n",
    "\n",
    "# Example asserts using assertpy\n",
    "assert_that(scope.topic).is_equal_to('Coffee Shops')\n",
    "assert_that(scope.constraints).contains('no paid sources')\n",
    "assert_that(task.id).is_equal_to('t-001')\n",
    "assert_that(eval_result.success).is_true()\n",
    "assert_that(serp.url).is_instance_of(HttpUrl)\n",
    "\n",
    "from rich.console import Console\n",
    "from typing import cast\n",
    "console =get_settings().console\n",
    "assert_that(console).is_not_none()\n",
    "console = cast(Console, console)\n",
    "console.print(f\"{scope=}\")\n",
    "console.print(f\"{task=}\")\n",
    "console.print(f\"{eval_result=}\")\n",
    "console.print(f\"{serp=}\")\n"
   ]
  },
  {
   "cell_type": "code",
   "execution_count": 7,
   "id": "831a6fd5",
   "metadata": {},
   "outputs": [],
   "source": [
    "# TASK-7.1: Import framework components (deferred until implemented)\n",
    "# from research_agent_framework.agents.base import ResearchAgent\n",
    "# from research_agent_framework.llm.client import MockLLM\n",
    "# from research_agent_framework.adapters.search import MockSearchAdapter\n"
   ]
  }
 ],
 "metadata": {
  "kernelspec": {
   "display_name": "Python 3",
   "language": "python",
   "name": "python3"
  },
  "language_info": {
   "codemirror_mode": {
    "name": "ipython",
    "version": 3
   },
   "file_extension": ".py",
   "mimetype": "text/x-python",
   "name": "python",
   "nbconvert_exporter": "python",
   "pygments_lexer": "ipython3",
   "version": "3.12.8"
  }
 },
 "nbformat": 4,
 "nbformat_minor": 5
}
