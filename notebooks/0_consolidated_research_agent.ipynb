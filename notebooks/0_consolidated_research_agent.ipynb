{
 "cells": [
  {
   "cell_type": "code",
   "execution_count": 1,
   "id": "da8d2f08",
   "metadata": {},
   "outputs": [],
   "source": [
    "# TASK-7.1: Import core framework classes (deferred until implemented)\n",
    "# Ensure local `src` is on sys.path so notebook kernels can import the package\n",
    "import sys\n",
    "from pathlib import Path\n",
    "src = Path(\"../src\").resolve()\n",
    "if str(src) not in sys.path:\n",
    "    sys.path.insert(0, str(src))\n",
    "\n",
    "from research_agent_framework.llm.client import MockLLM, LLMConfig\n",
    "from research_agent_framework.adapters.search.mock_search import MockSearchAdapter\n",
    "\n",
    "# Expose demo imports for following cells\n",
    "__all__ = [\"MockLLM\", \"LLMConfig\", \"MockSearchAdapter\"]\n"
   ]
  },
  {
   "cell_type": "code",
   "execution_count": 2,
   "id": "0e0c3e09",
   "metadata": {},
   "outputs": [],
   "source": [
    "# TASK-7.1: Bootstrap environment\n",
    "# Use the project's bootstrap to configure logging and settings for demos\n",
    "from research_agent_framework.bootstrap import bootstrap\n",
    "bootstrap()\n"
   ]
  },
  {
   "cell_type": "code",
   "execution_count": 3,
   "id": "b19d1b0c",
   "metadata": {},
   "outputs": [],
   "source": [
    "# TASK-7.1: sys.path fix for local imports (kept minimal)\n",
    "import sys\n",
    "from pathlib import Path\n",
    "src = Path(\"../src\").resolve()\n",
    "if str(src) not in sys.path:\n",
    "    sys.path.insert(0, str(src))\n"
   ]
  },
  {
   "cell_type": "markdown",
   "id": "e99578f6",
   "metadata": {},
   "source": [
    "# Consolidated Research Agent Demo\n",
    "\n",
    "This notebook demonstrates the use of the `research_agent_framework` package. Each section will be updated as new features are implemented.\n",
    "\n",
    "---\n"
   ]
  },
  {
   "cell_type": "markdown",
   "id": "0d32cd41",
   "metadata": {},
   "source": [
    "# Consolidated Research Agent Demo Notebook\n",
    "\n",
    "This notebook demonstrates the use of the `research_agent_framework` package and its components. Each section is marked for traceability to the corresponding PRD task.\n",
    "\n",
    "---\n"
   ]
  },
  {
   "cell_type": "code",
   "execution_count": 4,
   "id": "0ca0d9a4",
   "metadata": {},
   "outputs": [],
   "source": [
    "# TASK-7.1: Bootstrap environment (safe to call multiple times in a notebook)\n",
    "from research_agent_framework.bootstrap import bootstrap\n",
    "bootstrap(force=False)\n"
   ]
  },
  {
   "cell_type": "code",
   "execution_count": 5,
   "id": "b916ee33",
   "metadata": {},
   "outputs": [
    {
     "data": {
      "text/html": [
       "<pre style=\"white-space:pre;overflow-x:auto;line-height:normal;font-family:Menlo,'DejaVu Sans Mono',consolas,'Courier New',monospace\"><span style=\"color: #808000; text-decoration-color: #808000\">scope</span>=<span style=\"color: #800080; text-decoration-color: #800080; font-weight: bold\">Scope</span><span style=\"font-weight: bold\">(</span><span style=\"color: #808000; text-decoration-color: #808000\">topic</span>=<span style=\"color: #008000; text-decoration-color: #008000\">'Coffee Shops'</span>, <span style=\"color: #808000; text-decoration-color: #808000\">description</span>=<span style=\"color: #008000; text-decoration-color: #008000\">'Find coffee shops in SF'</span>, <span style=\"color: #808000; text-decoration-color: #808000\">constraints</span>=<span style=\"font-weight: bold\">[</span><span style=\"color: #008000; text-decoration-color: #008000\">'no paid sources'</span><span style=\"font-weight: bold\">])</span>\n",
       "</pre>\n"
      ],
      "text/plain": [
       "\u001b[33mscope\u001b[0m=\u001b[1;35mScope\u001b[0m\u001b[1m(\u001b[0m\u001b[33mtopic\u001b[0m=\u001b[32m'Coffee Shops'\u001b[0m, \u001b[33mdescription\u001b[0m=\u001b[32m'Find coffee shops in SF'\u001b[0m, \u001b[33mconstraints\u001b[0m=\u001b[1m[\u001b[0m\u001b[32m'no paid sources'\u001b[0m\u001b[1m]\u001b[0m\u001b[1m)\u001b[0m\n"
      ]
     },
     "metadata": {},
     "output_type": "display_data"
    },
    {
     "data": {
      "text/html": [
       "<pre style=\"white-space:pre;overflow-x:auto;line-height:normal;font-family:Menlo,'DejaVu Sans Mono',consolas,'Courier New',monospace\"><span style=\"color: #808000; text-decoration-color: #808000\">task</span>=<span style=\"color: #800080; text-decoration-color: #800080; font-weight: bold\">ResearchTask</span><span style=\"font-weight: bold\">(</span><span style=\"color: #808000; text-decoration-color: #808000\">id</span>=<span style=\"color: #008000; text-decoration-color: #008000\">'t-001'</span>, <span style=\"color: #808000; text-decoration-color: #808000\">query</span>=<span style=\"color: #008000; text-decoration-color: #008000\">'best coffee in soma'</span>, <span style=\"color: #808000; text-decoration-color: #808000\">context</span>=<span style=\"font-weight: bold\">{}</span>, <span style=\"color: #808000; text-decoration-color: #808000\">notes</span>=<span style=\"color: #800080; text-decoration-color: #800080; font-style: italic\">None</span><span style=\"font-weight: bold\">)</span>\n",
       "</pre>\n"
      ],
      "text/plain": [
       "\u001b[33mtask\u001b[0m=\u001b[1;35mResearchTask\u001b[0m\u001b[1m(\u001b[0m\u001b[33mid\u001b[0m=\u001b[32m't-001'\u001b[0m, \u001b[33mquery\u001b[0m=\u001b[32m'best coffee in soma'\u001b[0m, \u001b[33mcontext\u001b[0m=\u001b[1m{\u001b[0m\u001b[1m}\u001b[0m, \u001b[33mnotes\u001b[0m=\u001b[3;35mNone\u001b[0m\u001b[1m)\u001b[0m\n"
      ]
     },
     "metadata": {},
     "output_type": "display_data"
    },
    {
     "data": {
      "text/html": [
       "<pre style=\"white-space:pre;overflow-x:auto;line-height:normal;font-family:Menlo,'DejaVu Sans Mono',consolas,'Courier New',monospace\"><span style=\"color: #808000; text-decoration-color: #808000\">eval_result</span>=<span style=\"color: #800080; text-decoration-color: #800080; font-weight: bold\">EvalResult</span><span style=\"font-weight: bold\">(</span><span style=\"color: #808000; text-decoration-color: #808000\">task_id</span>=<span style=\"color: #008000; text-decoration-color: #008000\">'t-001'</span>, <span style=\"color: #808000; text-decoration-color: #808000\">success</span>=<span style=\"color: #00ff00; text-decoration-color: #00ff00; font-style: italic\">True</span>, <span style=\"color: #808000; text-decoration-color: #808000\">score</span>=<span style=\"color: #008080; text-decoration-color: #008080; font-weight: bold\">0.95</span>, <span style=\"color: #808000; text-decoration-color: #808000\">feedback</span>=<span style=\"color: #008000; text-decoration-color: #008000\">'Looks good'</span>, <span style=\"color: #808000; text-decoration-color: #808000\">details</span>=<span style=\"font-weight: bold\">{})</span>\n",
       "</pre>\n"
      ],
      "text/plain": [
       "\u001b[33meval_result\u001b[0m=\u001b[1;35mEvalResult\u001b[0m\u001b[1m(\u001b[0m\u001b[33mtask_id\u001b[0m=\u001b[32m't-001'\u001b[0m, \u001b[33msuccess\u001b[0m=\u001b[3;92mTrue\u001b[0m, \u001b[33mscore\u001b[0m=\u001b[1;36m0\u001b[0m\u001b[1;36m.95\u001b[0m, \u001b[33mfeedback\u001b[0m=\u001b[32m'Looks good'\u001b[0m, \u001b[33mdetails\u001b[0m=\u001b[1m{\u001b[0m\u001b[1m}\u001b[0m\u001b[1m)\u001b[0m\n"
      ]
     },
     "metadata": {},
     "output_type": "display_data"
    },
    {
     "data": {
      "text/html": [
       "<pre style=\"white-space:pre;overflow-x:auto;line-height:normal;font-family:Menlo,'DejaVu Sans Mono',consolas,'Courier New',monospace\"><span style=\"color: #808000; text-decoration-color: #808000\">serp</span>=<span style=\"color: #800080; text-decoration-color: #800080; font-weight: bold\">SerpResult</span><span style=\"font-weight: bold\">(</span><span style=\"color: #808000; text-decoration-color: #808000\">title</span>=<span style=\"color: #008000; text-decoration-color: #008000\">'Cafe Example'</span>, <span style=\"color: #808000; text-decoration-color: #808000\">url</span>=<span style=\"color: #800080; text-decoration-color: #800080; font-weight: bold\">HttpUrl</span><span style=\"font-weight: bold\">(</span><span style=\"color: #008000; text-decoration-color: #008000\">'https://example.com/'</span><span style=\"font-weight: bold\">)</span>, <span style=\"color: #808000; text-decoration-color: #808000\">snippet</span>=<span style=\"color: #008000; text-decoration-color: #008000\">'Great coffee'</span>, <span style=\"color: #808000; text-decoration-color: #808000\">raw</span>=<span style=\"font-weight: bold\">{</span><span style=\"color: #008000; text-decoration-color: #008000\">'id'</span>: <span style=\"color: #008080; text-decoration-color: #008080; font-weight: bold\">1</span><span style=\"font-weight: bold\">}</span>, \n",
       "<span style=\"color: #808000; text-decoration-color: #808000\">location</span>=<span style=\"color: #800080; text-decoration-color: #800080; font-style: italic\">None</span>, <span style=\"color: #808000; text-decoration-color: #808000\">rating</span>=<span style=\"color: #800080; text-decoration-color: #800080; font-style: italic\">None</span>, <span style=\"color: #808000; text-decoration-color: #808000\">price_level</span>=<span style=\"color: #800080; text-decoration-color: #800080; font-style: italic\">None</span>, <span style=\"color: #808000; text-decoration-color: #808000\">categories</span>=<span style=\"font-weight: bold\">[]</span>, <span style=\"color: #808000; text-decoration-color: #808000\">provider_meta</span>=<span style=\"color: #800080; text-decoration-color: #800080; font-style: italic\">None</span><span style=\"font-weight: bold\">)</span>\n",
       "</pre>\n"
      ],
      "text/plain": [
       "\u001b[33mserp\u001b[0m=\u001b[1;35mSerpResult\u001b[0m\u001b[1m(\u001b[0m\u001b[33mtitle\u001b[0m=\u001b[32m'Cafe Example'\u001b[0m, \u001b[33murl\u001b[0m=\u001b[1;35mHttpUrl\u001b[0m\u001b[1m(\u001b[0m\u001b[32m'https://example.com/'\u001b[0m\u001b[1m)\u001b[0m, \u001b[33msnippet\u001b[0m=\u001b[32m'Great coffee'\u001b[0m, \u001b[33mraw\u001b[0m=\u001b[1m{\u001b[0m\u001b[32m'id'\u001b[0m: \u001b[1;36m1\u001b[0m\u001b[1m}\u001b[0m, \n",
       "\u001b[33mlocation\u001b[0m=\u001b[3;35mNone\u001b[0m, \u001b[33mrating\u001b[0m=\u001b[3;35mNone\u001b[0m, \u001b[33mprice_level\u001b[0m=\u001b[3;35mNone\u001b[0m, \u001b[33mcategories\u001b[0m=\u001b[1m[\u001b[0m\u001b[1m]\u001b[0m, \u001b[33mprovider_meta\u001b[0m=\u001b[3;35mNone\u001b[0m\u001b[1m)\u001b[0m\n"
      ]
     },
     "metadata": {},
     "output_type": "display_data"
    }
   ],
   "source": [
    "# TASK-2.3: models demo\n",
    "from research_agent_framework.config import Settings, get_settings\n",
    "from research_agent_framework.models import Scope, ResearchTask, EvalResult, SerpResult\n",
    "from pydantic import TypeAdapter, HttpUrl\n",
    "from assertpy import assert_that\n",
    "\n",
    "# Construct model instances\n",
    "scope = Scope(topic='Coffee Shops', description='Find coffee shops in SF', constraints=['no paid sources'])\n",
    "task = ResearchTask(id='t-001', query='best coffee in soma')\n",
    "eval_result = EvalResult(task_id=task.id, success=True, score=0.95, feedback='Looks good')\n",
    "# Use TypeAdapter to validate/construct an HttpUrl (pydantic v2)\n",
    "url_adapter = TypeAdapter(HttpUrl)\n",
    "validated_url = url_adapter.validate_python('https://example.com')\n",
    "serp = SerpResult(title='Cafe Example', url=validated_url, snippet='Great coffee', raw={'id': 1})\n",
    "\n",
    "# Example asserts using assertpy\n",
    "assert_that(scope.topic).is_equal_to('Coffee Shops')\n",
    "assert_that(scope.constraints).contains('no paid sources')\n",
    "assert_that(task.id).is_equal_to('t-001')\n",
    "assert_that(eval_result.success).is_true()\n",
    "assert_that(serp.url).is_instance_of(HttpUrl)\n",
    "\n",
    "from rich.console import Console\n",
    "from typing import cast\n",
    "from research_agent_framework.logging import LoggingProtocol\n",
    "s = get_settings()\n",
    "c = cast(Console, s.console)\n",
    "logger = cast(LoggingProtocol, s.logger)\n",
    "\n",
    "assert_that(c).is_not_none()\n",
    "\n",
    "# Use the bootstrap-provided console/logger for output\n",
    "c.print(f\"{scope=}\")\n",
    "c.print(f\"{task=}\")\n",
    "c.print(f\"{eval_result=}\")\n",
    "c.print(f\"{serp=}\")\n"
   ]
  },
  {
   "cell_type": "code",
   "execution_count": 6,
   "id": "bf3ad70d",
   "metadata": {},
   "outputs": [
    {
     "data": {
      "text/html": [
       "<pre style=\"white-space:pre;overflow-x:auto;line-height:normal;font-family:Menlo,'DejaVu Sans Mono',consolas,'Courier New',monospace\"><span style=\"color: #008080; text-decoration-color: #008080; font-weight: bold\">2025</span>-<span style=\"color: #008080; text-decoration-color: #008080; font-weight: bold\">09</span>-07T<span style=\"color: #00ff00; text-decoration-color: #00ff00; font-weight: bold\">18:23:28</span>.<span style=\"color: #008080; text-decoration-color: #008080; font-weight: bold\">066476</span>-<span style=\"color: #008080; text-decoration-color: #008080; font-weight: bold\">0700</span> INFO research_agent_prompt.j2 output:\n",
       "%s\n",
       "</pre>\n"
      ],
      "text/plain": [
       "\u001b[1;36m2025\u001b[0m-\u001b[1;36m09\u001b[0m-07T\u001b[1;92m18:23:28\u001b[0m.\u001b[1;36m066476\u001b[0m-\u001b[1;36m0700\u001b[0m INFO research_agent_prompt.j2 output:\n",
       "%s\n"
      ]
     },
     "metadata": {},
     "output_type": "display_data"
    },
    {
     "data": {
      "text/html": [
       "<pre style=\"white-space:pre;overflow-x:auto;line-height:normal;font-family:Menlo,'DejaVu Sans Mono',consolas,'Courier New',monospace\">clarify_with_user_instructions.j2 output:\n",
       "\n",
       "</pre>\n"
      ],
      "text/plain": [
       "clarify_with_user_instructions.j2 output:\n",
       "\n"
      ]
     },
     "metadata": {},
     "output_type": "display_data"
    },
    {
     "data": {
      "text/html": [
       "<pre style=\"white-space:pre;overflow-x:auto;line-height:normal;font-family:Menlo,'DejaVu Sans Mono',consolas,'Courier New',monospace\">These are the messages that have been exchanged so far from the user asking for the report:\n",
       "<span style=\"font-weight: bold\">&lt;</span><span style=\"color: #ff00ff; text-decoration-color: #ff00ff; font-weight: bold\">Messages</span><span style=\"color: #000000; text-decoration-color: #000000\">&gt;</span>\n",
       "<span style=\"color: #000000; text-decoration-color: #000000\">User: What are the best coffee shops in SF?</span>\n",
       "<span style=\"color: #000000; text-decoration-color: #000000\">&lt;</span><span style=\"color: #800080; text-decoration-color: #800080\">/</span><span style=\"color: #ff00ff; text-decoration-color: #ff00ff\">Messages</span><span style=\"color: #000000; text-decoration-color: #000000\">&gt;</span>\n",
       "\n",
       "<span style=\"color: #000000; text-decoration-color: #000000\">Today's date is </span><span style=\"color: #008080; text-decoration-color: #008080; font-weight: bold\">2025</span><span style=\"color: #000000; text-decoration-color: #000000\">-</span><span style=\"color: #008080; text-decoration-color: #008080; font-weight: bold\">09</span><span style=\"color: #000000; text-decoration-color: #000000\">-</span><span style=\"color: #008080; text-decoration-color: #008080; font-weight: bold\">05</span><span style=\"color: #000000; text-decoration-color: #000000\">.</span>\n",
       "\n",
       "<span style=\"color: #000000; text-decoration-color: #000000\">Assess whether you need to ask a clarifying question, or if the user has already provided enough information for </span>\n",
       "<span style=\"color: #000000; text-decoration-color: #000000\">you to start research.</span>\n",
       "<span style=\"color: #000000; text-decoration-color: #000000\">IMPORTANT: If you can see in the messages history that you have already asked a clarifying question, you almost </span>\n",
       "<span style=\"color: #000000; text-decoration-color: #000000\">always do not need to ask another one. Only ask another question if ABSOLUTELY NECESSARY.</span>\n",
       "\n",
       "<span style=\"color: #000000; text-decoration-color: #000000\">If there are acronyms, abbreviations, or unknown terms, ask the user to clarify.</span>\n",
       "<span style=\"color: #000000; text-decoration-color: #000000\">If you need to ask a question, follow these guidelines:</span>\n",
       "<span style=\"color: #000000; text-decoration-color: #000000\">- Be concise while gathering all necessary information</span>\n",
       "<span style=\"color: #000000; text-decoration-color: #000000\">- Make sure to gather all the information needed to carry out the research task in a concise, well-structured </span>\n",
       "<span style=\"color: #000000; text-decoration-color: #000000\">manner.</span>\n",
       "<span style=\"color: #000000; text-decoration-color: #000000\">- Use bullet points or numbered lists if appropriate for clarity. Make sure that this uses markdown formatting and </span>\n",
       "<span style=\"color: #000000; text-decoration-color: #000000\">will be rendered correctly if the string output is passed to a markdown renderer.</span>\n",
       "<span style=\"color: #000000; text-decoration-color: #000000\">- Don't ask for unnecessary information, or information that the user has already provided. If you can see that the</span>\n",
       "<span style=\"color: #000000; text-decoration-color: #000000\">user has already provided the information, do not ask for it again.</span>\n",
       "\n",
       "<span style=\"color: #000000; text-decoration-color: #000000\">Respond in valid JSON format with these exact keys:</span>\n",
       "<span style=\"color: #008000; text-decoration-color: #008000\">\"need_clarification\"</span><span style=\"color: #000000; text-decoration-color: #000000\">: boolean,</span>\n",
       "<span style=\"color: #008000; text-decoration-color: #008000\">\"question\"</span><span style=\"color: #000000; text-decoration-color: #000000\">: </span><span style=\"color: #008000; text-decoration-color: #008000\">\"&lt;question to ask the user to clarify the report scope&gt;\"</span><span style=\"color: #000000; text-decoration-color: #000000\">,</span>\n",
       "<span style=\"color: #008000; text-decoration-color: #008000\">\"verification\"</span><span style=\"color: #000000; text-decoration-color: #000000\">: </span><span style=\"color: #008000; text-decoration-color: #008000\">\"&lt;verification message that we will start research&gt;\"</span>\n",
       "\n",
       "<span style=\"color: #000000; text-decoration-color: #000000\">If you need to ask a clarifying question, return:</span>\n",
       "<span style=\"color: #008000; text-decoration-color: #008000\">\"need_clarification\"</span><span style=\"color: #000000; text-decoration-color: #000000\">: true,</span>\n",
       "<span style=\"color: #008000; text-decoration-color: #008000\">\"question\"</span><span style=\"color: #000000; text-decoration-color: #000000\">: </span><span style=\"color: #008000; text-decoration-color: #008000\">\"&lt;your clarifying question&gt;\"</span><span style=\"color: #000000; text-decoration-color: #000000\">,</span>\n",
       "<span style=\"color: #008000; text-decoration-color: #008000\">\"verification\"</span><span style=\"color: #000000; text-decoration-color: #000000\">: </span><span style=\"color: #008000; text-decoration-color: #008000\">\"\"</span>\n",
       "\n",
       "<span style=\"color: #000000; text-decoration-color: #000000\">If you do not need to ask a clarifying question, return:</span>\n",
       "<span style=\"color: #008000; text-decoration-color: #008000\">\"need_clarification\"</span><span style=\"color: #000000; text-decoration-color: #000000\">: false,</span>\n",
       "<span style=\"color: #008000; text-decoration-color: #008000\">\"question\"</span><span style=\"color: #000000; text-decoration-color: #000000\">: </span><span style=\"color: #008000; text-decoration-color: #008000\">\"\"</span><span style=\"color: #000000; text-decoration-color: #000000\">,</span>\n",
       "<span style=\"color: #008000; text-decoration-color: #008000\">\"verification\"</span><span style=\"color: #000000; text-decoration-color: #000000\">: </span><span style=\"color: #008000; text-decoration-color: #008000\">\"&lt;acknowledgement message that you will now start research based on the provided information&gt;\"</span>\n",
       "\n",
       "For the verification message when no clarification is needed:\n",
       "- Acknowledge that you have sufficient information to proceed\n",
       "- Briefly summarize the key aspects of what you understand from their request\n",
       "- Confirm that you will now begin the research process\n",
       "- Keep the message concise and professional\n",
       "</pre>\n"
      ],
      "text/plain": [
       "These are the messages that have been exchanged so far from the user asking for the report:\n",
       "\u001b[1m<\u001b[0m\u001b[1;95mMessages\u001b[0m\u001b[39m>\u001b[0m\n",
       "\u001b[39mUser: What are the best coffee shops in SF?\u001b[0m\n",
       "\u001b[39m<\u001b[0m\u001b[35m/\u001b[0m\u001b[95mMessages\u001b[0m\u001b[39m>\u001b[0m\n",
       "\n",
       "\u001b[39mToday's date is \u001b[0m\u001b[1;36m2025\u001b[0m\u001b[39m-\u001b[0m\u001b[1;36m09\u001b[0m\u001b[39m-\u001b[0m\u001b[1;36m05\u001b[0m\u001b[39m.\u001b[0m\n",
       "\n",
       "\u001b[39mAssess whether you need to ask a clarifying question, or if the user has already provided enough information for \u001b[0m\n",
       "\u001b[39myou to start research.\u001b[0m\n",
       "\u001b[39mIMPORTANT: If you can see in the messages history that you have already asked a clarifying question, you almost \u001b[0m\n",
       "\u001b[39malways do not need to ask another one. Only ask another question if ABSOLUTELY NECESSARY.\u001b[0m\n",
       "\n",
       "\u001b[39mIf there are acronyms, abbreviations, or unknown terms, ask the user to clarify.\u001b[0m\n",
       "\u001b[39mIf you need to ask a question, follow these guidelines:\u001b[0m\n",
       "\u001b[39m- Be concise while gathering all necessary information\u001b[0m\n",
       "\u001b[39m- Make sure to gather all the information needed to carry out the research task in a concise, well-structured \u001b[0m\n",
       "\u001b[39mmanner.\u001b[0m\n",
       "\u001b[39m- Use bullet points or numbered lists if appropriate for clarity. Make sure that this uses markdown formatting and \u001b[0m\n",
       "\u001b[39mwill be rendered correctly if the string output is passed to a markdown renderer.\u001b[0m\n",
       "\u001b[39m- Don't ask for unnecessary information, or information that the user has already provided. If you can see that the\u001b[0m\n",
       "\u001b[39muser has already provided the information, do not ask for it again.\u001b[0m\n",
       "\n",
       "\u001b[39mRespond in valid JSON format with these exact keys:\u001b[0m\n",
       "\u001b[32m\"need_clarification\"\u001b[0m\u001b[39m: boolean,\u001b[0m\n",
       "\u001b[32m\"question\"\u001b[0m\u001b[39m: \u001b[0m\u001b[32m\"<question to ask the user to clarify the report scope>\"\u001b[0m\u001b[39m,\u001b[0m\n",
       "\u001b[32m\"verification\"\u001b[0m\u001b[39m: \u001b[0m\u001b[32m\"<verification message that we will start research>\"\u001b[0m\n",
       "\n",
       "\u001b[39mIf you need to ask a clarifying question, return:\u001b[0m\n",
       "\u001b[32m\"need_clarification\"\u001b[0m\u001b[39m: true,\u001b[0m\n",
       "\u001b[32m\"question\"\u001b[0m\u001b[39m: \u001b[0m\u001b[32m\"<your clarifying question>\"\u001b[0m\u001b[39m,\u001b[0m\n",
       "\u001b[32m\"verification\"\u001b[0m\u001b[39m: \u001b[0m\u001b[32m\"\"\u001b[0m\n",
       "\n",
       "\u001b[39mIf you do not need to ask a clarifying question, return:\u001b[0m\n",
       "\u001b[32m\"need_clarification\"\u001b[0m\u001b[39m: false,\u001b[0m\n",
       "\u001b[32m\"question\"\u001b[0m\u001b[39m: \u001b[0m\u001b[32m\"\"\u001b[0m\u001b[39m,\u001b[0m\n",
       "\u001b[32m\"verification\"\u001b[0m\u001b[39m: \u001b[0m\u001b[32m\"<acknowledgement message that you will now start research based on the provided information\u001b[0m\u001b[32m>\u001b[0m\u001b[32m\"\u001b[0m\n",
       "\n",
       "For the verification message when no clarification is needed:\n",
       "- Acknowledge that you have sufficient information to proceed\n",
       "- Briefly summarize the key aspects of what you understand from their request\n",
       "- Confirm that you will now begin the research process\n",
       "- Keep the message concise and professional\n"
      ]
     },
     "metadata": {},
     "output_type": "display_data"
    },
    {
     "data": {
      "text/html": [
       "<pre style=\"white-space:pre;overflow-x:auto;line-height:normal;font-family:Menlo,'DejaVu Sans Mono',consolas,'Courier New',monospace\">Nested SerpResult:\n",
       "</pre>\n"
      ],
      "text/plain": [
       "Nested SerpResult:\n"
      ]
     },
     "metadata": {},
     "output_type": "display_data"
    },
    {
     "data": {
      "text/html": [
       "<pre style=\"white-space:pre;overflow-x:auto;line-height:normal;font-family:Menlo,'DejaVu Sans Mono',consolas,'Courier New',monospace\"><span style=\"font-weight: bold\">{</span>\n",
       "    <span style=\"color: #008000; text-decoration-color: #008000\">'title'</span>: <span style=\"color: #008000; text-decoration-color: #008000\">'Nested Cafe'</span>,\n",
       "    <span style=\"color: #008000; text-decoration-color: #008000\">'url'</span>: <span style=\"color: #800080; text-decoration-color: #800080; font-weight: bold\">HttpUrl</span><span style=\"font-weight: bold\">(</span><span style=\"color: #008000; text-decoration-color: #008000\">'https://example.com/nested'</span><span style=\"font-weight: bold\">)</span>,\n",
       "    <span style=\"color: #008000; text-decoration-color: #008000\">'snippet'</span>: <span style=\"color: #008000; text-decoration-color: #008000\">'A nested example'</span>,\n",
       "    <span style=\"color: #008000; text-decoration-color: #008000\">'raw'</span>: <span style=\"font-weight: bold\">{</span><span style=\"color: #008000; text-decoration-color: #008000\">'id'</span>: <span style=\"color: #008000; text-decoration-color: #008000\">'nested-1'</span><span style=\"font-weight: bold\">}</span>,\n",
       "    <span style=\"color: #008000; text-decoration-color: #008000\">'location'</span>: <span style=\"font-weight: bold\">{</span>\n",
       "        <span style=\"color: #008000; text-decoration-color: #008000\">'name'</span>: <span style=\"color: #008000; text-decoration-color: #008000\">'Cafe Nested'</span>,\n",
       "        <span style=\"color: #008000; text-decoration-color: #008000\">'address'</span>: <span style=\"font-weight: bold\">{</span>\n",
       "            <span style=\"color: #008000; text-decoration-color: #008000\">'street'</span>: <span style=\"color: #008000; text-decoration-color: #008000\">'123 Example St'</span>,\n",
       "            <span style=\"color: #008000; text-decoration-color: #008000\">'city'</span>: <span style=\"color: #008000; text-decoration-color: #008000\">'San Francisco'</span>,\n",
       "            <span style=\"color: #008000; text-decoration-color: #008000\">'region'</span>: <span style=\"color: #008000; text-decoration-color: #008000\">'CA'</span>,\n",
       "            <span style=\"color: #008000; text-decoration-color: #008000\">'postal_code'</span>: <span style=\"color: #008000; text-decoration-color: #008000\">'94103'</span>,\n",
       "            <span style=\"color: #008000; text-decoration-color: #008000\">'country'</span>: <span style=\"color: #008000; text-decoration-color: #008000\">'US'</span>\n",
       "        <span style=\"font-weight: bold\">}</span>,\n",
       "        <span style=\"color: #008000; text-decoration-color: #008000\">'coords'</span>: <span style=\"font-weight: bold\">{</span><span style=\"color: #008000; text-decoration-color: #008000\">'lat'</span>: <span style=\"color: #008080; text-decoration-color: #008080; font-weight: bold\">37.7749</span>, <span style=\"color: #008000; text-decoration-color: #008000\">'lon'</span>: <span style=\"color: #008080; text-decoration-color: #008080; font-weight: bold\">-122.4194</span><span style=\"font-weight: bold\">}</span>,\n",
       "        <span style=\"color: #008000; text-decoration-color: #008000\">'latitude'</span>: <span style=\"color: #800080; text-decoration-color: #800080; font-style: italic\">None</span>,\n",
       "        <span style=\"color: #008000; text-decoration-color: #008000\">'longitude'</span>: <span style=\"color: #800080; text-decoration-color: #800080; font-style: italic\">None</span>,\n",
       "        <span style=\"color: #008000; text-decoration-color: #008000\">'phone'</span>: <span style=\"color: #800080; text-decoration-color: #800080; font-style: italic\">None</span>,\n",
       "        <span style=\"color: #008000; text-decoration-color: #008000\">'url'</span>: <span style=\"color: #800080; text-decoration-color: #800080; font-style: italic\">None</span>,\n",
       "        <span style=\"color: #008000; text-decoration-color: #008000\">'source'</span>: <span style=\"color: #800080; text-decoration-color: #800080; font-style: italic\">None</span>,\n",
       "        <span style=\"color: #008000; text-decoration-color: #008000\">'distance'</span>: <span style=\"color: #800080; text-decoration-color: #800080; font-style: italic\">None</span>,\n",
       "        <span style=\"color: #008000; text-decoration-color: #008000\">'raw'</span>: <span style=\"font-weight: bold\">{}</span>\n",
       "    <span style=\"font-weight: bold\">}</span>,\n",
       "    <span style=\"color: #008000; text-decoration-color: #008000\">'rating'</span>: <span style=\"font-weight: bold\">{</span><span style=\"color: #008000; text-decoration-color: #008000\">'score'</span>: <span style=\"color: #008080; text-decoration-color: #008080; font-weight: bold\">4.6</span>, <span style=\"color: #008000; text-decoration-color: #008000\">'count'</span>: <span style=\"color: #008080; text-decoration-color: #008080; font-weight: bold\">128</span><span style=\"font-weight: bold\">}</span>,\n",
       "    <span style=\"color: #008000; text-decoration-color: #008000\">'price_level'</span>: <span style=\"font-weight: bold\">&lt;</span><span style=\"color: #ff00ff; text-decoration-color: #ff00ff; font-weight: bold\">PriceLevel.MODERATE:</span><span style=\"color: #000000; text-decoration-color: #000000\"> </span><span style=\"color: #008000; text-decoration-color: #008000\">'moderate'</span><span style=\"font-weight: bold\">&gt;</span>,\n",
       "    <span style=\"color: #008000; text-decoration-color: #008000\">'categories'</span>: <span style=\"font-weight: bold\">[</span><span style=\"color: #008000; text-decoration-color: #008000\">'cafe'</span>, <span style=\"color: #008000; text-decoration-color: #008000\">'coffee'</span><span style=\"font-weight: bold\">]</span>,\n",
       "    <span style=\"color: #008000; text-decoration-color: #008000\">'provider_meta'</span>: <span style=\"font-weight: bold\">{</span><span style=\"color: #008000; text-decoration-color: #008000\">'provider'</span>: <span style=\"color: #008000; text-decoration-color: #008000\">'mock'</span>, <span style=\"color: #008000; text-decoration-color: #008000\">'id'</span>: <span style=\"color: #008080; text-decoration-color: #008080; font-weight: bold\">42</span>, <span style=\"color: #008000; text-decoration-color: #008000\">'raw'</span>: <span style=\"font-weight: bold\">{</span><span style=\"color: #008000; text-decoration-color: #008000\">'provider_field'</span>: <span style=\"color: #008000; text-decoration-color: #008000\">'value'</span><span style=\"font-weight: bold\">}}</span>\n",
       "<span style=\"font-weight: bold\">}</span>\n",
       "</pre>\n"
      ],
      "text/plain": [
       "\u001b[1m{\u001b[0m\n",
       "    \u001b[32m'title'\u001b[0m: \u001b[32m'Nested Cafe'\u001b[0m,\n",
       "    \u001b[32m'url'\u001b[0m: \u001b[1;35mHttpUrl\u001b[0m\u001b[1m(\u001b[0m\u001b[32m'https://example.com/nested'\u001b[0m\u001b[1m)\u001b[0m,\n",
       "    \u001b[32m'snippet'\u001b[0m: \u001b[32m'A nested example'\u001b[0m,\n",
       "    \u001b[32m'raw'\u001b[0m: \u001b[1m{\u001b[0m\u001b[32m'id'\u001b[0m: \u001b[32m'nested-1'\u001b[0m\u001b[1m}\u001b[0m,\n",
       "    \u001b[32m'location'\u001b[0m: \u001b[1m{\u001b[0m\n",
       "        \u001b[32m'name'\u001b[0m: \u001b[32m'Cafe Nested'\u001b[0m,\n",
       "        \u001b[32m'address'\u001b[0m: \u001b[1m{\u001b[0m\n",
       "            \u001b[32m'street'\u001b[0m: \u001b[32m'123 Example St'\u001b[0m,\n",
       "            \u001b[32m'city'\u001b[0m: \u001b[32m'San Francisco'\u001b[0m,\n",
       "            \u001b[32m'region'\u001b[0m: \u001b[32m'CA'\u001b[0m,\n",
       "            \u001b[32m'postal_code'\u001b[0m: \u001b[32m'94103'\u001b[0m,\n",
       "            \u001b[32m'country'\u001b[0m: \u001b[32m'US'\u001b[0m\n",
       "        \u001b[1m}\u001b[0m,\n",
       "        \u001b[32m'coords'\u001b[0m: \u001b[1m{\u001b[0m\u001b[32m'lat'\u001b[0m: \u001b[1;36m37.7749\u001b[0m, \u001b[32m'lon'\u001b[0m: \u001b[1;36m-122.4194\u001b[0m\u001b[1m}\u001b[0m,\n",
       "        \u001b[32m'latitude'\u001b[0m: \u001b[3;35mNone\u001b[0m,\n",
       "        \u001b[32m'longitude'\u001b[0m: \u001b[3;35mNone\u001b[0m,\n",
       "        \u001b[32m'phone'\u001b[0m: \u001b[3;35mNone\u001b[0m,\n",
       "        \u001b[32m'url'\u001b[0m: \u001b[3;35mNone\u001b[0m,\n",
       "        \u001b[32m'source'\u001b[0m: \u001b[3;35mNone\u001b[0m,\n",
       "        \u001b[32m'distance'\u001b[0m: \u001b[3;35mNone\u001b[0m,\n",
       "        \u001b[32m'raw'\u001b[0m: \u001b[1m{\u001b[0m\u001b[1m}\u001b[0m\n",
       "    \u001b[1m}\u001b[0m,\n",
       "    \u001b[32m'rating'\u001b[0m: \u001b[1m{\u001b[0m\u001b[32m'score'\u001b[0m: \u001b[1;36m4.6\u001b[0m, \u001b[32m'count'\u001b[0m: \u001b[1;36m128\u001b[0m\u001b[1m}\u001b[0m,\n",
       "    \u001b[32m'price_level'\u001b[0m: \u001b[1m<\u001b[0m\u001b[1;95mPriceLevel.MODERATE:\u001b[0m\u001b[39m \u001b[0m\u001b[32m'moderate'\u001b[0m\u001b[1m>\u001b[0m,\n",
       "    \u001b[32m'categories'\u001b[0m: \u001b[1m[\u001b[0m\u001b[32m'cafe'\u001b[0m, \u001b[32m'coffee'\u001b[0m\u001b[1m]\u001b[0m,\n",
       "    \u001b[32m'provider_meta'\u001b[0m: \u001b[1m{\u001b[0m\u001b[32m'provider'\u001b[0m: \u001b[32m'mock'\u001b[0m, \u001b[32m'id'\u001b[0m: \u001b[1;36m42\u001b[0m, \u001b[32m'raw'\u001b[0m: \u001b[1m{\u001b[0m\u001b[32m'provider_field'\u001b[0m: \u001b[32m'value'\u001b[0m\u001b[1m}\u001b[0m\u001b[1m}\u001b[0m\n",
       "\u001b[1m}\u001b[0m\n"
      ]
     },
     "metadata": {},
     "output_type": "display_data"
    }
   ],
   "source": [
    "# TASK-3: renderer example\n",
    "from pydantic import TypeAdapter, HttpUrl\n",
    "from research_agent_framework.prompts import renderer\n",
    "from research_agent_framework.models import (\n",
    "    SerpResult, Location, Address, Coordinates, Rating, PriceLevel, ProviderMeta,\n",
    ")\n",
    "from research_agent_framework.config import get_settings\n",
    "from typing import cast\n",
    "from rich.console import Console\n",
    "from research_agent_framework.logging import LoggingProtocol\n",
    "settings = get_settings()\n",
    "c = cast(Console, settings.console)\n",
    "logger = cast(LoggingProtocol, settings.logger)\n",
    "\n",
    "# Build nested models (full demo)\n",
    "coords = Coordinates(lat=37.7749, lon=-122.4194)\n",
    "addr = Address(street='123 Example St', city='San Francisco', region='CA', postal_code='94103', country='US')\n",
    "loc = Location(name='Cafe Nested', address=addr, coords=coords)\n",
    "rating = Rating(score=4.6, count=128)\n",
    "provider = ProviderMeta(provider='mock', id=42, raw={'provider_field': 'value'})\n",
    "url_adapter = TypeAdapter(HttpUrl)\n",
    "u = url_adapter.validate_python('https://example.com/nested')\n",
    "serp_model = SerpResult(title='Nested Cafe', url=u, snippet='A nested example', raw={'id': 'nested-1'}, location=loc, rating=rating, price_level=PriceLevel.MODERATE, categories=['cafe','coffee'], provider_meta=provider)\n",
    "\n",
    "# Render templates\n",
    "clarify_context = {\"messages\": \"User: What are the best coffee shops in SF?\", \"date\": \"2025-09-05\"}\n",
    "clarify_rendered = renderer.render_template(\"clarify_with_user_instructions.j2\", clarify_context)\n",
    "agent_context = {\"date\": \"2025-09-05\"}\n",
    "agent_rendered = renderer.render_template(\"research_agent_prompt.j2\", agent_context)\n",
    "\n",
    "# Output using bootstrap-provided console (as `c`) and logger\n",
    "logger.info('research_agent_prompt.j2 output:\\n%s', agent_rendered)\n",
    "c.print('clarify_with_user_instructions.j2 output:\\n')\n",
    "c.print(clarify_rendered)\n",
    "c.print('Nested SerpResult:')\n",
    "c.print(serp_model.model_dump())\n"
   ]
  },
  {
   "cell_type": "code",
   "execution_count": 7,
   "id": "1d394de4",
   "metadata": {},
   "outputs": [
    {
     "data": {
      "text/html": [
       "<pre style=\"white-space:pre;overflow-x:auto;line-height:normal;font-family:Menlo,'DejaVu Sans Mono',consolas,'Courier New',monospace\"><span style=\"color: #008080; text-decoration-color: #008080; font-weight: bold\">2025</span>-<span style=\"color: #008080; text-decoration-color: #008080; font-weight: bold\">09</span>-07T<span style=\"color: #00ff00; text-decoration-color: #00ff00; font-weight: bold\">18:23:28</span>.<span style=\"color: #008080; text-decoration-color: #008080; font-weight: bold\">099339</span>-<span style=\"color: #008080; text-decoration-color: #008080; font-weight: bold\">0700</span> INFO MockLLM output: %s\n",
       "</pre>\n"
      ],
      "text/plain": [
       "\u001b[1;36m2025\u001b[0m-\u001b[1;36m09\u001b[0m-07T\u001b[1;92m18:23:28\u001b[0m.\u001b[1;36m099339\u001b[0m-\u001b[1;36m0700\u001b[0m INFO MockLLM output: %s\n"
      ]
     },
     "metadata": {},
     "output_type": "display_data"
    },
    {
     "data": {
      "text/html": [
       "<pre style=\"white-space:pre;overflow-x:auto;line-height:normal;font-family:Menlo,'DejaVu Sans Mono',consolas,'Courier New',monospace\">MockSearchAdapter results:\n",
       "</pre>\n"
      ],
      "text/plain": [
       "MockSearchAdapter results:\n"
      ]
     },
     "metadata": {},
     "output_type": "display_data"
    },
    {
     "data": {
      "text/html": [
       "<pre style=\"white-space:pre;overflow-x:auto;line-height:normal;font-family:Menlo,'DejaVu Sans Mono',consolas,'Courier New',monospace\">- Coffee Shop A <span style=\"font-weight: bold\">(</span><span style=\"color: #0000ff; text-decoration-color: #0000ff; text-decoration: underline\">https://coffee.example.com/a)</span> - Great coffee and friendly staff\n",
       "</pre>\n"
      ],
      "text/plain": [
       "- Coffee Shop A \u001b[1m(\u001b[0m\u001b[4;94mhttps://coffee.example.com/a\u001b[0m\u001b[4;94m)\u001b[0m - Great coffee and friendly staff\n"
      ]
     },
     "metadata": {},
     "output_type": "display_data"
    },
    {
     "data": {
      "text/html": [
       "<pre style=\"white-space:pre;overflow-x:auto;line-height:normal;font-family:Menlo,'DejaVu Sans Mono',consolas,'Courier New',monospace\">- Coffee Shop B <span style=\"font-weight: bold\">(</span><span style=\"color: #0000ff; text-decoration-color: #0000ff; text-decoration: underline\">https://coffee.example.com/b)</span> - Excellent pastries\n",
       "</pre>\n"
      ],
      "text/plain": [
       "- Coffee Shop B \u001b[1m(\u001b[0m\u001b[4;94mhttps://coffee.example.com/b\u001b[0m\u001b[4;94m)\u001b[0m - Excellent pastries\n"
      ]
     },
     "metadata": {},
     "output_type": "display_data"
    }
   ],
   "source": [
    "# TASK-4.3: Import and use MockLLM and MockSearchAdapter for deterministic demo\n",
    "from research_agent_framework.llm.client import MockLLM, LLMConfig\n",
    "from research_agent_framework.adapters.search.mock_search import MockSearchAdapter\n",
    "from research_agent_framework.adapters.search.schema import SerpReply\n",
    "from research_agent_framework.config import get_settings\n",
    "from typing import cast, List, Union, Sequence\n",
    "from rich.console import Console\n",
    "from research_agent_framework.logging import LoggingProtocol\n",
    "from research_agent_framework.models import SerpResult\n",
    "s = get_settings()\n",
    "c = cast(Console, s.console)\n",
    "logger = cast(LoggingProtocol, s.logger)\n",
    "import asyncio\n",
    "\n",
    "mock_config = LLMConfig(api_key=\"test\", model=\"mock-model\")\n",
    "mock_llm = MockLLM(mock_config)\n",
    "searcher = MockSearchAdapter()\n",
    "\n",
    "# Typed helper to normalize search adapter outputs to a list-like sequence of results\n",
    "def ensure_results_list(results) -> Sequence[Union[SerpResult, tuple[object, ...]]]:\n",
    "    \"\"\"Normalize different adapter return shapes to a uniform sequence.\n",
    "\n",
    "    Supported shapes:\n",
    "    - `SerpReply` (typed Pydantic model with `.results`)\n",
    "    - legacy `list[SerpResult]`\n",
    "    - an object exposing `.results` attribute\n",
    "    - any iterable\n",
    "    - fallback to single-item list\n",
    "    \"\"\"\n",
    "    if isinstance(results, SerpReply):\n",
    "        return results.results\n",
    "    if isinstance(results, list):\n",
    "        return results\n",
    "    maybe = getattr(results, \"results\", None)\n",
    "    if isinstance(maybe, list):\n",
    "        return maybe\n",
    "    try:\n",
    "        return list(results)\n",
    "    except TypeError:\n",
    "        return [results]\n",
    "\n",
    "async def demo_llm_and_search():\n",
    "    prompt = \"What are the best coffee shops in SF?\"\n",
    "    llm_out = await mock_llm.generate(prompt)\n",
    "    results = await searcher.search(prompt)\n",
    "    logger.info('MockLLM output: %s', llm_out)\n",
    "    c.print('MockSearchAdapter results:')\n",
    "\n",
    "    items = ensure_results_list(results)\n",
    "\n",
    "    for r in items:\n",
    "        if isinstance(r, tuple):\n",
    "            title = r[0] if len(r) > 0 else ''\n",
    "            url = r[1] if len(r) > 1 else ''\n",
    "            snippet = r[2] if len(r) > 2 else ''\n",
    "            c.print(f'- {title} ({url}) - {snippet}')\n",
    "        else:\n",
    "            title = getattr(r, 'title', '')\n",
    "            url = getattr(r, 'url', '')\n",
    "            snippet = getattr(r, 'snippet', '')\n",
    "            c.print(f'- {title} ({url}) - {snippet}')\n",
    "\n",
    "# Run the demo in notebook-friendly way\n",
    "try:\n",
    "    asyncio.get_running_loop()\n",
    "    import nest_asyncio; nest_asyncio.apply()\n",
    "    asyncio.run(demo_llm_and_search())\n",
    "except RuntimeError:\n",
    "    asyncio.run(demo_llm_and_search())\n"
   ]
  },
  {
   "cell_type": "code",
   "execution_count": 8,
   "id": "675b8b3b",
   "metadata": {},
   "outputs": [
    {
     "data": {
      "text/html": [
       "<pre style=\"white-space:pre;overflow-x:auto;line-height:normal;font-family:Menlo,'DejaVu Sans Mono',consolas,'Courier New',monospace\"><span style=\"color: #008080; text-decoration-color: #008080; font-weight: bold\">2025</span>-<span style=\"color: #008080; text-decoration-color: #008080; font-weight: bold\">09</span>-07T<span style=\"color: #00ff00; text-decoration-color: #00ff00; font-weight: bold\">18:23:28</span>.<span style=\"color: #008080; text-decoration-color: #008080; font-weight: bold\">371973</span>-<span style=\"color: #008080; text-decoration-color: #008080; font-weight: bold\">0700</span> INFO MockLLM property-based output: %s\n",
       "</pre>\n"
      ],
      "text/plain": [
       "\u001b[1;36m2025\u001b[0m-\u001b[1;36m09\u001b[0m-07T\u001b[1;92m18:23:28\u001b[0m.\u001b[1;36m371973\u001b[0m-\u001b[1;36m0700\u001b[0m INFO MockLLM property-based output: %s\n"
      ]
     },
     "metadata": {},
     "output_type": "display_data"
    },
    {
     "data": {
      "text/html": [
       "<pre style=\"white-space:pre;overflow-x:auto;line-height:normal;font-family:Menlo,'DejaVu Sans Mono',consolas,'Courier New',monospace\">MockLLM property-based output: mock response for: Show me the best coffee shops in SF\n",
       "</pre>\n"
      ],
      "text/plain": [
       "MockLLM property-based output: mock response for: Show me the best coffee shops in SF\n"
      ]
     },
     "metadata": {},
     "output_type": "display_data"
    }
   ],
   "source": [
    "# TASK-4A.3: Property-based example for MockLLM (kept as demonstration)\n",
    "from research_agent_framework.llm.client import LLMConfig, MockLLM\n",
    "from hypothesis import given, strategies as st\n",
    "import asyncio\n",
    "import pytest\n",
    "from assertpy import assert_that\n",
    "from research_agent_framework.config import get_settings\n",
    "from typing import cast\n",
    "from rich.console import Console\n",
    "from research_agent_framework.logging import LoggingProtocol\n",
    "s = get_settings()\n",
    "c = cast(Console, s.console)\n",
    "logger = cast(LoggingProtocol, s.logger)\n",
    "\n",
    "# Example: deterministic output for random prompt/config\n",
    "@pytest.mark.asyncio\n",
    "@given(\n",
    "    prompt=st.text(min_size=1, max_size=200),\n",
    "    api_key=st.text(min_size=1, max_size=20),\n",
    "    model=st.text(min_size=1, max_size=20),\n",
    ")\n",
    "async def demo_mockllm_property_valid(prompt, api_key, model):\n",
    "    config = LLMConfig(api_key=api_key, model=model)\n",
    "    client = MockLLM(config)\n",
    "    result = await client.generate(prompt)\n",
    "    assert_that(result).is_equal_to(f\"mock response for: {prompt}\")\n",
    "\n",
    "# Run a single example for demonstration\n",
    "async def run_demo():\n",
    "    config = LLMConfig(api_key=\"demo-key\", model=\"demo-model\")\n",
    "    client = MockLLM(config)\n",
    "    result = await client.generate(\"Show me the best coffee shops in SF\")\n",
    "    logger.info('MockLLM property-based output: %s', result)\n",
    "    c.print('MockLLM property-based output:', result)\n",
    "\n",
    "try:\n",
    "    asyncio.get_running_loop()\n",
    "    import nest_asyncio; nest_asyncio.apply()\n",
    "    asyncio.run(run_demo())\n",
    "except RuntimeError:\n",
    "    asyncio.run(run_demo())\n"
   ]
  },
  {
   "cell_type": "code",
   "execution_count": 9,
   "id": "9c31c492",
   "metadata": {},
   "outputs": [
    {
     "data": {
      "text/html": [
       "<pre style=\"white-space:pre;overflow-x:auto;line-height:normal;font-family:Menlo,'DejaVu Sans Mono',consolas,'Courier New',monospace\">Planned tasks:\n",
       "</pre>\n"
      ],
      "text/plain": [
       "Planned tasks:\n"
      ]
     },
     "metadata": {},
     "output_type": "display_data"
    },
    {
     "data": {
      "text/html": [
       "<pre style=\"white-space:pre;overflow-x:auto;line-height:normal;font-family:Menlo,'DejaVu Sans Mono',consolas,'Courier New',monospace\">- 23d082ab Coffee Shops - constraint: no paid sources\n",
       "</pre>\n"
      ],
      "text/plain": [
       "- 23d082ab Coffee Shops - constraint: no paid sources\n"
      ]
     },
     "metadata": {},
     "output_type": "display_data"
    },
    {
     "data": {
      "text/html": [
       "<pre style=\"white-space:pre;overflow-x:auto;line-height:normal;font-family:Menlo,'DejaVu Sans Mono',consolas,'Courier New',monospace\"><span style=\"color: #008080; text-decoration-color: #008080; font-weight: bold\">2025</span>-<span style=\"color: #008080; text-decoration-color: #008080; font-weight: bold\">09</span>-07T<span style=\"color: #00ff00; text-decoration-color: #00ff00; font-weight: bold\">18:23:28</span>.<span style=\"color: #008080; text-decoration-color: #008080; font-weight: bold\">393086</span>-<span style=\"color: #008080; text-decoration-color: #008080; font-weight: bold\">0700</span> INFO Run result: %s\n",
       "</pre>\n"
      ],
      "text/plain": [
       "\u001b[1;36m2025\u001b[0m-\u001b[1;36m09\u001b[0m-07T\u001b[1;92m18:23:28\u001b[0m.\u001b[1;36m393086\u001b[0m-\u001b[1;36m0700\u001b[0m INFO Run result: %s\n"
      ]
     },
     "metadata": {},
     "output_type": "display_data"
    },
    {
     "data": {
      "text/html": [
       "<pre style=\"white-space:pre;overflow-x:auto;line-height:normal;font-family:Menlo,'DejaVu Sans Mono',consolas,'Courier New',monospace\">Run result:\n",
       "<span style=\"color: #800080; text-decoration-color: #800080; font-weight: bold\">EvalResult</span><span style=\"font-weight: bold\">(</span>\n",
       "    <span style=\"color: #808000; text-decoration-color: #808000\">task_id</span>=<span style=\"color: #008000; text-decoration-color: #008000\">'23d082ab'</span>,\n",
       "    <span style=\"color: #808000; text-decoration-color: #808000\">success</span>=<span style=\"color: #00ff00; text-decoration-color: #00ff00; font-style: italic\">True</span>,\n",
       "    <span style=\"color: #808000; text-decoration-color: #808000\">score</span>=<span style=\"color: #008080; text-decoration-color: #008080; font-weight: bold\">0.61</span>,\n",
       "    <span style=\"color: #808000; text-decoration-color: #808000\">feedback</span>=<span style=\"color: #008000; text-decoration-color: #008000\">'mock response for: Coffee Shops - constraint: no paid sources'</span>,\n",
       "    <span style=\"color: #808000; text-decoration-color: #808000\">details</span>=<span style=\"font-weight: bold\">{}</span>\n",
       "<span style=\"font-weight: bold\">)</span>\n",
       "</pre>\n"
      ],
      "text/plain": [
       "Run result:\n",
       "\u001b[1;35mEvalResult\u001b[0m\u001b[1m(\u001b[0m\n",
       "    \u001b[33mtask_id\u001b[0m=\u001b[32m'23d082ab'\u001b[0m,\n",
       "    \u001b[33msuccess\u001b[0m=\u001b[3;92mTrue\u001b[0m,\n",
       "    \u001b[33mscore\u001b[0m=\u001b[1;36m0\u001b[0m\u001b[1;36m.61\u001b[0m,\n",
       "    \u001b[33mfeedback\u001b[0m=\u001b[32m'mock response for: Coffee Shops - constraint: no paid sources'\u001b[0m,\n",
       "    \u001b[33mdetails\u001b[0m=\u001b[1m{\u001b[0m\u001b[1m}\u001b[0m\n",
       "\u001b[1m)\u001b[0m\n"
      ]
     },
     "metadata": {},
     "output_type": "display_data"
    }
   ],
   "source": [
    "# TASK-5.1: Demonstrate ResearchAgent plan() and run() using MockLLM\n",
    "from research_agent_framework.agents.base import ResearchAgent\n",
    "from research_agent_framework.models import Scope\n",
    "from research_agent_framework.llm.client import MockLLM, LLMConfig\n",
    "from research_agent_framework.adapters.search.mock_search import MockSearchAdapter\n",
    "from research_agent_framework.config import get_settings\n",
    "from typing import cast\n",
    "from rich.console import Console\n",
    "from research_agent_framework.logging import LoggingProtocol\n",
    "s = get_settings()\n",
    "c = cast(Console, s.console)\n",
    "logger = cast(LoggingProtocol, s.logger)\n",
    "import asyncio\n",
    "\n",
    "agent = ResearchAgent(llm_client=MockLLM(LLMConfig(api_key='demo', model='demo')),\n",
    "                        search_adapter=MockSearchAdapter())\n",
    "\n",
    "scope = Scope(topic='Coffee Shops', description='Find notable coffee shops in SF', constraints=['no paid sources'])\n",
    "plans = agent.plan(scope)\n",
    "\n",
    "c.print('Planned tasks:')\n",
    "for t in plans:\n",
    "    c.print('-', t.id, t.query)\n",
    "\n",
    "async def run_first():\n",
    "    res = await agent.run(plans[0])\n",
    "    logger.info('Run result: %s', res)\n",
    "    c.print('Run result:', res)\n",
    "\n",
    "try:\n",
    "    asyncio.get_running_loop()\n",
    "    import nest_asyncio; nest_asyncio.apply()\n",
    "    asyncio.run(run_first())\n",
    "except RuntimeError:\n",
    "    asyncio.run(run_first())\n"
   ]
  },
  {
   "cell_type": "markdown",
   "id": "192f343e",
   "metadata": {},
   "source": [
    "# Notebook Status\n",
    "\n",
    "This notebook contains runnable demos that reflect the current test suite and mock implementations in `src/research_agent_framework`.\n",
    "\n",
    "Sections included:\n",
    "\n",
    "- Models demonstration\n",
    "- Prompt renderer example\n",
    "- MockLLM + MockSearchAdapter demo\n",
    "- Minimal property-based demonstration for MockLLM\n",
    "\n",
    "All status/instruction text removed; cells are focused on runnable demos and examples.\n"
   ]
  },
  {
   "cell_type": "markdown",
   "id": "3a449983",
   "metadata": {},
   "source": [
    "---\n",
    "\n",
    "This consolidated demo notebook is focused on runnable examples that match the code and tests in the repository. Use the demo cells to validate the deterministic mock implementations and renderer output.\n",
    "\n",
    "---"
   ]
  }
 ],
 "metadata": {
  "kernelspec": {
   "display_name": ".venv (3.13.7)",
   "language": "python",
   "name": "python3"
  },
  "language_info": {
   "codemirror_mode": {
    "name": "ipython",
    "version": 3
   },
   "file_extension": ".py",
   "mimetype": "text/x-python",
   "name": "python",
   "nbconvert_exporter": "python",
   "pygments_lexer": "ipython3",
   "version": "3.13.7"
  }
 },
 "nbformat": 4,
 "nbformat_minor": 5
}
