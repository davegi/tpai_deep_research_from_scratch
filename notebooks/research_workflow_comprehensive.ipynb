{
 "cells": [
  {
   "cell_type": "markdown",
   "metadata": {},
   "source": [
    "# Comprehensive Educational Research Notebook\n",
    "\n",
    "This notebook demonstrates a complete multi-agent research system that combines:\n",
    "\n",
    "- **Full Research Workflow** (from `5_full_agent.ipynb`): Complete end-to-end research process\n",
    "- **MCP Integration** (from `3_research_agent_mcp.ipynb`): Model Context Protocol for tool access\n",
    "- **Test-Synchronized Examples** (from `0_consolidated_research_agent.ipynb`): Deterministic demonstrations\n",
    "\n",
    "## Learning Objectives\n",
    "\n",
    "By the end of this notebook, you will understand:\n",
    "\n",
    "1. **System Architecture**: How multi-agent research systems are structured\n",
    "2. **MCP Integration**: How to use Model Context Protocol for tool access\n",
    "3. **LLM Impact**: How different prompts and LLM settings affect research quality\n",
    "4. **Workflow Orchestration**: How LangGraph coordinates complex research workflows\n",
    "5. **Test-Driven Development**: How to build reliable, testable AI systems\n",
    "\n",
    "## Prerequisites\n",
    "\n",
    "- Basic understanding of Python and async programming\n",
    "- Familiarity with Jupyter notebooks\n",
    "- Understanding of LLMs and their capabilities\n",
    "- Basic knowledge of agent-based systems\n",
    "\n",
    "## Notebook Structure\n",
    "\n",
    "This notebook is organized into distinct sections, each building upon the previous:\n",
    "\n",
    "1. **Bootstrap & Setup**: Environment configuration and initialization\n",
    "2. **Core Components**: Understanding the building blocks\n",
    "3. **MCP Integration**: Tool access and async operations\n",
    "4. **Research Workflow**: Complete end-to-end process\n",
    "5. **LLM Impact Analysis**: Understanding prompt and model effects\n",
    "6. **Test Synchronization**: Ensuring reliability and reproducibility\n"
   ]
  },
  {
   "cell_type": "code",
   "execution_count": 39,
   "metadata": {},
   "outputs": [
    {
     "data": {
      "text/html": [
       "<pre style=\"white-space:pre;overflow-x:auto;line-height:normal;font-family:Menlo,'DejaVu Sans Mono',consolas,'Courier New',monospace\"><span style=\"color: #7fbfbf; text-decoration-color: #7fbfbf\">[15:47:06] </span><span style=\"color: #008000; text-decoration-color: #008000; font-weight: bold\">[</span><span style=\"color: #008000; text-decoration-color: #008000\">INFO</span><span style=\"color: #008000; text-decoration-color: #008000; font-weight: bold\">]</span><span style=\"color: #008000; text-decoration-color: #008000\"> Notebook started: Comprehensive Educational Research Notebook                    </span> <a href=\"file://D:\\repos\\tpai_deep_research_from_scratch\\src\\research_agent_framework\\bootstrap.py\" target=\"_blank\"><span style=\"color: #7f7f7f; text-decoration-color: #7f7f7f\">bootstrap.py</span></a><span style=\"color: #7f7f7f; text-decoration-color: #7f7f7f\">:</span><a href=\"file://D:\\repos\\tpai_deep_research_from_scratch\\src\\research_agent_framework\\bootstrap.py#93\" target=\"_blank\"><span style=\"color: #7f7f7f; text-decoration-color: #7f7f7f\">93</span></a>\n",
       "</pre>\n"
      ],
      "text/plain": [
       "\u001b[2;36m[15:47:06]\u001b[0m\u001b[2;36m \u001b[0m\u001b[1;32m[\u001b[0m\u001b[32mINFO\u001b[0m\u001b[1;32m]\u001b[0m\u001b[32m Notebook started: Comprehensive Educational Research Notebook                    \u001b[0m \u001b]8;id=320427;file://D:\\repos\\tpai_deep_research_from_scratch\\src\\research_agent_framework\\bootstrap.py\u001b\\\u001b[2mbootstrap.py\u001b[0m\u001b]8;;\u001b\\\u001b[2m:\u001b[0m\u001b]8;id=776434;file://D:\\repos\\tpai_deep_research_from_scratch\\src\\research_agent_framework\\bootstrap.py#93\u001b\\\u001b[2m93\u001b[0m\u001b]8;;\u001b\\\n"
      ]
     },
     "metadata": {},
     "output_type": "display_data"
    },
    {
     "data": {
      "text/html": [
       "<pre style=\"white-space:pre;overflow-x:auto;line-height:normal;font-family:Menlo,'DejaVu Sans Mono',consolas,'Courier New',monospace\"><span style=\"color: #7fbfbf; text-decoration-color: #7fbfbf\">           </span><span style=\"color: #008000; text-decoration-color: #008000; font-weight: bold\">[</span><span style=\"color: #008000; text-decoration-color: #008000\">INFO</span><span style=\"color: #008000; text-decoration-color: #008000; font-weight: bold\">]</span><span style=\"color: #008000; text-decoration-color: #008000\"> Notebook started: Comprehensive Educational Research Notebook                    </span> <a href=\"file://D:\\repos\\tpai_deep_research_from_scratch\\src\\research_agent_framework\\bootstrap.py\" target=\"_blank\"><span style=\"color: #7f7f7f; text-decoration-color: #7f7f7f\">bootstrap.py</span></a><span style=\"color: #7f7f7f; text-decoration-color: #7f7f7f\">:</span><a href=\"file://D:\\repos\\tpai_deep_research_from_scratch\\src\\research_agent_framework\\bootstrap.py#93\" target=\"_blank\"><span style=\"color: #7f7f7f; text-decoration-color: #7f7f7f\">93</span></a>\n",
       "</pre>\n"
      ],
      "text/plain": [
       "\u001b[2;36m          \u001b[0m\u001b[2;36m \u001b[0m\u001b[1;32m[\u001b[0m\u001b[32mINFO\u001b[0m\u001b[1;32m]\u001b[0m\u001b[32m Notebook started: Comprehensive Educational Research Notebook                    \u001b[0m \u001b]8;id=653599;file://D:\\repos\\tpai_deep_research_from_scratch\\src\\research_agent_framework\\bootstrap.py\u001b\\\u001b[2mbootstrap.py\u001b[0m\u001b]8;;\u001b\\\u001b[2m:\u001b[0m\u001b]8;id=543098;file://D:\\repos\\tpai_deep_research_from_scratch\\src\\research_agent_framework\\bootstrap.py#93\u001b\\\u001b[2m93\u001b[0m\u001b]8;;\u001b\\\n"
      ]
     },
     "metadata": {},
     "output_type": "display_data"
    },
    {
     "name": "stderr",
     "output_type": "stream",
     "text": [
      "2025-09-12T15:47:06.556465-0700 INFO Notebook started: Comprehensive Educational Research Notebook\n",
      "2025-09-12T15:47:06.556465-0700 INFO Notebook started: Comprehensive Educational Research Notebook\n",
      "2025-09-12T15:47:06.556465-0700 INFO Notebook started: Comprehensive Educational Research Notebook\n"
     ]
    }
   ],
   "source": [
    "# Logging: notebook start\n",
    "import sys\n",
    "from pathlib import Path\n",
    "from rich.console import Console\n",
    "\n",
    "# Ensure local `src` is on sys.path so imports like `research_agent_framework` work\n",
    "repo_cwd = Path.cwd().resolve()\n",
    "found_src = None\n",
    "for candidate in [repo_cwd] + list(repo_cwd.parents):\n",
    "    if (candidate / \"src\" / \"research_agent_framework\").exists():\n",
    "        found_src = (candidate / \"src\").resolve()\n",
    "        break\n",
    "if found_src is None:\n",
    "    candidate = (repo_cwd / \"..\" / \"src\").resolve()\n",
    "    if (candidate / \"research_agent_framework\").exists():\n",
    "        found_src = candidate\n",
    "if found_src is not None and str(found_src) not in sys.path:\n",
    "    sys.path.insert(0, str(found_src))\n",
    "\n",
    "from research_agent_framework.config import get_logger\n",
    "logger = get_logger()\n",
    "logger.info(\"Notebook started: Comprehensive Educational Research Notebook\")\n"
   ]
  },
  {
   "cell_type": "code",
   "execution_count": 40,
   "metadata": {},
   "outputs": [
    {
     "data": {
      "text/html": [
       "<pre style=\"white-space:pre;overflow-x:auto;line-height:normal;font-family:Menlo,'DejaVu Sans Mono',consolas,'Courier New',monospace\"><span style=\"color: #7fbfbf; text-decoration-color: #7fbfbf\">[09/12/25 15:47:06] </span><span style=\"color: #000080; text-decoration-color: #000080\">INFO    </span> <span style=\"font-weight: bold\">[</span>std<span style=\"font-weight: bold\">]</span> This is an info message with RichHandler.                       <a href=\"file://C:\\Users\\daveg\\AppData\\Local\\Temp\\ipykernel_27060\\1973489552.py\" target=\"_blank\"><span style=\"color: #7f7f7f; text-decoration-color: #7f7f7f\">1973489552.py</span></a><span style=\"color: #7f7f7f; text-decoration-color: #7f7f7f\">:</span><a href=\"file://C:\\Users\\daveg\\AppData\\Local\\Temp\\ipykernel_27060\\1973489552.py#14\" target=\"_blank\"><span style=\"color: #7f7f7f; text-decoration-color: #7f7f7f\">14</span></a>\n",
       "</pre>\n"
      ],
      "text/plain": [
       "\u001b[2;36m[09/12/25 15:47:06]\u001b[0m\u001b[2;36m \u001b[0m\u001b[34mINFO    \u001b[0m \u001b[1m[\u001b[0mstd\u001b[1m]\u001b[0m This is an info message with RichHandler.                       \u001b]8;id=505800;file://C:\\Users\\daveg\\AppData\\Local\\Temp\\ipykernel_27060\\1973489552.py\u001b\\\u001b[2m1973489552.py\u001b[0m\u001b]8;;\u001b\\\u001b[2m:\u001b[0m\u001b]8;id=314166;file://C:\\Users\\daveg\\AppData\\Local\\Temp\\ipykernel_27060\\1973489552.py#14\u001b\\\u001b[2m14\u001b[0m\u001b]8;;\u001b\\\n"
      ]
     },
     "metadata": {},
     "output_type": "display_data"
    },
    {
     "data": {
      "text/html": [
       "<pre style=\"white-space:pre;overflow-x:auto;line-height:normal;font-family:Menlo,'DejaVu Sans Mono',consolas,'Courier New',monospace\"><span style=\"color: #7fbfbf; text-decoration-color: #7fbfbf\">[09/12/25 15:47:06] </span><span style=\"color: #000080; text-decoration-color: #000080\">INFO    </span> <span style=\"color: #008080; text-decoration-color: #008080; font-weight: bold\">2025</span>-<span style=\"color: #008080; text-decoration-color: #008080; font-weight: bold\">09</span>-<span style=\"color: #008080; text-decoration-color: #008080; font-weight: bold\">12</span> <span style=\"color: #00ff00; text-decoration-color: #00ff00; font-weight: bold\">15:47:06</span>,<span style=\"color: #008080; text-decoration-color: #008080; font-weight: bold\">569</span> INFO <span style=\"font-weight: bold\">[</span>std<span style=\"font-weight: bold\">]</span> This is an info message with       <a href=\"file://C:\\Users\\daveg\\AppData\\Local\\Temp\\ipykernel_27060\\1973489552.py\" target=\"_blank\"><span style=\"color: #7f7f7f; text-decoration-color: #7f7f7f\">1973489552.py</span></a><span style=\"color: #7f7f7f; text-decoration-color: #7f7f7f\">:</span><a href=\"file://C:\\Users\\daveg\\AppData\\Local\\Temp\\ipykernel_27060\\1973489552.py#14\" target=\"_blank\"><span style=\"color: #7f7f7f; text-decoration-color: #7f7f7f\">14</span></a>\n",
       "<span style=\"color: #7fbfbf; text-decoration-color: #7fbfbf\">                    </span>         RichHandler.                                                          <span style=\"color: #7f7f7f; text-decoration-color: #7f7f7f\">                </span>\n",
       "</pre>\n"
      ],
      "text/plain": [
       "\u001b[2;36m[09/12/25 15:47:06]\u001b[0m\u001b[2;36m \u001b[0m\u001b[34mINFO    \u001b[0m \u001b[1;36m2025\u001b[0m-\u001b[1;36m09\u001b[0m-\u001b[1;36m12\u001b[0m \u001b[1;92m15:47:06\u001b[0m,\u001b[1;36m569\u001b[0m INFO \u001b[1m[\u001b[0mstd\u001b[1m]\u001b[0m This is an info message with       \u001b]8;id=973654;file://C:\\Users\\daveg\\AppData\\Local\\Temp\\ipykernel_27060\\1973489552.py\u001b\\\u001b[2m1973489552.py\u001b[0m\u001b]8;;\u001b\\\u001b[2m:\u001b[0m\u001b]8;id=747303;file://C:\\Users\\daveg\\AppData\\Local\\Temp\\ipykernel_27060\\1973489552.py#14\u001b\\\u001b[2m14\u001b[0m\u001b]8;;\u001b\\\n",
       "\u001b[2;36m                    \u001b[0m         RichHandler.                                                          \u001b[2m                \u001b[0m\n"
      ]
     },
     "metadata": {},
     "output_type": "display_data"
    },
    {
     "data": {
      "text/html": [
       "<pre style=\"white-space:pre;overflow-x:auto;line-height:normal;font-family:Menlo,'DejaVu Sans Mono',consolas,'Courier New',monospace\"><span style=\"color: #7fbfbf; text-decoration-color: #7fbfbf\">                    </span><span style=\"color: #808000; text-decoration-color: #808000\">WARNING </span> <span style=\"font-weight: bold\">[</span>std<span style=\"font-weight: bold\">]</span> This is a warning message with RichHandler.                     <a href=\"file://C:\\Users\\daveg\\AppData\\Local\\Temp\\ipykernel_27060\\1973489552.py\" target=\"_blank\"><span style=\"color: #7f7f7f; text-decoration-color: #7f7f7f\">1973489552.py</span></a><span style=\"color: #7f7f7f; text-decoration-color: #7f7f7f\">:</span><a href=\"file://C:\\Users\\daveg\\AppData\\Local\\Temp\\ipykernel_27060\\1973489552.py#15\" target=\"_blank\"><span style=\"color: #7f7f7f; text-decoration-color: #7f7f7f\">15</span></a>\n",
       "</pre>\n"
      ],
      "text/plain": [
       "\u001b[2;36m                   \u001b[0m\u001b[2;36m \u001b[0m\u001b[33mWARNING \u001b[0m \u001b[1m[\u001b[0mstd\u001b[1m]\u001b[0m This is a warning message with RichHandler.                     \u001b]8;id=317226;file://C:\\Users\\daveg\\AppData\\Local\\Temp\\ipykernel_27060\\1973489552.py\u001b\\\u001b[2m1973489552.py\u001b[0m\u001b]8;;\u001b\\\u001b[2m:\u001b[0m\u001b]8;id=881270;file://C:\\Users\\daveg\\AppData\\Local\\Temp\\ipykernel_27060\\1973489552.py#15\u001b\\\u001b[2m15\u001b[0m\u001b]8;;\u001b\\\n"
      ]
     },
     "metadata": {},
     "output_type": "display_data"
    },
    {
     "data": {
      "text/html": [
       "<pre style=\"white-space:pre;overflow-x:auto;line-height:normal;font-family:Menlo,'DejaVu Sans Mono',consolas,'Courier New',monospace\"><span style=\"color: #7fbfbf; text-decoration-color: #7fbfbf\">                    </span><span style=\"color: #808000; text-decoration-color: #808000\">WARNING </span> <span style=\"color: #008080; text-decoration-color: #008080; font-weight: bold\">2025</span>-<span style=\"color: #008080; text-decoration-color: #008080; font-weight: bold\">09</span>-<span style=\"color: #008080; text-decoration-color: #008080; font-weight: bold\">12</span> <span style=\"color: #00ff00; text-decoration-color: #00ff00; font-weight: bold\">15:47:06</span>,<span style=\"color: #008080; text-decoration-color: #008080; font-weight: bold\">573</span> WARNING <span style=\"font-weight: bold\">[</span>std<span style=\"font-weight: bold\">]</span> This is a warning message with  <a href=\"file://C:\\Users\\daveg\\AppData\\Local\\Temp\\ipykernel_27060\\1973489552.py\" target=\"_blank\"><span style=\"color: #7f7f7f; text-decoration-color: #7f7f7f\">1973489552.py</span></a><span style=\"color: #7f7f7f; text-decoration-color: #7f7f7f\">:</span><a href=\"file://C:\\Users\\daveg\\AppData\\Local\\Temp\\ipykernel_27060\\1973489552.py#15\" target=\"_blank\"><span style=\"color: #7f7f7f; text-decoration-color: #7f7f7f\">15</span></a>\n",
       "<span style=\"color: #7fbfbf; text-decoration-color: #7fbfbf\">                    </span>         RichHandler.                                                          <span style=\"color: #7f7f7f; text-decoration-color: #7f7f7f\">                </span>\n",
       "</pre>\n"
      ],
      "text/plain": [
       "\u001b[2;36m                   \u001b[0m\u001b[2;36m \u001b[0m\u001b[33mWARNING \u001b[0m \u001b[1;36m2025\u001b[0m-\u001b[1;36m09\u001b[0m-\u001b[1;36m12\u001b[0m \u001b[1;92m15:47:06\u001b[0m,\u001b[1;36m573\u001b[0m WARNING \u001b[1m[\u001b[0mstd\u001b[1m]\u001b[0m This is a warning message with  \u001b]8;id=112866;file://C:\\Users\\daveg\\AppData\\Local\\Temp\\ipykernel_27060\\1973489552.py\u001b\\\u001b[2m1973489552.py\u001b[0m\u001b]8;;\u001b\\\u001b[2m:\u001b[0m\u001b]8;id=923332;file://C:\\Users\\daveg\\AppData\\Local\\Temp\\ipykernel_27060\\1973489552.py#15\u001b\\\u001b[2m15\u001b[0m\u001b]8;;\u001b\\\n",
       "\u001b[2;36m                    \u001b[0m         RichHandler.                                                          \u001b[2m                \u001b[0m\n"
      ]
     },
     "metadata": {},
     "output_type": "display_data"
    },
    {
     "data": {
      "text/html": [
       "<pre style=\"white-space:pre;overflow-x:auto;line-height:normal;font-family:Menlo,'DejaVu Sans Mono',consolas,'Courier New',monospace\"><span style=\"color: #7fbfbf; text-decoration-color: #7fbfbf\">           </span><span style=\"color: #008000; text-decoration-color: #008000; font-weight: bold\">[</span><span style=\"color: #008000; text-decoration-color: #008000\">INFO</span><span style=\"color: #008000; text-decoration-color: #008000; font-weight: bold\">]</span><span style=\"color: #008000; text-decoration-color: #008000\">  This is an info message with Rich color.                                        </span> <a href=\"file://D:\\repos\\tpai_deep_research_from_scratch\\src\\research_agent_framework\\bootstrap.py\" target=\"_blank\"><span style=\"color: #7f7f7f; text-decoration-color: #7f7f7f\">bootstrap.py</span></a><span style=\"color: #7f7f7f; text-decoration-color: #7f7f7f\">:</span><a href=\"file://D:\\repos\\tpai_deep_research_from_scratch\\src\\research_agent_framework\\bootstrap.py#93\" target=\"_blank\"><span style=\"color: #7f7f7f; text-decoration-color: #7f7f7f\">93</span></a>\n",
       "</pre>\n"
      ],
      "text/plain": [
       "\u001b[2;36m          \u001b[0m\u001b[2;36m \u001b[0m\u001b[1;32m[\u001b[0m\u001b[32mINFO\u001b[0m\u001b[1;32m]\u001b[0m\u001b[32m \u001b[0m\u001b[32m This is an info message with Rich color.\u001b[0m\u001b[32m                                        \u001b[0m \u001b]8;id=751195;file://D:\\repos\\tpai_deep_research_from_scratch\\src\\research_agent_framework\\bootstrap.py\u001b\\\u001b[2mbootstrap.py\u001b[0m\u001b]8;;\u001b\\\u001b[2m:\u001b[0m\u001b]8;id=453697;file://D:\\repos\\tpai_deep_research_from_scratch\\src\\research_agent_framework\\bootstrap.py#93\u001b\\\u001b[2m93\u001b[0m\u001b]8;;\u001b\\\n"
      ]
     },
     "metadata": {},
     "output_type": "display_data"
    },
    {
     "data": {
      "text/html": [
       "<pre style=\"white-space:pre;overflow-x:auto;line-height:normal;font-family:Menlo,'DejaVu Sans Mono',consolas,'Courier New',monospace\"><span style=\"color: #7fbfbf; text-decoration-color: #7fbfbf\">           </span><span style=\"color: #008000; text-decoration-color: #008000; font-weight: bold\">[</span><span style=\"color: #008000; text-decoration-color: #008000\">INFO</span><span style=\"color: #008000; text-decoration-color: #008000; font-weight: bold\">]</span><span style=\"color: #008000; text-decoration-color: #008000\">  This is an info message with Rich color.                                        </span> <a href=\"file://D:\\repos\\tpai_deep_research_from_scratch\\src\\research_agent_framework\\bootstrap.py\" target=\"_blank\"><span style=\"color: #7f7f7f; text-decoration-color: #7f7f7f\">bootstrap.py</span></a><span style=\"color: #7f7f7f; text-decoration-color: #7f7f7f\">:</span><a href=\"file://D:\\repos\\tpai_deep_research_from_scratch\\src\\research_agent_framework\\bootstrap.py#93\" target=\"_blank\"><span style=\"color: #7f7f7f; text-decoration-color: #7f7f7f\">93</span></a>\n",
       "</pre>\n"
      ],
      "text/plain": [
       "\u001b[2;36m          \u001b[0m\u001b[2;36m \u001b[0m\u001b[1;32m[\u001b[0m\u001b[32mINFO\u001b[0m\u001b[1;32m]\u001b[0m\u001b[32m \u001b[0m\u001b[32m This is an info message with Rich color.\u001b[0m\u001b[32m                                        \u001b[0m \u001b]8;id=183941;file://D:\\repos\\tpai_deep_research_from_scratch\\src\\research_agent_framework\\bootstrap.py\u001b\\\u001b[2mbootstrap.py\u001b[0m\u001b]8;;\u001b\\\u001b[2m:\u001b[0m\u001b]8;id=193120;file://D:\\repos\\tpai_deep_research_from_scratch\\src\\research_agent_framework\\bootstrap.py#93\u001b\\\u001b[2m93\u001b[0m\u001b]8;;\u001b\\\n"
      ]
     },
     "metadata": {},
     "output_type": "display_data"
    },
    {
     "name": "stderr",
     "output_type": "stream",
     "text": [
      "2025-09-12T15:47:06.578597-0700 INFO [loguru] This is an info message with Rich color.\n",
      "2025-09-12T15:47:06.578597-0700 INFO [loguru] This is an info message with Rich color.\n"
     ]
    },
    {
     "data": {
      "text/html": [
       "<pre style=\"white-space:pre;overflow-x:auto;line-height:normal;font-family:Menlo,'DejaVu Sans Mono',consolas,'Courier New',monospace\"><span style=\"color: #7fbfbf; text-decoration-color: #7fbfbf\">           </span><span style=\"color: #808000; text-decoration-color: #808000; font-weight: bold\">[</span><span style=\"color: #808000; text-decoration-color: #808000\">WARNING</span><span style=\"color: #808000; text-decoration-color: #808000; font-weight: bold\">]</span><span style=\"color: #808000; text-decoration-color: #808000\">  This is a warning message with Rich color.                                   </span> <a href=\"file://D:\\repos\\tpai_deep_research_from_scratch\\src\\research_agent_framework\\bootstrap.py\" target=\"_blank\"><span style=\"color: #7f7f7f; text-decoration-color: #7f7f7f\">bootstrap.py</span></a><span style=\"color: #7f7f7f; text-decoration-color: #7f7f7f\">:</span><a href=\"file://D:\\repos\\tpai_deep_research_from_scratch\\src\\research_agent_framework\\bootstrap.py#93\" target=\"_blank\"><span style=\"color: #7f7f7f; text-decoration-color: #7f7f7f\">93</span></a>\n",
       "</pre>\n"
      ],
      "text/plain": [
       "\u001b[2;36m          \u001b[0m\u001b[2;36m \u001b[0m\u001b[1;33m[\u001b[0m\u001b[33mWARNING\u001b[0m\u001b[1;33m]\u001b[0m\u001b[33m \u001b[0m\u001b[33m This is a warning message with Rich color.\u001b[0m\u001b[33m                                   \u001b[0m \u001b]8;id=766611;file://D:\\repos\\tpai_deep_research_from_scratch\\src\\research_agent_framework\\bootstrap.py\u001b\\\u001b[2mbootstrap.py\u001b[0m\u001b]8;;\u001b\\\u001b[2m:\u001b[0m\u001b]8;id=810101;file://D:\\repos\\tpai_deep_research_from_scratch\\src\\research_agent_framework\\bootstrap.py#93\u001b\\\u001b[2m93\u001b[0m\u001b]8;;\u001b\\\n"
      ]
     },
     "metadata": {},
     "output_type": "display_data"
    },
    {
     "data": {
      "text/html": [
       "<pre style=\"white-space:pre;overflow-x:auto;line-height:normal;font-family:Menlo,'DejaVu Sans Mono',consolas,'Courier New',monospace\"><span style=\"color: #7fbfbf; text-decoration-color: #7fbfbf\">           </span><span style=\"color: #808000; text-decoration-color: #808000; font-weight: bold\">[</span><span style=\"color: #808000; text-decoration-color: #808000\">WARNING</span><span style=\"color: #808000; text-decoration-color: #808000; font-weight: bold\">]</span><span style=\"color: #808000; text-decoration-color: #808000\">  This is a warning message with Rich color.                                   </span> <a href=\"file://D:\\repos\\tpai_deep_research_from_scratch\\src\\research_agent_framework\\bootstrap.py\" target=\"_blank\"><span style=\"color: #7f7f7f; text-decoration-color: #7f7f7f\">bootstrap.py</span></a><span style=\"color: #7f7f7f; text-decoration-color: #7f7f7f\">:</span><a href=\"file://D:\\repos\\tpai_deep_research_from_scratch\\src\\research_agent_framework\\bootstrap.py#93\" target=\"_blank\"><span style=\"color: #7f7f7f; text-decoration-color: #7f7f7f\">93</span></a>\n",
       "</pre>\n"
      ],
      "text/plain": [
       "\u001b[2;36m          \u001b[0m\u001b[2;36m \u001b[0m\u001b[1;33m[\u001b[0m\u001b[33mWARNING\u001b[0m\u001b[1;33m]\u001b[0m\u001b[33m \u001b[0m\u001b[33m This is a warning message with Rich color.\u001b[0m\u001b[33m                                   \u001b[0m \u001b]8;id=424917;file://D:\\repos\\tpai_deep_research_from_scratch\\src\\research_agent_framework\\bootstrap.py\u001b\\\u001b[2mbootstrap.py\u001b[0m\u001b]8;;\u001b\\\u001b[2m:\u001b[0m\u001b]8;id=39902;file://D:\\repos\\tpai_deep_research_from_scratch\\src\\research_agent_framework\\bootstrap.py#93\u001b\\\u001b[2m93\u001b[0m\u001b]8;;\u001b\\\n"
      ]
     },
     "metadata": {},
     "output_type": "display_data"
    },
    {
     "name": "stderr",
     "output_type": "stream",
     "text": [
      "2025-09-12T15:47:06.585554-0700 WARNING [loguru] This is a warning message with Rich color.\n",
      "2025-09-12T15:47:06.585554-0700 WARNING [loguru] This is a warning message with Rich color.\n",
      "2025-09-12T15:47:06.585554-0700 WARNING [loguru] This is a warning message with Rich color.\n"
     ]
    }
   ],
   "source": [
    "# Try both loggers: std logging with RichHandler and Loguru with Rich sink\n",
    "import logging\n",
    "from rich.logging import RichHandler\n",
    "from research_agent_framework.config import get_logger, get_console\n",
    "from loguru import logger as loguru_logger\n",
    "\n",
    "console = get_console()\n",
    "\n",
    "# Std logging with RichHandler\n",
    "std_logger = logging.getLogger(\"rich_std_demo\")\n",
    "std_logger.setLevel(\"INFO\")\n",
    "if not any(isinstance(h, RichHandler) for h in std_logger.handlers):\n",
    "    std_logger.addHandler(RichHandler(console=console, rich_tracebacks=True))\n",
    "std_logger.info(\"[std] This is an info message with RichHandler.\")\n",
    "std_logger.warning(\"[std] This is a warning message with RichHandler.\")\n",
    "\n",
    "# Loguru with Rich sink (configured by bootstrap)\n",
    "loguru_logger.info(\"[loguru] This is an info message with Rich color.\")\n",
    "loguru_logger.warning(\"[loguru] This is a warning message with Rich color.\")\n"
   ]
  },
  {
   "cell_type": "markdown",
   "metadata": {},
   "source": [
    "\n"
   ]
  },
  {
   "cell_type": "markdown",
   "metadata": {},
   "source": [
    "## Section 1: Bootstrap & Setup\n",
    "\n",
    "The first step in any robust AI system is proper initialization and configuration. This section demonstrates:\n",
    "\n",
    "- **Environment Setup**: Loading configuration and setting up logging\n",
    "- **Path Management**: Ensuring proper imports and module discovery\n",
    "- **Bootstrap Process**: Initializing the research framework\n",
    "- **Console Configuration**: Setting up rich output for educational purposes\n",
    "\n",
    "### Why Bootstrap Matters\n",
    "\n",
    "Bootstrap ensures that:\n",
    "1. Environment variables are loaded correctly\n",
    "2. Logging is configured for debugging and monitoring\n",
    "3. Console output is formatted for readability\n",
    "4. All dependencies are properly initialized\n",
    "5. Error handling is set up with rich tracebacks\n"
   ]
  },
  {
   "cell_type": "markdown",
   "metadata": {},
   "source": [
    "## TODO Anchors and Test Cross‑links\n",
    "\n",
    "- [ ] Section 2: Core Components — see `tests/test_research_agent.py`\n",
    "- [ ] Section 3: MCP Integration — see `tests/test_renderer_rich.py`\n",
    "- [ ] Section 4: Research Workflow — see `tests/test_end_to_end_flow.py`\n",
    "- [ ] Section 5: LLM Impact Analysis — see `tests/test_llm_mock.py`\n",
    "- [ ] Section 6: Test Synchronization — see `tests/test_renderer.py`\n",
    "- [ ] Search Adapters (SerpAPI/Tavily) — see `tests/test_serpapi_adapter.py`, `tests/test_tavily_adapter.py`, `tests/test_serpapi_and_tavily_adapters.py`, `tests/test_adapters*.py`\n",
    "- [ ] Supervisor Policy Demo — see `tests/test_supervisor_policy.py`, `tests/test_supervisor_policy_deterministic.py`\n",
    "- [ ] Bootstrap & Config Walkthrough — see `tests/test_bootstrap.py`, `tests/test_bootstrap_wiring.py`, `tests/test_config.py`\n"
   ]
  },
  {
   "cell_type": "code",
   "execution_count": 41,
   "metadata": {},
   "outputs": [],
   "source": [
    "# Notebook helper: ensure bootstrap runs early and use centralized helpers\n",
    "import sys\n",
    "from pathlib import Path\n",
    "from rich.console import Console\n",
    "\n",
    "# Ensure local `src` is on sys.path so imports like `research_agent_framework` work\n",
    "repo_cwd = Path.cwd().resolve()\n",
    "found_src = None\n",
    "for candidate in [repo_cwd] + list(repo_cwd.parents):\n",
    "    if (candidate / \"src\" / \"research_agent_framework\").exists():\n",
    "        found_src = (candidate / \"src\").resolve()\n",
    "        break\n",
    "if found_src is None:\n",
    "    candidate = (repo_cwd / \"..\" / \"src\").resolve()\n",
    "    if (candidate / \"research_agent_framework\").exists():\n",
    "        found_src = candidate\n",
    "if found_src is not None and str(found_src) not in sys.path:\n",
    "    sys.path.insert(0, str(found_src))\n",
    "\n",
    "# Import project bootstrap and helpers\n",
    "from research_agent_framework.bootstrap import bootstrap\n",
    "from research_agent_framework.config import get_settings, get_console, get_logger\n",
    "\n",
    "# Initialize environment, console, and logging (idempotent)\n",
    "bootstrap()\n",
    "\n",
    "# Obtain shared handles via helpers\n",
    "settings = get_settings()\n",
    "console = get_console()\n",
    "logger = get_logger()\n",
    "\n",
    "def nb_console():\n",
    "    \"\"\"\n",
    "    Return the project's shared `Console` instance via `get_console()`.\n",
    "    This ensures consistent rich output formatting throughout the notebook.\n",
    "    \"\"\"\n",
    "    try:\n",
    "        return get_console()\n",
    "    except Exception:\n",
    "        return Console()\n"
   ]
  },
  {
   "cell_type": "markdown",
   "metadata": {},
   "source": [
    "### Bootstrap Process Demonstration\n",
    "\n",
    "Now let's run the bootstrap process and see what it initializes. This demonstrates how a production AI system should start up.\n"
   ]
  },
  {
   "cell_type": "code",
   "execution_count": 42,
   "metadata": {},
   "outputs": [
    {
     "data": {
      "text/html": [
       "<pre style=\"white-space:pre;overflow-x:auto;line-height:normal;font-family:Menlo,'DejaVu Sans Mono',consolas,'Courier New',monospace\">🔄 Running bootstrap process<span style=\"color: #808000; text-decoration-color: #808000\">...</span>\n",
       "</pre>\n"
      ],
      "text/plain": [
       "🔄 Running bootstrap process\u001b[33m...\u001b[0m\n"
      ]
     },
     "metadata": {},
     "output_type": "display_data"
    },
    {
     "data": {
      "text/html": [
       "<pre style=\"white-space:pre;overflow-x:auto;line-height:normal;font-family:Menlo,'DejaVu Sans Mono',consolas,'Courier New',monospace\">╭──────────────── Bootstrap Status ─────────────────╮\n",
       "│ <span style=\"color: #008000; text-decoration-color: #008000; font-weight: bold\">✅ Bootstrap Complete</span>                             │\n",
       "│                                                   │\n",
       "│ The research framework has been initialized with: │\n",
       "│ • Environment variables loaded                    │\n",
       "│ • Logging configured (console sink)               │\n",
       "│ • Console formatting enabled                      │\n",
       "│ • Error handling set up                           │\n",
       "╰───────────────────────────────────────────────────╯\n",
       "</pre>\n"
      ],
      "text/plain": [
       "╭──────────────── Bootstrap Status ─────────────────╮\n",
       "│ \u001b[1;32m✅ Bootstrap Complete\u001b[0m                             │\n",
       "│                                                   │\n",
       "│ The research framework has been initialized with: │\n",
       "│ • Environment variables loaded                    │\n",
       "│ • Logging configured (console sink)               │\n",
       "│ • Console formatting enabled                      │\n",
       "│ • Error handling set up                           │\n",
       "╰───────────────────────────────────────────────────╯\n"
      ]
     },
     "metadata": {},
     "output_type": "display_data"
    },
    {
     "data": {
      "text/html": [
       "<pre style=\"white-space:pre;overflow-x:auto;line-height:normal;font-family:Menlo,'DejaVu Sans Mono',consolas,'Courier New',monospace\"><span style=\"font-style: italic\">                               Framework Configuration                               </span>\n",
       "┏━━━━━━━━━━━━━━━━━━━━━━┳━━━━━━━━━━━━━━━━━┳━━━━━━━━━━━━━━━━━━━━━━━━━━━━━━━━━━━━━━━━━━┓\n",
       "┃<span style=\"color: #800080; text-decoration-color: #800080; font-weight: bold\"> Component            </span>┃<span style=\"color: #800080; text-decoration-color: #800080; font-weight: bold\"> Status          </span>┃<span style=\"color: #800080; text-decoration-color: #800080; font-weight: bold\"> Details                                  </span>┃\n",
       "┡━━━━━━━━━━━━━━━━━━━━━━╇━━━━━━━━━━━━━━━━━╇━━━━━━━━━━━━━━━━━━━━━━━━━━━━━━━━━━━━━━━━━━┩\n",
       "│<span style=\"color: #008080; text-decoration-color: #008080\"> Environment          </span>│<span style=\"color: #008000; text-decoration-color: #008000\"> ✅ Loaded       </span>│<span style=\"color: #c0c0c0; text-decoration-color: #c0c0c0\"> Variables from .env file (if present)    </span>│\n",
       "│<span style=\"color: #008080; text-decoration-color: #008080\"> Logging              </span>│<span style=\"color: #008000; text-decoration-color: #008000\"> ✅ Configured   </span>│<span style=\"color: #c0c0c0; text-decoration-color: #c0c0c0\"> Loguru wired to Rich Console             </span>│\n",
       "│<span style=\"color: #008080; text-decoration-color: #008080\"> Console              </span>│<span style=\"color: #008000; text-decoration-color: #008000\"> ✅ Ready        </span>│<span style=\"color: #c0c0c0; text-decoration-color: #c0c0c0\"> Rich formatting enabled                  </span>│\n",
       "│<span style=\"color: #008080; text-decoration-color: #008080\"> Error Handling       </span>│<span style=\"color: #008000; text-decoration-color: #008000\"> ✅ Active       </span>│<span style=\"color: #c0c0c0; text-decoration-color: #c0c0c0\"> Rich tracebacks installed                </span>│\n",
       "└──────────────────────┴─────────────────┴──────────────────────────────────────────┘\n",
       "</pre>\n"
      ],
      "text/plain": [
       "\u001b[3m                               Framework Configuration                               \u001b[0m\n",
       "┏━━━━━━━━━━━━━━━━━━━━━━┳━━━━━━━━━━━━━━━━━┳━━━━━━━━━━━━━━━━━━━━━━━━━━━━━━━━━━━━━━━━━━┓\n",
       "┃\u001b[1;35m \u001b[0m\u001b[1;35mComponent           \u001b[0m\u001b[1;35m \u001b[0m┃\u001b[1;35m \u001b[0m\u001b[1;35mStatus         \u001b[0m\u001b[1;35m \u001b[0m┃\u001b[1;35m \u001b[0m\u001b[1;35mDetails                                 \u001b[0m\u001b[1;35m \u001b[0m┃\n",
       "┡━━━━━━━━━━━━━━━━━━━━━━╇━━━━━━━━━━━━━━━━━╇━━━━━━━━━━━━━━━━━━━━━━━━━━━━━━━━━━━━━━━━━━┩\n",
       "│\u001b[36m \u001b[0m\u001b[36mEnvironment         \u001b[0m\u001b[36m \u001b[0m│\u001b[32m \u001b[0m\u001b[32m✅ Loaded      \u001b[0m\u001b[32m \u001b[0m│\u001b[37m \u001b[0m\u001b[37mVariables from .env file (if present)   \u001b[0m\u001b[37m \u001b[0m│\n",
       "│\u001b[36m \u001b[0m\u001b[36mLogging             \u001b[0m\u001b[36m \u001b[0m│\u001b[32m \u001b[0m\u001b[32m✅ Configured  \u001b[0m\u001b[32m \u001b[0m│\u001b[37m \u001b[0m\u001b[37mLoguru wired to Rich Console            \u001b[0m\u001b[37m \u001b[0m│\n",
       "│\u001b[36m \u001b[0m\u001b[36mConsole             \u001b[0m\u001b[36m \u001b[0m│\u001b[32m \u001b[0m\u001b[32m✅ Ready       \u001b[0m\u001b[32m \u001b[0m│\u001b[37m \u001b[0m\u001b[37mRich formatting enabled                 \u001b[0m\u001b[37m \u001b[0m│\n",
       "│\u001b[36m \u001b[0m\u001b[36mError Handling      \u001b[0m\u001b[36m \u001b[0m│\u001b[32m \u001b[0m\u001b[32m✅ Active      \u001b[0m\u001b[32m \u001b[0m│\u001b[37m \u001b[0m\u001b[37mRich tracebacks installed               \u001b[0m\u001b[37m \u001b[0m│\n",
       "└──────────────────────┴─────────────────┴──────────────────────────────────────────┘\n"
      ]
     },
     "metadata": {},
     "output_type": "display_data"
    }
   ],
   "source": [
    "# Bootstrap the research framework\n",
    "# This initializes logging, console, and environment configuration\n",
    "from research_agent_framework.bootstrap import bootstrap\n",
    "from research_agent_framework.config import get_settings, get_console, get_logger\n",
    "from rich.panel import Panel\n",
    "from rich.table import Table\n",
    "\n",
    "# Run bootstrap to configure the environment\n",
    "console.print(\"🔄 Running bootstrap process...\")\n",
    "bootstrap()\n",
    "\n",
    "# Get the configured settings, console, and logger\n",
    "settings = get_settings()\n",
    "console = settings.console # get_console()\n",
    "logger = settings.logger # get_logger()\n",
    "\n",
    "# Display bootstrap information\n",
    "console.print(Panel(\n",
    "    \"[bold green]✅ Bootstrap Complete[/bold green]\\n\\n\"\n",
    "    \"The research framework has been initialized with:\\n\"\n",
    "    \"• Environment variables loaded\\n\"\n",
    "    \"• Logging configured (console sink)\\n\"\n",
    "    \"• Console formatting enabled\\n\"\n",
    "    \"• Error handling set up\",\n",
    "    title=\"Bootstrap Status\",\n",
    "    expand=False\n",
    "))\n",
    "\n",
    "# Show configuration details\n",
    "config_table = Table(title=\"Framework Configuration\", show_header=True, header_style=\"bold magenta\")\n",
    "config_table.add_column(\"Component\", style=\"cyan\", width=20)\n",
    "config_table.add_column(\"Status\", style=\"green\", width=15)\n",
    "config_table.add_column(\"Details\", style=\"white\", width=40)\n",
    "\n",
    "config_table.add_row(\"Environment\", \"✅ Loaded\", \"Variables from .env file (if present)\")\n",
    "config_table.add_row(\"Logging\", \"✅ Configured\", \"Loguru wired to Rich Console\")\n",
    "config_table.add_row(\"Console\", \"✅ Ready\", \"Rich formatting enabled\")\n",
    "config_table.add_row(\"Error Handling\", \"✅ Active\", \"Rich tracebacks installed\")\n",
    "\n",
    "console.print(config_table)\n"
   ]
  },
  {
   "cell_type": "code",
   "execution_count": 43,
   "metadata": {},
   "outputs": [
    {
     "data": {
      "text/html": [
       "<pre style=\"white-space:pre;overflow-x:auto;line-height:normal;font-family:Menlo,'DejaVu Sans Mono',consolas,'Courier New',monospace\"><span style=\"color: #7fbfbf; text-decoration-color: #7fbfbf\">           </span><span style=\"color: #008000; text-decoration-color: #008000; font-weight: bold\">[</span><span style=\"color: #008000; text-decoration-color: #008000\">INFO</span><span style=\"color: #008000; text-decoration-color: #008000; font-weight: bold\">]</span><span style=\"color: #008000; text-decoration-color: #008000\"> Bootstrap complete. Environment, console, and logging configured.                </span> <a href=\"file://D:\\repos\\tpai_deep_research_from_scratch\\src\\research_agent_framework\\bootstrap.py\" target=\"_blank\"><span style=\"color: #7f7f7f; text-decoration-color: #7f7f7f\">bootstrap.py</span></a><span style=\"color: #7f7f7f; text-decoration-color: #7f7f7f\">:</span><a href=\"file://D:\\repos\\tpai_deep_research_from_scratch\\src\\research_agent_framework\\bootstrap.py#93\" target=\"_blank\"><span style=\"color: #7f7f7f; text-decoration-color: #7f7f7f\">93</span></a>\n",
       "</pre>\n"
      ],
      "text/plain": [
       "\u001b[2;36m          \u001b[0m\u001b[2;36m \u001b[0m\u001b[1;32m[\u001b[0m\u001b[32mINFO\u001b[0m\u001b[1;32m]\u001b[0m\u001b[32m Bootstrap complete. Environment, console, and logging configured.                \u001b[0m \u001b]8;id=206670;file://D:\\repos\\tpai_deep_research_from_scratch\\src\\research_agent_framework\\bootstrap.py\u001b\\\u001b[2mbootstrap.py\u001b[0m\u001b]8;;\u001b\\\u001b[2m:\u001b[0m\u001b]8;id=598920;file://D:\\repos\\tpai_deep_research_from_scratch\\src\\research_agent_framework\\bootstrap.py#93\u001b\\\u001b[2m93\u001b[0m\u001b]8;;\u001b\\\n"
      ]
     },
     "metadata": {},
     "output_type": "display_data"
    },
    {
     "data": {
      "text/html": [
       "<pre style=\"white-space:pre;overflow-x:auto;line-height:normal;font-family:Menlo,'DejaVu Sans Mono',consolas,'Courier New',monospace\"><span style=\"color: #7fbfbf; text-decoration-color: #7fbfbf\">           </span><span style=\"color: #008000; text-decoration-color: #008000; font-weight: bold\">[</span><span style=\"color: #008000; text-decoration-color: #008000\">INFO</span><span style=\"color: #008000; text-decoration-color: #008000; font-weight: bold\">]</span><span style=\"color: #008000; text-decoration-color: #008000\"> Bootstrap complete. Environment, console, and logging configured.                </span> <a href=\"file://D:\\repos\\tpai_deep_research_from_scratch\\src\\research_agent_framework\\bootstrap.py\" target=\"_blank\"><span style=\"color: #7f7f7f; text-decoration-color: #7f7f7f\">bootstrap.py</span></a><span style=\"color: #7f7f7f; text-decoration-color: #7f7f7f\">:</span><a href=\"file://D:\\repos\\tpai_deep_research_from_scratch\\src\\research_agent_framework\\bootstrap.py#93\" target=\"_blank\"><span style=\"color: #7f7f7f; text-decoration-color: #7f7f7f\">93</span></a>\n",
       "</pre>\n"
      ],
      "text/plain": [
       "\u001b[2;36m          \u001b[0m\u001b[2;36m \u001b[0m\u001b[1;32m[\u001b[0m\u001b[32mINFO\u001b[0m\u001b[1;32m]\u001b[0m\u001b[32m Bootstrap complete. Environment, console, and logging configured.                \u001b[0m \u001b]8;id=515479;file://D:\\repos\\tpai_deep_research_from_scratch\\src\\research_agent_framework\\bootstrap.py\u001b\\\u001b[2mbootstrap.py\u001b[0m\u001b]8;;\u001b\\\u001b[2m:\u001b[0m\u001b]8;id=770259;file://D:\\repos\\tpai_deep_research_from_scratch\\src\\research_agent_framework\\bootstrap.py#93\u001b\\\u001b[2m93\u001b[0m\u001b]8;;\u001b\\\n"
      ]
     },
     "metadata": {},
     "output_type": "display_data"
    },
    {
     "name": "stderr",
     "output_type": "stream",
     "text": [
      "2025-09-12T15:47:06.629985-0700 INFO Bootstrap complete. Environment, console, and logging configured.\n",
      "2025-09-12T15:47:06.629985-0700 INFO Bootstrap complete. Environment, console, and logging configured.\n",
      "2025-09-12T15:47:06.629985-0700 INFO Bootstrap complete. Environment, console, and logging configured.\n"
     ]
    }
   ],
   "source": [
    "# Logging: after bootstrap\n",
    "logger.info(\"Bootstrap complete. Environment, console, and logging configured.\")\n"
   ]
  },
  {
   "cell_type": "markdown",
   "metadata": {},
   "source": [
    "### Configuration impact on behavior and logging\n",
    "\n",
    "This section explains how changing settings (env vars) impacts runtime:\n",
    "\n",
    "- `model_name` and `model_temperature` influence prompt behavior and deterministic outputs.\n",
    "- `LOGGING__LEVEL` and `LOGGING__FMT` change the logging verbosity and format; the `Settings.logger` property reflects changes when `get_settings(force_reload=True)` is used.\n",
    "- `enable_tracing` toggles optional tracing hooks (visualizations guarded by env).\n",
    "\n",
    "Below is a safe example demonstrating how to reload settings at runtime and observe logger level changes without restarting the notebook.\n",
    "\n",
    "Note: This example mutates process environment variables temporarily and reloads `Settings` with `force_reload=True` to illustrate effects in a deterministic demo.\n"
   ]
  },
  {
   "cell_type": "code",
   "execution_count": 44,
   "metadata": {},
   "outputs": [
    {
     "name": "stdout",
     "output_type": "stream",
     "text": [
      "Before reload: logging.level= INFO\n",
      "After reload: logging.level= DEBUG\n"
     ]
    },
    {
     "data": {
      "text/html": [
       "<pre style=\"white-space:pre;overflow-x:auto;line-height:normal;font-family:Menlo,'DejaVu Sans Mono',consolas,'Courier New',monospace\"><span style=\"color: #7fbfbf; text-decoration-color: #7fbfbf\">           </span><span style=\"color: #008000; text-decoration-color: #008000; font-weight: bold\">[</span><span style=\"color: #008000; text-decoration-color: #008000\">INFO</span><span style=\"color: #008000; text-decoration-color: #008000; font-weight: bold\">]</span><span style=\"color: #008000; text-decoration-color: #008000\"> This is an info message </span><span style=\"color: #008000; text-decoration-color: #008000; font-weight: bold\">(</span><span style=\"color: #008000; text-decoration-color: #008000\">should always show at INFO/DEBUG</span><span style=\"color: #008000; text-decoration-color: #008000; font-weight: bold\">)</span><span style=\"color: #008000; text-decoration-color: #008000\">                       </span> <a href=\"file://D:\\repos\\tpai_deep_research_from_scratch\\src\\research_agent_framework\\bootstrap.py\" target=\"_blank\"><span style=\"color: #7f7f7f; text-decoration-color: #7f7f7f\">bootstrap.py</span></a><span style=\"color: #7f7f7f; text-decoration-color: #7f7f7f\">:</span><a href=\"file://D:\\repos\\tpai_deep_research_from_scratch\\src\\research_agent_framework\\bootstrap.py#93\" target=\"_blank\"><span style=\"color: #7f7f7f; text-decoration-color: #7f7f7f\">93</span></a>\n",
       "</pre>\n"
      ],
      "text/plain": [
       "\u001b[2;36m          \u001b[0m\u001b[2;36m \u001b[0m\u001b[1;32m[\u001b[0m\u001b[32mINFO\u001b[0m\u001b[1;32m]\u001b[0m\u001b[32m This is an info message \u001b[0m\u001b[1;32m(\u001b[0m\u001b[32mshould always show at INFO/DEBUG\u001b[0m\u001b[1;32m)\u001b[0m\u001b[32m                       \u001b[0m \u001b]8;id=321349;file://D:\\repos\\tpai_deep_research_from_scratch\\src\\research_agent_framework\\bootstrap.py\u001b\\\u001b[2mbootstrap.py\u001b[0m\u001b]8;;\u001b\\\u001b[2m:\u001b[0m\u001b]8;id=535393;file://D:\\repos\\tpai_deep_research_from_scratch\\src\\research_agent_framework\\bootstrap.py#93\u001b\\\u001b[2m93\u001b[0m\u001b]8;;\u001b\\\n"
      ]
     },
     "metadata": {},
     "output_type": "display_data"
    },
    {
     "data": {
      "text/html": [
       "<pre style=\"white-space:pre;overflow-x:auto;line-height:normal;font-family:Menlo,'DejaVu Sans Mono',consolas,'Courier New',monospace\"><span style=\"color: #7fbfbf; text-decoration-color: #7fbfbf\">           </span><span style=\"color: #008000; text-decoration-color: #008000; font-weight: bold\">[</span><span style=\"color: #008000; text-decoration-color: #008000\">INFO</span><span style=\"color: #008000; text-decoration-color: #008000; font-weight: bold\">]</span><span style=\"color: #008000; text-decoration-color: #008000\"> This is an info message </span><span style=\"color: #008000; text-decoration-color: #008000; font-weight: bold\">(</span><span style=\"color: #008000; text-decoration-color: #008000\">should always show at INFO/DEBUG</span><span style=\"color: #008000; text-decoration-color: #008000; font-weight: bold\">)</span><span style=\"color: #008000; text-decoration-color: #008000\">                       </span> <a href=\"file://D:\\repos\\tpai_deep_research_from_scratch\\src\\research_agent_framework\\bootstrap.py\" target=\"_blank\"><span style=\"color: #7f7f7f; text-decoration-color: #7f7f7f\">bootstrap.py</span></a><span style=\"color: #7f7f7f; text-decoration-color: #7f7f7f\">:</span><a href=\"file://D:\\repos\\tpai_deep_research_from_scratch\\src\\research_agent_framework\\bootstrap.py#93\" target=\"_blank\"><span style=\"color: #7f7f7f; text-decoration-color: #7f7f7f\">93</span></a>\n",
       "</pre>\n"
      ],
      "text/plain": [
       "\u001b[2;36m          \u001b[0m\u001b[2;36m \u001b[0m\u001b[1;32m[\u001b[0m\u001b[32mINFO\u001b[0m\u001b[1;32m]\u001b[0m\u001b[32m This is an info message \u001b[0m\u001b[1;32m(\u001b[0m\u001b[32mshould always show at INFO/DEBUG\u001b[0m\u001b[1;32m)\u001b[0m\u001b[32m                       \u001b[0m \u001b]8;id=617968;file://D:\\repos\\tpai_deep_research_from_scratch\\src\\research_agent_framework\\bootstrap.py\u001b\\\u001b[2mbootstrap.py\u001b[0m\u001b]8;;\u001b\\\u001b[2m:\u001b[0m\u001b]8;id=200227;file://D:\\repos\\tpai_deep_research_from_scratch\\src\\research_agent_framework\\bootstrap.py#93\u001b\\\u001b[2m93\u001b[0m\u001b]8;;\u001b\\\n"
      ]
     },
     "metadata": {},
     "output_type": "display_data"
    },
    {
     "name": "stderr",
     "output_type": "stream",
     "text": [
      "2025-09-12T15:47:06.650026-0700 INFO This is an info message (should always show at INFO/DEBUG)\n",
      "2025-09-12T15:47:06.650026-0700 INFO This is an info message (should always show at INFO/DEBUG)\n",
      "2025-09-12T15:47:06.650026-0700 INFO This is an info message (should always show at INFO/DEBUG)\n",
      "2025-09-12T15:47:06.656426-0700 DEBUG This is a debug message (visible only when level=DEBUG)\n",
      "2025-09-12T15:47:06.656426-0700 DEBUG This is a debug message (visible only when level=DEBUG)\n"
     ]
    },
    {
     "name": "stdout",
     "output_type": "stream",
     "text": [
      "Restored: logging.level= INFO\n"
     ]
    }
   ],
   "source": [
    "# Demonstration: change logging level via env and reload settings\n",
    "import os\n",
    "from research_agent_framework.config import get_settings, get_logger\n",
    "\n",
    "# Show current logging level\n",
    "settings = get_settings()\n",
    "print(\"Before reload: logging.level=\", settings.logging.level)\n",
    "\n",
    "# Temporarily set environment to DEBUG and reload\n",
    "os.environ[\"LOGGING__LEVEL\"] = \"DEBUG\"\n",
    "settings = get_settings(force_reload=True)\n",
    "print(\"After reload: logging.level=\", settings.logging.level)\n",
    "\n",
    "# Acquire logger and show that level reflects setting\n",
    "logger = get_logger()\n",
    "logger.info(\"This is an info message (should always show at INFO/DEBUG)\")\n",
    "logger.debug(\"This is a debug message (visible only when level=DEBUG)\")\n",
    "\n",
    "# Clean up: restore env and reload to original for deterministic notebook runs\n",
    "os.environ.pop(\"LOGGING__LEVEL\", None)\n",
    "settings = get_settings(force_reload=True)\n",
    "print(\"Restored: logging.level=\", settings.logging.level)\n"
   ]
  },
  {
   "cell_type": "code",
   "execution_count": 45,
   "metadata": {},
   "outputs": [
    {
     "data": {
      "text/html": [
       "<pre style=\"white-space:pre;overflow-x:auto;line-height:normal;font-family:Menlo,'DejaVu Sans Mono',consolas,'Courier New',monospace\"><span style=\"color: #7fbfbf; text-decoration-color: #7fbfbf\">           </span><span style=\"color: #008000; text-decoration-color: #008000; font-weight: bold\">[</span><span style=\"color: #008000; text-decoration-color: #008000\">INFO</span><span style=\"color: #008000; text-decoration-color: #008000; font-weight: bold\">]</span><span style=\"color: #008000; text-decoration-color: #008000\"> Reloaded settings: logging.</span><span style=\"color: #808000; text-decoration-color: #808000\">level</span><span style=\"color: #008000; text-decoration-color: #008000\">=</span><span style=\"color: #800080; text-decoration-color: #800080\">INFO</span><span style=\"color: #008000; text-decoration-color: #008000\">                                            </span> <a href=\"file://D:\\repos\\tpai_deep_research_from_scratch\\src\\research_agent_framework\\bootstrap.py\" target=\"_blank\"><span style=\"color: #7f7f7f; text-decoration-color: #7f7f7f\">bootstrap.py</span></a><span style=\"color: #7f7f7f; text-decoration-color: #7f7f7f\">:</span><a href=\"file://D:\\repos\\tpai_deep_research_from_scratch\\src\\research_agent_framework\\bootstrap.py#93\" target=\"_blank\"><span style=\"color: #7f7f7f; text-decoration-color: #7f7f7f\">93</span></a>\n",
       "</pre>\n"
      ],
      "text/plain": [
       "\u001b[2;36m          \u001b[0m\u001b[2;36m \u001b[0m\u001b[1;32m[\u001b[0m\u001b[32mINFO\u001b[0m\u001b[1;32m]\u001b[0m\u001b[32m Reloaded settings: logging.\u001b[0m\u001b[33mlevel\u001b[0m\u001b[32m=\u001b[0m\u001b[35mINFO\u001b[0m\u001b[32m                                            \u001b[0m \u001b]8;id=854564;file://D:\\repos\\tpai_deep_research_from_scratch\\src\\research_agent_framework\\bootstrap.py\u001b\\\u001b[2mbootstrap.py\u001b[0m\u001b]8;;\u001b\\\u001b[2m:\u001b[0m\u001b]8;id=729605;file://D:\\repos\\tpai_deep_research_from_scratch\\src\\research_agent_framework\\bootstrap.py#93\u001b\\\u001b[2m93\u001b[0m\u001b]8;;\u001b\\\n"
      ]
     },
     "metadata": {},
     "output_type": "display_data"
    },
    {
     "data": {
      "text/html": [
       "<pre style=\"white-space:pre;overflow-x:auto;line-height:normal;font-family:Menlo,'DejaVu Sans Mono',consolas,'Courier New',monospace\"><span style=\"color: #7fbfbf; text-decoration-color: #7fbfbf\">           </span><span style=\"color: #008000; text-decoration-color: #008000; font-weight: bold\">[</span><span style=\"color: #008000; text-decoration-color: #008000\">INFO</span><span style=\"color: #008000; text-decoration-color: #008000; font-weight: bold\">]</span><span style=\"color: #008000; text-decoration-color: #008000\"> Reloaded settings: logging.</span><span style=\"color: #808000; text-decoration-color: #808000\">level</span><span style=\"color: #008000; text-decoration-color: #008000\">=</span><span style=\"color: #800080; text-decoration-color: #800080\">INFO</span><span style=\"color: #008000; text-decoration-color: #008000\">                                            </span> <a href=\"file://D:\\repos\\tpai_deep_research_from_scratch\\src\\research_agent_framework\\bootstrap.py\" target=\"_blank\"><span style=\"color: #7f7f7f; text-decoration-color: #7f7f7f\">bootstrap.py</span></a><span style=\"color: #7f7f7f; text-decoration-color: #7f7f7f\">:</span><a href=\"file://D:\\repos\\tpai_deep_research_from_scratch\\src\\research_agent_framework\\bootstrap.py#93\" target=\"_blank\"><span style=\"color: #7f7f7f; text-decoration-color: #7f7f7f\">93</span></a>\n",
       "</pre>\n"
      ],
      "text/plain": [
       "\u001b[2;36m          \u001b[0m\u001b[2;36m \u001b[0m\u001b[1;32m[\u001b[0m\u001b[32mINFO\u001b[0m\u001b[1;32m]\u001b[0m\u001b[32m Reloaded settings: logging.\u001b[0m\u001b[33mlevel\u001b[0m\u001b[32m=\u001b[0m\u001b[35mINFO\u001b[0m\u001b[32m                                            \u001b[0m \u001b]8;id=292537;file://D:\\repos\\tpai_deep_research_from_scratch\\src\\research_agent_framework\\bootstrap.py\u001b\\\u001b[2mbootstrap.py\u001b[0m\u001b]8;;\u001b\\\u001b[2m:\u001b[0m\u001b]8;id=411530;file://D:\\repos\\tpai_deep_research_from_scratch\\src\\research_agent_framework\\bootstrap.py#93\u001b\\\u001b[2m93\u001b[0m\u001b]8;;\u001b\\\n"
      ]
     },
     "metadata": {},
     "output_type": "display_data"
    },
    {
     "name": "stderr",
     "output_type": "stream",
     "text": [
      "2025-09-12T15:47:06.669380-0700 INFO Reloaded settings: logging.level=INFO\n",
      "2025-09-12T15:47:06.669380-0700 INFO Reloaded settings: logging.level=INFO\n",
      "2025-09-12T15:47:06.669380-0700 INFO Reloaded settings: logging.level=INFO\n",
      "2025-09-12T15:47:06.669380-0700 INFO Reloaded settings: logging.level=INFO\n",
      "2025-09-12T15:47:06.669380-0700 INFO Reloaded settings: logging.level=INFO\n"
     ]
    }
   ],
   "source": [
    "# Logging: config reload demo\n",
    "logger.info(f\"Reloaded settings: logging.level={settings.logging.level}\")\n"
   ]
  },
  {
   "cell_type": "markdown",
   "metadata": {},
   "source": [
    "## Architecture & Technologies (Brief Overview)\n",
    "\n",
    "- **Settings & Bootstrap**: `Settings` (Pydantic) loads env; `bootstrap()` enables rich tracebacks and wires Loguru → Rich `Console`.\n",
    "- **Logging**: `LoggingConfig` fields (`level`, `fmt`, `backend`) drive a lazy `logger` property; helpers delegate to the same instances.\n",
    "- **Agents & Models**: Agents coordinate research steps; Pydantic models (`SerpResult`, `Scope`, etc.) provide typed state.\n",
    "- **Adapters**: Search adapters (SerpAPI/Tavily) expose deterministic stubs with optional live paths.\n",
    "- **Prompts/Renderer**: Jinja templates rendered with rich-markdown output for clarity.\n",
    "- **Tests as Specs**: Notebook sections mirror `tests/` behaviors for deterministic, reproducible demos.\n"
   ]
  },
  {
   "cell_type": "markdown",
   "metadata": {},
   "source": [
    "## Architecture Diagram (Components)\n",
    "\n",
    "```mermaid\n",
    "flowchart LR\n",
    "  subgraph Agents\n",
    "    A[Research Agent]\n",
    "    S[Scoping Agent]\n",
    "    SP[Supervisor]\n",
    "  end\n",
    "\n",
    "  subgraph Framework\n",
    "    CFG[Settings]\n",
    "    LCFG[LoggingConfig]\n",
    "    CON[Console]\n",
    "    LGR[Logger]\n",
    "    PR[Prompt Renderer]\n",
    "    LLM[LLM Client]\n",
    "  end\n",
    "\n",
    "  subgraph Adapters\n",
    "    SERP[SerpAPI Adapter]\n",
    "    TAV[Tavily Adapter]\n",
    "  end\n",
    "\n",
    "  A --> PR\n",
    "  A --> LLM\n",
    "  A --> SERP\n",
    "  A --> TAV\n",
    "  S --> PR\n",
    "  SP --> A\n",
    "  SP --> S\n",
    "\n",
    "  CFG --> CON\n",
    "  CFG --> LCFG\n",
    "  LCFG --> LGR\n",
    "  LGR --> CON\n",
    "```\n"
   ]
  },
  {
   "cell_type": "markdown",
   "metadata": {},
   "source": [
    "## Sequence Diagram (User → Scoping → Research → Synthesis → Report)\n",
    "\n",
    "```mermaid\n",
    "sequenceDiagram\n",
    "    participant U as User\n",
    "    participant S as Scoping Agent\n",
    "    participant R as Research Agent\n",
    "    participant L as LLM Client\n",
    "    participant A as Search Adapter\n",
    "    participant P as Prompt Renderer\n",
    "    participant V as Supervisor\n",
    "\n",
    "    U->>S: Provide initial question / constraints\n",
    "    S->>P: Format scoping prompt\n",
    "    P-->>S: Scoped questions / clarifications\n",
    "    S->>U: Ask clarifying question (if needed)\n",
    "    U-->>S: Clarified scope\n",
    "\n",
    "    S->>R: Submit refined scope / research task\n",
    "    R->>P: Render research prompt\n",
    "    P-->>R: Prompt text\n",
    "    R->>L: Query LLM for retrieval & analysis\n",
    "    L-->>R: LLM response (results / suggestions)\n",
    "\n",
    "    R->>A: Run search queries (documents, citations)\n",
    "    A-->>R: Search results (Serp/Tavily)\n",
    "\n",
    "    R->>R: Aggregate findings, synthesize insights\n",
    "    R->>V: Hand-off for supervision / orchestration\n",
    "    V-->>R: Supervisor decisions / reassignments\n",
    "\n",
    "    R->>U: Deliver final report / brief\n",
    "    Note over U,R: Report includes provenance and evidence links\n",
    "```\n"
   ]
  },
  {
   "cell_type": "markdown",
   "metadata": {},
   "source": [
    "## Data Model Diagram (Key models & relationships)\n",
    "\n",
    "```mermaid\n",
    "classDiagram\n",
    "    direction LR\n",
    "    class SerpResult {\n",
    "        string id\n",
    "        string title\n",
    "        string snippet\n",
    "        string url\n",
    "        list citations\n",
    "        +from_raw(dict) SerpResult\n",
    "    }\n",
    "\n",
    "    class Scope {\n",
    "        string id\n",
    "        string question\n",
    "        list constraints\n",
    "        list clarifications\n",
    "    }\n",
    "\n",
    "    class ResearchTask {\n",
    "        string id\n",
    "        Scope scope\n",
    "        list steps\n",
    "        status\n",
    "    }\n",
    "\n",
    "    class EvalResult {\n",
    "        string task_id\n",
    "        bool success\n",
    "        float score\n",
    "        string feedback\n",
    "        dict details\n",
    "    }\n",
    "\n",
    "    class AgentContext {\n",
    "        settings\n",
    "        console\n",
    "        logger\n",
    "        llm_client\n",
    "        search_adapter\n",
    "    }\n",
    "\n",
    "    SerpResult --|> ResearchTask : evidence\n",
    "    Scope \"1\" o-- \"0..*\" ResearchTask : generates\n",
    "    ResearchTask \"1\" o-- \"0..*\" EvalResult : evaluated_by\n",
    "    AgentContext \"1\" -- \"*\" ResearchTask : used_by\n",
    "```\n"
   ]
  },
  {
   "cell_type": "markdown",
   "metadata": {},
   "source": [
    "### Why this setup (results of the design)\n",
    "\n",
    "- **Env overrides work**: `LOGGING__LEVEL`, `LOGGING__FMT`, `LOGGING__BACKEND` populate real fields; the `logger` property reflects them at access time.\n",
    "- **Single ownership via properties**: `settings.console` and `settings.logger` are the shared instances used everywhere.\n",
    "- **Helpers remain simple**: `get_console()` / `get_logger()` just delegate to those shared instances when you prefer function calls.\n",
    "- **Robust bootstrap**: `bootstrap()` installs rich tracebacks, ensures a Console, and wires Loguru → Console idempotently.\n",
    "- **Notebook consistency**: Cells use property access (e.g., `settings.console`) for clarity; helpers are equivalent if preferred.\n"
   ]
  },
  {
   "cell_type": "markdown",
   "metadata": {},
   "source": [
    "## Env vars: required and optional (4.1)\n",
    "\n",
    "Key environment variables used by the framework (recommended defaults shown):\n",
    "\n",
    "| Variable | Required? | Default | Description |\n",
    "|---|---:|---|---|\n",
    "| `SERPAPI_API_KEY` | Optional | — | API key for SerpAPI; if missing, notebook defaults to `Mock` adapter |\n",
    "| `TAVILY_API_KEY` | Optional | — | API key for Tavily adapter; if missing, notebook defaults to `Mock` adapter |\n",
    "| `LOGGING__LEVEL` | Optional | `INFO` | Logging verbosity |\n",
    "| `LOGGING__FMT` | Optional | project default | Logging format string |\n",
    "| `MODEL_NAME` | Optional | `mock-model` | LLM model to use when not mocking |\n",
    "| `MODEL_TEMPERATURE` | Optional | `0.0` | Controls LLM sampling |\n",
    "| `ENABLE_TRACING` | Optional | `False` | Enable tracing hooks |\n",
    "\n",
    "This section lists recommended env vars, safe defaults, and guidance on toggling live providers vs mocks."
   ]
  },
  {
   "cell_type": "code",
   "execution_count": 46,
   "metadata": {},
   "outputs": [
    {
     "name": "stdout",
     "output_type": "stream",
     "text": [
      "MODEL_NAME = mock-model\n",
      "MODEL_TEMPERATURE = 0.0\n",
      "LOGGING__LEVEL = INFO\n",
      "ENABLE_TRACING = False\n",
      "SERPAPI_API_KEY present: False\n",
      "TAVILY_API_KEY present: True\n"
     ]
    }
   ],
   "source": [
    "# Safe demo: display resolved settings and show defaults\n",
    "from research_agent_framework.config import get_settings\n",
    "\n",
    "s = get_settings(force_reload=True)\n",
    "print('MODEL_NAME =', s.model_name)\n",
    "print('MODEL_TEMPERATURE =', s.model_temperature)\n",
    "print('LOGGING__LEVEL =', s.logging.level)\n",
    "print('ENABLE_TRACING =', s.enable_tracing)\n",
    "\n",
    "# Display whether external adapter keys are present\n",
    "import os\n",
    "print('SERPAPI_API_KEY present:', bool(os.environ.get('SERPAPI_API_KEY')))\n",
    "print('TAVILY_API_KEY present:', bool(os.environ.get('TAVILY_API_KEY')))\n"
   ]
  },
  {
   "cell_type": "markdown",
   "metadata": {},
   "source": [
    "### Safe defaults and fallback behavior (4.2)\n",
    "\n",
    "This cell demonstrates how the notebook and framework behave when external API keys are not provided. By default the notebook uses deterministic `Mock` adapters and `MockLLM` to keep examples reproducible and low-cost.\n",
    "\n",
    "Key points:\n",
    "\n",
    "- If `SERPAPI_API_KEY` or `TAVILY_API_KEY` are missing, the framework falls back to the `Mock` search adapter.\n",
    "- If `MODEL_NAME` is set to a real provider name, `llm_factory` will create a live client — otherwise the `MockLLM` is used.\n",
    "- Use `get_settings(force_reload=True)` after mutating `os.environ` to observe changes at runtime in an idempotent manner.\n",
    "\n",
    "The next code cell runs a safe demo that temporarily unsets adapter-related env vars, reloads settings, and prints which adapters/LLM the framework would use."
   ]
  },
  {
   "cell_type": "code",
   "execution_count": 47,
   "metadata": {},
   "outputs": [
    {
     "data": {
      "text/html": [
       "<pre style=\"white-space:pre;overflow-x:auto;line-height:normal;font-family:Menlo,'DejaVu Sans Mono',consolas,'Courier New',monospace\">Baseline: <span style=\"color: #808000; text-decoration-color: #808000\">MODEL_NAME</span>=<span style=\"color: #008000; text-decoration-color: #008000\">'mock-model'</span>, SERPAPI key <span style=\"color: #808000; text-decoration-color: #808000\">present</span>=<span style=\"color: #ff0000; text-decoration-color: #ff0000; font-style: italic\">False</span>\n",
       "</pre>\n"
      ],
      "text/plain": [
       "Baseline: \u001b[33mMODEL_NAME\u001b[0m=\u001b[32m'mock-model'\u001b[0m, SERPAPI key \u001b[33mpresent\u001b[0m=\u001b[3;91mFalse\u001b[0m\n"
      ]
     },
     "metadata": {},
     "output_type": "display_data"
    },
    {
     "data": {
      "text/html": [
       "<pre style=\"white-space:pre;overflow-x:auto;line-height:normal;font-family:Menlo,'DejaVu Sans Mono',consolas,'Courier New',monospace\">During missing-keys demo: <span style=\"color: #808000; text-decoration-color: #808000\">serp_adapter</span>=<span style=\"color: #800080; text-decoration-color: #800080\">SerpAPISearchAdapter</span>, <span style=\"color: #808000; text-decoration-color: #808000\">tav_adapter</span>=<span style=\"color: #800080; text-decoration-color: #800080\">TavilySearchAdapter</span>, <span style=\"color: #808000; text-decoration-color: #808000\">llm</span>=<span style=\"color: #800080; text-decoration-color: #800080\">MockLLM</span>\n",
       "</pre>\n"
      ],
      "text/plain": [
       "During missing-keys demo: \u001b[33mserp_adapter\u001b[0m=\u001b[35mSerpAPISearchAdapter\u001b[0m, \u001b[33mtav_adapter\u001b[0m=\u001b[35mTavilySearchAdapter\u001b[0m, \u001b[33mllm\u001b[0m=\u001b[35mMockLLM\u001b[0m\n"
      ]
     },
     "metadata": {},
     "output_type": "display_data"
    },
    {
     "data": {
      "text/html": [
       "<pre style=\"white-space:pre;overflow-x:auto;line-height:normal;font-family:Menlo,'DejaVu Sans Mono',consolas,'Courier New',monospace\">After restore: <span style=\"color: #808000; text-decoration-color: #808000\">MODEL_NAME</span>=<span style=\"color: #008000; text-decoration-color: #008000\">'mock-model'</span>\n",
       "</pre>\n"
      ],
      "text/plain": [
       "After restore: \u001b[33mMODEL_NAME\u001b[0m=\u001b[32m'mock-model'\u001b[0m\n"
      ]
     },
     "metadata": {},
     "output_type": "display_data"
    }
   ],
   "source": [
    "# Demo: show which adapters/LLM would be used when adapter keys are absent\n",
    "import os\n",
    "from contextlib import contextmanager\n",
    "from research_agent_framework.config import get_settings, get_console\n",
    "from research_agent_framework.adapters.search import from_raw_adapter\n",
    "from research_agent_framework.llm.client import llm_factory, LLMConfig, MockLLM\n",
    "\n",
    "console = get_console()\n",
    "\n",
    "@contextmanager\n",
    "def temp_env_vars(*keys):\n",
    "    \"\"\"Temporarily pop keys from os.environ, restoring them on exit.\"\"\"\n",
    "    saved = {k: os.environ.pop(k, None) for k in keys}\n",
    "    try:\n",
    "        yield\n",
    "    finally:\n",
    "        for k, v in saved.items():\n",
    "            if v is not None:\n",
    "                os.environ[k] = v\n",
    "\n",
    "# Show baseline\n",
    "settings = get_settings(force_reload=True)\n",
    "console.print(f\"Baseline: MODEL_NAME={settings.model_name!r}, SERPAPI key present={bool(os.environ.get('SERPAPI_API_KEY'))}\")\n",
    "\n",
    "# Temporarily remove adapter keys to simulate missing credentials\n",
    "with temp_env_vars('SERPAPI_API_KEY', 'TAVILY_API_KEY'):\n",
    "    s = get_settings(force_reload=True)\n",
    "    # Use the adapters package factory; provide an empty raw payload and explicit provider\n",
    "    serp_adapter = from_raw_adapter({}, provider='serpapi')\n",
    "    tav_adapter = from_raw_adapter({}, provider='tavily')\n",
    "\n",
    "    # Build a minimal LLMConfig from settings and create an LLM client with fallback\n",
    "    cfg = LLMConfig(api_key=s.llm_api_key or \"\", model=s.model_name or \"mock-model\", temperature=s.model_temperature)\n",
    "    provider = 'mock' if (s.model_name is None or str(s.model_name).startswith('mock')) else str(s.model_name)\n",
    "    try:\n",
    "        llm = llm_factory(provider, cfg)\n",
    "    except Exception:\n",
    "        # Unknown provider or construction failure -> fallback to MockLLM\n",
    "        llm = MockLLM(cfg)\n",
    "\n",
    "    console.print(f\"During missing-keys demo: serp_adapter={serp_adapter.__class__.__name__}, tav_adapter={tav_adapter.__class__.__name__}, llm={llm.__class__.__name__}\")\n",
    "\n",
    "# Restore and show\n",
    "s2 = get_settings(force_reload=True)\n",
    "console.print(f\"After restore: MODEL_NAME={s2.model_name!r}\")\n"
   ]
  },
  {
   "cell_type": "markdown",
   "metadata": {},
   "source": [
    "### Switchboard helper: centralize mock/live toggles (4.3)\n",
    "\n",
    "This small utility centralizes environment-driven toggles used by the notebook and examples. Use the helper to make notebook cells short and declarative — change the environment in one place and the helper will consistently report whether the framework will use mocks or live providers.\n",
    "\n",
    "The code cell below demonstrates toggling `FORCE_USE_MOCK` and observing the resolved behavior for search adapters and the LLM."
   ]
  },
  {
   "cell_type": "code",
   "execution_count": 48,
   "metadata": {},
   "outputs": [
    {
     "data": {
      "text/html": [
       "<pre style=\"white-space:pre;overflow-x:auto;line-height:normal;font-family:Menlo,'DejaVu Sans Mono',consolas,'Courier New',monospace\">Baseline: <span style=\"color: #808000; text-decoration-color: #808000\">use_mock_search</span>=<span style=\"color: #00ff00; text-decoration-color: #00ff00; font-style: italic\">True</span>, <span style=\"color: #808000; text-decoration-color: #808000\">use_mock_llm</span>=<span style=\"color: #00ff00; text-decoration-color: #00ff00; font-style: italic\">True</span>\n",
       "</pre>\n"
      ],
      "text/plain": [
       "Baseline: \u001b[33muse_mock_search\u001b[0m=\u001b[3;92mTrue\u001b[0m, \u001b[33muse_mock_llm\u001b[0m=\u001b[3;92mTrue\u001b[0m\n"
      ]
     },
     "metadata": {},
     "output_type": "display_data"
    },
    {
     "data": {
      "text/html": [
       "<pre style=\"white-space:pre;overflow-x:auto;line-height:normal;font-family:Menlo,'DejaVu Sans Mono',consolas,'Courier New',monospace\">After <span style=\"color: #808000; text-decoration-color: #808000\">FORCE_USE_MOCK</span>=<span style=\"color: #008080; text-decoration-color: #008080; font-weight: bold\">1</span>: <span style=\"color: #808000; text-decoration-color: #808000\">use_mock_search</span>=<span style=\"color: #00ff00; text-decoration-color: #00ff00; font-style: italic\">True</span>, <span style=\"color: #808000; text-decoration-color: #808000\">use_mock_llm</span>=<span style=\"color: #00ff00; text-decoration-color: #00ff00; font-style: italic\">True</span>\n",
       "</pre>\n"
      ],
      "text/plain": [
       "After \u001b[33mFORCE_USE_MOCK\u001b[0m=\u001b[1;36m1\u001b[0m: \u001b[33muse_mock_search\u001b[0m=\u001b[3;92mTrue\u001b[0m, \u001b[33muse_mock_llm\u001b[0m=\u001b[3;92mTrue\u001b[0m\n"
      ]
     },
     "metadata": {},
     "output_type": "display_data"
    },
    {
     "data": {
      "text/html": [
       "<pre style=\"white-space:pre;overflow-x:auto;line-height:normal;font-family:Menlo,'DejaVu Sans Mono',consolas,'Courier New',monospace\">After restore: <span style=\"color: #808000; text-decoration-color: #808000\">use_mock_search</span>=<span style=\"color: #ff0000; text-decoration-color: #ff0000; font-style: italic\">False</span>, <span style=\"color: #808000; text-decoration-color: #808000\">use_mock_llm</span>=<span style=\"color: #00ff00; text-decoration-color: #00ff00; font-style: italic\">True</span>\n",
       "</pre>\n"
      ],
      "text/plain": [
       "After restore: \u001b[33muse_mock_search\u001b[0m=\u001b[3;91mFalse\u001b[0m, \u001b[33muse_mock_llm\u001b[0m=\u001b[3;92mTrue\u001b[0m\n"
      ]
     },
     "metadata": {},
     "output_type": "display_data"
    }
   ],
   "source": [
    "# Switchboard demo cell: toggle FORCE_USE_MOCK and show effective choices\n",
    "import os\n",
    "from research_agent_framework.helpers.switchboard import use_mock_search, use_mock_llm\n",
    "from research_agent_framework.config import get_console, get_settings\n",
    "\n",
    "console = get_console()\n",
    "\n",
    "# Baseline\n",
    "s = get_settings(force_reload=True)\n",
    "console.print(f\"Baseline: use_mock_search={use_mock_search(s)}, use_mock_llm={use_mock_llm(s)}\")\n",
    "\n",
    "# Force use of mocks\n",
    "os.environ['FORCE_USE_MOCK'] = '1'\n",
    "s_forced = get_settings(force_reload=True)\n",
    "console.print(f\"After FORCE_USE_MOCK=1: use_mock_search={use_mock_search(s_forced)}, use_mock_llm={use_mock_llm(s_forced)}\")\n",
    "\n",
    "# Clean up\n",
    "os.environ.pop('FORCE_USE_MOCK', None)\n",
    "s_restored = get_settings(force_reload=True)\n",
    "console.print(f\"After restore: use_mock_search={use_mock_search(s_restored)}, use_mock_llm={use_mock_llm(s_restored)}\")\n"
   ]
  },
  {
   "cell_type": "markdown",
   "metadata": {},
   "source": [
    "### Central switchboard (6.0) - single place to toggle mocks vs live providers\n",
    "\n",
    "This small, editable cell is the recommended place to toggle the environment for the entire notebook when you want to run the examples against live providers. By default the notebook is mock-first (safe and deterministic).\n",
    "\n",
    "Change `FORCE_USE_MOCK` below or set provider-specific keys (`SERPAPI_API_KEY`, `TAVILY_API_KEY`, `MODEL_NAME`) to run with live services. Use `get_settings(force_reload=True)` after editing to apply changes in subsequent cells."
   ]
  },
  {
   "cell_type": "code",
   "execution_count": 49,
   "metadata": {},
   "outputs": [
    {
     "name": "stdout",
     "output_type": "stream",
     "text": [
      "Central switchboard applied. Current: FORCE_USE_MOCK= 1 MODEL_NAME= mock-model\n"
     ]
    }
   ],
   "source": [
    "# Central switchboard: edit this cell to toggle mock vs live globally for the notebook\n",
    "# Options:\n",
    "#  - Set FORCE_USE_MOCK=1 to force all mocks\n",
    "#  - Unset FORCE_USE_MOCK and set provider keys (SERPAPI_API_KEY/TAVILY_API_KEY/MODEL_NAME) to use live providers\n",
    "import os\n",
    "# Example: force mocks for all demo cells (safe default)\n",
    "os.environ['FORCE_USE_MOCK'] = os.environ.get('FORCE_USE_MOCK', '1')\n",
    "# Example: to use live providers, uncomment and set real keys here (DO NOT commit secrets)\n",
    "# os.environ.pop('FORCE_USE_MOCK', None)\n",
    "# os.environ['SERPAPI_API_KEY'] = 'sk-...your-key...'\n",
    "# os.environ['TAVILY_API_KEY'] = 'tk-...your-key...'\n",
    "# os.environ['MODEL_NAME'] = 'openai-gpt-4'\n",
    "\n",
    "# Apply settings reload so later cells observe the new environment\n",
    "from research_agent_framework.config import get_settings\n",
    "s = get_settings(force_reload=True)\n",
    "print('Central switchboard applied. Current: FORCE_USE_MOCK=', os.environ.get('FORCE_USE_MOCK'), 'MODEL_NAME=', s.model_name)\n"
   ]
  },
  {
   "cell_type": "code",
   "execution_count": null,
   "metadata": {},
   "outputs": [],
   "source": []
  },
  {
   "cell_type": "markdown",
   "metadata": {},
   "source": [
    "## 7.0 User Clarification and Scoping Demo\n",
    "\n",
    "This section demonstrates how the research agent iteratively refines the user's request using deterministic (mock) responses. The workflow ensures that the agent only proceeds to research after sufficient clarification, mirroring the logic in `research_agent_scope.py` and the corresponding tests.\n",
    "\n",
    "- **7.2 Iterative refinement:** The agent asks clarifying questions until enough information is provided.\n",
    "- **7.3 Scope state capture:** The agent validates and stores the scope state for downstream research.\n",
    "\n",
    "Cells below show the clarification loop and state validation, using mock adapters for reproducibility."
   ]
  },
  {
   "cell_type": "code",
   "execution_count": 50,
   "metadata": {},
   "outputs": [
    {
     "data": {
      "text/html": [
       "<pre style=\"white-space:pre;overflow-x:auto;line-height:normal;font-family:Menlo,'DejaVu Sans Mono',consolas,'Courier New',monospace\"><span style=\"color: #7fbfbf; text-decoration-color: #7fbfbf\">[09/12/25 15:47:08] </span><span style=\"color: #000080; text-decoration-color: #000080\">INFO    </span> <span style=\"color: #008080; text-decoration-color: #008080; font-weight: bold\">2025</span>-<span style=\"color: #008080; text-decoration-color: #008080; font-weight: bold\">09</span>-<span style=\"color: #008080; text-decoration-color: #008080; font-weight: bold\">12</span> <span style=\"color: #00ff00; text-decoration-color: #00ff00; font-weight: bold\">15:47:08</span>,<span style=\"color: #008080; text-decoration-color: #008080; font-weight: bold\">368</span> INFO HTTP Request: <span style=\"color: #808000; text-decoration-color: #808000; font-weight: bold\">POST</span>                        <a href=\"file://d:\\repos\\tpai_deep_research_from_scratch\\.venv\\Lib\\site-packages\\httpx\\_client.py\" target=\"_blank\"><span style=\"color: #7f7f7f; text-decoration-color: #7f7f7f\">_client.py</span></a><span style=\"color: #7f7f7f; text-decoration-color: #7f7f7f\">:</span><a href=\"file://d:\\repos\\tpai_deep_research_from_scratch\\.venv\\Lib\\site-packages\\httpx\\_client.py#1025\" target=\"_blank\"><span style=\"color: #7f7f7f; text-decoration-color: #7f7f7f\">1025</span></a>\n",
       "<span style=\"color: #7fbfbf; text-decoration-color: #7fbfbf\">                    </span>         <span style=\"color: #0000ff; text-decoration-color: #0000ff; text-decoration: underline\">https://api.openai.com/v1/chat/completions</span> <span style=\"color: #008000; text-decoration-color: #008000\">\"HTTP/1.1 200 OK\"</span>           <span style=\"color: #7f7f7f; text-decoration-color: #7f7f7f\">               </span>\n",
       "</pre>\n"
      ],
      "text/plain": [
       "\u001b[2;36m[09/12/25 15:47:08]\u001b[0m\u001b[2;36m \u001b[0m\u001b[34mINFO    \u001b[0m \u001b[1;36m2025\u001b[0m-\u001b[1;36m09\u001b[0m-\u001b[1;36m12\u001b[0m \u001b[1;92m15:47:08\u001b[0m,\u001b[1;36m368\u001b[0m INFO HTTP Request: \u001b[1;33mPOST\u001b[0m                        \u001b]8;id=76988;file://d:\\repos\\tpai_deep_research_from_scratch\\.venv\\Lib\\site-packages\\httpx\\_client.py\u001b\\\u001b[2m_client.py\u001b[0m\u001b]8;;\u001b\\\u001b[2m:\u001b[0m\u001b]8;id=751983;file://d:\\repos\\tpai_deep_research_from_scratch\\.venv\\Lib\\site-packages\\httpx\\_client.py#1025\u001b\\\u001b[2m1025\u001b[0m\u001b]8;;\u001b\\\n",
       "\u001b[2;36m                    \u001b[0m         \u001b[4;94mhttps://api.openai.com/v1/chat/completions\u001b[0m \u001b[32m\"HTTP/1.1 200 OK\"\u001b[0m           \u001b[2m               \u001b[0m\n"
      ]
     },
     "metadata": {},
     "output_type": "display_data"
    },
    {
     "data": {
      "text/html": [
       "<pre style=\"white-space:pre;overflow-x:auto;line-height:normal;font-family:Menlo,'DejaVu Sans Mono',consolas,'Courier New',monospace\"><span style=\"color: #7fbfbf; text-decoration-color: #7fbfbf\">[09/12/25 15:47:10] </span><span style=\"color: #000080; text-decoration-color: #000080\">INFO    </span> <span style=\"color: #008080; text-decoration-color: #008080; font-weight: bold\">2025</span>-<span style=\"color: #008080; text-decoration-color: #008080; font-weight: bold\">09</span>-<span style=\"color: #008080; text-decoration-color: #008080; font-weight: bold\">12</span> <span style=\"color: #00ff00; text-decoration-color: #00ff00; font-weight: bold\">15:47:10</span>,<span style=\"color: #008080; text-decoration-color: #008080; font-weight: bold\">768</span> INFO HTTP Request: <span style=\"color: #808000; text-decoration-color: #808000; font-weight: bold\">POST</span>                        <a href=\"file://d:\\repos\\tpai_deep_research_from_scratch\\.venv\\Lib\\site-packages\\httpx\\_client.py\" target=\"_blank\"><span style=\"color: #7f7f7f; text-decoration-color: #7f7f7f\">_client.py</span></a><span style=\"color: #7f7f7f; text-decoration-color: #7f7f7f\">:</span><a href=\"file://d:\\repos\\tpai_deep_research_from_scratch\\.venv\\Lib\\site-packages\\httpx\\_client.py#1025\" target=\"_blank\"><span style=\"color: #7f7f7f; text-decoration-color: #7f7f7f\">1025</span></a>\n",
       "<span style=\"color: #7fbfbf; text-decoration-color: #7fbfbf\">                    </span>         <span style=\"color: #0000ff; text-decoration-color: #0000ff; text-decoration: underline\">https://api.openai.com/v1/chat/completions</span> <span style=\"color: #008000; text-decoration-color: #008000\">\"HTTP/1.1 200 OK\"</span>           <span style=\"color: #7f7f7f; text-decoration-color: #7f7f7f\">               </span>\n",
       "</pre>\n"
      ],
      "text/plain": [
       "\u001b[2;36m[09/12/25 15:47:10]\u001b[0m\u001b[2;36m \u001b[0m\u001b[34mINFO    \u001b[0m \u001b[1;36m2025\u001b[0m-\u001b[1;36m09\u001b[0m-\u001b[1;36m12\u001b[0m \u001b[1;92m15:47:10\u001b[0m,\u001b[1;36m768\u001b[0m INFO HTTP Request: \u001b[1;33mPOST\u001b[0m                        \u001b]8;id=119442;file://d:\\repos\\tpai_deep_research_from_scratch\\.venv\\Lib\\site-packages\\httpx\\_client.py\u001b\\\u001b[2m_client.py\u001b[0m\u001b]8;;\u001b\\\u001b[2m:\u001b[0m\u001b]8;id=225882;file://d:\\repos\\tpai_deep_research_from_scratch\\.venv\\Lib\\site-packages\\httpx\\_client.py#1025\u001b\\\u001b[2m1025\u001b[0m\u001b]8;;\u001b\\\n",
       "\u001b[2;36m                    \u001b[0m         \u001b[4;94mhttps://api.openai.com/v1/chat/completions\u001b[0m \u001b[32m\"HTTP/1.1 200 OK\"\u001b[0m           \u001b[2m               \u001b[0m\n"
      ]
     },
     "metadata": {},
     "output_type": "display_data"
    },
    {
     "name": "stdout",
     "output_type": "stream",
     "text": [
      "Turn 1 - Agent: Thank you for your request. You are looking for the best coffee shops in San Francisco. I have sufficient information to proceed and will now begin researching the top coffee shops in SF for you.\n",
      "Agent is ready to start research or has sufficient info.\n"
     ]
    }
   ],
   "source": [
    "# 7.2 Iterative refinement using deterministic responses (with max turns)\n",
    "from deep_research_from_scratch.research_agent_scope import scope_research, AgentInputState\n",
    "from deep_research_from_scratch.state_scope import AgentState\n",
    "from langchain_core.messages import HumanMessage, AnyMessage\n",
    "from typing import cast\n",
    "\n",
    "# Simulate a user request that needs clarification\n",
    "user_messages = [HumanMessage(content=\"Find the best coffee shops in SF.\")]\n",
    "input_state = AgentInputState(messages=cast(list[AnyMessage], user_messages))\n",
    "\n",
    "max_turns = 3\n",
    "turn = 0\n",
    "while turn < max_turns:\n",
    "    result = scope_research.invoke(input_state)\n",
    "    clarify_msg = result[\"messages\"][-1].content\n",
    "    print(f\"Turn {turn+1} - Agent: {clarify_msg}\")\n",
    "    # Simulate user providing more detail after each clarification\n",
    "    if \"clarify\" in clarify_msg.lower() or \"more detail\" in clarify_msg.lower():\n",
    "        if turn == 0:\n",
    "            user_messages.append(HumanMessage(content=\"I want places open now and not paid.\"))\n",
    "        elif turn == 1:\n",
    "            user_messages.append(HumanMessage(content=\"No cover charge, open now, highest ratings in SOMA.\"))\n",
    "        input_state = AgentInputState(messages=cast(list[AnyMessage], user_messages))\n",
    "        turn += 1\n",
    "    else:\n",
    "        print(\"Agent is ready to start research or has sufficient info.\")\n",
    "        break\n",
    "else:\n",
    "    print(f\"Max turns ({max_turns}) reached. Please provide more specific details to proceed.\")\n",
    "    print(\"Conversation so far:\")\n",
    "    for msg in user_messages:\n",
    "        print(\"User:\", msg.content)\n",
    "    print(\"Last agent message:\", clarify_msg)\n"
   ]
  },
  {
   "cell_type": "code",
   "execution_count": 51,
   "metadata": {},
   "outputs": [
    {
     "data": {
      "text/html": [
       "<pre style=\"white-space:pre;overflow-x:auto;line-height:normal;font-family:Menlo,'DejaVu Sans Mono',consolas,'Courier New',monospace\"><span style=\"color: #7fbfbf; text-decoration-color: #7fbfbf\">[15:47:10] </span><span style=\"color: #008000; text-decoration-color: #008000; font-weight: bold\">[</span><span style=\"color: #008000; text-decoration-color: #008000\">INFO</span><span style=\"color: #008000; text-decoration-color: #008000; font-weight: bold\">]</span><span style=\"color: #008000; text-decoration-color: #008000\"> Starting scoping clarification loop for user request.                            </span> <a href=\"file://D:\\repos\\tpai_deep_research_from_scratch\\src\\research_agent_framework\\bootstrap.py\" target=\"_blank\"><span style=\"color: #7f7f7f; text-decoration-color: #7f7f7f\">bootstrap.py</span></a><span style=\"color: #7f7f7f; text-decoration-color: #7f7f7f\">:</span><a href=\"file://D:\\repos\\tpai_deep_research_from_scratch\\src\\research_agent_framework\\bootstrap.py#93\" target=\"_blank\"><span style=\"color: #7f7f7f; text-decoration-color: #7f7f7f\">93</span></a>\n",
       "</pre>\n"
      ],
      "text/plain": [
       "\u001b[2;36m[15:47:10]\u001b[0m\u001b[2;36m \u001b[0m\u001b[1;32m[\u001b[0m\u001b[32mINFO\u001b[0m\u001b[1;32m]\u001b[0m\u001b[32m Starting scoping clarification loop for user request.                            \u001b[0m \u001b]8;id=120021;file://D:\\repos\\tpai_deep_research_from_scratch\\src\\research_agent_framework\\bootstrap.py\u001b\\\u001b[2mbootstrap.py\u001b[0m\u001b]8;;\u001b\\\u001b[2m:\u001b[0m\u001b]8;id=393107;file://D:\\repos\\tpai_deep_research_from_scratch\\src\\research_agent_framework\\bootstrap.py#93\u001b\\\u001b[2m93\u001b[0m\u001b]8;;\u001b\\\n"
      ]
     },
     "metadata": {},
     "output_type": "display_data"
    },
    {
     "data": {
      "text/html": [
       "<pre style=\"white-space:pre;overflow-x:auto;line-height:normal;font-family:Menlo,'DejaVu Sans Mono',consolas,'Courier New',monospace\"><span style=\"color: #7fbfbf; text-decoration-color: #7fbfbf\">           </span><span style=\"color: #008000; text-decoration-color: #008000; font-weight: bold\">[</span><span style=\"color: #008000; text-decoration-color: #008000\">INFO</span><span style=\"color: #008000; text-decoration-color: #008000; font-weight: bold\">]</span><span style=\"color: #008000; text-decoration-color: #008000\"> Starting scoping clarification loop for user request.                            </span> <a href=\"file://D:\\repos\\tpai_deep_research_from_scratch\\src\\research_agent_framework\\bootstrap.py\" target=\"_blank\"><span style=\"color: #7f7f7f; text-decoration-color: #7f7f7f\">bootstrap.py</span></a><span style=\"color: #7f7f7f; text-decoration-color: #7f7f7f\">:</span><a href=\"file://D:\\repos\\tpai_deep_research_from_scratch\\src\\research_agent_framework\\bootstrap.py#93\" target=\"_blank\"><span style=\"color: #7f7f7f; text-decoration-color: #7f7f7f\">93</span></a>\n",
       "</pre>\n"
      ],
      "text/plain": [
       "\u001b[2;36m          \u001b[0m\u001b[2;36m \u001b[0m\u001b[1;32m[\u001b[0m\u001b[32mINFO\u001b[0m\u001b[1;32m]\u001b[0m\u001b[32m Starting scoping clarification loop for user request.                            \u001b[0m \u001b]8;id=684820;file://D:\\repos\\tpai_deep_research_from_scratch\\src\\research_agent_framework\\bootstrap.py\u001b\\\u001b[2mbootstrap.py\u001b[0m\u001b]8;;\u001b\\\u001b[2m:\u001b[0m\u001b]8;id=775552;file://D:\\repos\\tpai_deep_research_from_scratch\\src\\research_agent_framework\\bootstrap.py#93\u001b\\\u001b[2m93\u001b[0m\u001b]8;;\u001b\\\n"
      ]
     },
     "metadata": {},
     "output_type": "display_data"
    },
    {
     "name": "stderr",
     "output_type": "stream",
     "text": [
      "2025-09-12T15:47:10.788260-0700 INFO Starting scoping clarification loop for user request.\n",
      "2025-09-12T15:47:10.788260-0700 INFO Starting scoping clarification loop for user request.\n",
      "2025-09-12T15:47:10.788260-0700 INFO Starting scoping clarification loop for user request.\n",
      "2025-09-12T15:47:10.788260-0700 INFO Starting scoping clarification loop for user request.\n",
      "2025-09-12T15:47:10.788260-0700 INFO Starting scoping clarification loop for user request.\n"
     ]
    }
   ],
   "source": [
    "# Logging: scoping clarification loop\n",
    "logger.info(\"Starting scoping clarification loop for user request.\")\n"
   ]
  },
  {
   "cell_type": "markdown",
   "metadata": {},
   "source": [
    "**Explanation:**\n",
    "\n",
    "This cell demonstrates how the agent uses deterministic logic to clarify ambiguous user requests. The agent asks for more details if needed, and only proceeds when the scope is sufficiently defined. This mirrors the logic in `research_agent_scope.py` and is validated by tests in `test_research_agent.py`."
   ]
  },
  {
   "cell_type": "markdown",
   "metadata": {},
   "source": [
    "### 7.3 Capture scope state object and validation\n",
    "\n",
    "This cell demonstrates how the agent captures the scope state object after clarification and validates its structure, ensuring downstream research steps are well-defined and reproducible."
   ]
  },
  {
   "cell_type": "code",
   "execution_count": 52,
   "metadata": {},
   "outputs": [
    {
     "data": {
      "text/html": [
       "<pre style=\"white-space:pre;overflow-x:auto;line-height:normal;font-family:Menlo,'DejaVu Sans Mono',consolas,'Courier New',monospace\"><span style=\"color: #7fbfbf; text-decoration-color: #7fbfbf\">[09/12/25 15:47:12] </span><span style=\"color: #000080; text-decoration-color: #000080\">INFO    </span> <span style=\"color: #008080; text-decoration-color: #008080; font-weight: bold\">2025</span>-<span style=\"color: #008080; text-decoration-color: #008080; font-weight: bold\">09</span>-<span style=\"color: #008080; text-decoration-color: #008080; font-weight: bold\">12</span> <span style=\"color: #00ff00; text-decoration-color: #00ff00; font-weight: bold\">15:47:12</span>,<span style=\"color: #008080; text-decoration-color: #008080; font-weight: bold\">138</span> INFO HTTP Request: <span style=\"color: #808000; text-decoration-color: #808000; font-weight: bold\">POST</span>                        <a href=\"file://d:\\repos\\tpai_deep_research_from_scratch\\.venv\\Lib\\site-packages\\httpx\\_client.py\" target=\"_blank\"><span style=\"color: #7f7f7f; text-decoration-color: #7f7f7f\">_client.py</span></a><span style=\"color: #7f7f7f; text-decoration-color: #7f7f7f\">:</span><a href=\"file://d:\\repos\\tpai_deep_research_from_scratch\\.venv\\Lib\\site-packages\\httpx\\_client.py#1025\" target=\"_blank\"><span style=\"color: #7f7f7f; text-decoration-color: #7f7f7f\">1025</span></a>\n",
       "<span style=\"color: #7fbfbf; text-decoration-color: #7fbfbf\">                    </span>         <span style=\"color: #0000ff; text-decoration-color: #0000ff; text-decoration: underline\">https://api.openai.com/v1/chat/completions</span> <span style=\"color: #008000; text-decoration-color: #008000\">\"HTTP/1.1 200 OK\"</span>           <span style=\"color: #7f7f7f; text-decoration-color: #7f7f7f\">               </span>\n",
       "</pre>\n"
      ],
      "text/plain": [
       "\u001b[2;36m[09/12/25 15:47:12]\u001b[0m\u001b[2;36m \u001b[0m\u001b[34mINFO    \u001b[0m \u001b[1;36m2025\u001b[0m-\u001b[1;36m09\u001b[0m-\u001b[1;36m12\u001b[0m \u001b[1;92m15:47:12\u001b[0m,\u001b[1;36m138\u001b[0m INFO HTTP Request: \u001b[1;33mPOST\u001b[0m                        \u001b]8;id=662179;file://d:\\repos\\tpai_deep_research_from_scratch\\.venv\\Lib\\site-packages\\httpx\\_client.py\u001b\\\u001b[2m_client.py\u001b[0m\u001b]8;;\u001b\\\u001b[2m:\u001b[0m\u001b]8;id=989475;file://d:\\repos\\tpai_deep_research_from_scratch\\.venv\\Lib\\site-packages\\httpx\\_client.py#1025\u001b\\\u001b[2m1025\u001b[0m\u001b]8;;\u001b\\\n",
       "\u001b[2;36m                    \u001b[0m         \u001b[4;94mhttps://api.openai.com/v1/chat/completions\u001b[0m \u001b[32m\"HTTP/1.1 200 OK\"\u001b[0m           \u001b[2m               \u001b[0m\n"
      ]
     },
     "metadata": {},
     "output_type": "display_data"
    },
    {
     "data": {
      "text/html": [
       "<pre style=\"white-space:pre;overflow-x:auto;line-height:normal;font-family:Menlo,'DejaVu Sans Mono',consolas,'Courier New',monospace\"><span style=\"color: #7fbfbf; text-decoration-color: #7fbfbf\">[09/12/25 15:47:15] </span><span style=\"color: #000080; text-decoration-color: #000080\">INFO    </span> <span style=\"color: #008080; text-decoration-color: #008080; font-weight: bold\">2025</span>-<span style=\"color: #008080; text-decoration-color: #008080; font-weight: bold\">09</span>-<span style=\"color: #008080; text-decoration-color: #008080; font-weight: bold\">12</span> <span style=\"color: #00ff00; text-decoration-color: #00ff00; font-weight: bold\">15:47:15</span>,<span style=\"color: #008080; text-decoration-color: #008080; font-weight: bold\">289</span> INFO HTTP Request: <span style=\"color: #808000; text-decoration-color: #808000; font-weight: bold\">POST</span>                        <a href=\"file://d:\\repos\\tpai_deep_research_from_scratch\\.venv\\Lib\\site-packages\\httpx\\_client.py\" target=\"_blank\"><span style=\"color: #7f7f7f; text-decoration-color: #7f7f7f\">_client.py</span></a><span style=\"color: #7f7f7f; text-decoration-color: #7f7f7f\">:</span><a href=\"file://d:\\repos\\tpai_deep_research_from_scratch\\.venv\\Lib\\site-packages\\httpx\\_client.py#1025\" target=\"_blank\"><span style=\"color: #7f7f7f; text-decoration-color: #7f7f7f\">1025</span></a>\n",
       "<span style=\"color: #7fbfbf; text-decoration-color: #7fbfbf\">                    </span>         <span style=\"color: #0000ff; text-decoration-color: #0000ff; text-decoration: underline\">https://api.openai.com/v1/chat/completions</span> <span style=\"color: #008000; text-decoration-color: #008000\">\"HTTP/1.1 200 OK\"</span>           <span style=\"color: #7f7f7f; text-decoration-color: #7f7f7f\">               </span>\n",
       "</pre>\n"
      ],
      "text/plain": [
       "\u001b[2;36m[09/12/25 15:47:15]\u001b[0m\u001b[2;36m \u001b[0m\u001b[34mINFO    \u001b[0m \u001b[1;36m2025\u001b[0m-\u001b[1;36m09\u001b[0m-\u001b[1;36m12\u001b[0m \u001b[1;92m15:47:15\u001b[0m,\u001b[1;36m289\u001b[0m INFO HTTP Request: \u001b[1;33mPOST\u001b[0m                        \u001b]8;id=362374;file://d:\\repos\\tpai_deep_research_from_scratch\\.venv\\Lib\\site-packages\\httpx\\_client.py\u001b\\\u001b[2m_client.py\u001b[0m\u001b]8;;\u001b\\\u001b[2m:\u001b[0m\u001b]8;id=331228;file://d:\\repos\\tpai_deep_research_from_scratch\\.venv\\Lib\\site-packages\\httpx\\_client.py#1025\u001b\\\u001b[2m1025\u001b[0m\u001b]8;;\u001b\\\n",
       "\u001b[2;36m                    \u001b[0m         \u001b[4;94mhttps://api.openai.com/v1/chat/completions\u001b[0m \u001b[32m\"HTTP/1.1 200 OK\"\u001b[0m           \u001b[2m               \u001b[0m\n"
      ]
     },
     "metadata": {},
     "output_type": "display_data"
    },
    {
     "data": {
      "text/html": [
       "<pre style=\"white-space:pre;overflow-x:auto;line-height:normal;font-family:Menlo,'DejaVu Sans Mono',consolas,'Courier New',monospace\"><span style=\"font-weight: bold\">Research brief:</span>                                                                                                    \n",
       "\n",
       "What are the highest-rated coffee shops in the SOMA neighborhood of San Francisco that are open right now (as of   \n",
       "Friday, September 12, 2025), do not have a cover charge, and are free to enter? Please focus only on places that   \n",
       "meet all of these criteria. For aspects such as menu offerings, ambiance, or price range, consider all options     \n",
       "unless I have specified otherwise. Prioritize information from official coffee shop websites, Google Maps, Yelp, or\n",
       "other reputable review platforms for up-to-date hours and ratings.                                                 \n",
       "</pre>\n"
      ],
      "text/plain": [
       "\u001b[1mResearch brief:\u001b[0m                                                                                                    \n",
       "\n",
       "What are the highest-rated coffee shops in the SOMA neighborhood of San Francisco that are open right now (as of   \n",
       "Friday, September 12, 2025), do not have a cover charge, and are free to enter? Please focus only on places that   \n",
       "meet all of these criteria. For aspects such as menu offerings, ambiance, or price range, consider all options     \n",
       "unless I have specified otherwise. Prioritize information from official coffee shop websites, Google Maps, Yelp, or\n",
       "other reputable review platforms for up-to-date hours and ratings.                                                 \n"
      ]
     },
     "metadata": {},
     "output_type": "display_data"
    }
   ],
   "source": [
    "# 7.3 Capture scope state object and validate\n",
    "from deep_research_from_scratch.research_agent_scope import scope_research, AgentInputState\n",
    "from deep_research_from_scratch.state_scope import AgentState\n",
    "from langchain_core.messages import HumanMessage, AnyMessage\n",
    "from assertpy import assert_that\n",
    "from typing import cast\n",
    "from research_agent_framework.config import get_console\n",
    "from rich.markdown import Markdown\n",
    "\n",
    "console = get_console()\n",
    "\n",
    "# Simulate clarified user request\n",
    "user_messages = [\n",
    "    HumanMessage(content=\"Find the best coffee shops in SF.\"),\n",
    "    HumanMessage(content=\"I want places open now and not paid.\"),\n",
    "    HumanMessage(content=\"No cover charge, open now, highest ratings in SOMA.\")\n",
    "]\n",
    "input_state = AgentInputState(messages=cast(list[AnyMessage], user_messages))\n",
    "result = scope_research.invoke(input_state)\n",
    "\n",
    "# Validate scope state object\n",
    "assert_that(result).contains_key(\"research_brief\")\n",
    "assert_that(result[\"research_brief\"]).is_not_empty()\n",
    "console.print(Markdown(f\"**Research brief:**\\n\\n{result['research_brief']}\"))\n"
   ]
  },
  {
   "cell_type": "code",
   "execution_count": 53,
   "metadata": {},
   "outputs": [
    {
     "data": {
      "text/html": [
       "<pre style=\"white-space:pre;overflow-x:auto;line-height:normal;font-family:Menlo,'DejaVu Sans Mono',consolas,'Courier New',monospace\"><span style=\"color: #7fbfbf; text-decoration-color: #7fbfbf\">[15:47:15] </span><span style=\"color: #008000; text-decoration-color: #008000; font-weight: bold\">[</span><span style=\"color: #008000; text-decoration-color: #008000\">INFO</span><span style=\"color: #008000; text-decoration-color: #008000; font-weight: bold\">]</span><span style=\"color: #008000; text-decoration-color: #008000\"> Validating scope state object after clarification.                               </span> <a href=\"file://D:\\repos\\tpai_deep_research_from_scratch\\src\\research_agent_framework\\bootstrap.py\" target=\"_blank\"><span style=\"color: #7f7f7f; text-decoration-color: #7f7f7f\">bootstrap.py</span></a><span style=\"color: #7f7f7f; text-decoration-color: #7f7f7f\">:</span><a href=\"file://D:\\repos\\tpai_deep_research_from_scratch\\src\\research_agent_framework\\bootstrap.py#93\" target=\"_blank\"><span style=\"color: #7f7f7f; text-decoration-color: #7f7f7f\">93</span></a>\n",
       "</pre>\n"
      ],
      "text/plain": [
       "\u001b[2;36m[15:47:15]\u001b[0m\u001b[2;36m \u001b[0m\u001b[1;32m[\u001b[0m\u001b[32mINFO\u001b[0m\u001b[1;32m]\u001b[0m\u001b[32m Validating scope state object after clarification.                               \u001b[0m \u001b]8;id=510018;file://D:\\repos\\tpai_deep_research_from_scratch\\src\\research_agent_framework\\bootstrap.py\u001b\\\u001b[2mbootstrap.py\u001b[0m\u001b]8;;\u001b\\\u001b[2m:\u001b[0m\u001b]8;id=891655;file://D:\\repos\\tpai_deep_research_from_scratch\\src\\research_agent_framework\\bootstrap.py#93\u001b\\\u001b[2m93\u001b[0m\u001b]8;;\u001b\\\n"
      ]
     },
     "metadata": {},
     "output_type": "display_data"
    },
    {
     "data": {
      "text/html": [
       "<pre style=\"white-space:pre;overflow-x:auto;line-height:normal;font-family:Menlo,'DejaVu Sans Mono',consolas,'Courier New',monospace\"><span style=\"color: #7fbfbf; text-decoration-color: #7fbfbf\">           </span><span style=\"color: #008000; text-decoration-color: #008000; font-weight: bold\">[</span><span style=\"color: #008000; text-decoration-color: #008000\">INFO</span><span style=\"color: #008000; text-decoration-color: #008000; font-weight: bold\">]</span><span style=\"color: #008000; text-decoration-color: #008000\"> Validating scope state object after clarification.                               </span> <a href=\"file://D:\\repos\\tpai_deep_research_from_scratch\\src\\research_agent_framework\\bootstrap.py\" target=\"_blank\"><span style=\"color: #7f7f7f; text-decoration-color: #7f7f7f\">bootstrap.py</span></a><span style=\"color: #7f7f7f; text-decoration-color: #7f7f7f\">:</span><a href=\"file://D:\\repos\\tpai_deep_research_from_scratch\\src\\research_agent_framework\\bootstrap.py#93\" target=\"_blank\"><span style=\"color: #7f7f7f; text-decoration-color: #7f7f7f\">93</span></a>\n",
       "</pre>\n"
      ],
      "text/plain": [
       "\u001b[2;36m          \u001b[0m\u001b[2;36m \u001b[0m\u001b[1;32m[\u001b[0m\u001b[32mINFO\u001b[0m\u001b[1;32m]\u001b[0m\u001b[32m Validating scope state object after clarification.                               \u001b[0m \u001b]8;id=157063;file://D:\\repos\\tpai_deep_research_from_scratch\\src\\research_agent_framework\\bootstrap.py\u001b\\\u001b[2mbootstrap.py\u001b[0m\u001b]8;;\u001b\\\u001b[2m:\u001b[0m\u001b]8;id=871575;file://D:\\repos\\tpai_deep_research_from_scratch\\src\\research_agent_framework\\bootstrap.py#93\u001b\\\u001b[2m93\u001b[0m\u001b]8;;\u001b\\\n"
      ]
     },
     "metadata": {},
     "output_type": "display_data"
    },
    {
     "name": "stderr",
     "output_type": "stream",
     "text": [
      "2025-09-12T15:47:15.311832-0700 INFO Validating scope state object after clarification.\n",
      "2025-09-12T15:47:15.311832-0700 INFO Validating scope state object after clarification.\n",
      "2025-09-12T15:47:15.311832-0700 INFO Validating scope state object after clarification.\n",
      "2025-09-12T15:47:15.311832-0700 INFO Validating scope state object after clarification.\n",
      "2025-09-12T15:47:15.311832-0700 INFO Validating scope state object after clarification.\n"
     ]
    }
   ],
   "source": [
    "# Logging: scope state validation\n",
    "logger.info(\"Validating scope state object after clarification.\")\n"
   ]
  },
  {
   "cell_type": "markdown",
   "metadata": {},
   "source": [
    "## 9.1 Supervisor Policy Demo: Deterministic Multi-Agent Coordination\n",
    "\n",
    "This section demonstrates how the supervisor agent orchestrates multiple research agents using a deterministic policy. The workflow ensures reproducibility and mirrors the logic in `multi_agent_supervisor.py` and the corresponding tests.\n",
    "\n",
    "- **Supervisor Policy:** Coordinates agent actions, assigns tasks, and validates outcomes.\n",
    "- **Deterministic Steps:** Uses mock adapters and fixed agent responses for educational clarity.\n",
    "\n",
    "Cells below show the supervisor's decision-making process and agent coordination, with output rendered using Rich's Markdown for clarity."
   ]
  },
  {
   "cell_type": "code",
   "execution_count": 54,
   "metadata": {},
   "outputs": [
    {
     "data": {
      "text/html": [
       "<pre style=\"white-space:pre;overflow-x:auto;line-height:normal;font-family:Menlo,'DejaVu Sans Mono',consolas,'Courier New',monospace\"><span style=\"font-weight: bold\">Agent A1 outcome:</span>                                                                                                  \n",
       "\n",
       "Completed: Find top-rated coffee shops in SF.                                                                      \n",
       "</pre>\n"
      ],
      "text/plain": [
       "\u001b[1mAgent A1 outcome:\u001b[0m                                                                                                  \n",
       "\n",
       "Completed: Find top-rated coffee shops in SF.                                                                      \n"
      ]
     },
     "metadata": {},
     "output_type": "display_data"
    },
    {
     "data": {
      "text/html": [
       "<pre style=\"white-space:pre;overflow-x:auto;line-height:normal;font-family:Menlo,'DejaVu Sans Mono',consolas,'Courier New',monospace\"><span style=\"font-weight: bold\">Agent A2 outcome:</span>                                                                                                  \n",
       "\n",
       "Completed: Check which shops are open now.                                                                         \n",
       "</pre>\n"
      ],
      "text/plain": [
       "\u001b[1mAgent A2 outcome:\u001b[0m                                                                                                  \n",
       "\n",
       "Completed: Check which shops are open now.                                                                         \n"
      ]
     },
     "metadata": {},
     "output_type": "display_data"
    },
    {
     "data": {
      "text/html": [
       "<pre style=\"white-space:pre;overflow-x:auto;line-height:normal;font-family:Menlo,'DejaVu Sans Mono',consolas,'Courier New',monospace\"><span style=\"font-weight: bold\">Agent A3 outcome:</span>                                                                                                  \n",
       "\n",
       "Completed: Filter for no cover charge in SOMA.                                                                     \n",
       "</pre>\n"
      ],
      "text/plain": [
       "\u001b[1mAgent A3 outcome:\u001b[0m                                                                                                  \n",
       "\n",
       "Completed: Filter for no cover charge in SOMA.                                                                     \n"
      ]
     },
     "metadata": {},
     "output_type": "display_data"
    }
   ],
   "source": [
    "# 9.1 Supervisor Policy Demo: Deterministic Multi-Agent Coordination\n",
    "from deep_research_from_scratch.multi_agent_supervisor import Supervisor, AgentTask, DeterministicPolicy\n",
    "from deep_research_from_scratch.state_scope import AgentState\n",
    "from research_agent_framework.config import get_console\n",
    "from rich.markdown import Markdown\n",
    "\n",
    "console = get_console()\n",
    "\n",
    "# Define mock agent tasks\n",
    "agent_tasks = [\n",
    "    AgentTask(agent_id=\"A1\", description=\"Find top-rated coffee shops in SF.\"),\n",
    "    AgentTask(agent_id=\"A2\", description=\"Check which shops are open now.\"),\n",
    "    AgentTask(agent_id=\"A3\", description=\"Filter for no cover charge in SOMA.\")\n",
    "]\n",
    "\n",
    "# Use deterministic supervisor policy for reproducibility\n",
    "policy = DeterministicPolicy()\n",
    "supervisor = Supervisor(policy=policy)\n",
    "\n",
    "# Run coordination workflow\n",
    "results = supervisor.coordinate(agent_tasks)\n",
    "\n",
    "# Validate and display results\n",
    "for result in results:\n",
    "    assert hasattr(result, \"agent_id\")\n",
    "    assert hasattr(result, \"outcome\")\n",
    "    console.print(Markdown(f\"**Agent {result.agent_id} outcome:**\\n\\n{result.outcome}\"))\n"
   ]
  },
  {
   "cell_type": "code",
   "execution_count": 55,
   "metadata": {},
   "outputs": [
    {
     "data": {
      "text/html": [
       "<pre style=\"white-space:pre;overflow-x:auto;line-height:normal;font-family:Menlo,'DejaVu Sans Mono',consolas,'Courier New',monospace\"><span style=\"color: #7fbfbf; text-decoration-color: #7fbfbf\">           </span><span style=\"color: #008000; text-decoration-color: #008000; font-weight: bold\">[</span><span style=\"color: #008000; text-decoration-color: #008000\">INFO</span><span style=\"color: #008000; text-decoration-color: #008000; font-weight: bold\">]</span><span style=\"color: #008000; text-decoration-color: #008000\"> Supervisor policy demo: coordinating agent tasks.                                </span> <a href=\"file://D:\\repos\\tpai_deep_research_from_scratch\\src\\research_agent_framework\\bootstrap.py\" target=\"_blank\"><span style=\"color: #7f7f7f; text-decoration-color: #7f7f7f\">bootstrap.py</span></a><span style=\"color: #7f7f7f; text-decoration-color: #7f7f7f\">:</span><a href=\"file://D:\\repos\\tpai_deep_research_from_scratch\\src\\research_agent_framework\\bootstrap.py#93\" target=\"_blank\"><span style=\"color: #7f7f7f; text-decoration-color: #7f7f7f\">93</span></a>\n",
       "</pre>\n"
      ],
      "text/plain": [
       "\u001b[2;36m          \u001b[0m\u001b[2;36m \u001b[0m\u001b[1;32m[\u001b[0m\u001b[32mINFO\u001b[0m\u001b[1;32m]\u001b[0m\u001b[32m Supervisor policy demo: coordinating agent tasks.                                \u001b[0m \u001b]8;id=962493;file://D:\\repos\\tpai_deep_research_from_scratch\\src\\research_agent_framework\\bootstrap.py\u001b\\\u001b[2mbootstrap.py\u001b[0m\u001b]8;;\u001b\\\u001b[2m:\u001b[0m\u001b]8;id=917962;file://D:\\repos\\tpai_deep_research_from_scratch\\src\\research_agent_framework\\bootstrap.py#93\u001b\\\u001b[2m93\u001b[0m\u001b]8;;\u001b\\\n"
      ]
     },
     "metadata": {},
     "output_type": "display_data"
    },
    {
     "data": {
      "text/html": [
       "<pre style=\"white-space:pre;overflow-x:auto;line-height:normal;font-family:Menlo,'DejaVu Sans Mono',consolas,'Courier New',monospace\"><span style=\"color: #7fbfbf; text-decoration-color: #7fbfbf\">           </span><span style=\"color: #008000; text-decoration-color: #008000; font-weight: bold\">[</span><span style=\"color: #008000; text-decoration-color: #008000\">INFO</span><span style=\"color: #008000; text-decoration-color: #008000; font-weight: bold\">]</span><span style=\"color: #008000; text-decoration-color: #008000\"> Supervisor policy demo: coordinating agent tasks.                                </span> <a href=\"file://D:\\repos\\tpai_deep_research_from_scratch\\src\\research_agent_framework\\bootstrap.py\" target=\"_blank\"><span style=\"color: #7f7f7f; text-decoration-color: #7f7f7f\">bootstrap.py</span></a><span style=\"color: #7f7f7f; text-decoration-color: #7f7f7f\">:</span><a href=\"file://D:\\repos\\tpai_deep_research_from_scratch\\src\\research_agent_framework\\bootstrap.py#93\" target=\"_blank\"><span style=\"color: #7f7f7f; text-decoration-color: #7f7f7f\">93</span></a>\n",
       "</pre>\n"
      ],
      "text/plain": [
       "\u001b[2;36m          \u001b[0m\u001b[2;36m \u001b[0m\u001b[1;32m[\u001b[0m\u001b[32mINFO\u001b[0m\u001b[1;32m]\u001b[0m\u001b[32m Supervisor policy demo: coordinating agent tasks.                                \u001b[0m \u001b]8;id=861827;file://D:\\repos\\tpai_deep_research_from_scratch\\src\\research_agent_framework\\bootstrap.py\u001b\\\u001b[2mbootstrap.py\u001b[0m\u001b]8;;\u001b\\\u001b[2m:\u001b[0m\u001b]8;id=179769;file://D:\\repos\\tpai_deep_research_from_scratch\\src\\research_agent_framework\\bootstrap.py#93\u001b\\\u001b[2m93\u001b[0m\u001b]8;;\u001b\\\n"
      ]
     },
     "metadata": {},
     "output_type": "display_data"
    },
    {
     "name": "stderr",
     "output_type": "stream",
     "text": [
      "2025-09-12T15:47:15.337553-0700 INFO Supervisor policy demo: coordinating agent tasks.\n",
      "2025-09-12T15:47:15.337553-0700 INFO Supervisor policy demo: coordinating agent tasks.\n",
      "2025-09-12T15:47:15.337553-0700 INFO Supervisor policy demo: coordinating agent tasks.\n",
      "2025-09-12T15:47:15.337553-0700 INFO Supervisor policy demo: coordinating agent tasks.\n",
      "2025-09-12T15:47:15.337553-0700 INFO Supervisor policy demo: coordinating agent tasks.\n"
     ]
    }
   ],
   "source": [
    "# Logging: supervisor policy demo\n",
    "logger.info(\"Supervisor policy demo: coordinating agent tasks.\")\n"
   ]
  },
  {
   "cell_type": "markdown",
   "metadata": {},
   "source": [
    "## 9.2 Logging Agent Messages and State Transitions\n",
    "\n",
    "This section demonstrates how the supervisor and agents log their messages and state transitions during coordination. Logging is essential for debugging, monitoring, and educational clarity.\n",
    "\n",
    "- **Structured Logging:** Each agent logs its actions and state changes.\n",
    "- **State Transition Tracking:** Supervisor logs before and after coordination steps.\n",
    "\n",
    "Cells below show how logging is integrated into the multi-agent workflow, with output rendered using Rich for clarity."
   ]
  },
  {
   "cell_type": "code",
   "execution_count": 56,
   "metadata": {},
   "outputs": [
    {
     "data": {
      "text/html": [
       "<pre style=\"white-space:pre;overflow-x:auto;line-height:normal;font-family:Menlo,'DejaVu Sans Mono',consolas,'Courier New',monospace\"><span style=\"color: #7fbfbf; text-decoration-color: #7fbfbf\">           </span><span style=\"color: #008000; text-decoration-color: #008000; font-weight: bold\">[</span><span style=\"color: #008000; text-decoration-color: #008000\">INFO</span><span style=\"color: #008000; text-decoration-color: #008000; font-weight: bold\">]</span><span style=\"color: #008000; text-decoration-color: #008000\"> Supervisor: Starting coordination                                                </span> <a href=\"file://D:\\repos\\tpai_deep_research_from_scratch\\src\\research_agent_framework\\bootstrap.py\" target=\"_blank\"><span style=\"color: #7f7f7f; text-decoration-color: #7f7f7f\">bootstrap.py</span></a><span style=\"color: #7f7f7f; text-decoration-color: #7f7f7f\">:</span><a href=\"file://D:\\repos\\tpai_deep_research_from_scratch\\src\\research_agent_framework\\bootstrap.py#93\" target=\"_blank\"><span style=\"color: #7f7f7f; text-decoration-color: #7f7f7f\">93</span></a>\n",
       "</pre>\n"
      ],
      "text/plain": [
       "\u001b[2;36m          \u001b[0m\u001b[2;36m \u001b[0m\u001b[1;32m[\u001b[0m\u001b[32mINFO\u001b[0m\u001b[1;32m]\u001b[0m\u001b[32m Supervisor: Starting coordination                                                \u001b[0m \u001b]8;id=140091;file://D:\\repos\\tpai_deep_research_from_scratch\\src\\research_agent_framework\\bootstrap.py\u001b\\\u001b[2mbootstrap.py\u001b[0m\u001b]8;;\u001b\\\u001b[2m:\u001b[0m\u001b]8;id=933307;file://D:\\repos\\tpai_deep_research_from_scratch\\src\\research_agent_framework\\bootstrap.py#93\u001b\\\u001b[2m93\u001b[0m\u001b]8;;\u001b\\\n"
      ]
     },
     "metadata": {},
     "output_type": "display_data"
    },
    {
     "data": {
      "text/html": [
       "<pre style=\"white-space:pre;overflow-x:auto;line-height:normal;font-family:Menlo,'DejaVu Sans Mono',consolas,'Courier New',monospace\"><span style=\"color: #7fbfbf; text-decoration-color: #7fbfbf\">           </span><span style=\"color: #008000; text-decoration-color: #008000; font-weight: bold\">[</span><span style=\"color: #008000; text-decoration-color: #008000\">INFO</span><span style=\"color: #008000; text-decoration-color: #008000; font-weight: bold\">]</span><span style=\"color: #008000; text-decoration-color: #008000\"> Supervisor: Starting coordination                                                </span> <a href=\"file://D:\\repos\\tpai_deep_research_from_scratch\\src\\research_agent_framework\\bootstrap.py\" target=\"_blank\"><span style=\"color: #7f7f7f; text-decoration-color: #7f7f7f\">bootstrap.py</span></a><span style=\"color: #7f7f7f; text-decoration-color: #7f7f7f\">:</span><a href=\"file://D:\\repos\\tpai_deep_research_from_scratch\\src\\research_agent_framework\\bootstrap.py#93\" target=\"_blank\"><span style=\"color: #7f7f7f; text-decoration-color: #7f7f7f\">93</span></a>\n",
       "</pre>\n"
      ],
      "text/plain": [
       "\u001b[2;36m          \u001b[0m\u001b[2;36m \u001b[0m\u001b[1;32m[\u001b[0m\u001b[32mINFO\u001b[0m\u001b[1;32m]\u001b[0m\u001b[32m Supervisor: Starting coordination                                                \u001b[0m \u001b]8;id=604828;file://D:\\repos\\tpai_deep_research_from_scratch\\src\\research_agent_framework\\bootstrap.py\u001b\\\u001b[2mbootstrap.py\u001b[0m\u001b]8;;\u001b\\\u001b[2m:\u001b[0m\u001b]8;id=886209;file://D:\\repos\\tpai_deep_research_from_scratch\\src\\research_agent_framework\\bootstrap.py#93\u001b\\\u001b[2m93\u001b[0m\u001b]8;;\u001b\\\n"
      ]
     },
     "metadata": {},
     "output_type": "display_data"
    },
    {
     "name": "stderr",
     "output_type": "stream",
     "text": [
      "2025-09-12T15:47:15.357041-0700 INFO Supervisor: Starting coordination\n",
      "2025-09-12T15:47:15.357041-0700 INFO Supervisor: Starting coordination\n",
      "2025-09-12T15:47:15.357041-0700 INFO Supervisor: Starting coordination\n",
      "2025-09-12T15:47:15.357041-0700 INFO Supervisor: Starting coordination\n"
     ]
    },
    {
     "data": {
      "text/html": [
       "<pre style=\"white-space:pre;overflow-x:auto;line-height:normal;font-family:Menlo,'DejaVu Sans Mono',consolas,'Courier New',monospace\"><span style=\"color: #7fbfbf; text-decoration-color: #7fbfbf\">           </span><span style=\"color: #008000; text-decoration-color: #008000; font-weight: bold\">[</span><span style=\"color: #008000; text-decoration-color: #008000\">INFO</span><span style=\"color: #008000; text-decoration-color: #008000; font-weight: bold\">]</span><span style=\"color: #008000; text-decoration-color: #008000\"> Agent A1 starting: Find top-rated coffee shops in SF.                            </span> <a href=\"file://D:\\repos\\tpai_deep_research_from_scratch\\src\\research_agent_framework\\bootstrap.py\" target=\"_blank\"><span style=\"color: #7f7f7f; text-decoration-color: #7f7f7f\">bootstrap.py</span></a><span style=\"color: #7f7f7f; text-decoration-color: #7f7f7f\">:</span><a href=\"file://D:\\repos\\tpai_deep_research_from_scratch\\src\\research_agent_framework\\bootstrap.py#93\" target=\"_blank\"><span style=\"color: #7f7f7f; text-decoration-color: #7f7f7f\">93</span></a>\n",
       "</pre>\n"
      ],
      "text/plain": [
       "\u001b[2;36m          \u001b[0m\u001b[2;36m \u001b[0m\u001b[1;32m[\u001b[0m\u001b[32mINFO\u001b[0m\u001b[1;32m]\u001b[0m\u001b[32m Agent A1 starting: Find top-rated coffee shops in SF.                            \u001b[0m \u001b]8;id=746714;file://D:\\repos\\tpai_deep_research_from_scratch\\src\\research_agent_framework\\bootstrap.py\u001b\\\u001b[2mbootstrap.py\u001b[0m\u001b]8;;\u001b\\\u001b[2m:\u001b[0m\u001b]8;id=90298;file://D:\\repos\\tpai_deep_research_from_scratch\\src\\research_agent_framework\\bootstrap.py#93\u001b\\\u001b[2m93\u001b[0m\u001b]8;;\u001b\\\n"
      ]
     },
     "metadata": {},
     "output_type": "display_data"
    },
    {
     "data": {
      "text/html": [
       "<pre style=\"white-space:pre;overflow-x:auto;line-height:normal;font-family:Menlo,'DejaVu Sans Mono',consolas,'Courier New',monospace\"><span style=\"color: #7fbfbf; text-decoration-color: #7fbfbf\">           </span><span style=\"color: #008000; text-decoration-color: #008000; font-weight: bold\">[</span><span style=\"color: #008000; text-decoration-color: #008000\">INFO</span><span style=\"color: #008000; text-decoration-color: #008000; font-weight: bold\">]</span><span style=\"color: #008000; text-decoration-color: #008000\"> Agent A1 starting: Find top-rated coffee shops in SF.                            </span> <a href=\"file://D:\\repos\\tpai_deep_research_from_scratch\\src\\research_agent_framework\\bootstrap.py\" target=\"_blank\"><span style=\"color: #7f7f7f; text-decoration-color: #7f7f7f\">bootstrap.py</span></a><span style=\"color: #7f7f7f; text-decoration-color: #7f7f7f\">:</span><a href=\"file://D:\\repos\\tpai_deep_research_from_scratch\\src\\research_agent_framework\\bootstrap.py#93\" target=\"_blank\"><span style=\"color: #7f7f7f; text-decoration-color: #7f7f7f\">93</span></a>\n",
       "</pre>\n"
      ],
      "text/plain": [
       "\u001b[2;36m          \u001b[0m\u001b[2;36m \u001b[0m\u001b[1;32m[\u001b[0m\u001b[32mINFO\u001b[0m\u001b[1;32m]\u001b[0m\u001b[32m Agent A1 starting: Find top-rated coffee shops in SF.                            \u001b[0m \u001b]8;id=447934;file://D:\\repos\\tpai_deep_research_from_scratch\\src\\research_agent_framework\\bootstrap.py\u001b\\\u001b[2mbootstrap.py\u001b[0m\u001b]8;;\u001b\\\u001b[2m:\u001b[0m\u001b]8;id=745446;file://D:\\repos\\tpai_deep_research_from_scratch\\src\\research_agent_framework\\bootstrap.py#93\u001b\\\u001b[2m93\u001b[0m\u001b]8;;\u001b\\\n"
      ]
     },
     "metadata": {},
     "output_type": "display_data"
    },
    {
     "name": "stderr",
     "output_type": "stream",
     "text": [
      "2025-09-12T15:47:15.363489-0700 INFO Agent A1 starting: Find top-rated coffee shops in SF.\n",
      "2025-09-12T15:47:15.363489-0700 INFO Agent A1 starting: Find top-rated coffee shops in SF.\n",
      "2025-09-12T15:47:15.363489-0700 INFO Agent A1 starting: Find top-rated coffee shops in SF.\n",
      "2025-09-12T15:47:15.363489-0700 INFO Agent A1 starting: Find top-rated coffee shops in SF.\n"
     ]
    },
    {
     "data": {
      "text/html": [
       "<pre style=\"white-space:pre;overflow-x:auto;line-height:normal;font-family:Menlo,'DejaVu Sans Mono',consolas,'Courier New',monospace\"><span style=\"color: #7fbfbf; text-decoration-color: #7fbfbf\">           </span><span style=\"color: #008000; text-decoration-color: #008000; font-weight: bold\">[</span><span style=\"color: #008000; text-decoration-color: #008000\">INFO</span><span style=\"color: #008000; text-decoration-color: #008000; font-weight: bold\">]</span><span style=\"color: #008000; text-decoration-color: #008000\"> Agent A1 finished: Completed: Find top-rated coffee shops in SF.                 </span> <a href=\"file://D:\\repos\\tpai_deep_research_from_scratch\\src\\research_agent_framework\\bootstrap.py\" target=\"_blank\"><span style=\"color: #7f7f7f; text-decoration-color: #7f7f7f\">bootstrap.py</span></a><span style=\"color: #7f7f7f; text-decoration-color: #7f7f7f\">:</span><a href=\"file://D:\\repos\\tpai_deep_research_from_scratch\\src\\research_agent_framework\\bootstrap.py#93\" target=\"_blank\"><span style=\"color: #7f7f7f; text-decoration-color: #7f7f7f\">93</span></a>\n",
       "</pre>\n"
      ],
      "text/plain": [
       "\u001b[2;36m          \u001b[0m\u001b[2;36m \u001b[0m\u001b[1;32m[\u001b[0m\u001b[32mINFO\u001b[0m\u001b[1;32m]\u001b[0m\u001b[32m Agent A1 finished: Completed: Find top-rated coffee shops in SF.                 \u001b[0m \u001b]8;id=915651;file://D:\\repos\\tpai_deep_research_from_scratch\\src\\research_agent_framework\\bootstrap.py\u001b\\\u001b[2mbootstrap.py\u001b[0m\u001b]8;;\u001b\\\u001b[2m:\u001b[0m\u001b]8;id=964710;file://D:\\repos\\tpai_deep_research_from_scratch\\src\\research_agent_framework\\bootstrap.py#93\u001b\\\u001b[2m93\u001b[0m\u001b]8;;\u001b\\\n"
      ]
     },
     "metadata": {},
     "output_type": "display_data"
    },
    {
     "data": {
      "text/html": [
       "<pre style=\"white-space:pre;overflow-x:auto;line-height:normal;font-family:Menlo,'DejaVu Sans Mono',consolas,'Courier New',monospace\"><span style=\"color: #7fbfbf; text-decoration-color: #7fbfbf\">           </span><span style=\"color: #008000; text-decoration-color: #008000; font-weight: bold\">[</span><span style=\"color: #008000; text-decoration-color: #008000\">INFO</span><span style=\"color: #008000; text-decoration-color: #008000; font-weight: bold\">]</span><span style=\"color: #008000; text-decoration-color: #008000\"> Agent A1 finished: Completed: Find top-rated coffee shops in SF.                 </span> <a href=\"file://D:\\repos\\tpai_deep_research_from_scratch\\src\\research_agent_framework\\bootstrap.py\" target=\"_blank\"><span style=\"color: #7f7f7f; text-decoration-color: #7f7f7f\">bootstrap.py</span></a><span style=\"color: #7f7f7f; text-decoration-color: #7f7f7f\">:</span><a href=\"file://D:\\repos\\tpai_deep_research_from_scratch\\src\\research_agent_framework\\bootstrap.py#93\" target=\"_blank\"><span style=\"color: #7f7f7f; text-decoration-color: #7f7f7f\">93</span></a>\n",
       "</pre>\n"
      ],
      "text/plain": [
       "\u001b[2;36m          \u001b[0m\u001b[2;36m \u001b[0m\u001b[1;32m[\u001b[0m\u001b[32mINFO\u001b[0m\u001b[1;32m]\u001b[0m\u001b[32m Agent A1 finished: Completed: Find top-rated coffee shops in SF.                 \u001b[0m \u001b]8;id=18621;file://D:\\repos\\tpai_deep_research_from_scratch\\src\\research_agent_framework\\bootstrap.py\u001b\\\u001b[2mbootstrap.py\u001b[0m\u001b]8;;\u001b\\\u001b[2m:\u001b[0m\u001b]8;id=332579;file://D:\\repos\\tpai_deep_research_from_scratch\\src\\research_agent_framework\\bootstrap.py#93\u001b\\\u001b[2m93\u001b[0m\u001b]8;;\u001b\\\n"
      ]
     },
     "metadata": {},
     "output_type": "display_data"
    },
    {
     "name": "stderr",
     "output_type": "stream",
     "text": [
      "2025-09-12T15:47:15.369101-0700 INFO Agent A1 finished: Completed: Find top-rated coffee shops in SF.\n",
      "2025-09-12T15:47:15.369101-0700 INFO Agent A1 finished: Completed: Find top-rated coffee shops in SF.\n",
      "2025-09-12T15:47:15.369101-0700 INFO Agent A1 finished: Completed: Find top-rated coffee shops in SF.\n",
      "2025-09-12T15:47:15.369101-0700 INFO Agent A1 finished: Completed: Find top-rated coffee shops in SF.\n"
     ]
    },
    {
     "data": {
      "text/html": [
       "<pre style=\"white-space:pre;overflow-x:auto;line-height:normal;font-family:Menlo,'DejaVu Sans Mono',consolas,'Courier New',monospace\"><span style=\"color: #7fbfbf; text-decoration-color: #7fbfbf\">           </span><span style=\"color: #008000; text-decoration-color: #008000; font-weight: bold\">[</span><span style=\"color: #008000; text-decoration-color: #008000\">INFO</span><span style=\"color: #008000; text-decoration-color: #008000; font-weight: bold\">]</span><span style=\"color: #008000; text-decoration-color: #008000\"> Supervisor: Agent A1 outcome: Completed: Find top-rated coffee shops in SF.      </span> <a href=\"file://D:\\repos\\tpai_deep_research_from_scratch\\src\\research_agent_framework\\bootstrap.py\" target=\"_blank\"><span style=\"color: #7f7f7f; text-decoration-color: #7f7f7f\">bootstrap.py</span></a><span style=\"color: #7f7f7f; text-decoration-color: #7f7f7f\">:</span><a href=\"file://D:\\repos\\tpai_deep_research_from_scratch\\src\\research_agent_framework\\bootstrap.py#93\" target=\"_blank\"><span style=\"color: #7f7f7f; text-decoration-color: #7f7f7f\">93</span></a>\n",
       "</pre>\n"
      ],
      "text/plain": [
       "\u001b[2;36m          \u001b[0m\u001b[2;36m \u001b[0m\u001b[1;32m[\u001b[0m\u001b[32mINFO\u001b[0m\u001b[1;32m]\u001b[0m\u001b[32m Supervisor: Agent A1 outcome: Completed: Find top-rated coffee shops in SF.      \u001b[0m \u001b]8;id=957612;file://D:\\repos\\tpai_deep_research_from_scratch\\src\\research_agent_framework\\bootstrap.py\u001b\\\u001b[2mbootstrap.py\u001b[0m\u001b]8;;\u001b\\\u001b[2m:\u001b[0m\u001b]8;id=695115;file://D:\\repos\\tpai_deep_research_from_scratch\\src\\research_agent_framework\\bootstrap.py#93\u001b\\\u001b[2m93\u001b[0m\u001b]8;;\u001b\\\n"
      ]
     },
     "metadata": {},
     "output_type": "display_data"
    },
    {
     "data": {
      "text/html": [
       "<pre style=\"white-space:pre;overflow-x:auto;line-height:normal;font-family:Menlo,'DejaVu Sans Mono',consolas,'Courier New',monospace\"><span style=\"color: #7fbfbf; text-decoration-color: #7fbfbf\">           </span><span style=\"color: #008000; text-decoration-color: #008000; font-weight: bold\">[</span><span style=\"color: #008000; text-decoration-color: #008000\">INFO</span><span style=\"color: #008000; text-decoration-color: #008000; font-weight: bold\">]</span><span style=\"color: #008000; text-decoration-color: #008000\"> Supervisor: Agent A1 outcome: Completed: Find top-rated coffee shops in SF.      </span> <a href=\"file://D:\\repos\\tpai_deep_research_from_scratch\\src\\research_agent_framework\\bootstrap.py\" target=\"_blank\"><span style=\"color: #7f7f7f; text-decoration-color: #7f7f7f\">bootstrap.py</span></a><span style=\"color: #7f7f7f; text-decoration-color: #7f7f7f\">:</span><a href=\"file://D:\\repos\\tpai_deep_research_from_scratch\\src\\research_agent_framework\\bootstrap.py#93\" target=\"_blank\"><span style=\"color: #7f7f7f; text-decoration-color: #7f7f7f\">93</span></a>\n",
       "</pre>\n"
      ],
      "text/plain": [
       "\u001b[2;36m          \u001b[0m\u001b[2;36m \u001b[0m\u001b[1;32m[\u001b[0m\u001b[32mINFO\u001b[0m\u001b[1;32m]\u001b[0m\u001b[32m Supervisor: Agent A1 outcome: Completed: Find top-rated coffee shops in SF.      \u001b[0m \u001b]8;id=330162;file://D:\\repos\\tpai_deep_research_from_scratch\\src\\research_agent_framework\\bootstrap.py\u001b\\\u001b[2mbootstrap.py\u001b[0m\u001b]8;;\u001b\\\u001b[2m:\u001b[0m\u001b]8;id=903961;file://D:\\repos\\tpai_deep_research_from_scratch\\src\\research_agent_framework\\bootstrap.py#93\u001b\\\u001b[2m93\u001b[0m\u001b]8;;\u001b\\\n"
      ]
     },
     "metadata": {},
     "output_type": "display_data"
    },
    {
     "name": "stderr",
     "output_type": "stream",
     "text": [
      "2025-09-12T15:47:15.374662-0700 INFO Supervisor: Agent A1 outcome: Completed: Find top-rated coffee shops in SF.\n",
      "2025-09-12T15:47:15.374662-0700 INFO Supervisor: Agent A1 outcome: Completed: Find top-rated coffee shops in SF.\n",
      "2025-09-12T15:47:15.374662-0700 INFO Supervisor: Agent A1 outcome: Completed: Find top-rated coffee shops in SF.\n",
      "2025-09-12T15:47:15.374662-0700 INFO Supervisor: Agent A1 outcome: Completed: Find top-rated coffee shops in SF.\n"
     ]
    },
    {
     "data": {
      "text/html": [
       "<pre style=\"white-space:pre;overflow-x:auto;line-height:normal;font-family:Menlo,'DejaVu Sans Mono',consolas,'Courier New',monospace\"><span style=\"color: #7fbfbf; text-decoration-color: #7fbfbf\">           </span><span style=\"color: #008000; text-decoration-color: #008000; font-weight: bold\">[</span><span style=\"color: #008000; text-decoration-color: #008000\">INFO</span><span style=\"color: #008000; text-decoration-color: #008000; font-weight: bold\">]</span><span style=\"color: #008000; text-decoration-color: #008000\"> Agent A2 starting: Check which shops are open now.                               </span> <a href=\"file://D:\\repos\\tpai_deep_research_from_scratch\\src\\research_agent_framework\\bootstrap.py\" target=\"_blank\"><span style=\"color: #7f7f7f; text-decoration-color: #7f7f7f\">bootstrap.py</span></a><span style=\"color: #7f7f7f; text-decoration-color: #7f7f7f\">:</span><a href=\"file://D:\\repos\\tpai_deep_research_from_scratch\\src\\research_agent_framework\\bootstrap.py#93\" target=\"_blank\"><span style=\"color: #7f7f7f; text-decoration-color: #7f7f7f\">93</span></a>\n",
       "</pre>\n"
      ],
      "text/plain": [
       "\u001b[2;36m          \u001b[0m\u001b[2;36m \u001b[0m\u001b[1;32m[\u001b[0m\u001b[32mINFO\u001b[0m\u001b[1;32m]\u001b[0m\u001b[32m Agent A2 starting: Check which shops are open now.                               \u001b[0m \u001b]8;id=647051;file://D:\\repos\\tpai_deep_research_from_scratch\\src\\research_agent_framework\\bootstrap.py\u001b\\\u001b[2mbootstrap.py\u001b[0m\u001b]8;;\u001b\\\u001b[2m:\u001b[0m\u001b]8;id=122139;file://D:\\repos\\tpai_deep_research_from_scratch\\src\\research_agent_framework\\bootstrap.py#93\u001b\\\u001b[2m93\u001b[0m\u001b]8;;\u001b\\\n"
      ]
     },
     "metadata": {},
     "output_type": "display_data"
    },
    {
     "data": {
      "text/html": [
       "<pre style=\"white-space:pre;overflow-x:auto;line-height:normal;font-family:Menlo,'DejaVu Sans Mono',consolas,'Courier New',monospace\"><span style=\"color: #7fbfbf; text-decoration-color: #7fbfbf\">           </span><span style=\"color: #008000; text-decoration-color: #008000; font-weight: bold\">[</span><span style=\"color: #008000; text-decoration-color: #008000\">INFO</span><span style=\"color: #008000; text-decoration-color: #008000; font-weight: bold\">]</span><span style=\"color: #008000; text-decoration-color: #008000\"> Agent A2 starting: Check which shops are open now.                               </span> <a href=\"file://D:\\repos\\tpai_deep_research_from_scratch\\src\\research_agent_framework\\bootstrap.py\" target=\"_blank\"><span style=\"color: #7f7f7f; text-decoration-color: #7f7f7f\">bootstrap.py</span></a><span style=\"color: #7f7f7f; text-decoration-color: #7f7f7f\">:</span><a href=\"file://D:\\repos\\tpai_deep_research_from_scratch\\src\\research_agent_framework\\bootstrap.py#93\" target=\"_blank\"><span style=\"color: #7f7f7f; text-decoration-color: #7f7f7f\">93</span></a>\n",
       "</pre>\n"
      ],
      "text/plain": [
       "\u001b[2;36m          \u001b[0m\u001b[2;36m \u001b[0m\u001b[1;32m[\u001b[0m\u001b[32mINFO\u001b[0m\u001b[1;32m]\u001b[0m\u001b[32m Agent A2 starting: Check which shops are open now.                               \u001b[0m \u001b]8;id=376494;file://D:\\repos\\tpai_deep_research_from_scratch\\src\\research_agent_framework\\bootstrap.py\u001b\\\u001b[2mbootstrap.py\u001b[0m\u001b]8;;\u001b\\\u001b[2m:\u001b[0m\u001b]8;id=379029;file://D:\\repos\\tpai_deep_research_from_scratch\\src\\research_agent_framework\\bootstrap.py#93\u001b\\\u001b[2m93\u001b[0m\u001b]8;;\u001b\\\n"
      ]
     },
     "metadata": {},
     "output_type": "display_data"
    },
    {
     "name": "stderr",
     "output_type": "stream",
     "text": [
      "2025-09-12T15:47:15.379852-0700 INFO Agent A2 starting: Check which shops are open now.\n",
      "2025-09-12T15:47:15.379852-0700 INFO Agent A2 starting: Check which shops are open now.\n",
      "2025-09-12T15:47:15.379852-0700 INFO Agent A2 starting: Check which shops are open now.\n",
      "2025-09-12T15:47:15.379852-0700 INFO Agent A2 starting: Check which shops are open now.\n"
     ]
    },
    {
     "data": {
      "text/html": [
       "<pre style=\"white-space:pre;overflow-x:auto;line-height:normal;font-family:Menlo,'DejaVu Sans Mono',consolas,'Courier New',monospace\"><span style=\"color: #7fbfbf; text-decoration-color: #7fbfbf\">           </span><span style=\"color: #008000; text-decoration-color: #008000; font-weight: bold\">[</span><span style=\"color: #008000; text-decoration-color: #008000\">INFO</span><span style=\"color: #008000; text-decoration-color: #008000; font-weight: bold\">]</span><span style=\"color: #008000; text-decoration-color: #008000\"> Agent A2 finished: Completed: Check which shops are open now.                    </span> <a href=\"file://D:\\repos\\tpai_deep_research_from_scratch\\src\\research_agent_framework\\bootstrap.py\" target=\"_blank\"><span style=\"color: #7f7f7f; text-decoration-color: #7f7f7f\">bootstrap.py</span></a><span style=\"color: #7f7f7f; text-decoration-color: #7f7f7f\">:</span><a href=\"file://D:\\repos\\tpai_deep_research_from_scratch\\src\\research_agent_framework\\bootstrap.py#93\" target=\"_blank\"><span style=\"color: #7f7f7f; text-decoration-color: #7f7f7f\">93</span></a>\n",
       "</pre>\n"
      ],
      "text/plain": [
       "\u001b[2;36m          \u001b[0m\u001b[2;36m \u001b[0m\u001b[1;32m[\u001b[0m\u001b[32mINFO\u001b[0m\u001b[1;32m]\u001b[0m\u001b[32m Agent A2 finished: Completed: Check which shops are open now.                    \u001b[0m \u001b]8;id=489680;file://D:\\repos\\tpai_deep_research_from_scratch\\src\\research_agent_framework\\bootstrap.py\u001b\\\u001b[2mbootstrap.py\u001b[0m\u001b]8;;\u001b\\\u001b[2m:\u001b[0m\u001b]8;id=179793;file://D:\\repos\\tpai_deep_research_from_scratch\\src\\research_agent_framework\\bootstrap.py#93\u001b\\\u001b[2m93\u001b[0m\u001b]8;;\u001b\\\n"
      ]
     },
     "metadata": {},
     "output_type": "display_data"
    },
    {
     "data": {
      "text/html": [
       "<pre style=\"white-space:pre;overflow-x:auto;line-height:normal;font-family:Menlo,'DejaVu Sans Mono',consolas,'Courier New',monospace\"><span style=\"color: #7fbfbf; text-decoration-color: #7fbfbf\">           </span><span style=\"color: #008000; text-decoration-color: #008000; font-weight: bold\">[</span><span style=\"color: #008000; text-decoration-color: #008000\">INFO</span><span style=\"color: #008000; text-decoration-color: #008000; font-weight: bold\">]</span><span style=\"color: #008000; text-decoration-color: #008000\"> Agent A2 finished: Completed: Check which shops are open now.                    </span> <a href=\"file://D:\\repos\\tpai_deep_research_from_scratch\\src\\research_agent_framework\\bootstrap.py\" target=\"_blank\"><span style=\"color: #7f7f7f; text-decoration-color: #7f7f7f\">bootstrap.py</span></a><span style=\"color: #7f7f7f; text-decoration-color: #7f7f7f\">:</span><a href=\"file://D:\\repos\\tpai_deep_research_from_scratch\\src\\research_agent_framework\\bootstrap.py#93\" target=\"_blank\"><span style=\"color: #7f7f7f; text-decoration-color: #7f7f7f\">93</span></a>\n",
       "</pre>\n"
      ],
      "text/plain": [
       "\u001b[2;36m          \u001b[0m\u001b[2;36m \u001b[0m\u001b[1;32m[\u001b[0m\u001b[32mINFO\u001b[0m\u001b[1;32m]\u001b[0m\u001b[32m Agent A2 finished: Completed: Check which shops are open now.                    \u001b[0m \u001b]8;id=490858;file://D:\\repos\\tpai_deep_research_from_scratch\\src\\research_agent_framework\\bootstrap.py\u001b\\\u001b[2mbootstrap.py\u001b[0m\u001b]8;;\u001b\\\u001b[2m:\u001b[0m\u001b]8;id=560735;file://D:\\repos\\tpai_deep_research_from_scratch\\src\\research_agent_framework\\bootstrap.py#93\u001b\\\u001b[2m93\u001b[0m\u001b]8;;\u001b\\\n"
      ]
     },
     "metadata": {},
     "output_type": "display_data"
    },
    {
     "name": "stderr",
     "output_type": "stream",
     "text": [
      "2025-09-12T15:47:15.385792-0700 INFO Agent A2 finished: Completed: Check which shops are open now.\n",
      "2025-09-12T15:47:15.385792-0700 INFO Agent A2 finished: Completed: Check which shops are open now.\n",
      "2025-09-12T15:47:15.385792-0700 INFO Agent A2 finished: Completed: Check which shops are open now.\n",
      "2025-09-12T15:47:15.385792-0700 INFO Agent A2 finished: Completed: Check which shops are open now.\n"
     ]
    },
    {
     "data": {
      "text/html": [
       "<pre style=\"white-space:pre;overflow-x:auto;line-height:normal;font-family:Menlo,'DejaVu Sans Mono',consolas,'Courier New',monospace\"><span style=\"color: #7fbfbf; text-decoration-color: #7fbfbf\">           </span><span style=\"color: #008000; text-decoration-color: #008000; font-weight: bold\">[</span><span style=\"color: #008000; text-decoration-color: #008000\">INFO</span><span style=\"color: #008000; text-decoration-color: #008000; font-weight: bold\">]</span><span style=\"color: #008000; text-decoration-color: #008000\"> Supervisor: Agent A2 outcome: Completed: Check which shops are open now.         </span> <a href=\"file://D:\\repos\\tpai_deep_research_from_scratch\\src\\research_agent_framework\\bootstrap.py\" target=\"_blank\"><span style=\"color: #7f7f7f; text-decoration-color: #7f7f7f\">bootstrap.py</span></a><span style=\"color: #7f7f7f; text-decoration-color: #7f7f7f\">:</span><a href=\"file://D:\\repos\\tpai_deep_research_from_scratch\\src\\research_agent_framework\\bootstrap.py#93\" target=\"_blank\"><span style=\"color: #7f7f7f; text-decoration-color: #7f7f7f\">93</span></a>\n",
       "</pre>\n"
      ],
      "text/plain": [
       "\u001b[2;36m          \u001b[0m\u001b[2;36m \u001b[0m\u001b[1;32m[\u001b[0m\u001b[32mINFO\u001b[0m\u001b[1;32m]\u001b[0m\u001b[32m Supervisor: Agent A2 outcome: Completed: Check which shops are open now.         \u001b[0m \u001b]8;id=313699;file://D:\\repos\\tpai_deep_research_from_scratch\\src\\research_agent_framework\\bootstrap.py\u001b\\\u001b[2mbootstrap.py\u001b[0m\u001b]8;;\u001b\\\u001b[2m:\u001b[0m\u001b]8;id=967856;file://D:\\repos\\tpai_deep_research_from_scratch\\src\\research_agent_framework\\bootstrap.py#93\u001b\\\u001b[2m93\u001b[0m\u001b]8;;\u001b\\\n"
      ]
     },
     "metadata": {},
     "output_type": "display_data"
    },
    {
     "data": {
      "text/html": [
       "<pre style=\"white-space:pre;overflow-x:auto;line-height:normal;font-family:Menlo,'DejaVu Sans Mono',consolas,'Courier New',monospace\"><span style=\"color: #7fbfbf; text-decoration-color: #7fbfbf\">           </span><span style=\"color: #008000; text-decoration-color: #008000; font-weight: bold\">[</span><span style=\"color: #008000; text-decoration-color: #008000\">INFO</span><span style=\"color: #008000; text-decoration-color: #008000; font-weight: bold\">]</span><span style=\"color: #008000; text-decoration-color: #008000\"> Supervisor: Agent A2 outcome: Completed: Check which shops are open now.         </span> <a href=\"file://D:\\repos\\tpai_deep_research_from_scratch\\src\\research_agent_framework\\bootstrap.py\" target=\"_blank\"><span style=\"color: #7f7f7f; text-decoration-color: #7f7f7f\">bootstrap.py</span></a><span style=\"color: #7f7f7f; text-decoration-color: #7f7f7f\">:</span><a href=\"file://D:\\repos\\tpai_deep_research_from_scratch\\src\\research_agent_framework\\bootstrap.py#93\" target=\"_blank\"><span style=\"color: #7f7f7f; text-decoration-color: #7f7f7f\">93</span></a>\n",
       "</pre>\n"
      ],
      "text/plain": [
       "\u001b[2;36m          \u001b[0m\u001b[2;36m \u001b[0m\u001b[1;32m[\u001b[0m\u001b[32mINFO\u001b[0m\u001b[1;32m]\u001b[0m\u001b[32m Supervisor: Agent A2 outcome: Completed: Check which shops are open now.         \u001b[0m \u001b]8;id=655580;file://D:\\repos\\tpai_deep_research_from_scratch\\src\\research_agent_framework\\bootstrap.py\u001b\\\u001b[2mbootstrap.py\u001b[0m\u001b]8;;\u001b\\\u001b[2m:\u001b[0m\u001b]8;id=83054;file://D:\\repos\\tpai_deep_research_from_scratch\\src\\research_agent_framework\\bootstrap.py#93\u001b\\\u001b[2m93\u001b[0m\u001b]8;;\u001b\\\n"
      ]
     },
     "metadata": {},
     "output_type": "display_data"
    },
    {
     "name": "stderr",
     "output_type": "stream",
     "text": [
      "2025-09-12T15:47:15.391654-0700 INFO Supervisor: Agent A2 outcome: Completed: Check which shops are open now.\n",
      "2025-09-12T15:47:15.391654-0700 INFO Supervisor: Agent A2 outcome: Completed: Check which shops are open now.\n",
      "2025-09-12T15:47:15.391654-0700 INFO Supervisor: Agent A2 outcome: Completed: Check which shops are open now.\n",
      "2025-09-12T15:47:15.391654-0700 INFO Supervisor: Agent A2 outcome: Completed: Check which shops are open now.\n"
     ]
    },
    {
     "data": {
      "text/html": [
       "<pre style=\"white-space:pre;overflow-x:auto;line-height:normal;font-family:Menlo,'DejaVu Sans Mono',consolas,'Courier New',monospace\"><span style=\"color: #7fbfbf; text-decoration-color: #7fbfbf\">           </span><span style=\"color: #008000; text-decoration-color: #008000; font-weight: bold\">[</span><span style=\"color: #008000; text-decoration-color: #008000\">INFO</span><span style=\"color: #008000; text-decoration-color: #008000; font-weight: bold\">]</span><span style=\"color: #008000; text-decoration-color: #008000\"> Agent A3 starting: Filter for no cover charge in SOMA.                           </span> <a href=\"file://D:\\repos\\tpai_deep_research_from_scratch\\src\\research_agent_framework\\bootstrap.py\" target=\"_blank\"><span style=\"color: #7f7f7f; text-decoration-color: #7f7f7f\">bootstrap.py</span></a><span style=\"color: #7f7f7f; text-decoration-color: #7f7f7f\">:</span><a href=\"file://D:\\repos\\tpai_deep_research_from_scratch\\src\\research_agent_framework\\bootstrap.py#93\" target=\"_blank\"><span style=\"color: #7f7f7f; text-decoration-color: #7f7f7f\">93</span></a>\n",
       "</pre>\n"
      ],
      "text/plain": [
       "\u001b[2;36m          \u001b[0m\u001b[2;36m \u001b[0m\u001b[1;32m[\u001b[0m\u001b[32mINFO\u001b[0m\u001b[1;32m]\u001b[0m\u001b[32m Agent A3 starting: Filter for no cover charge in SOMA.                           \u001b[0m \u001b]8;id=907792;file://D:\\repos\\tpai_deep_research_from_scratch\\src\\research_agent_framework\\bootstrap.py\u001b\\\u001b[2mbootstrap.py\u001b[0m\u001b]8;;\u001b\\\u001b[2m:\u001b[0m\u001b]8;id=724065;file://D:\\repos\\tpai_deep_research_from_scratch\\src\\research_agent_framework\\bootstrap.py#93\u001b\\\u001b[2m93\u001b[0m\u001b]8;;\u001b\\\n"
      ]
     },
     "metadata": {},
     "output_type": "display_data"
    },
    {
     "data": {
      "text/html": [
       "<pre style=\"white-space:pre;overflow-x:auto;line-height:normal;font-family:Menlo,'DejaVu Sans Mono',consolas,'Courier New',monospace\"><span style=\"color: #7fbfbf; text-decoration-color: #7fbfbf\">           </span><span style=\"color: #008000; text-decoration-color: #008000; font-weight: bold\">[</span><span style=\"color: #008000; text-decoration-color: #008000\">INFO</span><span style=\"color: #008000; text-decoration-color: #008000; font-weight: bold\">]</span><span style=\"color: #008000; text-decoration-color: #008000\"> Agent A3 starting: Filter for no cover charge in SOMA.                           </span> <a href=\"file://D:\\repos\\tpai_deep_research_from_scratch\\src\\research_agent_framework\\bootstrap.py\" target=\"_blank\"><span style=\"color: #7f7f7f; text-decoration-color: #7f7f7f\">bootstrap.py</span></a><span style=\"color: #7f7f7f; text-decoration-color: #7f7f7f\">:</span><a href=\"file://D:\\repos\\tpai_deep_research_from_scratch\\src\\research_agent_framework\\bootstrap.py#93\" target=\"_blank\"><span style=\"color: #7f7f7f; text-decoration-color: #7f7f7f\">93</span></a>\n",
       "</pre>\n"
      ],
      "text/plain": [
       "\u001b[2;36m          \u001b[0m\u001b[2;36m \u001b[0m\u001b[1;32m[\u001b[0m\u001b[32mINFO\u001b[0m\u001b[1;32m]\u001b[0m\u001b[32m Agent A3 starting: Filter for no cover charge in SOMA.                           \u001b[0m \u001b]8;id=372028;file://D:\\repos\\tpai_deep_research_from_scratch\\src\\research_agent_framework\\bootstrap.py\u001b\\\u001b[2mbootstrap.py\u001b[0m\u001b]8;;\u001b\\\u001b[2m:\u001b[0m\u001b]8;id=961811;file://D:\\repos\\tpai_deep_research_from_scratch\\src\\research_agent_framework\\bootstrap.py#93\u001b\\\u001b[2m93\u001b[0m\u001b]8;;\u001b\\\n"
      ]
     },
     "metadata": {},
     "output_type": "display_data"
    },
    {
     "name": "stderr",
     "output_type": "stream",
     "text": [
      "2025-09-12T15:47:15.397090-0700 INFO Agent A3 starting: Filter for no cover charge in SOMA.\n",
      "2025-09-12T15:47:15.397090-0700 INFO Agent A3 starting: Filter for no cover charge in SOMA.\n",
      "2025-09-12T15:47:15.397090-0700 INFO Agent A3 starting: Filter for no cover charge in SOMA.\n",
      "2025-09-12T15:47:15.397090-0700 INFO Agent A3 starting: Filter for no cover charge in SOMA.\n"
     ]
    },
    {
     "data": {
      "text/html": [
       "<pre style=\"white-space:pre;overflow-x:auto;line-height:normal;font-family:Menlo,'DejaVu Sans Mono',consolas,'Courier New',monospace\"><span style=\"color: #7fbfbf; text-decoration-color: #7fbfbf\">           </span><span style=\"color: #008000; text-decoration-color: #008000; font-weight: bold\">[</span><span style=\"color: #008000; text-decoration-color: #008000\">INFO</span><span style=\"color: #008000; text-decoration-color: #008000; font-weight: bold\">]</span><span style=\"color: #008000; text-decoration-color: #008000\"> Agent A3 finished: Completed: Filter for no cover charge in SOMA.                </span> <a href=\"file://D:\\repos\\tpai_deep_research_from_scratch\\src\\research_agent_framework\\bootstrap.py\" target=\"_blank\"><span style=\"color: #7f7f7f; text-decoration-color: #7f7f7f\">bootstrap.py</span></a><span style=\"color: #7f7f7f; text-decoration-color: #7f7f7f\">:</span><a href=\"file://D:\\repos\\tpai_deep_research_from_scratch\\src\\research_agent_framework\\bootstrap.py#93\" target=\"_blank\"><span style=\"color: #7f7f7f; text-decoration-color: #7f7f7f\">93</span></a>\n",
       "</pre>\n"
      ],
      "text/plain": [
       "\u001b[2;36m          \u001b[0m\u001b[2;36m \u001b[0m\u001b[1;32m[\u001b[0m\u001b[32mINFO\u001b[0m\u001b[1;32m]\u001b[0m\u001b[32m Agent A3 finished: Completed: Filter for no cover charge in SOMA.                \u001b[0m \u001b]8;id=138655;file://D:\\repos\\tpai_deep_research_from_scratch\\src\\research_agent_framework\\bootstrap.py\u001b\\\u001b[2mbootstrap.py\u001b[0m\u001b]8;;\u001b\\\u001b[2m:\u001b[0m\u001b]8;id=213182;file://D:\\repos\\tpai_deep_research_from_scratch\\src\\research_agent_framework\\bootstrap.py#93\u001b\\\u001b[2m93\u001b[0m\u001b]8;;\u001b\\\n"
      ]
     },
     "metadata": {},
     "output_type": "display_data"
    },
    {
     "data": {
      "text/html": [
       "<pre style=\"white-space:pre;overflow-x:auto;line-height:normal;font-family:Menlo,'DejaVu Sans Mono',consolas,'Courier New',monospace\"><span style=\"color: #7fbfbf; text-decoration-color: #7fbfbf\">           </span><span style=\"color: #008000; text-decoration-color: #008000; font-weight: bold\">[</span><span style=\"color: #008000; text-decoration-color: #008000\">INFO</span><span style=\"color: #008000; text-decoration-color: #008000; font-weight: bold\">]</span><span style=\"color: #008000; text-decoration-color: #008000\"> Agent A3 finished: Completed: Filter for no cover charge in SOMA.                </span> <a href=\"file://D:\\repos\\tpai_deep_research_from_scratch\\src\\research_agent_framework\\bootstrap.py\" target=\"_blank\"><span style=\"color: #7f7f7f; text-decoration-color: #7f7f7f\">bootstrap.py</span></a><span style=\"color: #7f7f7f; text-decoration-color: #7f7f7f\">:</span><a href=\"file://D:\\repos\\tpai_deep_research_from_scratch\\src\\research_agent_framework\\bootstrap.py#93\" target=\"_blank\"><span style=\"color: #7f7f7f; text-decoration-color: #7f7f7f\">93</span></a>\n",
       "</pre>\n"
      ],
      "text/plain": [
       "\u001b[2;36m          \u001b[0m\u001b[2;36m \u001b[0m\u001b[1;32m[\u001b[0m\u001b[32mINFO\u001b[0m\u001b[1;32m]\u001b[0m\u001b[32m Agent A3 finished: Completed: Filter for no cover charge in SOMA.                \u001b[0m \u001b]8;id=967712;file://D:\\repos\\tpai_deep_research_from_scratch\\src\\research_agent_framework\\bootstrap.py\u001b\\\u001b[2mbootstrap.py\u001b[0m\u001b]8;;\u001b\\\u001b[2m:\u001b[0m\u001b]8;id=998639;file://D:\\repos\\tpai_deep_research_from_scratch\\src\\research_agent_framework\\bootstrap.py#93\u001b\\\u001b[2m93\u001b[0m\u001b]8;;\u001b\\\n"
      ]
     },
     "metadata": {},
     "output_type": "display_data"
    },
    {
     "name": "stderr",
     "output_type": "stream",
     "text": [
      "2025-09-12T15:47:15.403283-0700 INFO Agent A3 finished: Completed: Filter for no cover charge in SOMA.\n",
      "2025-09-12T15:47:15.403283-0700 INFO Agent A3 finished: Completed: Filter for no cover charge in SOMA.\n",
      "2025-09-12T15:47:15.403283-0700 INFO Agent A3 finished: Completed: Filter for no cover charge in SOMA.\n",
      "2025-09-12T15:47:15.403283-0700 INFO Agent A3 finished: Completed: Filter for no cover charge in SOMA.\n"
     ]
    },
    {
     "data": {
      "text/html": [
       "<pre style=\"white-space:pre;overflow-x:auto;line-height:normal;font-family:Menlo,'DejaVu Sans Mono',consolas,'Courier New',monospace\"><span style=\"color: #7fbfbf; text-decoration-color: #7fbfbf\">           </span><span style=\"color: #008000; text-decoration-color: #008000; font-weight: bold\">[</span><span style=\"color: #008000; text-decoration-color: #008000\">INFO</span><span style=\"color: #008000; text-decoration-color: #008000; font-weight: bold\">]</span><span style=\"color: #008000; text-decoration-color: #008000\"> Supervisor: Agent A3 outcome: Completed: Filter for no cover charge in SOMA.     </span> <a href=\"file://D:\\repos\\tpai_deep_research_from_scratch\\src\\research_agent_framework\\bootstrap.py\" target=\"_blank\"><span style=\"color: #7f7f7f; text-decoration-color: #7f7f7f\">bootstrap.py</span></a><span style=\"color: #7f7f7f; text-decoration-color: #7f7f7f\">:</span><a href=\"file://D:\\repos\\tpai_deep_research_from_scratch\\src\\research_agent_framework\\bootstrap.py#93\" target=\"_blank\"><span style=\"color: #7f7f7f; text-decoration-color: #7f7f7f\">93</span></a>\n",
       "</pre>\n"
      ],
      "text/plain": [
       "\u001b[2;36m          \u001b[0m\u001b[2;36m \u001b[0m\u001b[1;32m[\u001b[0m\u001b[32mINFO\u001b[0m\u001b[1;32m]\u001b[0m\u001b[32m Supervisor: Agent A3 outcome: Completed: Filter for no cover charge in SOMA.     \u001b[0m \u001b]8;id=629366;file://D:\\repos\\tpai_deep_research_from_scratch\\src\\research_agent_framework\\bootstrap.py\u001b\\\u001b[2mbootstrap.py\u001b[0m\u001b]8;;\u001b\\\u001b[2m:\u001b[0m\u001b]8;id=26743;file://D:\\repos\\tpai_deep_research_from_scratch\\src\\research_agent_framework\\bootstrap.py#93\u001b\\\u001b[2m93\u001b[0m\u001b]8;;\u001b\\\n"
      ]
     },
     "metadata": {},
     "output_type": "display_data"
    },
    {
     "data": {
      "text/html": [
       "<pre style=\"white-space:pre;overflow-x:auto;line-height:normal;font-family:Menlo,'DejaVu Sans Mono',consolas,'Courier New',monospace\"><span style=\"color: #7fbfbf; text-decoration-color: #7fbfbf\">           </span><span style=\"color: #008000; text-decoration-color: #008000; font-weight: bold\">[</span><span style=\"color: #008000; text-decoration-color: #008000\">INFO</span><span style=\"color: #008000; text-decoration-color: #008000; font-weight: bold\">]</span><span style=\"color: #008000; text-decoration-color: #008000\"> Supervisor: Agent A3 outcome: Completed: Filter for no cover charge in SOMA.     </span> <a href=\"file://D:\\repos\\tpai_deep_research_from_scratch\\src\\research_agent_framework\\bootstrap.py\" target=\"_blank\"><span style=\"color: #7f7f7f; text-decoration-color: #7f7f7f\">bootstrap.py</span></a><span style=\"color: #7f7f7f; text-decoration-color: #7f7f7f\">:</span><a href=\"file://D:\\repos\\tpai_deep_research_from_scratch\\src\\research_agent_framework\\bootstrap.py#93\" target=\"_blank\"><span style=\"color: #7f7f7f; text-decoration-color: #7f7f7f\">93</span></a>\n",
       "</pre>\n"
      ],
      "text/plain": [
       "\u001b[2;36m          \u001b[0m\u001b[2;36m \u001b[0m\u001b[1;32m[\u001b[0m\u001b[32mINFO\u001b[0m\u001b[1;32m]\u001b[0m\u001b[32m Supervisor: Agent A3 outcome: Completed: Filter for no cover charge in SOMA.     \u001b[0m \u001b]8;id=970353;file://D:\\repos\\tpai_deep_research_from_scratch\\src\\research_agent_framework\\bootstrap.py\u001b\\\u001b[2mbootstrap.py\u001b[0m\u001b]8;;\u001b\\\u001b[2m:\u001b[0m\u001b]8;id=853225;file://D:\\repos\\tpai_deep_research_from_scratch\\src\\research_agent_framework\\bootstrap.py#93\u001b\\\u001b[2m93\u001b[0m\u001b]8;;\u001b\\\n"
      ]
     },
     "metadata": {},
     "output_type": "display_data"
    },
    {
     "name": "stderr",
     "output_type": "stream",
     "text": [
      "2025-09-12T15:47:15.408217-0700 INFO Supervisor: Agent A3 outcome: Completed: Filter for no cover charge in SOMA.\n",
      "2025-09-12T15:47:15.408217-0700 INFO Supervisor: Agent A3 outcome: Completed: Filter for no cover charge in SOMA.\n",
      "2025-09-12T15:47:15.408217-0700 INFO Supervisor: Agent A3 outcome: Completed: Filter for no cover charge in SOMA.\n",
      "2025-09-12T15:47:15.408217-0700 INFO Supervisor: Agent A3 outcome: Completed: Filter for no cover charge in SOMA.\n"
     ]
    },
    {
     "data": {
      "text/html": [
       "<pre style=\"white-space:pre;overflow-x:auto;line-height:normal;font-family:Menlo,'DejaVu Sans Mono',consolas,'Courier New',monospace\"><span style=\"color: #7fbfbf; text-decoration-color: #7fbfbf\">           </span><span style=\"color: #008000; text-decoration-color: #008000; font-weight: bold\">[</span><span style=\"color: #008000; text-decoration-color: #008000\">INFO</span><span style=\"color: #008000; text-decoration-color: #008000; font-weight: bold\">]</span><span style=\"color: #008000; text-decoration-color: #008000\"> Supervisor: Coordination complete                                                </span> <a href=\"file://D:\\repos\\tpai_deep_research_from_scratch\\src\\research_agent_framework\\bootstrap.py\" target=\"_blank\"><span style=\"color: #7f7f7f; text-decoration-color: #7f7f7f\">bootstrap.py</span></a><span style=\"color: #7f7f7f; text-decoration-color: #7f7f7f\">:</span><a href=\"file://D:\\repos\\tpai_deep_research_from_scratch\\src\\research_agent_framework\\bootstrap.py#93\" target=\"_blank\"><span style=\"color: #7f7f7f; text-decoration-color: #7f7f7f\">93</span></a>\n",
       "</pre>\n"
      ],
      "text/plain": [
       "\u001b[2;36m          \u001b[0m\u001b[2;36m \u001b[0m\u001b[1;32m[\u001b[0m\u001b[32mINFO\u001b[0m\u001b[1;32m]\u001b[0m\u001b[32m Supervisor: Coordination complete                                                \u001b[0m \u001b]8;id=258041;file://D:\\repos\\tpai_deep_research_from_scratch\\src\\research_agent_framework\\bootstrap.py\u001b\\\u001b[2mbootstrap.py\u001b[0m\u001b]8;;\u001b\\\u001b[2m:\u001b[0m\u001b]8;id=267161;file://D:\\repos\\tpai_deep_research_from_scratch\\src\\research_agent_framework\\bootstrap.py#93\u001b\\\u001b[2m93\u001b[0m\u001b]8;;\u001b\\\n"
      ]
     },
     "metadata": {},
     "output_type": "display_data"
    },
    {
     "data": {
      "text/html": [
       "<pre style=\"white-space:pre;overflow-x:auto;line-height:normal;font-family:Menlo,'DejaVu Sans Mono',consolas,'Courier New',monospace\"><span style=\"color: #7fbfbf; text-decoration-color: #7fbfbf\">           </span><span style=\"color: #008000; text-decoration-color: #008000; font-weight: bold\">[</span><span style=\"color: #008000; text-decoration-color: #008000\">INFO</span><span style=\"color: #008000; text-decoration-color: #008000; font-weight: bold\">]</span><span style=\"color: #008000; text-decoration-color: #008000\"> Supervisor: Coordination complete                                                </span> <a href=\"file://D:\\repos\\tpai_deep_research_from_scratch\\src\\research_agent_framework\\bootstrap.py\" target=\"_blank\"><span style=\"color: #7f7f7f; text-decoration-color: #7f7f7f\">bootstrap.py</span></a><span style=\"color: #7f7f7f; text-decoration-color: #7f7f7f\">:</span><a href=\"file://D:\\repos\\tpai_deep_research_from_scratch\\src\\research_agent_framework\\bootstrap.py#93\" target=\"_blank\"><span style=\"color: #7f7f7f; text-decoration-color: #7f7f7f\">93</span></a>\n",
       "</pre>\n"
      ],
      "text/plain": [
       "\u001b[2;36m          \u001b[0m\u001b[2;36m \u001b[0m\u001b[1;32m[\u001b[0m\u001b[32mINFO\u001b[0m\u001b[1;32m]\u001b[0m\u001b[32m Supervisor: Coordination complete                                                \u001b[0m \u001b]8;id=325829;file://D:\\repos\\tpai_deep_research_from_scratch\\src\\research_agent_framework\\bootstrap.py\u001b\\\u001b[2mbootstrap.py\u001b[0m\u001b]8;;\u001b\\\u001b[2m:\u001b[0m\u001b]8;id=352344;file://D:\\repos\\tpai_deep_research_from_scratch\\src\\research_agent_framework\\bootstrap.py#93\u001b\\\u001b[2m93\u001b[0m\u001b]8;;\u001b\\\n"
      ]
     },
     "metadata": {},
     "output_type": "display_data"
    },
    {
     "name": "stderr",
     "output_type": "stream",
     "text": [
      "2025-09-12T15:47:15.415053-0700 INFO Supervisor: Coordination complete\n",
      "2025-09-12T15:47:15.415053-0700 INFO Supervisor: Coordination complete\n",
      "2025-09-12T15:47:15.415053-0700 INFO Supervisor: Coordination complete\n",
      "2025-09-12T15:47:15.415053-0700 INFO Supervisor: Coordination complete\n"
     ]
    },
    {
     "data": {
      "text/html": [
       "<pre style=\"white-space:pre;overflow-x:auto;line-height:normal;font-family:Menlo,'DejaVu Sans Mono',consolas,'Courier New',monospace\"><span style=\"font-weight: bold\">Agent A1 outcome:</span>                                                                                                  \n",
       "\n",
       "Completed: Find top-rated coffee shops in SF.                                                                      \n",
       "</pre>\n"
      ],
      "text/plain": [
       "\u001b[1mAgent A1 outcome:\u001b[0m                                                                                                  \n",
       "\n",
       "Completed: Find top-rated coffee shops in SF.                                                                      \n"
      ]
     },
     "metadata": {},
     "output_type": "display_data"
    },
    {
     "data": {
      "text/html": [
       "<pre style=\"white-space:pre;overflow-x:auto;line-height:normal;font-family:Menlo,'DejaVu Sans Mono',consolas,'Courier New',monospace\"><span style=\"font-weight: bold\">Agent A2 outcome:</span>                                                                                                  \n",
       "\n",
       "Completed: Check which shops are open now.                                                                         \n",
       "</pre>\n"
      ],
      "text/plain": [
       "\u001b[1mAgent A2 outcome:\u001b[0m                                                                                                  \n",
       "\n",
       "Completed: Check which shops are open now.                                                                         \n"
      ]
     },
     "metadata": {},
     "output_type": "display_data"
    },
    {
     "data": {
      "text/html": [
       "<pre style=\"white-space:pre;overflow-x:auto;line-height:normal;font-family:Menlo,'DejaVu Sans Mono',consolas,'Courier New',monospace\"><span style=\"font-weight: bold\">Agent A3 outcome:</span>                                                                                                  \n",
       "\n",
       "Completed: Filter for no cover charge in SOMA.                                                                     \n",
       "</pre>\n"
      ],
      "text/plain": [
       "\u001b[1mAgent A3 outcome:\u001b[0m                                                                                                  \n",
       "\n",
       "Completed: Filter for no cover charge in SOMA.                                                                     \n"
      ]
     },
     "metadata": {},
     "output_type": "display_data"
    }
   ],
   "source": [
    "# 9.2 Logging Agent Messages and State Transitions (with logger injection demo)\n",
    "from deep_research_from_scratch.multi_agent_supervisor import Supervisor, AgentTask, DeterministicPolicy, LoggingSupervisor, LoggingAgentTask\n",
    "from research_agent_framework.config import get_console, get_logger\n",
    "from rich.markdown import Markdown\n",
    "\n",
    "console = get_console()\n",
    "logger = get_logger()\n",
    "\n",
    "# Inject logger into agent tasks and supervisor for reproducible logging\n",
    "agent_tasks = [\n",
    "    LoggingAgentTask(agent_id=\"A1\", description=\"Find top-rated coffee shops in SF.\", logger=logger),\n",
    "    LoggingAgentTask(agent_id=\"A2\", description=\"Check which shops are open now.\", logger=logger),\n",
    "    LoggingAgentTask(agent_id=\"A3\", description=\"Filter for no cover charge in SOMA.\", logger=logger)\n",
    "]\n",
    "supervisor = LoggingSupervisor(logger=logger)\n",
    "results = supervisor.coordinate(agent_tasks)\n",
    "\n",
    "for result in results:\n",
    "    console.print(Markdown(f\"**Agent {result.agent_id} outcome:**\\n\\n{result.outcome}\"))\n"
   ]
  },
  {
   "cell_type": "code",
   "execution_count": 57,
   "metadata": {},
   "outputs": [
    {
     "data": {
      "text/html": [
       "<pre style=\"white-space:pre;overflow-x:auto;line-height:normal;font-family:Menlo,'DejaVu Sans Mono',consolas,'Courier New',monospace\"><span style=\"color: #7fbfbf; text-decoration-color: #7fbfbf\">           </span><span style=\"color: #008000; text-decoration-color: #008000; font-weight: bold\">[</span><span style=\"color: #008000; text-decoration-color: #008000\">INFO</span><span style=\"color: #008000; text-decoration-color: #008000; font-weight: bold\">]</span><span style=\"color: #008000; text-decoration-color: #008000\"> Logging agent messages and state transitions during coordination.                </span> <a href=\"file://D:\\repos\\tpai_deep_research_from_scratch\\src\\research_agent_framework\\bootstrap.py\" target=\"_blank\"><span style=\"color: #7f7f7f; text-decoration-color: #7f7f7f\">bootstrap.py</span></a><span style=\"color: #7f7f7f; text-decoration-color: #7f7f7f\">:</span><a href=\"file://D:\\repos\\tpai_deep_research_from_scratch\\src\\research_agent_framework\\bootstrap.py#93\" target=\"_blank\"><span style=\"color: #7f7f7f; text-decoration-color: #7f7f7f\">93</span></a>\n",
       "</pre>\n"
      ],
      "text/plain": [
       "\u001b[2;36m          \u001b[0m\u001b[2;36m \u001b[0m\u001b[1;32m[\u001b[0m\u001b[32mINFO\u001b[0m\u001b[1;32m]\u001b[0m\u001b[32m Logging agent messages and state transitions during coordination.                \u001b[0m \u001b]8;id=906532;file://D:\\repos\\tpai_deep_research_from_scratch\\src\\research_agent_framework\\bootstrap.py\u001b\\\u001b[2mbootstrap.py\u001b[0m\u001b]8;;\u001b\\\u001b[2m:\u001b[0m\u001b]8;id=42654;file://D:\\repos\\tpai_deep_research_from_scratch\\src\\research_agent_framework\\bootstrap.py#93\u001b\\\u001b[2m93\u001b[0m\u001b]8;;\u001b\\\n"
      ]
     },
     "metadata": {},
     "output_type": "display_data"
    },
    {
     "data": {
      "text/html": [
       "<pre style=\"white-space:pre;overflow-x:auto;line-height:normal;font-family:Menlo,'DejaVu Sans Mono',consolas,'Courier New',monospace\"><span style=\"color: #7fbfbf; text-decoration-color: #7fbfbf\">           </span><span style=\"color: #008000; text-decoration-color: #008000; font-weight: bold\">[</span><span style=\"color: #008000; text-decoration-color: #008000\">INFO</span><span style=\"color: #008000; text-decoration-color: #008000; font-weight: bold\">]</span><span style=\"color: #008000; text-decoration-color: #008000\"> Logging agent messages and state transitions during coordination.                </span> <a href=\"file://D:\\repos\\tpai_deep_research_from_scratch\\src\\research_agent_framework\\bootstrap.py\" target=\"_blank\"><span style=\"color: #7f7f7f; text-decoration-color: #7f7f7f\">bootstrap.py</span></a><span style=\"color: #7f7f7f; text-decoration-color: #7f7f7f\">:</span><a href=\"file://D:\\repos\\tpai_deep_research_from_scratch\\src\\research_agent_framework\\bootstrap.py#93\" target=\"_blank\"><span style=\"color: #7f7f7f; text-decoration-color: #7f7f7f\">93</span></a>\n",
       "</pre>\n"
      ],
      "text/plain": [
       "\u001b[2;36m          \u001b[0m\u001b[2;36m \u001b[0m\u001b[1;32m[\u001b[0m\u001b[32mINFO\u001b[0m\u001b[1;32m]\u001b[0m\u001b[32m Logging agent messages and state transitions during coordination.                \u001b[0m \u001b]8;id=334576;file://D:\\repos\\tpai_deep_research_from_scratch\\src\\research_agent_framework\\bootstrap.py\u001b\\\u001b[2mbootstrap.py\u001b[0m\u001b]8;;\u001b\\\u001b[2m:\u001b[0m\u001b]8;id=683991;file://D:\\repos\\tpai_deep_research_from_scratch\\src\\research_agent_framework\\bootstrap.py#93\u001b\\\u001b[2m93\u001b[0m\u001b]8;;\u001b\\\n"
      ]
     },
     "metadata": {},
     "output_type": "display_data"
    },
    {
     "name": "stderr",
     "output_type": "stream",
     "text": [
      "2025-09-12T15:47:15.434950-0700 INFO Logging agent messages and state transitions during coordination.\n",
      "2025-09-12T15:47:15.434950-0700 INFO Logging agent messages and state transitions during coordination.\n",
      "2025-09-12T15:47:15.434950-0700 INFO Logging agent messages and state transitions during coordination.\n",
      "2025-09-12T15:47:15.434950-0700 INFO Logging agent messages and state transitions during coordination.\n",
      "2025-09-12T15:47:15.434950-0700 INFO Logging agent messages and state transitions during coordination.\n",
      "2025-09-12T15:47:15.434950-0700 INFO Logging agent messages and state transitions during coordination.\n",
      "2025-09-12T15:47:15.434950-0700 INFO Logging agent messages and state transitions during coordination.\n"
     ]
    }
   ],
   "source": [
    "# Logging: agent state transitions\n",
    "logger.info(\"Logging agent messages and state transitions during coordination.\")\n"
   ]
  },
  {
   "cell_type": "markdown",
   "metadata": {},
   "source": [
    "## 10.0 Research Compression and Synthesis\n",
    "\n",
    "This section demonstrates how to compress and synthesize research findings using deterministic logic (MockLLM) and structured outputs. The workflow mirrors the agent's compression node and aligns with tests in `test_supervisor_policy_deterministic.py` and `test_end_to_end_flow.py`.\n",
    "\n",
    "- **10.1 Compression strategy:** Uses a Jinja2 template and MockLLM to compress findings.\n",
    "- **10.2 Synthesis:** Produces structured objects for downstream reporting.\n",
    "- **10.3 Validation:** Validates outputs and displays with rich output.\n",
    "\n",
    "Cells below show the compression logic, synthesis, and output validation."
   ]
  },
  {
   "cell_type": "code",
   "execution_count": 58,
   "metadata": {},
   "outputs": [
    {
     "data": {
      "text/html": [
       "<pre style=\"white-space:pre;overflow-x:auto;line-height:normal;font-family:Menlo,'DejaVu Sans Mono',consolas,'Courier New',monospace\"><span style=\"font-weight: bold\">Compressed Research Summary:</span>                                                                                       \n",
       "\n",
       "mock response for:                                                                                                 \n",
       "\n",
       "\"\"\" Compress the following research findings and notes into a concise, comprehensive summary suitable for reporting\n",
       "and further synthesis.                                                                                             \n",
       "\n",
       "Guidelines:                                                                                                        \n",
       "\n",
       "<span style=\"color: #808000; text-decoration-color: #808000; font-weight: bold\"> • </span>Do NOT lose any details, facts, names, numbers, or specific findings                                            \n",
       "<span style=\"color: #808000; text-decoration-color: #808000; font-weight: bold\"> • </span>Do NOT filter out information that seems relevant to the research topic                                         \n",
       "<span style=\"color: #808000; text-decoration-color: #808000; font-weight: bold\"> • </span>Organize the information in a cleaner format but keep all the substance                                         \n",
       "<span style=\"color: #808000; text-decoration-color: #808000; font-weight: bold\"> • </span>Include ALL sources and citations found during research                                                         \n",
       "<span style=\"color: #808000; text-decoration-color: #808000; font-weight: bold\"> • </span>Remember this research was conducted to answer the specific question above                                      \n",
       "\n",
       "Today's date is 2025-09-12.                                                                                        \n",
       "\n",
       "\n",
       "\n",
       "<span style=\"color: #808000; text-decoration-color: #808000; font-weight: bold\"> • </span>Blue Bottle Coffee: 4.7 stars, open now, free WiFi, no cover charge.                                            \n",
       "<span style=\"color: #808000; text-decoration-color: #808000; font-weight: bold\"> • </span>Sightglass Coffee: 4.6 stars, open now, SOMA location, no cover charge.                                         \n",
       "<span style=\"color: #808000; text-decoration-color: #808000; font-weight: bold\"> • </span>Verve Coffee: 4.5 stars, open now, SOMA, no cover charge.                                                       \n",
       "\n",
       "\n",
       "Please compress and synthesize the above findings into a single, well-structured summary. \"\"\"                      \n",
       "</pre>\n"
      ],
      "text/plain": [
       "\u001b[1mCompressed Research Summary:\u001b[0m                                                                                       \n",
       "\n",
       "mock response for:                                                                                                 \n",
       "\n",
       "\"\"\" Compress the following research findings and notes into a concise, comprehensive summary suitable for reporting\n",
       "and further synthesis.                                                                                             \n",
       "\n",
       "Guidelines:                                                                                                        \n",
       "\n",
       "\u001b[1;33m • \u001b[0mDo NOT lose any details, facts, names, numbers, or specific findings                                            \n",
       "\u001b[1;33m • \u001b[0mDo NOT filter out information that seems relevant to the research topic                                         \n",
       "\u001b[1;33m • \u001b[0mOrganize the information in a cleaner format but keep all the substance                                         \n",
       "\u001b[1;33m • \u001b[0mInclude ALL sources and citations found during research                                                         \n",
       "\u001b[1;33m • \u001b[0mRemember this research was conducted to answer the specific question above                                      \n",
       "\n",
       "Today's date is 2025-09-12.                                                                                        \n",
       "\n",
       "\n",
       "\n",
       "\u001b[1;33m • \u001b[0mBlue Bottle Coffee: 4.7 stars, open now, free WiFi, no cover charge.                                            \n",
       "\u001b[1;33m • \u001b[0mSightglass Coffee: 4.6 stars, open now, SOMA location, no cover charge.                                         \n",
       "\u001b[1;33m • \u001b[0mVerve Coffee: 4.5 stars, open now, SOMA, no cover charge.                                                       \n",
       "\n",
       "\n",
       "Please compress and synthesize the above findings into a single, well-structured summary. \"\"\"                      \n"
      ]
     },
     "metadata": {},
     "output_type": "display_data"
    }
   ],
   "source": [
    "# 10.1 Compression strategy with MockLLM\n",
    "from research_agent_framework.llm.client import MockLLM, LLMConfig\n",
    "from research_agent_framework.prompts import renderer\n",
    "from research_agent_framework.config import get_console\n",
    "from rich.markdown import Markdown\n",
    "\n",
    "console = get_console()\n",
    "mock_config = LLMConfig(api_key=\"test\", model=\"mock-model\")\n",
    "mock_llm = MockLLM(mock_config)\n",
    "\n",
    "# Example research brief and notes\n",
    "research_brief = 'Find the best coffee shops in SF with no cover charge, open now, highest ratings in SOMA.'\n",
    "notes = [\n",
    "    'Blue Bottle Coffee: 4.7 stars, open now, free WiFi, no cover charge.',\n",
    "    'Sightglass Coffee: 4.6 stars, open now, SOMA location, no cover charge.',\n",
    "    'Verve Coffee: 4.5 stars, open now, SOMA, no cover charge.'\n",
    "]\n",
    "\n",
    "# Render compression prompt using Jinja2 template\n",
    "from datetime import date\n",
    "compression_prompt = renderer.render_template('compress_research.j2', {\n",
    "    'date': date.today().isoformat(),\n",
    "    'research_brief': research_brief,\n",
    "    'notes': notes\n",
    "})\n",
    "\n",
    "# Use MockLLM to compress findings\n",
    "import asyncio\n",
    "summary = asyncio.run(mock_llm.generate(compression_prompt))\n",
    "console.print(Markdown(f'**Compressed Research Summary:**\\n\\n{summary}'))\n"
   ]
  },
  {
   "cell_type": "code",
   "execution_count": 59,
   "metadata": {},
   "outputs": [
    {
     "data": {
      "text/html": [
       "<pre style=\"white-space:pre;overflow-x:auto;line-height:normal;font-family:Menlo,'DejaVu Sans Mono',consolas,'Courier New',monospace\"><span style=\"color: #7fbfbf; text-decoration-color: #7fbfbf\">           </span><span style=\"color: #008000; text-decoration-color: #008000; font-weight: bold\">[</span><span style=\"color: #008000; text-decoration-color: #008000\">INFO</span><span style=\"color: #008000; text-decoration-color: #008000; font-weight: bold\">]</span><span style=\"color: #008000; text-decoration-color: #008000\"> Compressing and synthesizing research findings.                                  </span> <a href=\"file://D:\\repos\\tpai_deep_research_from_scratch\\src\\research_agent_framework\\bootstrap.py\" target=\"_blank\"><span style=\"color: #7f7f7f; text-decoration-color: #7f7f7f\">bootstrap.py</span></a><span style=\"color: #7f7f7f; text-decoration-color: #7f7f7f\">:</span><a href=\"file://D:\\repos\\tpai_deep_research_from_scratch\\src\\research_agent_framework\\bootstrap.py#93\" target=\"_blank\"><span style=\"color: #7f7f7f; text-decoration-color: #7f7f7f\">93</span></a>\n",
       "</pre>\n"
      ],
      "text/plain": [
       "\u001b[2;36m          \u001b[0m\u001b[2;36m \u001b[0m\u001b[1;32m[\u001b[0m\u001b[32mINFO\u001b[0m\u001b[1;32m]\u001b[0m\u001b[32m Compressing and synthesizing research findings.                                  \u001b[0m \u001b]8;id=587933;file://D:\\repos\\tpai_deep_research_from_scratch\\src\\research_agent_framework\\bootstrap.py\u001b\\\u001b[2mbootstrap.py\u001b[0m\u001b]8;;\u001b\\\u001b[2m:\u001b[0m\u001b]8;id=710158;file://D:\\repos\\tpai_deep_research_from_scratch\\src\\research_agent_framework\\bootstrap.py#93\u001b\\\u001b[2m93\u001b[0m\u001b]8;;\u001b\\\n"
      ]
     },
     "metadata": {},
     "output_type": "display_data"
    },
    {
     "data": {
      "text/html": [
       "<pre style=\"white-space:pre;overflow-x:auto;line-height:normal;font-family:Menlo,'DejaVu Sans Mono',consolas,'Courier New',monospace\"><span style=\"color: #7fbfbf; text-decoration-color: #7fbfbf\">           </span><span style=\"color: #008000; text-decoration-color: #008000; font-weight: bold\">[</span><span style=\"color: #008000; text-decoration-color: #008000\">INFO</span><span style=\"color: #008000; text-decoration-color: #008000; font-weight: bold\">]</span><span style=\"color: #008000; text-decoration-color: #008000\"> Compressing and synthesizing research findings.                                  </span> <a href=\"file://D:\\repos\\tpai_deep_research_from_scratch\\src\\research_agent_framework\\bootstrap.py\" target=\"_blank\"><span style=\"color: #7f7f7f; text-decoration-color: #7f7f7f\">bootstrap.py</span></a><span style=\"color: #7f7f7f; text-decoration-color: #7f7f7f\">:</span><a href=\"file://D:\\repos\\tpai_deep_research_from_scratch\\src\\research_agent_framework\\bootstrap.py#93\" target=\"_blank\"><span style=\"color: #7f7f7f; text-decoration-color: #7f7f7f\">93</span></a>\n",
       "</pre>\n"
      ],
      "text/plain": [
       "\u001b[2;36m          \u001b[0m\u001b[2;36m \u001b[0m\u001b[1;32m[\u001b[0m\u001b[32mINFO\u001b[0m\u001b[1;32m]\u001b[0m\u001b[32m Compressing and synthesizing research findings.                                  \u001b[0m \u001b]8;id=270307;file://D:\\repos\\tpai_deep_research_from_scratch\\src\\research_agent_framework\\bootstrap.py\u001b\\\u001b[2mbootstrap.py\u001b[0m\u001b]8;;\u001b\\\u001b[2m:\u001b[0m\u001b]8;id=372289;file://D:\\repos\\tpai_deep_research_from_scratch\\src\\research_agent_framework\\bootstrap.py#93\u001b\\\u001b[2m93\u001b[0m\u001b]8;;\u001b\\\n"
      ]
     },
     "metadata": {},
     "output_type": "display_data"
    },
    {
     "name": "stderr",
     "output_type": "stream",
     "text": [
      "2025-09-12T15:47:15.470135-0700 INFO Compressing and synthesizing research findings.\n",
      "2025-09-12T15:47:15.470135-0700 INFO Compressing and synthesizing research findings.\n",
      "2025-09-12T15:47:15.470135-0700 INFO Compressing and synthesizing research findings.\n",
      "2025-09-12T15:47:15.470135-0700 INFO Compressing and synthesizing research findings.\n",
      "2025-09-12T15:47:15.470135-0700 INFO Compressing and synthesizing research findings.\n",
      "2025-09-12T15:47:15.470135-0700 INFO Compressing and synthesizing research findings.\n",
      "2025-09-12T15:47:15.470135-0700 INFO Compressing and synthesizing research findings.\n"
     ]
    }
   ],
   "source": [
    "# Logging: compression and synthesis\n",
    "logger.info(\"Compressing and synthesizing research findings.\")\n"
   ]
  },
  {
   "cell_type": "markdown",
   "metadata": {},
   "source": [
    "**Explanation:**\n",
    "\n",
    "This cell demonstrates how the agent compresses research findings using a Jinja2 template and MockLLM for deterministic output. The summary is rendered with rich Markdown for clarity."
   ]
  },
  {
   "cell_type": "code",
   "execution_count": 60,
   "metadata": {},
   "outputs": [
    {
     "data": {
      "text/html": [
       "<pre style=\"white-space:pre;overflow-x:auto;line-height:normal;font-family:Menlo,'DejaVu Sans Mono',consolas,'Courier New',monospace\"><span style=\"font-weight: bold\">EvalResult:</span>                                                                                                        \n",
       "\n",
       "\n",
       "\n",
       "\n",
       "task_id='synth-001' success=True score=0.95 feedback='mock response for: \\n\\n\"\"\"\\nCompress the following research  \n",
       "findings and notes into a concise, comprehensive summary suitable for reporting and further                        \n",
       "synthesis.\\n\\nGuidelines:\\n- Do NOT lose any details, facts, names, numbers, or specific findings\\n- Do NOT filter \n",
       "out information that seems relevant to the research topic\\n- Organize the information in a cleaner format but keep \n",
       "all the substance\\n- Include ALL sources and citations found during research\\n- Remember this research was         \n",
       "conducted to answer the specific question above\\n\\nToday's date is 2025-09-12.\\n\\n\\nFind the best coffee shops in  \n",
       "SF with no cover charge, open now, highest ratings in SOMA.\\n&lt;/Research Brief&gt;\\n\\n\\n\\n- Blue Bottle Coffee: 4.7    \n",
       "stars, open now, free WiFi, no cover charge.\\n\\n- Sightglass Coffee: 4.6 stars, open now, SOMA location, no cover  \n",
       "charge.\\n\\n- Verve Coffee: 4.5 stars, open now, SOMA, no cover charge.\\n\\n\\n\\nPlease compress and synthesize the   \n",
       "above findings into a single, well-structured summary.\\n\"\"\"' details={'notes': 'Blue Bottle Coffee: 4.7 stars, open\n",
       "now, free WiFi, no cover charge.\\nSightglass Coffee: 4.6 stars, open now, SOMA location, no cover charge.\\nVerve   \n",
       "Coffee: 4.5 stars, open now, SOMA, no cover charge.'}                                                              \n",
       "</pre>\n"
      ],
      "text/plain": [
       "\u001b[1mEvalResult:\u001b[0m                                                                                                        \n",
       "\n",
       "\n",
       "\n",
       "\n",
       "task_id='synth-001' success=True score=0.95 feedback='mock response for: \\n\\n\"\"\"\\nCompress the following research  \n",
       "findings and notes into a concise, comprehensive summary suitable for reporting and further                        \n",
       "synthesis.\\n\\nGuidelines:\\n- Do NOT lose any details, facts, names, numbers, or specific findings\\n- Do NOT filter \n",
       "out information that seems relevant to the research topic\\n- Organize the information in a cleaner format but keep \n",
       "all the substance\\n- Include ALL sources and citations found during research\\n- Remember this research was         \n",
       "conducted to answer the specific question above\\n\\nToday's date is 2025-09-12.\\n\\n\\nFind the best coffee shops in  \n",
       "SF with no cover charge, open now, highest ratings in SOMA.\\n</Research Brief>\\n\\n\\n\\n- Blue Bottle Coffee: 4.7    \n",
       "stars, open now, free WiFi, no cover charge.\\n\\n- Sightglass Coffee: 4.6 stars, open now, SOMA location, no cover  \n",
       "charge.\\n\\n- Verve Coffee: 4.5 stars, open now, SOMA, no cover charge.\\n\\n\\n\\nPlease compress and synthesize the   \n",
       "above findings into a single, well-structured summary.\\n\"\"\"' details={'notes': 'Blue Bottle Coffee: 4.7 stars, open\n",
       "now, free WiFi, no cover charge.\\nSightglass Coffee: 4.6 stars, open now, SOMA location, no cover charge.\\nVerve   \n",
       "Coffee: 4.5 stars, open now, SOMA, no cover charge.'}                                                              \n"
      ]
     },
     "metadata": {},
     "output_type": "display_data"
    }
   ],
   "source": [
    "# 10.2 Synthesize findings into structured objects\n",
    "from research_agent_framework.models import EvalResult\n",
    "from assertpy import assert_that\n",
    "\n",
    "# Simulate synthesis: wrap summary into EvalResult\n",
    "eval_result = EvalResult(\n",
    "    task_id='synth-001',\n",
    "    success=True,\n",
    "    score=0.95,\n",
    "    feedback=str(summary),\n",
    "    details={'notes': '\\n'.join(notes)}\n",
    " )\n",
    "# Validate structured output\n",
    "assert_that(eval_result).is_instance_of(EvalResult)\n",
    "assert_that(eval_result.feedback).contains('mock response for:')\n",
    "console.print(Markdown(f'**EvalResult:**\\n\\n{eval_result}'))\n"
   ]
  },
  {
   "cell_type": "markdown",
   "metadata": {},
   "source": [
    "**Explanation:**\n",
    "\n",
    "This cell shows how compressed findings are synthesized into a structured EvalResult object, validated for type and content, and displayed with rich output."
   ]
  },
  {
   "cell_type": "markdown",
   "metadata": {},
   "source": [
    "## 11.0 Final Report Generation\n",
    "\n",
    "This section demonstrates how to assemble the final research report, render it with rich output, and provide a downloadable artifact. The workflow uses deterministic logic and aligns with renderer and output tests.\n",
    "\n",
    "- **11.1 Assemble report sections and metadata**\n",
    "- **11.2 Verify formatting against renderer tests**\n",
    "- **11.3 Provide downloadable artifact (markdown export)\n",
    "\n",
    "Cells below show the report assembly, rendering, and export logic."
   ]
  },
  {
   "cell_type": "code",
   "execution_count": 61,
   "metadata": {},
   "outputs": [
    {
     "name": "stdout",
     "output_type": "stream",
     "text": [
      "--- Rendered final_report_prompt start ---\n",
      "\n",
      "\n",
      "# Final Research Report\n",
      "\n",
      "## Research Brief\n",
      "Find the best coffee shops in SF with no cover charge, open now, highest ratings in SOMA.\n",
      "\n",
      "## Findings\n",
      "\n",
      "- Blue Bottle Coffee: 4.7 stars, open now, free WiFi, no cover charge.\n",
      "\n",
      "- Sightglass Coffee: 4.6 stars, open now, SOMA location, no cover charge.\n",
      "\n",
      "- Verve Coffee: 4.5 stars, open now, SOMA, no cover charge.\n",
      "\n",
      "\n",
      "---\n",
      "Today's date is 2025-09-12.\n",
      "\n",
      "\n",
      "\n",
      "--- Rendered final_report_prompt end ---\n"
     ]
    },
    {
     "data": {
      "text/html": [
       "<pre style=\"white-space:pre;overflow-x:auto;line-height:normal;font-family:Menlo,'DejaVu Sans Mono',consolas,'Courier New',monospace\"><span style=\"font-weight: bold\">Final Research Report:</span>                                                                                             \n",
       "\n",
       "┏━━━━━━━━━━━━━━━━━━━━━━━━━━━━━━━━━━━━━━━━━━━━━━━━━━━━━━━━━━━━━━━━━━━━━━━━━━━━━━━━━━━━━━━━━━━━━━━━━━━━━━━━━━━━━━━━━┓\n",
       "┃                                              <span style=\"font-weight: bold\">Final Research Report</span>                                              ┃\n",
       "┗━━━━━━━━━━━━━━━━━━━━━━━━━━━━━━━━━━━━━━━━━━━━━━━━━━━━━━━━━━━━━━━━━━━━━━━━━━━━━━━━━━━━━━━━━━━━━━━━━━━━━━━━━━━━━━━━━┛\n",
       "\n",
       "\n",
       "                                                  <span style=\"font-weight: bold; text-decoration: underline\">Research Brief</span>                                                   \n",
       "\n",
       "Find the best coffee shops in SF with no cover charge, open now, highest ratings in SOMA.                          \n",
       "\n",
       "\n",
       "                                                     <span style=\"font-weight: bold; text-decoration: underline\">Findings</span>                                                      \n",
       "\n",
       "<span style=\"color: #808000; text-decoration-color: #808000; font-weight: bold\"> • </span>Blue Bottle Coffee: 4.7 stars, open now, free WiFi, no cover charge.                                            \n",
       "<span style=\"color: #808000; text-decoration-color: #808000; font-weight: bold\"> • </span>Sightglass Coffee: 4.6 stars, open now, SOMA location, no cover charge.                                         \n",
       "<span style=\"color: #808000; text-decoration-color: #808000; font-weight: bold\"> • </span>Verve Coffee: 4.5 stars, open now, SOMA, no cover charge.                                                       \n",
       "\n",
       "<span style=\"color: #808000; text-decoration-color: #808000\">───────────────────────────────────────────────────────────────────────────────────────────────────────────────────</span>\n",
       "Today's date is 2025-09-12.                                                                                        \n",
       "</pre>\n"
      ],
      "text/plain": [
       "\u001b[1mFinal Research Report:\u001b[0m                                                                                             \n",
       "\n",
       "┏━━━━━━━━━━━━━━━━━━━━━━━━━━━━━━━━━━━━━━━━━━━━━━━━━━━━━━━━━━━━━━━━━━━━━━━━━━━━━━━━━━━━━━━━━━━━━━━━━━━━━━━━━━━━━━━━━┓\n",
       "┃                                              \u001b[1mFinal Research Report\u001b[0m                                              ┃\n",
       "┗━━━━━━━━━━━━━━━━━━━━━━━━━━━━━━━━━━━━━━━━━━━━━━━━━━━━━━━━━━━━━━━━━━━━━━━━━━━━━━━━━━━━━━━━━━━━━━━━━━━━━━━━━━━━━━━━━┛\n",
       "\n",
       "\n",
       "                                                  \u001b[1;4mResearch Brief\u001b[0m                                                   \n",
       "\n",
       "Find the best coffee shops in SF with no cover charge, open now, highest ratings in SOMA.                          \n",
       "\n",
       "\n",
       "                                                     \u001b[1;4mFindings\u001b[0m                                                      \n",
       "\n",
       "\u001b[1;33m • \u001b[0mBlue Bottle Coffee: 4.7 stars, open now, free WiFi, no cover charge.                                            \n",
       "\u001b[1;33m • \u001b[0mSightglass Coffee: 4.6 stars, open now, SOMA location, no cover charge.                                         \n",
       "\u001b[1;33m • \u001b[0mVerve Coffee: 4.5 stars, open now, SOMA, no cover charge.                                                       \n",
       "\n",
       "\u001b[33m───────────────────────────────────────────────────────────────────────────────────────────────────────────────────\u001b[0m\n",
       "Today's date is 2025-09-12.                                                                                        \n"
      ]
     },
     "metadata": {},
     "output_type": "display_data"
    }
   ],
   "source": [
    "# 11.1 Assemble report sections and metadata\n",
    "from research_agent_framework.prompts import renderer\n",
    "from research_agent_framework.llm.client import MockLLM, LLMConfig\n",
    "from research_agent_framework.config import get_console\n",
    "from rich.markdown import Markdown\n",
    "from datetime import date\n",
    "\n",
    "console = get_console()\n",
    "mock_config = LLMConfig(api_key=\"test\", model=\"mock-model\")\n",
    "mock_llm = MockLLM(mock_config)\n",
    "\n",
    "# Example: assemble report sections\n",
    "report_metadata = {\n",
    "    'date': date.today().isoformat(),\n",
    "    'research_brief': 'Find the best coffee shops in SF with no cover charge, open now, highest ratings in SOMA.',\n",
    "    'findings': [\n",
    "        'Blue Bottle Coffee: 4.7 stars, open now, free WiFi, no cover charge.',\n",
    "        'Sightglass Coffee: 4.6 stars, open now, SOMA location, no cover charge.',\n",
    "        'Verve Coffee: 4.5 stars, open now, SOMA, no cover charge.'\n",
    "    ],\n",
    "    'sources': []\n",
    "}\n",
    "\n",
    "# Render final report using Jinja2 template\n",
    "final_report_prompt = renderer.render_template('final_report_generation_prompt.j2', report_metadata)\n",
    "\n",
    "# DEBUG: show the rendered prompt so we can verify it contains the report content and not an agent prompt\n",
    "print('--- Rendered final_report_prompt start ---')\n",
    "print(final_report_prompt)\n",
    "print('--- Rendered final_report_prompt end ---')\n",
    "\n",
    "# Sanitize prompt: remove any angle-bracket instruction tokens that may have leaked in\n",
    "import re\n",
    "sanitized_prompt = re.sub(r'<[^>]+>', '', final_report_prompt)\n",
    "# Collapse repeated blank lines for cleanliness\n",
    "sanitized_prompt = re.sub(r'\\n{3,}', '\\n\\n', sanitized_prompt).strip()\n",
    "\n",
    "# By default, use the rendered template as the final report to ensure no agent instructions\n",
    "# If you want to exercise the LLM, set `use_llm = True` (keeps deterministic default for demos/tests)\n",
    "use_llm = False\n",
    "import asyncio\n",
    "if use_llm:\n",
    "    final_report = asyncio.run(mock_llm.generate(sanitized_prompt))\n",
    "else:\n",
    "    final_report = sanitized_prompt\n",
    "\n",
    "console.print(Markdown(f'**Final Research Report:**\\n\\n{final_report}'))\n"
   ]
  },
  {
   "cell_type": "code",
   "execution_count": 62,
   "metadata": {},
   "outputs": [
    {
     "data": {
      "text/html": [
       "<pre style=\"white-space:pre;overflow-x:auto;line-height:normal;font-family:Menlo,'DejaVu Sans Mono',consolas,'Courier New',monospace\"><span style=\"font-weight: bold\">Report formatting validated against renderer tests.</span>                                                                \n",
       "</pre>\n"
      ],
      "text/plain": [
       "\u001b[1mReport formatting validated against renderer tests.\u001b[0m                                                                \n"
      ]
     },
     "metadata": {},
     "output_type": "display_data"
    }
   ],
   "source": [
    "# 11.2 Verify formatting against renderer tests\n",
    "from assertpy import assert_that\n",
    "\n",
    "# Validate that the final report contains expected structure\n",
    "assert_that(final_report).contains('# Final Research Report')\n",
    "assert_that(final_report).contains('Findings')\n",
    "console.print(Markdown(f'**Report formatting validated against renderer tests.**'))\n"
   ]
  },
  {
   "cell_type": "code",
   "execution_count": 63,
   "metadata": {},
   "outputs": [
    {
     "data": {
      "text/html": [
       "<pre style=\"white-space:pre;overflow-x:auto;line-height:normal;font-family:Menlo,'DejaVu Sans Mono',consolas,'Courier New',monospace\"><span style=\"color: #008000; text-decoration-color: #008000; font-weight: bold\">✅ Final report saved as final_research_report.md</span>\n",
       "</pre>\n"
      ],
      "text/plain": [
       "\u001b[1;32m✅ Final report saved as final_research_report.md\u001b[0m\n"
      ]
     },
     "metadata": {},
     "output_type": "display_data"
    }
   ],
   "source": [
    "# 11.3 Provide downloadable artifact (markdown export)\n",
    "import os\n",
    "\n",
    "# Save the final report as a markdown file\n",
    "output_path = 'final_research_report.md'\n",
    "with open(output_path, 'w', encoding='utf-8') as f:\n",
    "    f.write(final_report)\n",
    "\n",
    "console.print(f'[bold green]✅ Final report saved as {output_path}[/bold green]')\n",
    "\n",
    "# Test: ensure the saved file contains the actual report, not the prompt\n",
    "with open(output_path, 'r', encoding='utf-8') as f:\n",
    "    saved_content = f.read()\n",
    "assert saved_content.startswith('# Final Research Report'), \"Report does not start with expected header!\"\n",
    "assert 'Findings' in saved_content, \"Report does not contain a findings section!\"\n"
   ]
  },
  {
   "cell_type": "markdown",
   "metadata": {},
   "source": [
    "## 12.0 Structured Logging and LangSmith Tracing\n",
    "\n",
    "This section demonstrates how to enable LangSmith tracing and visualize traces for the research workflow. Tracing is optional and controlled by the `ENABLE_TRACING` environment variable or settings. When enabled, traces are sent to LangSmith for inspection and debugging. This is useful for understanding agent reasoning, tool calls, and workflow execution.\n",
    "\n",
    "- **12.1 Structured logs** are already integrated throughout the code and notebook (see previous sections).\n",
    "- **12.2 LangSmith tracing hooks** are enabled below if tracing is turned on.\n",
    "- **12.3 Minimal trace visualization**: If tracing is enabled, a link to the LangSmith UI is displayed for the current run. Otherwise, a message explains how to enable tracing.\n",
    "\n",
    "**Note:** You must have a valid LangSmith API key and project configured in your environment for traces to be sent. See [LangSmith documentation](https://docs.langchain.com/docs/langsmith) for setup instructions."
   ]
  },
  {
   "cell_type": "code",
   "execution_count": 64,
   "metadata": {},
   "outputs": [
    {
     "data": {
      "text/html": [
       "<pre style=\"white-space:pre;overflow-x:auto;line-height:normal;font-family:Menlo,'DejaVu Sans Mono',consolas,'Courier New',monospace\"><span style=\"color: #008080; text-decoration-color: #008080; font-weight: bold\">ℹ️ LangSmith tracing is DISABLED. Set </span><span style=\"color: #008080; text-decoration-color: #008080; font-weight: bold\">ENABLE_TRACING</span><span style=\"color: #008080; text-decoration-color: #008080; font-weight: bold\">=</span><span style=\"color: #008080; text-decoration-color: #008080; font-weight: bold\">1</span><span style=\"color: #008080; text-decoration-color: #008080; font-weight: bold\"> and configure your LangSmith API key to enable.</span>\n",
       "</pre>\n"
      ],
      "text/plain": [
       "\u001b[1;36mℹ️ LangSmith tracing is DISABLED. Set \u001b[0m\u001b[1;36mENABLE_TRACING\u001b[0m\u001b[1;36m=\u001b[0m\u001b[1;36m1\u001b[0m\u001b[1;36m and configure your LangSmith API key to enable.\u001b[0m\n"
      ]
     },
     "metadata": {},
     "output_type": "display_data"
    },
    {
     "data": {
      "text/html": [
       "<pre style=\"white-space:pre;overflow-x:auto;line-height:normal;font-family:Menlo,'DejaVu Sans Mono',consolas,'Courier New',monospace\"><span style=\"color: #7fbfbf; text-decoration-color: #7fbfbf\">           </span><span style=\"color: #008000; text-decoration-color: #008000; font-weight: bold\">[</span><span style=\"color: #008000; text-decoration-color: #008000\">INFO</span><span style=\"color: #008000; text-decoration-color: #008000; font-weight: bold\">]</span><span style=\"color: #008000; text-decoration-color: #008000\"> LangSmith tracing is disabled.                                                   </span> <a href=\"file://D:\\repos\\tpai_deep_research_from_scratch\\src\\research_agent_framework\\bootstrap.py\" target=\"_blank\"><span style=\"color: #7f7f7f; text-decoration-color: #7f7f7f\">bootstrap.py</span></a><span style=\"color: #7f7f7f; text-decoration-color: #7f7f7f\">:</span><a href=\"file://D:\\repos\\tpai_deep_research_from_scratch\\src\\research_agent_framework\\bootstrap.py#93\" target=\"_blank\"><span style=\"color: #7f7f7f; text-decoration-color: #7f7f7f\">93</span></a>\n",
       "</pre>\n"
      ],
      "text/plain": [
       "\u001b[2;36m          \u001b[0m\u001b[2;36m \u001b[0m\u001b[1;32m[\u001b[0m\u001b[32mINFO\u001b[0m\u001b[1;32m]\u001b[0m\u001b[32m LangSmith tracing is disabled.                                                   \u001b[0m \u001b]8;id=565722;file://D:\\repos\\tpai_deep_research_from_scratch\\src\\research_agent_framework\\bootstrap.py\u001b\\\u001b[2mbootstrap.py\u001b[0m\u001b]8;;\u001b\\\u001b[2m:\u001b[0m\u001b]8;id=842181;file://D:\\repos\\tpai_deep_research_from_scratch\\src\\research_agent_framework\\bootstrap.py#93\u001b\\\u001b[2m93\u001b[0m\u001b]8;;\u001b\\\n"
      ]
     },
     "metadata": {},
     "output_type": "display_data"
    },
    {
     "data": {
      "text/html": [
       "<pre style=\"white-space:pre;overflow-x:auto;line-height:normal;font-family:Menlo,'DejaVu Sans Mono',consolas,'Courier New',monospace\"><span style=\"color: #7fbfbf; text-decoration-color: #7fbfbf\">           </span><span style=\"color: #008000; text-decoration-color: #008000; font-weight: bold\">[</span><span style=\"color: #008000; text-decoration-color: #008000\">INFO</span><span style=\"color: #008000; text-decoration-color: #008000; font-weight: bold\">]</span><span style=\"color: #008000; text-decoration-color: #008000\"> LangSmith tracing is disabled.                                                   </span> <a href=\"file://D:\\repos\\tpai_deep_research_from_scratch\\src\\research_agent_framework\\bootstrap.py\" target=\"_blank\"><span style=\"color: #7f7f7f; text-decoration-color: #7f7f7f\">bootstrap.py</span></a><span style=\"color: #7f7f7f; text-decoration-color: #7f7f7f\">:</span><a href=\"file://D:\\repos\\tpai_deep_research_from_scratch\\src\\research_agent_framework\\bootstrap.py#93\" target=\"_blank\"><span style=\"color: #7f7f7f; text-decoration-color: #7f7f7f\">93</span></a>\n",
       "</pre>\n"
      ],
      "text/plain": [
       "\u001b[2;36m          \u001b[0m\u001b[2;36m \u001b[0m\u001b[1;32m[\u001b[0m\u001b[32mINFO\u001b[0m\u001b[1;32m]\u001b[0m\u001b[32m LangSmith tracing is disabled.                                                   \u001b[0m \u001b]8;id=664347;file://D:\\repos\\tpai_deep_research_from_scratch\\src\\research_agent_framework\\bootstrap.py\u001b\\\u001b[2mbootstrap.py\u001b[0m\u001b]8;;\u001b\\\u001b[2m:\u001b[0m\u001b]8;id=567860;file://D:\\repos\\tpai_deep_research_from_scratch\\src\\research_agent_framework\\bootstrap.py#93\u001b\\\u001b[2m93\u001b[0m\u001b]8;;\u001b\\\n"
      ]
     },
     "metadata": {},
     "output_type": "display_data"
    },
    {
     "name": "stderr",
     "output_type": "stream",
     "text": [
      "2025-09-12T15:47:15.546703-0700 INFO LangSmith tracing is disabled.\n",
      "2025-09-12T15:47:15.546703-0700 INFO LangSmith tracing is disabled.\n",
      "2025-09-12T15:47:15.546703-0700 INFO LangSmith tracing is disabled.\n",
      "2025-09-12T15:47:15.546703-0700 INFO LangSmith tracing is disabled.\n",
      "2025-09-12T15:47:15.546703-0700 INFO LangSmith tracing is disabled.\n"
     ]
    }
   ],
   "source": [
    "# 12.2 Enable LangSmith tracing if configured\n",
    "import os\n",
    "from research_agent_framework.config import get_settings, get_logger, get_console\n",
    "\n",
    "settings = get_settings()\n",
    "logger = get_logger()\n",
    "console = get_console()\n",
    "\n",
    "# Check if tracing is enabled (via env or settings)\n",
    "enable_tracing = bool(os.environ.get(\"ENABLE_TRACING\", str(settings.enable_tracing)).lower() in (\"1\", \"true\", \"yes\"))\n",
    "\n",
    "if enable_tracing:\n",
    "    try:\n",
    "        from langsmith import traceable, LangSmithTracer\n",
    "        # Optionally set up LangSmithTracer with env/config\n",
    "        tracer = LangSmithTracer()\n",
    "        console.print(\"[bold green]✅ LangSmith tracing is ENABLED. Traces will be sent to your LangSmith project.[/bold green]\")\n",
    "        logger.info(\"LangSmith tracing enabled.\")\n",
    "    except ImportError:\n",
    "        console.print(\"[bold yellow]⚠️ LangSmith tracing requested but 'langsmith' package is not installed. Please install it to enable tracing.[/bold yellow]\")\n",
    "        logger.warning(\"LangSmith tracing requested but package not installed.\")\n",
    "else:\n",
    "    console.print(\"[bold cyan]ℹ️ LangSmith tracing is DISABLED. Set ENABLE_TRACING=1 and configure your LangSmith API key to enable.[/bold cyan]\")\n",
    "    logger.info(\"LangSmith tracing is disabled.\")\n"
   ]
  },
  {
   "cell_type": "code",
   "execution_count": 65,
   "metadata": {},
   "outputs": [
    {
     "data": {
      "text/html": [
       "<pre style=\"white-space:pre;overflow-x:auto;line-height:normal;font-family:Menlo,'DejaVu Sans Mono',consolas,'Courier New',monospace\"><span style=\"color: #008080; text-decoration-color: #008080; font-weight: bold\">ℹ️ Tracing is off. To view traces, set </span><span style=\"color: #008080; text-decoration-color: #008080; font-weight: bold\">ENABLE_TRACING</span><span style=\"color: #008080; text-decoration-color: #008080; font-weight: bold\">=</span><span style=\"color: #008080; text-decoration-color: #008080; font-weight: bold\">1</span><span style=\"color: #008080; text-decoration-color: #008080; font-weight: bold\"> and rerun this section.</span>\n",
       "</pre>\n"
      ],
      "text/plain": [
       "\u001b[1;36mℹ️ Tracing is off. To view traces, set \u001b[0m\u001b[1;36mENABLE_TRACING\u001b[0m\u001b[1;36m=\u001b[0m\u001b[1;36m1\u001b[0m\u001b[1;36m and rerun this section.\u001b[0m\n"
      ]
     },
     "metadata": {},
     "output_type": "display_data"
    }
   ],
   "source": [
    "# 12.3 Minimal trace visualization or LangSmith UI link\n",
    "if enable_tracing:\n",
    "    # If LangSmith tracing is enabled, show a link to the LangSmith project UI\n",
    "    langsmith_project = os.environ.get(\"LANGCHAIN_PROJECT\", \"default\")\n",
    "    langsmith_url = f\"https://smith.langchain.com/o/projects/{langsmith_project}\"\n",
    "    console.print(f\"[bold blue]🔗 View your traces in LangSmith: [link={langsmith_url}]{langsmith_url}[/link][/bold blue]\")\n",
    "else:\n",
    "    console.print(\"[bold cyan]ℹ️ Tracing is off. To view traces, set ENABLE_TRACING=1 and rerun this section.[/bold cyan]\")\n"
   ]
  }
 ],
 "metadata": {
  "kernelspec": {
   "display_name": ".venv (3.12.1)",
   "language": "python",
   "name": "python3"
  },
  "language_info": {
   "codemirror_mode": {
    "name": "ipython",
    "version": 3
   },
   "file_extension": ".py",
   "mimetype": "text/x-python",
   "name": "python",
   "nbconvert_exporter": "python",
   "pygments_lexer": "ipython3",
   "version": "3.12.1"
  }
 },
 "nbformat": 4,
 "nbformat_minor": 2
}
